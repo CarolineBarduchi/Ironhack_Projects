{
 "cells": [
  {
   "cell_type": "markdown",
   "metadata": {},
   "source": [
    "# Projeto 1: Shark Attack"
   ]
  },
  {
   "cell_type": "markdown",
   "metadata": {},
   "source": [
    "### Introdução\n",
    "\n",
    "**Desenvolvimento sustentável** é um principio baseado na consonância entre o desenvolvimento humano e os sistemas naturais, de tal maneira que esses sistemas consigam se regenerar no que tange aos recursos naturais. Nesse sentido, havendo alinhamento entre o desenvolvimento humano e os serviços provenientes dos ecossitemas, futuras gerações poderão viver com qualidade ao mesmo tempo em que as demais vidas do planeta são respeitadas e preservadas. \n",
    "\n",
    "Sendo assim, é conveniente expor que a sustentabilidade tem como pilar, além do desenvolvimento social e econômico, o meio ambiente, de tal maneira que preocupa-se com o impacto que as atividades humanas podem causar às demais vidas no planeta.\n",
    "\n",
    "Nesse contexto, diversos estudos apontam conexões entre o desequilíbrio ambiental terrestre e os ataques biológicos sofridos pelos seres humanos. Um estudo realizado pela Universidade Federal do Rio Grande do Sul, por exemplo, evidenciou que tanto a exploração em massa realizada na Floresta Amazônica quanto as queimadas aumentaram a incidência de doenças infecciosas e a quantidade de ataques de animais selvagens aos seres humanos (UFRGS, 2020).\n",
    "\n",
    "*Mas e quanto a vida marítima? Podemos fazer a mesma relação? Será que existe uma relação entre ataques de animais marinhos e a degradação ambiental?* \n",
    "\n",
    "A partir dessa pergunta, **o objetivo desse projeto é levantar evidências sobre a existência de uma relação entre ataques de animais marinhos e a degradação ambiental.** Para isso, uma análise estatística entre os dados de ataques de tubarões e indicadores relacionados à conservação e uso de forma sustentável dos oceanos, mares e recursos marinhos foram realizadas e estão apresentadas nos itens subsequentes.\n",
    "\n"
   ]
  },
  {
   "cell_type": "markdown",
   "metadata": {},
   "source": [
    "### Case\n",
    "\n",
    "Existe relação entre ataques de animais marinhos aos seres humanos e a degradação ambiental?"
   ]
  },
  {
   "cell_type": "markdown",
   "metadata": {},
   "source": [
    "### Comentários sobre os procedimentos\n",
    "\n",
    "Para análise desse projeto, foram utilizadas as bases attacks.csv (disponível em: https://www.kaggle.com/teajay/global-shark-attacks#attacks.csv) e SDR.xlsx das Nações Unidas, a qual possui variáveis relacionadas ao gerenciamento e proteção de ecossistemas.\n",
    "O procedimento pode ser dividido em duas etapas, apresentadas abaixo:\n",
    "\n",
    "###### A) Tratamento das bases\n",
    "Para o tratamento das bases, os seguintes passos foram seguidos:\n",
    "\n",
    "i) Importação das bases;\n",
    "ii) Limpeza das bases; e \n",
    "iii) Junção das bases.\n",
    "\n",
    "Os anos anteriores aos anos de 2000 foram excluídos da base attacks.csv, pois a base SDR das Nações Unidas não contemplou períodos anteriores a esse ano. Ademais, as colunas \"Year\" e \"Country\" foram as únicas consideradas da base attacks para realizar o procedimento de junção com a base SDR.\n",
    "\n",
    "###### B) Análise estatística\n",
    "Para alcançar o objetivo, foi realizada uma correlação linear entre as variáveis e observado os resultados oriundos da aplicação, além de uma breve análise estatística descritiva. Foram plotados gráficos de dispersão para melhor visualização dos resultados.\n",
    "\n",
    "Os **indicadores** utilizados para a análise fazem parte do banco de dados das Nações Unidas. Tais variáveis visam medir o atingimento do objetivo 14 dentre os 17 objetivos de Desenvolvimento Sustentável para o ano de 2030.\n",
    "\n",
    "O objetivo 14 visa \"gerenciar e proteger de forma sustentável os ecossistemas marinhos e costeiros de poluição, bem como abordar impactos da acidificação dos oceanos\" (para mais informações, acessar https://www.un.org/sustainabledevelopment/development-agenda/). Segundo a Nações Unidas, \"melhorar a conservação e o uso sustentável dos recursos oceânicos por meio do direito internacional também ajudará a mitigar alguns dos desafios que nossos oceanos enfrentam\", o que justifica a existência de tais indicadores e também a escolha para realizar o teste estatístico.\n",
    "\n",
    "Os indicadores estão listados abaixo.\n",
    "\n",
    "1) sdg14_cpma: área média que é protegida em sítios marinhos importantes para a biodiversidade (%);\n",
    "\n",
    "2) sdg14_cleanwat: índice de saúde do oceano: pontuação de águas limpas (pior 0-100 melhor);\n",
    "\n",
    "3) sdg14_fishstocks: peixes capturados em estoques superexplorados ou em colapso (% da captura total);\n",
    "\n",
    "4) sdg14_trawl: peixes capturados por arrasto ou dragagem (%);\n",
    "\n",
    "5) sdg15_redlist: índice da Lista Vermelha de sobrevivência das espécies (pior 0-1 melhor)."
   ]
  },
  {
   "cell_type": "markdown",
   "metadata": {},
   "source": [
    "### Resultados\n",
    "\n",
    "Após a limpeza e junção das bases de dados, foi obtido um novo dataframe de 256 registros e 8 colunas. Cabe ressaltar que todos os registros que não possuíram ***match*** foram desconsiderados do projeto. Nesse sentido, regiões remotas tais como Santa Helena (Território Britânico) foram desconsiderados, pois as Nações Unidas não possui registros de indicadores para esses locais.\n",
    "\n",
    "A partir do novo dataframe, foi aplicado a correlação estatística e não foram obtidas relações relevantes entre nenhuma das variáveis. Dessa forma, as variáveis foram submetidas a uma transformação logarítmica (log base 10 e logarítmo natural), com intuito de aproximar as escalas dos indicadores e testar uma nova correlação. Mesmo assim, não foi possível obter relações relevantes, sendo que todos os resultados apresentaram-se abaixo de 0.5, representando uma correlação fraca."
   ]
  },
  {
   "cell_type": "markdown",
   "metadata": {},
   "source": [
    "### Conclusão\n",
    "\n",
    "A partir dos resultados apresentados, é possível concluir que não existe relações entre os ataques de animais marinhos aos seres humanos e a degradação ambiental, pois as correlações realizadas não mostraram-se significantes.\n",
    "\n",
    "Apesar do resultado, é importante frisar que o projeto apresenta algumas limitações, tais como a perda de variáveis. Além disso, o projeto utilizou somente os indicadores relacionados à conservação e uso sustentável dos oceanos. Dessa maneira, novos estudos devem ser conduzidos considerando novas variáveis, tais como indicadores climáticos e de emissões de efluentes em mares. Adicionalmente, poderia ser considerado a clusterização de regiões com o objetivo de direcionar a análise e, consequentemente, obter mais insights.\n"
   ]
  },
  {
   "cell_type": "markdown",
   "metadata": {},
   "source": [
    "---------------------------------------------"
   ]
  },
  {
   "cell_type": "markdown",
   "metadata": {},
   "source": [
    "### Apresentação de Resultados"
   ]
  },
  {
   "cell_type": "markdown",
   "metadata": {},
   "source": [
    "### A) Tratamento das bases"
   ]
  },
  {
   "cell_type": "markdown",
   "metadata": {},
   "source": [
    "### Base: attacks.csv\n",
    "#### Importação da base"
   ]
  },
  {
   "cell_type": "code",
   "execution_count": 1,
   "metadata": {
    "collapsed": true
   },
   "outputs": [
    {
     "name": "stdout",
     "output_type": "stream",
     "text": [
      "Requirement already satisfied: seaborn in c:\\users\\carol\\appdata\\local\\programs\\python\\python39\\lib\\site-packages (0.11.1)\n",
      "Requirement already satisfied: numpy>=1.15 in c:\\users\\carol\\appdata\\local\\programs\\python\\python39\\lib\\site-packages (from seaborn) (1.21.1)\n",
      "Requirement already satisfied: pandas>=0.23 in c:\\users\\carol\\appdata\\local\\programs\\python\\python39\\lib\\site-packages (from seaborn) (1.3.1)\n",
      "Requirement already satisfied: scipy>=1.0 in c:\\users\\carol\\appdata\\local\\programs\\python\\python39\\lib\\site-packages (from seaborn) (1.7.0)\n",
      "Requirement already satisfied: matplotlib>=2.2 in c:\\users\\carol\\appdata\\local\\programs\\python\\python39\\lib\\site-packages (from seaborn) (3.4.2)\n",
      "Requirement already satisfied: python-dateutil>=2.7.3 in c:\\users\\carol\\appdata\\local\\programs\\python\\python39\\lib\\site-packages (from pandas>=0.23->seaborn) (2.8.2)\n",
      "Requirement already satisfied: pytz>=2017.3 in c:\\users\\carol\\appdata\\local\\programs\\python\\python39\\lib\\site-packages (from pandas>=0.23->seaborn) (2021.1)\n",
      "Requirement already satisfied: kiwisolver>=1.0.1 in c:\\users\\carol\\appdata\\local\\programs\\python\\python39\\lib\\site-packages (from matplotlib>=2.2->seaborn) (1.3.1)\n",
      "Requirement already satisfied: pillow>=6.2.0 in c:\\users\\carol\\appdata\\local\\programs\\python\\python39\\lib\\site-packages (from matplotlib>=2.2->seaborn) (8.3.1)\n",
      "Requirement already satisfied: pyparsing>=2.2.1 in c:\\users\\carol\\appdata\\local\\programs\\python\\python39\\lib\\site-packages (from matplotlib>=2.2->seaborn) (2.4.7)\n",
      "Requirement already satisfied: cycler>=0.10 in c:\\users\\carol\\appdata\\local\\programs\\python\\python39\\lib\\site-packages (from matplotlib>=2.2->seaborn) (0.10.0)\n",
      "Requirement already satisfied: six>=1.5 in c:\\users\\carol\\appdata\\local\\programs\\python\\python39\\lib\\site-packages (from python-dateutil>=2.7.3->pandas>=0.23->seaborn) (1.16.0)\n"
     ]
    },
    {
     "name": "stderr",
     "output_type": "stream",
     "text": [
      "WARNING: You are using pip version 20.2.3; however, version 21.2.4 is available.\n",
      "You should consider upgrading via the 'c:\\users\\carol\\appdata\\local\\programs\\python\\python39\\python.exe -m pip install --upgrade pip' command.\n"
     ]
    }
   ],
   "source": [
    "!pip install seaborn"
   ]
  },
  {
   "cell_type": "code",
   "execution_count": 2,
   "metadata": {},
   "outputs": [],
   "source": [
    "import pandas as pd\n",
    "import seaborn as sns\n",
    "import numpy as np"
   ]
  },
  {
   "cell_type": "code",
   "execution_count": 3,
   "metadata": {},
   "outputs": [
    {
     "data": {
      "text/html": [
       "<div>\n",
       "<style scoped>\n",
       "    .dataframe tbody tr th:only-of-type {\n",
       "        vertical-align: middle;\n",
       "    }\n",
       "\n",
       "    .dataframe tbody tr th {\n",
       "        vertical-align: top;\n",
       "    }\n",
       "\n",
       "    .dataframe thead th {\n",
       "        text-align: right;\n",
       "    }\n",
       "</style>\n",
       "<table border=\"1\" class=\"dataframe\">\n",
       "  <thead>\n",
       "    <tr style=\"text-align: right;\">\n",
       "      <th></th>\n",
       "      <th>Case Number</th>\n",
       "      <th>Date</th>\n",
       "      <th>Year</th>\n",
       "      <th>Type</th>\n",
       "      <th>Country</th>\n",
       "      <th>Area</th>\n",
       "      <th>Location</th>\n",
       "      <th>Activity</th>\n",
       "      <th>Name</th>\n",
       "      <th>Sex</th>\n",
       "      <th>...</th>\n",
       "      <th>Species</th>\n",
       "      <th>Investigator or Source</th>\n",
       "      <th>pdf</th>\n",
       "      <th>href formula</th>\n",
       "      <th>href</th>\n",
       "      <th>Case Number.1</th>\n",
       "      <th>Case Number.2</th>\n",
       "      <th>original order</th>\n",
       "      <th>Unnamed: 22</th>\n",
       "      <th>Unnamed: 23</th>\n",
       "    </tr>\n",
       "  </thead>\n",
       "  <tbody>\n",
       "    <tr>\n",
       "      <th>0</th>\n",
       "      <td>2018.06.25</td>\n",
       "      <td>25-Jun-2018</td>\n",
       "      <td>2018.0</td>\n",
       "      <td>Boating</td>\n",
       "      <td>USA</td>\n",
       "      <td>California</td>\n",
       "      <td>Oceanside, San Diego County</td>\n",
       "      <td>Paddling</td>\n",
       "      <td>Julie Wolfe</td>\n",
       "      <td>F</td>\n",
       "      <td>...</td>\n",
       "      <td>White shark</td>\n",
       "      <td>R. Collier, GSAF</td>\n",
       "      <td>2018.06.25-Wolfe.pdf</td>\n",
       "      <td>http://sharkattackfile.net/spreadsheets/pdf_di...</td>\n",
       "      <td>http://sharkattackfile.net/spreadsheets/pdf_di...</td>\n",
       "      <td>2018.06.25</td>\n",
       "      <td>2018.06.25</td>\n",
       "      <td>6303.0</td>\n",
       "      <td>NaN</td>\n",
       "      <td>NaN</td>\n",
       "    </tr>\n",
       "    <tr>\n",
       "      <th>1</th>\n",
       "      <td>2018.06.18</td>\n",
       "      <td>18-Jun-2018</td>\n",
       "      <td>2018.0</td>\n",
       "      <td>Unprovoked</td>\n",
       "      <td>USA</td>\n",
       "      <td>Georgia</td>\n",
       "      <td>St. Simon Island, Glynn County</td>\n",
       "      <td>Standing</td>\n",
       "      <td>Adyson McNeely</td>\n",
       "      <td>F</td>\n",
       "      <td>...</td>\n",
       "      <td>NaN</td>\n",
       "      <td>K.McMurray, TrackingSharks.com</td>\n",
       "      <td>2018.06.18-McNeely.pdf</td>\n",
       "      <td>http://sharkattackfile.net/spreadsheets/pdf_di...</td>\n",
       "      <td>http://sharkattackfile.net/spreadsheets/pdf_di...</td>\n",
       "      <td>2018.06.18</td>\n",
       "      <td>2018.06.18</td>\n",
       "      <td>6302.0</td>\n",
       "      <td>NaN</td>\n",
       "      <td>NaN</td>\n",
       "    </tr>\n",
       "    <tr>\n",
       "      <th>2</th>\n",
       "      <td>2018.06.09</td>\n",
       "      <td>09-Jun-2018</td>\n",
       "      <td>2018.0</td>\n",
       "      <td>Invalid</td>\n",
       "      <td>USA</td>\n",
       "      <td>Hawaii</td>\n",
       "      <td>Habush, Oahu</td>\n",
       "      <td>Surfing</td>\n",
       "      <td>John Denges</td>\n",
       "      <td>M</td>\n",
       "      <td>...</td>\n",
       "      <td>NaN</td>\n",
       "      <td>K.McMurray, TrackingSharks.com</td>\n",
       "      <td>2018.06.09-Denges.pdf</td>\n",
       "      <td>http://sharkattackfile.net/spreadsheets/pdf_di...</td>\n",
       "      <td>http://sharkattackfile.net/spreadsheets/pdf_di...</td>\n",
       "      <td>2018.06.09</td>\n",
       "      <td>2018.06.09</td>\n",
       "      <td>6301.0</td>\n",
       "      <td>NaN</td>\n",
       "      <td>NaN</td>\n",
       "    </tr>\n",
       "    <tr>\n",
       "      <th>3</th>\n",
       "      <td>2018.06.08</td>\n",
       "      <td>08-Jun-2018</td>\n",
       "      <td>2018.0</td>\n",
       "      <td>Unprovoked</td>\n",
       "      <td>AUSTRALIA</td>\n",
       "      <td>New South Wales</td>\n",
       "      <td>Arrawarra Headland</td>\n",
       "      <td>Surfing</td>\n",
       "      <td>male</td>\n",
       "      <td>M</td>\n",
       "      <td>...</td>\n",
       "      <td>2 m shark</td>\n",
       "      <td>B. Myatt, GSAF</td>\n",
       "      <td>2018.06.08-Arrawarra.pdf</td>\n",
       "      <td>http://sharkattackfile.net/spreadsheets/pdf_di...</td>\n",
       "      <td>http://sharkattackfile.net/spreadsheets/pdf_di...</td>\n",
       "      <td>2018.06.08</td>\n",
       "      <td>2018.06.08</td>\n",
       "      <td>6300.0</td>\n",
       "      <td>NaN</td>\n",
       "      <td>NaN</td>\n",
       "    </tr>\n",
       "    <tr>\n",
       "      <th>4</th>\n",
       "      <td>2018.06.04</td>\n",
       "      <td>04-Jun-2018</td>\n",
       "      <td>2018.0</td>\n",
       "      <td>Provoked</td>\n",
       "      <td>MEXICO</td>\n",
       "      <td>Colima</td>\n",
       "      <td>La Ticla</td>\n",
       "      <td>Free diving</td>\n",
       "      <td>Gustavo Ramos</td>\n",
       "      <td>M</td>\n",
       "      <td>...</td>\n",
       "      <td>Tiger shark, 3m</td>\n",
       "      <td>A .Kipper</td>\n",
       "      <td>2018.06.04-Ramos.pdf</td>\n",
       "      <td>http://sharkattackfile.net/spreadsheets/pdf_di...</td>\n",
       "      <td>http://sharkattackfile.net/spreadsheets/pdf_di...</td>\n",
       "      <td>2018.06.04</td>\n",
       "      <td>2018.06.04</td>\n",
       "      <td>6299.0</td>\n",
       "      <td>NaN</td>\n",
       "      <td>NaN</td>\n",
       "    </tr>\n",
       "  </tbody>\n",
       "</table>\n",
       "<p>5 rows × 24 columns</p>\n",
       "</div>"
      ],
      "text/plain": [
       "  Case Number         Date    Year        Type    Country             Area  \\\n",
       "0  2018.06.25  25-Jun-2018  2018.0     Boating        USA       California   \n",
       "1  2018.06.18  18-Jun-2018  2018.0  Unprovoked        USA          Georgia   \n",
       "2  2018.06.09  09-Jun-2018  2018.0     Invalid        USA           Hawaii   \n",
       "3  2018.06.08  08-Jun-2018  2018.0  Unprovoked  AUSTRALIA  New South Wales   \n",
       "4  2018.06.04  04-Jun-2018  2018.0    Provoked     MEXICO           Colima   \n",
       "\n",
       "                         Location     Activity             Name Sex   ...  \\\n",
       "0     Oceanside, San Diego County     Paddling      Julie Wolfe    F  ...   \n",
       "1  St. Simon Island, Glynn County     Standing  Adyson McNeely     F  ...   \n",
       "2                    Habush, Oahu      Surfing      John Denges    M  ...   \n",
       "3              Arrawarra Headland      Surfing             male    M  ...   \n",
       "4                        La Ticla  Free diving   Gustavo Ramos     M  ...   \n",
       "\n",
       "          Species           Investigator or Source                       pdf  \\\n",
       "0      White shark                R. Collier, GSAF      2018.06.25-Wolfe.pdf   \n",
       "1              NaN  K.McMurray, TrackingSharks.com    2018.06.18-McNeely.pdf   \n",
       "2              NaN  K.McMurray, TrackingSharks.com     2018.06.09-Denges.pdf   \n",
       "3        2 m shark                  B. Myatt, GSAF  2018.06.08-Arrawarra.pdf   \n",
       "4  Tiger shark, 3m                       A .Kipper      2018.06.04-Ramos.pdf   \n",
       "\n",
       "                                        href formula  \\\n",
       "0  http://sharkattackfile.net/spreadsheets/pdf_di...   \n",
       "1  http://sharkattackfile.net/spreadsheets/pdf_di...   \n",
       "2  http://sharkattackfile.net/spreadsheets/pdf_di...   \n",
       "3  http://sharkattackfile.net/spreadsheets/pdf_di...   \n",
       "4  http://sharkattackfile.net/spreadsheets/pdf_di...   \n",
       "\n",
       "                                                href Case Number.1  \\\n",
       "0  http://sharkattackfile.net/spreadsheets/pdf_di...    2018.06.25   \n",
       "1  http://sharkattackfile.net/spreadsheets/pdf_di...    2018.06.18   \n",
       "2  http://sharkattackfile.net/spreadsheets/pdf_di...    2018.06.09   \n",
       "3  http://sharkattackfile.net/spreadsheets/pdf_di...    2018.06.08   \n",
       "4  http://sharkattackfile.net/spreadsheets/pdf_di...    2018.06.04   \n",
       "\n",
       "  Case Number.2 original order Unnamed: 22 Unnamed: 23  \n",
       "0    2018.06.25         6303.0         NaN         NaN  \n",
       "1    2018.06.18         6302.0         NaN         NaN  \n",
       "2    2018.06.09         6301.0         NaN         NaN  \n",
       "3    2018.06.08         6300.0         NaN         NaN  \n",
       "4    2018.06.04         6299.0         NaN         NaN  \n",
       "\n",
       "[5 rows x 24 columns]"
      ]
     },
     "execution_count": 3,
     "metadata": {},
     "output_type": "execute_result"
    }
   ],
   "source": [
    "attacks=pd.read_csv('attacks.csv', sep= ',', encoding = 'latin-1')\n",
    "attacks.head()"
   ]
  },
  {
   "cell_type": "markdown",
   "metadata": {},
   "source": [
    "<p>"
   ]
  },
  {
   "cell_type": "markdown",
   "metadata": {},
   "source": [
    "**Checagem das informações da base**"
   ]
  },
  {
   "cell_type": "code",
   "execution_count": 4,
   "metadata": {
    "collapsed": true
   },
   "outputs": [
    {
     "name": "stdout",
     "output_type": "stream",
     "text": [
      "<class 'pandas.core.frame.DataFrame'>\n",
      "RangeIndex: 25723 entries, 0 to 25722\n",
      "Data columns (total 24 columns):\n",
      " #   Column                  Non-Null Count  Dtype  \n",
      "---  ------                  --------------  -----  \n",
      " 0   Case Number             8702 non-null   object \n",
      " 1   Date                    6302 non-null   object \n",
      " 2   Year                    6300 non-null   float64\n",
      " 3   Type                    6298 non-null   object \n",
      " 4   Country                 6252 non-null   object \n",
      " 5   Area                    5847 non-null   object \n",
      " 6   Location                5762 non-null   object \n",
      " 7   Activity                5758 non-null   object \n",
      " 8   Name                    6092 non-null   object \n",
      " 9   Sex                     5737 non-null   object \n",
      " 10  Age                     3471 non-null   object \n",
      " 11  Injury                  6274 non-null   object \n",
      " 12  Fatal (Y/N)             5763 non-null   object \n",
      " 13  Time                    2948 non-null   object \n",
      " 14  Species                 3464 non-null   object \n",
      " 15  Investigator or Source  6285 non-null   object \n",
      " 16  pdf                     6302 non-null   object \n",
      " 17  href formula            6301 non-null   object \n",
      " 18  href                    6302 non-null   object \n",
      " 19  Case Number.1           6302 non-null   object \n",
      " 20  Case Number.2           6302 non-null   object \n",
      " 21  original order          6309 non-null   float64\n",
      " 22  Unnamed: 22             1 non-null      object \n",
      " 23  Unnamed: 23             2 non-null      object \n",
      "dtypes: float64(2), object(22)\n",
      "memory usage: 4.7+ MB\n"
     ]
    }
   ],
   "source": [
    "attacks.info()"
   ]
  },
  {
   "cell_type": "markdown",
   "metadata": {},
   "source": [
    "<p>"
   ]
  },
  {
   "cell_type": "markdown",
   "metadata": {},
   "source": [
    "**Agrupamento por país e por ano para obter o total de ataques por país e por ano**"
   ]
  },
  {
   "cell_type": "code",
   "execution_count": 6,
   "metadata": {},
   "outputs": [],
   "source": [
    "attacks_year = attacks.groupby(['Country', 'Year']).size()\n",
    "attacks_year = attacks_year.reset_index()"
   ]
  },
  {
   "cell_type": "code",
   "execution_count": 10,
   "metadata": {},
   "outputs": [
    {
     "name": "stdout",
     "output_type": "stream",
     "text": [
      "<class 'pandas.core.frame.DataFrame'>\n",
      "RangeIndex: 1902 entries, 0 to 1901\n",
      "Data columns (total 3 columns):\n",
      " #   Column   Non-Null Count  Dtype  \n",
      "---  ------   --------------  -----  \n",
      " 0   Country  1902 non-null   object \n",
      " 1   Year     1902 non-null   float64\n",
      " 2   Attacks  1902 non-null   int64  \n",
      "dtypes: float64(1), int64(1), object(1)\n",
      "memory usage: 44.7+ KB\n"
     ]
    }
   ],
   "source": [
    "attacks_year.info()"
   ]
  },
  {
   "cell_type": "markdown",
   "metadata": {},
   "source": [
    "<p>"
   ]
  },
  {
   "cell_type": "markdown",
   "metadata": {},
   "source": [
    "**Transformação tipo de variável: Year=int**"
   ]
  },
  {
   "cell_type": "code",
   "execution_count": 12,
   "metadata": {},
   "outputs": [],
   "source": [
    "attacks_year.Year = attacks_year.Year.astype(int)"
   ]
  },
  {
   "cell_type": "markdown",
   "metadata": {},
   "source": [
    "<p>"
   ]
  },
  {
   "cell_type": "markdown",
   "metadata": {},
   "source": [
    "**Renomear coluna '0' para \"Attacks\"**"
   ]
  },
  {
   "cell_type": "code",
   "execution_count": 13,
   "metadata": {},
   "outputs": [],
   "source": [
    "attacks_year.rename(columns = {0: 'Attacks'}, inplace = True)"
   ]
  },
  {
   "cell_type": "code",
   "execution_count": 14,
   "metadata": {},
   "outputs": [
    {
     "name": "stdout",
     "output_type": "stream",
     "text": [
      "<class 'pandas.core.frame.DataFrame'>\n",
      "RangeIndex: 1902 entries, 0 to 1901\n",
      "Data columns (total 3 columns):\n",
      " #   Column   Non-Null Count  Dtype \n",
      "---  ------   --------------  ----- \n",
      " 0   Country  1902 non-null   object\n",
      " 1   Year     1902 non-null   int32 \n",
      " 2   Attacks  1902 non-null   int64 \n",
      "dtypes: int32(1), int64(1), object(1)\n",
      "memory usage: 37.3+ KB\n"
     ]
    }
   ],
   "source": [
    "attacks_year.info()"
   ]
  },
  {
   "cell_type": "code",
   "execution_count": 15,
   "metadata": {
    "scrolled": true
   },
   "outputs": [
    {
     "data": {
      "text/html": [
       "<div>\n",
       "<style scoped>\n",
       "    .dataframe tbody tr th:only-of-type {\n",
       "        vertical-align: middle;\n",
       "    }\n",
       "\n",
       "    .dataframe tbody tr th {\n",
       "        vertical-align: top;\n",
       "    }\n",
       "\n",
       "    .dataframe thead th {\n",
       "        text-align: right;\n",
       "    }\n",
       "</style>\n",
       "<table border=\"1\" class=\"dataframe\">\n",
       "  <thead>\n",
       "    <tr style=\"text-align: right;\">\n",
       "      <th></th>\n",
       "      <th>Country</th>\n",
       "      <th>Year</th>\n",
       "      <th>Attacks</th>\n",
       "    </tr>\n",
       "  </thead>\n",
       "  <tbody>\n",
       "    <tr>\n",
       "      <th>0</th>\n",
       "      <td>PHILIPPINES</td>\n",
       "      <td>1944</td>\n",
       "      <td>1</td>\n",
       "    </tr>\n",
       "    <tr>\n",
       "      <th>1</th>\n",
       "      <td>TONGA</td>\n",
       "      <td>2000</td>\n",
       "      <td>1</td>\n",
       "    </tr>\n",
       "    <tr>\n",
       "      <th>2</th>\n",
       "      <td>TONGA</td>\n",
       "      <td>2004</td>\n",
       "      <td>2</td>\n",
       "    </tr>\n",
       "    <tr>\n",
       "      <th>3</th>\n",
       "      <td>ADMIRALTY ISLANDS</td>\n",
       "      <td>1962</td>\n",
       "      <td>1</td>\n",
       "    </tr>\n",
       "    <tr>\n",
       "      <th>4</th>\n",
       "      <td>AFRICA</td>\n",
       "      <td>1846</td>\n",
       "      <td>1</td>\n",
       "    </tr>\n",
       "  </tbody>\n",
       "</table>\n",
       "</div>"
      ],
      "text/plain": [
       "             Country  Year  Attacks\n",
       "0        PHILIPPINES  1944        1\n",
       "1              TONGA  2000        1\n",
       "2              TONGA  2004        2\n",
       "3  ADMIRALTY ISLANDS  1962        1\n",
       "4             AFRICA  1846        1"
      ]
     },
     "execution_count": 15,
     "metadata": {},
     "output_type": "execute_result"
    }
   ],
   "source": [
    "attacks_year.head()"
   ]
  },
  {
   "cell_type": "markdown",
   "metadata": {},
   "source": [
    "----------------------"
   ]
  },
  {
   "cell_type": "markdown",
   "metadata": {},
   "source": [
    "\n",
    "### Base das Nações Unidas: SDR 2021 - Database.xlsx"
   ]
  },
  {
   "cell_type": "markdown",
   "metadata": {},
   "source": [
    "**Importação da base**"
   ]
  },
  {
   "cell_type": "code",
   "execution_count": 16,
   "metadata": {},
   "outputs": [
    {
     "data": {
      "text/html": [
       "<div>\n",
       "<style scoped>\n",
       "    .dataframe tbody tr th:only-of-type {\n",
       "        vertical-align: middle;\n",
       "    }\n",
       "\n",
       "    .dataframe tbody tr th {\n",
       "        vertical-align: top;\n",
       "    }\n",
       "\n",
       "    .dataframe thead th {\n",
       "        text-align: right;\n",
       "    }\n",
       "</style>\n",
       "<table border=\"1\" class=\"dataframe\">\n",
       "  <thead>\n",
       "    <tr style=\"text-align: right;\">\n",
       "      <th></th>\n",
       "      <th>id</th>\n",
       "      <th>Country</th>\n",
       "      <th>Year</th>\n",
       "      <th>Population</th>\n",
       "      <th>sdg1_wpc</th>\n",
       "      <th>sdg1_320pov</th>\n",
       "      <th>sdg1_oecdpov</th>\n",
       "      <th>sdg2_undernsh</th>\n",
       "      <th>sdg2_stuntihme</th>\n",
       "      <th>sdg2_wasteihme</th>\n",
       "      <th>...</th>\n",
       "      <th>sdg16_safe</th>\n",
       "      <th>sdg16_prs</th>\n",
       "      <th>sdg16_cpi</th>\n",
       "      <th>sdg16_rsf</th>\n",
       "      <th>sdg16_justice</th>\n",
       "      <th>sdg16_prison</th>\n",
       "      <th>sdg17_govex</th>\n",
       "      <th>sdg17_oda</th>\n",
       "      <th>sdg17_govrev</th>\n",
       "      <th>sdg17_statperf</th>\n",
       "    </tr>\n",
       "  </thead>\n",
       "  <tbody>\n",
       "    <tr>\n",
       "      <th>0</th>\n",
       "      <td>AFG</td>\n",
       "      <td>Afghanistan</td>\n",
       "      <td>2000</td>\n",
       "      <td>20779957.0</td>\n",
       "      <td>NaN</td>\n",
       "      <td>NaN</td>\n",
       "      <td>NaN</td>\n",
       "      <td>NaN</td>\n",
       "      <td>53.55</td>\n",
       "      <td>8.308</td>\n",
       "      <td>...</td>\n",
       "      <td>NaN</td>\n",
       "      <td>NaN</td>\n",
       "      <td>NaN</td>\n",
       "      <td>NaN</td>\n",
       "      <td>NaN</td>\n",
       "      <td>NaN</td>\n",
       "      <td>NaN</td>\n",
       "      <td>NaN</td>\n",
       "      <td>NaN</td>\n",
       "      <td>NaN</td>\n",
       "    </tr>\n",
       "    <tr>\n",
       "      <th>1</th>\n",
       "      <td>AFG</td>\n",
       "      <td>Afghanistan</td>\n",
       "      <td>2001</td>\n",
       "      <td>21606992.0</td>\n",
       "      <td>NaN</td>\n",
       "      <td>NaN</td>\n",
       "      <td>NaN</td>\n",
       "      <td>47.8</td>\n",
       "      <td>NaN</td>\n",
       "      <td>NaN</td>\n",
       "      <td>...</td>\n",
       "      <td>NaN</td>\n",
       "      <td>NaN</td>\n",
       "      <td>NaN</td>\n",
       "      <td>NaN</td>\n",
       "      <td>NaN</td>\n",
       "      <td>NaN</td>\n",
       "      <td>NaN</td>\n",
       "      <td>NaN</td>\n",
       "      <td>NaN</td>\n",
       "      <td>NaN</td>\n",
       "    </tr>\n",
       "    <tr>\n",
       "      <th>2</th>\n",
       "      <td>AFG</td>\n",
       "      <td>Afghanistan</td>\n",
       "      <td>2002</td>\n",
       "      <td>22600774.0</td>\n",
       "      <td>NaN</td>\n",
       "      <td>NaN</td>\n",
       "      <td>NaN</td>\n",
       "      <td>45.7</td>\n",
       "      <td>NaN</td>\n",
       "      <td>NaN</td>\n",
       "      <td>...</td>\n",
       "      <td>NaN</td>\n",
       "      <td>NaN</td>\n",
       "      <td>NaN</td>\n",
       "      <td>NaN</td>\n",
       "      <td>NaN</td>\n",
       "      <td>NaN</td>\n",
       "      <td>NaN</td>\n",
       "      <td>NaN</td>\n",
       "      <td>NaN</td>\n",
       "      <td>NaN</td>\n",
       "    </tr>\n",
       "    <tr>\n",
       "      <th>3</th>\n",
       "      <td>AFG</td>\n",
       "      <td>Afghanistan</td>\n",
       "      <td>2003</td>\n",
       "      <td>23680871.0</td>\n",
       "      <td>NaN</td>\n",
       "      <td>NaN</td>\n",
       "      <td>NaN</td>\n",
       "      <td>40.7</td>\n",
       "      <td>NaN</td>\n",
       "      <td>NaN</td>\n",
       "      <td>...</td>\n",
       "      <td>NaN</td>\n",
       "      <td>NaN</td>\n",
       "      <td>NaN</td>\n",
       "      <td>NaN</td>\n",
       "      <td>NaN</td>\n",
       "      <td>NaN</td>\n",
       "      <td>NaN</td>\n",
       "      <td>NaN</td>\n",
       "      <td>NaN</td>\n",
       "      <td>NaN</td>\n",
       "    </tr>\n",
       "    <tr>\n",
       "      <th>4</th>\n",
       "      <td>AFG</td>\n",
       "      <td>Afghanistan</td>\n",
       "      <td>2004</td>\n",
       "      <td>24726689.0</td>\n",
       "      <td>NaN</td>\n",
       "      <td>NaN</td>\n",
       "      <td>NaN</td>\n",
       "      <td>38.1</td>\n",
       "      <td>NaN</td>\n",
       "      <td>NaN</td>\n",
       "      <td>...</td>\n",
       "      <td>NaN</td>\n",
       "      <td>NaN</td>\n",
       "      <td>NaN</td>\n",
       "      <td>NaN</td>\n",
       "      <td>NaN</td>\n",
       "      <td>NaN</td>\n",
       "      <td>NaN</td>\n",
       "      <td>NaN</td>\n",
       "      <td>NaN</td>\n",
       "      <td>NaN</td>\n",
       "    </tr>\n",
       "  </tbody>\n",
       "</table>\n",
       "<p>5 rows × 96 columns</p>\n",
       "</div>"
      ],
      "text/plain": [
       "    id      Country  Year  Population  sdg1_wpc  sdg1_320pov  sdg1_oecdpov  \\\n",
       "0  AFG  Afghanistan  2000  20779957.0       NaN          NaN           NaN   \n",
       "1  AFG  Afghanistan  2001  21606992.0       NaN          NaN           NaN   \n",
       "2  AFG  Afghanistan  2002  22600774.0       NaN          NaN           NaN   \n",
       "3  AFG  Afghanistan  2003  23680871.0       NaN          NaN           NaN   \n",
       "4  AFG  Afghanistan  2004  24726689.0       NaN          NaN           NaN   \n",
       "\n",
       "   sdg2_undernsh  sdg2_stuntihme  sdg2_wasteihme  ...  sdg16_safe  sdg16_prs  \\\n",
       "0            NaN           53.55           8.308  ...         NaN        NaN   \n",
       "1           47.8             NaN             NaN  ...         NaN        NaN   \n",
       "2           45.7             NaN             NaN  ...         NaN        NaN   \n",
       "3           40.7             NaN             NaN  ...         NaN        NaN   \n",
       "4           38.1             NaN             NaN  ...         NaN        NaN   \n",
       "\n",
       "   sdg16_cpi  sdg16_rsf  sdg16_justice  sdg16_prison  sdg17_govex  sdg17_oda  \\\n",
       "0        NaN        NaN            NaN           NaN          NaN        NaN   \n",
       "1        NaN        NaN            NaN           NaN          NaN        NaN   \n",
       "2        NaN        NaN            NaN           NaN          NaN        NaN   \n",
       "3        NaN        NaN            NaN           NaN          NaN        NaN   \n",
       "4        NaN        NaN            NaN           NaN          NaN        NaN   \n",
       "\n",
       "   sdg17_govrev  sdg17_statperf  \n",
       "0           NaN             NaN  \n",
       "1           NaN             NaN  \n",
       "2           NaN             NaN  \n",
       "3           NaN             NaN  \n",
       "4           NaN             NaN  \n",
       "\n",
       "[5 rows x 96 columns]"
      ]
     },
     "execution_count": 16,
     "metadata": {},
     "output_type": "execute_result"
    }
   ],
   "source": [
    "SDR = pd.read_excel('SDR 2021 - Database.xlsx', sheet_name = 'Data for Trends')\n",
    "SDR.head()"
   ]
  },
  {
   "cell_type": "markdown",
   "metadata": {},
   "source": [
    "<p>"
   ]
  },
  {
   "cell_type": "markdown",
   "metadata": {},
   "source": [
    "\n",
    "**Seleção das colunas que interessam para o projeto:** i) \"Country\"; ii) \"Year\"; iii) \"sdg14_cpma\"; iv) \"sdg14_cleanwat\"; v) \"sdg14_fishstocks\"; vi) \"sdg14_trawl\"; vii) \"sdg15_redlist\"."
   ]
  },
  {
   "cell_type": "code",
   "execution_count": 17,
   "metadata": {},
   "outputs": [],
   "source": [
    "SDR1 = SDR[['Country', 'Year', 'sdg14_cpma', 'sdg14_cleanwat', 'sdg14_fishstocks', 'sdg14_trawl', 'sdg15_redlist']]"
   ]
  },
  {
   "cell_type": "code",
   "execution_count": 18,
   "metadata": {},
   "outputs": [
    {
     "name": "stdout",
     "output_type": "stream",
     "text": [
      "<class 'pandas.core.frame.DataFrame'>\n",
      "RangeIndex: 4246 entries, 0 to 4245\n",
      "Data columns (total 7 columns):\n",
      " #   Column            Non-Null Count  Dtype  \n",
      "---  ------            --------------  -----  \n",
      " 0   Country           4246 non-null   object \n",
      " 1   Year              4246 non-null   int64  \n",
      " 2   sdg14_cpma        2800 non-null   float64\n",
      " 3   sdg14_cleanwat    1323 non-null   float64\n",
      " 4   sdg14_fishstocks  1755 non-null   float64\n",
      " 5   sdg14_trawl       2499 non-null   float64\n",
      " 6   sdg15_redlist     4032 non-null   float64\n",
      "dtypes: float64(5), int64(1), object(1)\n",
      "memory usage: 232.3+ KB\n"
     ]
    }
   ],
   "source": [
    "SDR1.info()"
   ]
  },
  {
   "cell_type": "markdown",
   "metadata": {},
   "source": [
    "<p>"
   ]
  },
  {
   "cell_type": "markdown",
   "metadata": {},
   "source": [
    "**Ajuste da coluna \"Country\" (letras maiúsculas)**"
   ]
  },
  {
   "cell_type": "code",
   "execution_count": 19,
   "metadata": {},
   "outputs": [
    {
     "data": {
      "text/plain": [
       "0       Afghanistan\n",
       "1       Afghanistan\n",
       "2       Afghanistan\n",
       "3       Afghanistan\n",
       "4       Afghanistan\n",
       "           ...     \n",
       "4241       Zimbabwe\n",
       "4242       Zimbabwe\n",
       "4243       Zimbabwe\n",
       "4244       Zimbabwe\n",
       "4245       Zimbabwe\n",
       "Name: Country, Length: 4246, dtype: object"
      ]
     },
     "execution_count": 19,
     "metadata": {},
     "output_type": "execute_result"
    }
   ],
   "source": [
    "SDR1.Country"
   ]
  },
  {
   "cell_type": "code",
   "execution_count": 20,
   "metadata": {},
   "outputs": [],
   "source": [
    "SDR1 = SDR1.astype({'Country':'string'})"
   ]
  },
  {
   "cell_type": "code",
   "execution_count": 21,
   "metadata": {},
   "outputs": [],
   "source": [
    "SDR1['Country'] = SDR1['Country'].str.upper()"
   ]
  },
  {
   "cell_type": "code",
   "execution_count": 22,
   "metadata": {},
   "outputs": [
    {
     "data": {
      "text/plain": [
       "0       AFGHANISTAN\n",
       "1       AFGHANISTAN\n",
       "2       AFGHANISTAN\n",
       "3       AFGHANISTAN\n",
       "4       AFGHANISTAN\n",
       "           ...     \n",
       "4241       ZIMBABWE\n",
       "4242       ZIMBABWE\n",
       "4243       ZIMBABWE\n",
       "4244       ZIMBABWE\n",
       "4245       ZIMBABWE\n",
       "Name: Country, Length: 4246, dtype: string"
      ]
     },
     "execution_count": 22,
     "metadata": {},
     "output_type": "execute_result"
    }
   ],
   "source": [
    "SDR1.Country"
   ]
  },
  {
   "cell_type": "markdown",
   "metadata": {},
   "source": [
    "<p>"
   ]
  },
  {
   "cell_type": "markdown",
   "metadata": {},
   "source": [
    "**Ajuste \"UNITED STATES\" para \"USA\"**"
   ]
  },
  {
   "cell_type": "code",
   "execution_count": 23,
   "metadata": {},
   "outputs": [],
   "source": [
    "SDR1 = SDR1.replace('UNITED STATES', 'USA')"
   ]
  },
  {
   "cell_type": "code",
   "execution_count": 24,
   "metadata": {},
   "outputs": [
    {
     "data": {
      "text/html": [
       "<div>\n",
       "<style scoped>\n",
       "    .dataframe tbody tr th:only-of-type {\n",
       "        vertical-align: middle;\n",
       "    }\n",
       "\n",
       "    .dataframe tbody tr th {\n",
       "        vertical-align: top;\n",
       "    }\n",
       "\n",
       "    .dataframe thead th {\n",
       "        text-align: right;\n",
       "    }\n",
       "</style>\n",
       "<table border=\"1\" class=\"dataframe\">\n",
       "  <thead>\n",
       "    <tr style=\"text-align: right;\">\n",
       "      <th></th>\n",
       "      <th>Country</th>\n",
       "      <th>Year</th>\n",
       "      <th>sdg14_cpma</th>\n",
       "      <th>sdg14_cleanwat</th>\n",
       "      <th>sdg14_fishstocks</th>\n",
       "      <th>sdg14_trawl</th>\n",
       "      <th>sdg15_redlist</th>\n",
       "    </tr>\n",
       "  </thead>\n",
       "  <tbody>\n",
       "    <tr>\n",
       "      <th>0</th>\n",
       "      <td>AFGHANISTAN</td>\n",
       "      <td>2000</td>\n",
       "      <td>NaN</td>\n",
       "      <td>NaN</td>\n",
       "      <td>NaN</td>\n",
       "      <td>NaN</td>\n",
       "      <td>0.840</td>\n",
       "    </tr>\n",
       "    <tr>\n",
       "      <th>1</th>\n",
       "      <td>AFGHANISTAN</td>\n",
       "      <td>2001</td>\n",
       "      <td>NaN</td>\n",
       "      <td>NaN</td>\n",
       "      <td>NaN</td>\n",
       "      <td>NaN</td>\n",
       "      <td>0.840</td>\n",
       "    </tr>\n",
       "    <tr>\n",
       "      <th>2</th>\n",
       "      <td>AFGHANISTAN</td>\n",
       "      <td>2002</td>\n",
       "      <td>NaN</td>\n",
       "      <td>NaN</td>\n",
       "      <td>NaN</td>\n",
       "      <td>NaN</td>\n",
       "      <td>0.839</td>\n",
       "    </tr>\n",
       "    <tr>\n",
       "      <th>3</th>\n",
       "      <td>AFGHANISTAN</td>\n",
       "      <td>2003</td>\n",
       "      <td>NaN</td>\n",
       "      <td>NaN</td>\n",
       "      <td>NaN</td>\n",
       "      <td>NaN</td>\n",
       "      <td>0.839</td>\n",
       "    </tr>\n",
       "    <tr>\n",
       "      <th>4</th>\n",
       "      <td>AFGHANISTAN</td>\n",
       "      <td>2004</td>\n",
       "      <td>NaN</td>\n",
       "      <td>NaN</td>\n",
       "      <td>NaN</td>\n",
       "      <td>NaN</td>\n",
       "      <td>0.839</td>\n",
       "    </tr>\n",
       "  </tbody>\n",
       "</table>\n",
       "</div>"
      ],
      "text/plain": [
       "       Country  Year  sdg14_cpma  sdg14_cleanwat  sdg14_fishstocks  \\\n",
       "0  AFGHANISTAN  2000         NaN             NaN               NaN   \n",
       "1  AFGHANISTAN  2001         NaN             NaN               NaN   \n",
       "2  AFGHANISTAN  2002         NaN             NaN               NaN   \n",
       "3  AFGHANISTAN  2003         NaN             NaN               NaN   \n",
       "4  AFGHANISTAN  2004         NaN             NaN               NaN   \n",
       "\n",
       "   sdg14_trawl  sdg15_redlist  \n",
       "0          NaN          0.840  \n",
       "1          NaN          0.840  \n",
       "2          NaN          0.839  \n",
       "3          NaN          0.839  \n",
       "4          NaN          0.839  "
      ]
     },
     "execution_count": 24,
     "metadata": {},
     "output_type": "execute_result"
    }
   ],
   "source": [
    "SDR1.head()"
   ]
  },
  {
   "cell_type": "markdown",
   "metadata": {},
   "source": [
    "----------------------"
   ]
  },
  {
   "cell_type": "markdown",
   "metadata": {},
   "source": [
    "### Junção das bases"
   ]
  },
  {
   "cell_type": "code",
   "execution_count": 27,
   "metadata": {},
   "outputs": [],
   "source": [
    "attacks_SDR = pd.merge(attacks_year, SDR1, on = ['Country', 'Year'])"
   ]
  },
  {
   "cell_type": "markdown",
   "metadata": {},
   "source": [
    "<p>"
   ]
  },
  {
   "cell_type": "markdown",
   "metadata": {},
   "source": [
    "**Checagem das colunas**"
   ]
  },
  {
   "cell_type": "code",
   "execution_count": 28,
   "metadata": {},
   "outputs": [
    {
     "data": {
      "text/plain": [
       "Index(['Country', 'Year', 'Attacks', 'sdg14_cpma', 'sdg14_cleanwat',\n",
       "       'sdg14_fishstocks', 'sdg14_trawl', 'sdg15_redlist'],\n",
       "      dtype='object')"
      ]
     },
     "execution_count": 28,
     "metadata": {},
     "output_type": "execute_result"
    }
   ],
   "source": [
    "attacks_SDR.columns"
   ]
  },
  {
   "cell_type": "code",
   "execution_count": 29,
   "metadata": {},
   "outputs": [
    {
     "name": "stdout",
     "output_type": "stream",
     "text": [
      "<class 'pandas.core.frame.DataFrame'>\n",
      "Int64Index: 246 entries, 0 to 245\n",
      "Data columns (total 8 columns):\n",
      " #   Column            Non-Null Count  Dtype  \n",
      "---  ------            --------------  -----  \n",
      " 0   Country           246 non-null    object \n",
      " 1   Year              246 non-null    int32  \n",
      " 2   Attacks           246 non-null    int64  \n",
      " 3   sdg14_cpma        244 non-null    float64\n",
      " 4   sdg14_cleanwat    92 non-null     float64\n",
      " 5   sdg14_fishstocks  190 non-null    float64\n",
      " 6   sdg14_trawl       213 non-null    float64\n",
      " 7   sdg15_redlist     246 non-null    float64\n",
      "dtypes: float64(5), int32(1), int64(1), object(1)\n",
      "memory usage: 16.3+ KB\n"
     ]
    }
   ],
   "source": [
    "attacks_SDR.info()"
   ]
  },
  {
   "cell_type": "code",
   "execution_count": 30,
   "metadata": {},
   "outputs": [
    {
     "data": {
      "text/html": [
       "<div>\n",
       "<style scoped>\n",
       "    .dataframe tbody tr th:only-of-type {\n",
       "        vertical-align: middle;\n",
       "    }\n",
       "\n",
       "    .dataframe tbody tr th {\n",
       "        vertical-align: top;\n",
       "    }\n",
       "\n",
       "    .dataframe thead th {\n",
       "        text-align: right;\n",
       "    }\n",
       "</style>\n",
       "<table border=\"1\" class=\"dataframe\">\n",
       "  <thead>\n",
       "    <tr style=\"text-align: right;\">\n",
       "      <th></th>\n",
       "      <th>Country</th>\n",
       "      <th>Year</th>\n",
       "      <th>Attacks</th>\n",
       "      <th>sdg14_cpma</th>\n",
       "      <th>sdg14_cleanwat</th>\n",
       "      <th>sdg14_fishstocks</th>\n",
       "      <th>sdg14_trawl</th>\n",
       "      <th>sdg15_redlist</th>\n",
       "    </tr>\n",
       "  </thead>\n",
       "  <tbody>\n",
       "    <tr>\n",
       "      <th>0</th>\n",
       "      <td>AUSTRALIA</td>\n",
       "      <td>2000</td>\n",
       "      <td>18</td>\n",
       "      <td>42.917</td>\n",
       "      <td>NaN</td>\n",
       "      <td>17.325</td>\n",
       "      <td>39.003</td>\n",
       "      <td>0.877</td>\n",
       "    </tr>\n",
       "    <tr>\n",
       "      <th>1</th>\n",
       "      <td>AUSTRALIA</td>\n",
       "      <td>2001</td>\n",
       "      <td>13</td>\n",
       "      <td>43.100</td>\n",
       "      <td>NaN</td>\n",
       "      <td>21.910</td>\n",
       "      <td>40.787</td>\n",
       "      <td>0.875</td>\n",
       "    </tr>\n",
       "    <tr>\n",
       "      <th>2</th>\n",
       "      <td>AUSTRALIA</td>\n",
       "      <td>2002</td>\n",
       "      <td>13</td>\n",
       "      <td>44.759</td>\n",
       "      <td>NaN</td>\n",
       "      <td>23.668</td>\n",
       "      <td>31.008</td>\n",
       "      <td>0.872</td>\n",
       "    </tr>\n",
       "    <tr>\n",
       "      <th>3</th>\n",
       "      <td>AUSTRALIA</td>\n",
       "      <td>2003</td>\n",
       "      <td>10</td>\n",
       "      <td>45.069</td>\n",
       "      <td>NaN</td>\n",
       "      <td>29.497</td>\n",
       "      <td>29.953</td>\n",
       "      <td>0.869</td>\n",
       "    </tr>\n",
       "    <tr>\n",
       "      <th>4</th>\n",
       "      <td>AUSTRALIA</td>\n",
       "      <td>2004</td>\n",
       "      <td>17</td>\n",
       "      <td>45.194</td>\n",
       "      <td>NaN</td>\n",
       "      <td>31.810</td>\n",
       "      <td>28.036</td>\n",
       "      <td>0.866</td>\n",
       "    </tr>\n",
       "    <tr>\n",
       "      <th>...</th>\n",
       "      <td>...</td>\n",
       "      <td>...</td>\n",
       "      <td>...</td>\n",
       "      <td>...</td>\n",
       "      <td>...</td>\n",
       "      <td>...</td>\n",
       "      <td>...</td>\n",
       "      <td>...</td>\n",
       "    </tr>\n",
       "    <tr>\n",
       "      <th>241</th>\n",
       "      <td>USA</td>\n",
       "      <td>2018</td>\n",
       "      <td>10</td>\n",
       "      <td>61.045</td>\n",
       "      <td>72.68</td>\n",
       "      <td>NaN</td>\n",
       "      <td>NaN</td>\n",
       "      <td>0.833</td>\n",
       "    </tr>\n",
       "    <tr>\n",
       "      <th>242</th>\n",
       "      <td>VANUATU</td>\n",
       "      <td>2004</td>\n",
       "      <td>1</td>\n",
       "      <td>3.136</td>\n",
       "      <td>NaN</td>\n",
       "      <td>3.750</td>\n",
       "      <td>0.000</td>\n",
       "      <td>0.706</td>\n",
       "    </tr>\n",
       "    <tr>\n",
       "      <th>243</th>\n",
       "      <td>VANUATU</td>\n",
       "      <td>2005</td>\n",
       "      <td>1</td>\n",
       "      <td>3.136</td>\n",
       "      <td>NaN</td>\n",
       "      <td>3.480</td>\n",
       "      <td>0.002</td>\n",
       "      <td>0.702</td>\n",
       "    </tr>\n",
       "    <tr>\n",
       "      <th>244</th>\n",
       "      <td>VIETNAM</td>\n",
       "      <td>2009</td>\n",
       "      <td>4</td>\n",
       "      <td>17.980</td>\n",
       "      <td>NaN</td>\n",
       "      <td>0.420</td>\n",
       "      <td>55.368</td>\n",
       "      <td>0.765</td>\n",
       "    </tr>\n",
       "    <tr>\n",
       "      <th>245</th>\n",
       "      <td>VIETNAM</td>\n",
       "      <td>2010</td>\n",
       "      <td>6</td>\n",
       "      <td>17.980</td>\n",
       "      <td>NaN</td>\n",
       "      <td>0.760</td>\n",
       "      <td>57.172</td>\n",
       "      <td>0.762</td>\n",
       "    </tr>\n",
       "  </tbody>\n",
       "</table>\n",
       "<p>246 rows × 8 columns</p>\n",
       "</div>"
      ],
      "text/plain": [
       "       Country  Year  Attacks  sdg14_cpma  sdg14_cleanwat  sdg14_fishstocks  \\\n",
       "0    AUSTRALIA  2000       18      42.917             NaN            17.325   \n",
       "1    AUSTRALIA  2001       13      43.100             NaN            21.910   \n",
       "2    AUSTRALIA  2002       13      44.759             NaN            23.668   \n",
       "3    AUSTRALIA  2003       10      45.069             NaN            29.497   \n",
       "4    AUSTRALIA  2004       17      45.194             NaN            31.810   \n",
       "..         ...   ...      ...         ...             ...               ...   \n",
       "241        USA  2018       10      61.045           72.68               NaN   \n",
       "242    VANUATU  2004        1       3.136             NaN             3.750   \n",
       "243    VANUATU  2005        1       3.136             NaN             3.480   \n",
       "244    VIETNAM  2009        4      17.980             NaN             0.420   \n",
       "245    VIETNAM  2010        6      17.980             NaN             0.760   \n",
       "\n",
       "     sdg14_trawl  sdg15_redlist  \n",
       "0         39.003          0.877  \n",
       "1         40.787          0.875  \n",
       "2         31.008          0.872  \n",
       "3         29.953          0.869  \n",
       "4         28.036          0.866  \n",
       "..           ...            ...  \n",
       "241          NaN          0.833  \n",
       "242        0.000          0.706  \n",
       "243        0.002          0.702  \n",
       "244       55.368          0.765  \n",
       "245       57.172          0.762  \n",
       "\n",
       "[246 rows x 8 columns]"
      ]
     },
     "execution_count": 30,
     "metadata": {},
     "output_type": "execute_result"
    }
   ],
   "source": [
    "attacks_SDR"
   ]
  },
  {
   "cell_type": "markdown",
   "metadata": {},
   "source": [
    "-----------------------------"
   ]
  },
  {
   "cell_type": "markdown",
   "metadata": {},
   "source": [
    "### B) Análise Estatística"
   ]
  },
  {
   "cell_type": "markdown",
   "metadata": {},
   "source": [
    "**Análise Descritiva**"
   ]
  },
  {
   "cell_type": "code",
   "execution_count": 32,
   "metadata": {
    "scrolled": true
   },
   "outputs": [
    {
     "data": {
      "text/html": [
       "<div>\n",
       "<style scoped>\n",
       "    .dataframe tbody tr th:only-of-type {\n",
       "        vertical-align: middle;\n",
       "    }\n",
       "\n",
       "    .dataframe tbody tr th {\n",
       "        vertical-align: top;\n",
       "    }\n",
       "\n",
       "    .dataframe thead th {\n",
       "        text-align: right;\n",
       "    }\n",
       "</style>\n",
       "<table border=\"1\" class=\"dataframe\">\n",
       "  <thead>\n",
       "    <tr style=\"text-align: right;\">\n",
       "      <th></th>\n",
       "      <th>Year</th>\n",
       "      <th>Attacks</th>\n",
       "      <th>sdg14_cpma</th>\n",
       "      <th>sdg14_cleanwat</th>\n",
       "      <th>sdg14_fishstocks</th>\n",
       "      <th>sdg14_trawl</th>\n",
       "      <th>sdg15_redlist</th>\n",
       "    </tr>\n",
       "  </thead>\n",
       "  <tbody>\n",
       "    <tr>\n",
       "      <th>count</th>\n",
       "      <td>246.000000</td>\n",
       "      <td>246.000000</td>\n",
       "      <td>244.000000</td>\n",
       "      <td>92.000000</td>\n",
       "      <td>190.000000</td>\n",
       "      <td>213.000000</td>\n",
       "      <td>246.000000</td>\n",
       "    </tr>\n",
       "    <tr>\n",
       "      <th>mean</th>\n",
       "      <td>2009.426829</td>\n",
       "      <td>7.548780</td>\n",
       "      <td>41.976094</td>\n",
       "      <td>64.143043</td>\n",
       "      <td>28.354368</td>\n",
       "      <td>21.606305</td>\n",
       "      <td>0.795276</td>\n",
       "    </tr>\n",
       "    <tr>\n",
       "      <th>std</th>\n",
       "      <td>5.270706</td>\n",
       "      <td>14.953112</td>\n",
       "      <td>21.762602</td>\n",
       "      <td>12.833116</td>\n",
       "      <td>17.888667</td>\n",
       "      <td>15.655447</td>\n",
       "      <td>0.084759</td>\n",
       "    </tr>\n",
       "    <tr>\n",
       "      <th>min</th>\n",
       "      <td>2000.000000</td>\n",
       "      <td>1.000000</td>\n",
       "      <td>0.000000</td>\n",
       "      <td>29.380000</td>\n",
       "      <td>0.420000</td>\n",
       "      <td>0.000000</td>\n",
       "      <td>0.424000</td>\n",
       "    </tr>\n",
       "    <tr>\n",
       "      <th>25%</th>\n",
       "      <td>2005.000000</td>\n",
       "      <td>1.000000</td>\n",
       "      <td>27.141500</td>\n",
       "      <td>55.955000</td>\n",
       "      <td>17.447500</td>\n",
       "      <td>10.421000</td>\n",
       "      <td>0.723250</td>\n",
       "    </tr>\n",
       "    <tr>\n",
       "      <th>50%</th>\n",
       "      <td>2010.000000</td>\n",
       "      <td>1.000000</td>\n",
       "      <td>43.599500</td>\n",
       "      <td>63.330000</td>\n",
       "      <td>25.208000</td>\n",
       "      <td>21.837000</td>\n",
       "      <td>0.810500</td>\n",
       "    </tr>\n",
       "    <tr>\n",
       "      <th>75%</th>\n",
       "      <td>2014.000000</td>\n",
       "      <td>5.000000</td>\n",
       "      <td>57.963000</td>\n",
       "      <td>72.762500</td>\n",
       "      <td>36.096250</td>\n",
       "      <td>31.008000</td>\n",
       "      <td>0.854000</td>\n",
       "    </tr>\n",
       "    <tr>\n",
       "      <th>max</th>\n",
       "      <td>2018.000000</td>\n",
       "      <td>73.000000</td>\n",
       "      <td>96.655000</td>\n",
       "      <td>95.700000</td>\n",
       "      <td>80.101000</td>\n",
       "      <td>94.915000</td>\n",
       "      <td>0.971000</td>\n",
       "    </tr>\n",
       "  </tbody>\n",
       "</table>\n",
       "</div>"
      ],
      "text/plain": [
       "              Year     Attacks  sdg14_cpma  sdg14_cleanwat  sdg14_fishstocks  \\\n",
       "count   246.000000  246.000000  244.000000       92.000000        190.000000   \n",
       "mean   2009.426829    7.548780   41.976094       64.143043         28.354368   \n",
       "std       5.270706   14.953112   21.762602       12.833116         17.888667   \n",
       "min    2000.000000    1.000000    0.000000       29.380000          0.420000   \n",
       "25%    2005.000000    1.000000   27.141500       55.955000         17.447500   \n",
       "50%    2010.000000    1.000000   43.599500       63.330000         25.208000   \n",
       "75%    2014.000000    5.000000   57.963000       72.762500         36.096250   \n",
       "max    2018.000000   73.000000   96.655000       95.700000         80.101000   \n",
       "\n",
       "       sdg14_trawl  sdg15_redlist  \n",
       "count   213.000000     246.000000  \n",
       "mean     21.606305       0.795276  \n",
       "std      15.655447       0.084759  \n",
       "min       0.000000       0.424000  \n",
       "25%      10.421000       0.723250  \n",
       "50%      21.837000       0.810500  \n",
       "75%      31.008000       0.854000  \n",
       "max      94.915000       0.971000  "
      ]
     },
     "execution_count": 32,
     "metadata": {},
     "output_type": "execute_result"
    }
   ],
   "source": [
    "attacks_SDR.describe()"
   ]
  },
  {
   "cell_type": "markdown",
   "metadata": {},
   "source": [
    "<p>"
   ]
  },
  {
   "cell_type": "markdown",
   "metadata": {},
   "source": [
    "**Correlação**"
   ]
  },
  {
   "cell_type": "code",
   "execution_count": 33,
   "metadata": {
    "scrolled": true
   },
   "outputs": [
    {
     "data": {
      "text/html": [
       "<div>\n",
       "<style scoped>\n",
       "    .dataframe tbody tr th:only-of-type {\n",
       "        vertical-align: middle;\n",
       "    }\n",
       "\n",
       "    .dataframe tbody tr th {\n",
       "        vertical-align: top;\n",
       "    }\n",
       "\n",
       "    .dataframe thead th {\n",
       "        text-align: right;\n",
       "    }\n",
       "</style>\n",
       "<table border=\"1\" class=\"dataframe\">\n",
       "  <thead>\n",
       "    <tr style=\"text-align: right;\">\n",
       "      <th></th>\n",
       "      <th>Year</th>\n",
       "      <th>Attacks</th>\n",
       "      <th>sdg14_cpma</th>\n",
       "      <th>sdg14_cleanwat</th>\n",
       "      <th>sdg14_fishstocks</th>\n",
       "      <th>sdg14_trawl</th>\n",
       "      <th>sdg15_redlist</th>\n",
       "    </tr>\n",
       "  </thead>\n",
       "  <tbody>\n",
       "    <tr>\n",
       "      <th>Year</th>\n",
       "      <td>1.000000</td>\n",
       "      <td>-0.010545</td>\n",
       "      <td>0.204278</td>\n",
       "      <td>-0.087529</td>\n",
       "      <td>0.257320</td>\n",
       "      <td>-0.009349</td>\n",
       "      <td>-0.111456</td>\n",
       "    </tr>\n",
       "    <tr>\n",
       "      <th>Attacks</th>\n",
       "      <td>-0.010545</td>\n",
       "      <td>1.000000</td>\n",
       "      <td>0.250077</td>\n",
       "      <td>0.320577</td>\n",
       "      <td>0.011026</td>\n",
       "      <td>0.170049</td>\n",
       "      <td>0.206195</td>\n",
       "    </tr>\n",
       "    <tr>\n",
       "      <th>sdg14_cpma</th>\n",
       "      <td>0.204278</td>\n",
       "      <td>0.250077</td>\n",
       "      <td>1.000000</td>\n",
       "      <td>-0.003135</td>\n",
       "      <td>0.369084</td>\n",
       "      <td>0.258999</td>\n",
       "      <td>0.179122</td>\n",
       "    </tr>\n",
       "    <tr>\n",
       "      <th>sdg14_cleanwat</th>\n",
       "      <td>-0.087529</td>\n",
       "      <td>0.320577</td>\n",
       "      <td>-0.003135</td>\n",
       "      <td>1.000000</td>\n",
       "      <td>0.151855</td>\n",
       "      <td>-0.205657</td>\n",
       "      <td>-0.052858</td>\n",
       "    </tr>\n",
       "    <tr>\n",
       "      <th>sdg14_fishstocks</th>\n",
       "      <td>0.257320</td>\n",
       "      <td>0.011026</td>\n",
       "      <td>0.369084</td>\n",
       "      <td>0.151855</td>\n",
       "      <td>1.000000</td>\n",
       "      <td>0.222100</td>\n",
       "      <td>-0.032352</td>\n",
       "    </tr>\n",
       "    <tr>\n",
       "      <th>sdg14_trawl</th>\n",
       "      <td>-0.009349</td>\n",
       "      <td>0.170049</td>\n",
       "      <td>0.258999</td>\n",
       "      <td>-0.205657</td>\n",
       "      <td>0.222100</td>\n",
       "      <td>1.000000</td>\n",
       "      <td>0.189213</td>\n",
       "    </tr>\n",
       "    <tr>\n",
       "      <th>sdg15_redlist</th>\n",
       "      <td>-0.111456</td>\n",
       "      <td>0.206195</td>\n",
       "      <td>0.179122</td>\n",
       "      <td>-0.052858</td>\n",
       "      <td>-0.032352</td>\n",
       "      <td>0.189213</td>\n",
       "      <td>1.000000</td>\n",
       "    </tr>\n",
       "  </tbody>\n",
       "</table>\n",
       "</div>"
      ],
      "text/plain": [
       "                      Year   Attacks  sdg14_cpma  sdg14_cleanwat  \\\n",
       "Year              1.000000 -0.010545    0.204278       -0.087529   \n",
       "Attacks          -0.010545  1.000000    0.250077        0.320577   \n",
       "sdg14_cpma        0.204278  0.250077    1.000000       -0.003135   \n",
       "sdg14_cleanwat   -0.087529  0.320577   -0.003135        1.000000   \n",
       "sdg14_fishstocks  0.257320  0.011026    0.369084        0.151855   \n",
       "sdg14_trawl      -0.009349  0.170049    0.258999       -0.205657   \n",
       "sdg15_redlist    -0.111456  0.206195    0.179122       -0.052858   \n",
       "\n",
       "                  sdg14_fishstocks  sdg14_trawl  sdg15_redlist  \n",
       "Year                      0.257320    -0.009349      -0.111456  \n",
       "Attacks                   0.011026     0.170049       0.206195  \n",
       "sdg14_cpma                0.369084     0.258999       0.179122  \n",
       "sdg14_cleanwat            0.151855    -0.205657      -0.052858  \n",
       "sdg14_fishstocks          1.000000     0.222100      -0.032352  \n",
       "sdg14_trawl               0.222100     1.000000       0.189213  \n",
       "sdg15_redlist            -0.032352     0.189213       1.000000  "
      ]
     },
     "execution_count": 33,
     "metadata": {},
     "output_type": "execute_result"
    }
   ],
   "source": [
    "attacks_SDR.corr()"
   ]
  },
  {
   "cell_type": "markdown",
   "metadata": {},
   "source": [
    "<p>"
   ]
  },
  {
   "cell_type": "markdown",
   "metadata": {},
   "source": [
    "**Plotagem do gráfico de dispersão**"
   ]
  },
  {
   "cell_type": "code",
   "execution_count": 35,
   "metadata": {},
   "outputs": [],
   "source": [
    "import matplotlib.pyplot as plt"
   ]
  },
  {
   "cell_type": "code",
   "execution_count": 37,
   "metadata": {
    "scrolled": true
   },
   "outputs": [
    {
     "data": {
      "image/png": "[encoded data removed]",
      "text/plain": [
       "<Figure size 432x288 with 1 Axes>"
      ]
     },
     "metadata": {
      "needs_background": "light"
     },
     "output_type": "display_data"
    }
   ],
   "source": [
    "ax = attacks_SDR.plot.scatter(x=\"Attacks\", y=\"sdg14_cpma\", color=\"DarkBlue\", label=\"Group 1\")\n",
    "attacks_SDR.plot.scatter(x=\"sdg14_cleanwat\", y=\"sdg14_fishstocks\", color=\"DarkGreen\", label=\"Group 2\", ax=ax);\n",
    "attacks_SDR.plot.scatter(x=\"sdg14_trawl\", y=\"sdg15_redlist\", color=\"Orange\", label=\"Group 2\", ax=ax);"
   ]
  },
  {
   "cell_type": "markdown",
   "metadata": {},
   "source": [
    "<p>\n",
    "    \n",
    "    A análise acima não apresentou correlação significativa.\n",
    "    Com isso, fez-se o teste de correlação utilizando as variáveis em escala logarítmica (base 10).\n",
    "<p>"
   ]
  },
  {
   "cell_type": "markdown",
   "metadata": {},
   "source": [
    "**Transformação das variáveis em escala logarítmica, base 10**"
   ]
  },
  {
   "cell_type": "code",
   "execution_count": 38,
   "metadata": {},
   "outputs": [],
   "source": [
    "attacks_SDR_log10 = pd.DataFrame()"
   ]
  },
  {
   "cell_type": "code",
   "execution_count": 39,
   "metadata": {},
   "outputs": [
    {
     "name": "stderr",
     "output_type": "stream",
     "text": [
      "C:\\Users\\carol\\Anaconda3.1\\lib\\site-packages\\pandas\\core\\series.py:726: RuntimeWarning: divide by zero encountered in log10\n",
      "  result = getattr(ufunc, method)(*inputs, **kwargs)\n"
     ]
    },
    {
     "data": {
      "text/html": [
       "<div>\n",
       "<style scoped>\n",
       "    .dataframe tbody tr th:only-of-type {\n",
       "        vertical-align: middle;\n",
       "    }\n",
       "\n",
       "    .dataframe tbody tr th {\n",
       "        vertical-align: top;\n",
       "    }\n",
       "\n",
       "    .dataframe thead th {\n",
       "        text-align: right;\n",
       "    }\n",
       "</style>\n",
       "<table border=\"1\" class=\"dataframe\">\n",
       "  <thead>\n",
       "    <tr style=\"text-align: right;\">\n",
       "      <th></th>\n",
       "      <th>attacks_log</th>\n",
       "      <th>sdg14_cpma_log</th>\n",
       "      <th>sdg14_cleanwat_log</th>\n",
       "      <th>sdg14_fishstocks_log</th>\n",
       "      <th>sdg14_trawl_log</th>\n",
       "      <th>sdg15_redlist_log</th>\n",
       "    </tr>\n",
       "  </thead>\n",
       "  <tbody>\n",
       "    <tr>\n",
       "      <th>0</th>\n",
       "      <td>1.255273</td>\n",
       "      <td>1.632629</td>\n",
       "      <td>NaN</td>\n",
       "      <td>1.238673</td>\n",
       "      <td>1.591098</td>\n",
       "      <td>-0.057000</td>\n",
       "    </tr>\n",
       "    <tr>\n",
       "      <th>1</th>\n",
       "      <td>1.113943</td>\n",
       "      <td>1.634477</td>\n",
       "      <td>NaN</td>\n",
       "      <td>1.340642</td>\n",
       "      <td>1.610522</td>\n",
       "      <td>-0.057992</td>\n",
       "    </tr>\n",
       "    <tr>\n",
       "      <th>2</th>\n",
       "      <td>1.113943</td>\n",
       "      <td>1.650880</td>\n",
       "      <td>NaN</td>\n",
       "      <td>1.374162</td>\n",
       "      <td>1.491474</td>\n",
       "      <td>-0.059484</td>\n",
       "    </tr>\n",
       "    <tr>\n",
       "      <th>3</th>\n",
       "      <td>1.000000</td>\n",
       "      <td>1.653878</td>\n",
       "      <td>NaN</td>\n",
       "      <td>1.469778</td>\n",
       "      <td>1.476440</td>\n",
       "      <td>-0.060980</td>\n",
       "    </tr>\n",
       "    <tr>\n",
       "      <th>4</th>\n",
       "      <td>1.230449</td>\n",
       "      <td>1.655081</td>\n",
       "      <td>NaN</td>\n",
       "      <td>1.502564</td>\n",
       "      <td>1.447716</td>\n",
       "      <td>-0.062482</td>\n",
       "    </tr>\n",
       "  </tbody>\n",
       "</table>\n",
       "</div>"
      ],
      "text/plain": [
       "   attacks_log  sdg14_cpma_log  sdg14_cleanwat_log  sdg14_fishstocks_log  \\\n",
       "0     1.255273        1.632629                 NaN              1.238673   \n",
       "1     1.113943        1.634477                 NaN              1.340642   \n",
       "2     1.113943        1.650880                 NaN              1.374162   \n",
       "3     1.000000        1.653878                 NaN              1.469778   \n",
       "4     1.230449        1.655081                 NaN              1.502564   \n",
       "\n",
       "   sdg14_trawl_log  sdg15_redlist_log  \n",
       "0         1.591098          -0.057000  \n",
       "1         1.610522          -0.057992  \n",
       "2         1.491474          -0.059484  \n",
       "3         1.476440          -0.060980  \n",
       "4         1.447716          -0.062482  "
      ]
     },
     "execution_count": 39,
     "metadata": {},
     "output_type": "execute_result"
    }
   ],
   "source": [
    "attacks_SDR_log10['attacks_log'] = np.log10(attacks_SDR['Attacks'])\n",
    "attacks_SDR_log10['sdg14_cpma_log'] = np.log10(attacks_SDR['sdg14_cpma'])\n",
    "attacks_SDR_log10['sdg14_cleanwat_log'] = np.log10(attacks_SDR['sdg14_cleanwat'])\n",
    "attacks_SDR_log10['sdg14_fishstocks_log'] = np.log10(attacks_SDR['sdg14_fishstocks'])\n",
    "attacks_SDR_log10['sdg14_trawl_log'] = np.log10(attacks_SDR['sdg14_trawl'])\n",
    "attacks_SDR_log10['sdg15_redlist_log'] = np.log10(attacks_SDR['sdg15_redlist'])\n",
    "\n",
    "attacks_SDR_log10.head()"
   ]
  },
  {
   "cell_type": "markdown",
   "metadata": {},
   "source": [
    "<p>"
   ]
  },
  {
   "cell_type": "markdown",
   "metadata": {},
   "source": [
    "**Correlação com variáveis em escala logarítmica, base 10**"
   ]
  },
  {
   "cell_type": "code",
   "execution_count": 44,
   "metadata": {
    "scrolled": true
   },
   "outputs": [
    {
     "data": {
      "text/html": [
       "<div>\n",
       "<style scoped>\n",
       "    .dataframe tbody tr th:only-of-type {\n",
       "        vertical-align: middle;\n",
       "    }\n",
       "\n",
       "    .dataframe tbody tr th {\n",
       "        vertical-align: top;\n",
       "    }\n",
       "\n",
       "    .dataframe thead th {\n",
       "        text-align: right;\n",
       "    }\n",
       "</style>\n",
       "<table border=\"1\" class=\"dataframe\">\n",
       "  <thead>\n",
       "    <tr style=\"text-align: right;\">\n",
       "      <th></th>\n",
       "      <th>attacks_log</th>\n",
       "      <th>sdg14_cpma_log</th>\n",
       "      <th>sdg14_cleanwat_log</th>\n",
       "      <th>sdg14_fishstocks_log</th>\n",
       "      <th>sdg14_trawl_log</th>\n",
       "      <th>sdg15_redlist_log</th>\n",
       "    </tr>\n",
       "  </thead>\n",
       "  <tbody>\n",
       "    <tr>\n",
       "      <th>attacks_log</th>\n",
       "      <td>1.000000</td>\n",
       "      <td>0.279269</td>\n",
       "      <td>0.318895</td>\n",
       "      <td>0.149407</td>\n",
       "      <td>0.214258</td>\n",
       "      <td>0.231451</td>\n",
       "    </tr>\n",
       "    <tr>\n",
       "      <th>sdg14_cpma_log</th>\n",
       "      <td>0.279269</td>\n",
       "      <td>1.000000</td>\n",
       "      <td>0.040229</td>\n",
       "      <td>0.484703</td>\n",
       "      <td>0.426952</td>\n",
       "      <td>0.159064</td>\n",
       "    </tr>\n",
       "    <tr>\n",
       "      <th>sdg14_cleanwat_log</th>\n",
       "      <td>0.318895</td>\n",
       "      <td>0.040229</td>\n",
       "      <td>1.000000</td>\n",
       "      <td>0.117130</td>\n",
       "      <td>-0.211582</td>\n",
       "      <td>-0.055950</td>\n",
       "    </tr>\n",
       "    <tr>\n",
       "      <th>sdg14_fishstocks_log</th>\n",
       "      <td>0.149407</td>\n",
       "      <td>0.484703</td>\n",
       "      <td>0.117130</td>\n",
       "      <td>1.000000</td>\n",
       "      <td>0.158106</td>\n",
       "      <td>0.015541</td>\n",
       "    </tr>\n",
       "    <tr>\n",
       "      <th>sdg14_trawl_log</th>\n",
       "      <td>0.214258</td>\n",
       "      <td>0.426952</td>\n",
       "      <td>-0.211582</td>\n",
       "      <td>0.158106</td>\n",
       "      <td>1.000000</td>\n",
       "      <td>0.124228</td>\n",
       "    </tr>\n",
       "    <tr>\n",
       "      <th>sdg15_redlist_log</th>\n",
       "      <td>0.231451</td>\n",
       "      <td>0.159064</td>\n",
       "      <td>-0.055950</td>\n",
       "      <td>0.015541</td>\n",
       "      <td>0.124228</td>\n",
       "      <td>1.000000</td>\n",
       "    </tr>\n",
       "  </tbody>\n",
       "</table>\n",
       "</div>"
      ],
      "text/plain": [
       "                      attacks_log  sdg14_cpma_log  sdg14_cleanwat_log  \\\n",
       "attacks_log              1.000000        0.279269            0.318895   \n",
       "sdg14_cpma_log           0.279269        1.000000            0.040229   \n",
       "sdg14_cleanwat_log       0.318895        0.040229            1.000000   \n",
       "sdg14_fishstocks_log     0.149407        0.484703            0.117130   \n",
       "sdg14_trawl_log          0.214258        0.426952           -0.211582   \n",
       "sdg15_redlist_log        0.231451        0.159064           -0.055950   \n",
       "\n",
       "                      sdg14_fishstocks_log  sdg14_trawl_log  sdg15_redlist_log  \n",
       "attacks_log                       0.149407         0.214258           0.231451  \n",
       "sdg14_cpma_log                    0.484703         0.426952           0.159064  \n",
       "sdg14_cleanwat_log                0.117130        -0.211582          -0.055950  \n",
       "sdg14_fishstocks_log              1.000000         0.158106           0.015541  \n",
       "sdg14_trawl_log                   0.158106         1.000000           0.124228  \n",
       "sdg15_redlist_log                 0.015541         0.124228           1.000000  "
      ]
     },
     "execution_count": 44,
     "metadata": {},
     "output_type": "execute_result"
    }
   ],
   "source": [
    "attacks_SDR_log10.corr()"
   ]
  },
  {
   "cell_type": "markdown",
   "metadata": {},
   "source": [
    "<p>"
   ]
  },
  {
   "cell_type": "markdown",
   "metadata": {},
   "source": [
    "**Plotagem do gráfico de dispersão em escala logarítmica**"
   ]
  },
  {
   "cell_type": "code",
   "execution_count": 45,
   "metadata": {
    "scrolled": true
   },
   "outputs": [
    {
     "data": {
      "image/png": "[encoded data removed]",
      "text/plain": [
       "<Figure size 432x288 with 1 Axes>"
      ]
     },
     "metadata": {
      "needs_background": "light"
     },
     "output_type": "display_data"
    }
   ],
   "source": [
    "ax = attacks_SDR_log10.plot.scatter(x=\"attacks_log\", y=\"sdg14_cpma_log\", color=\"DarkBlue\", label=\"Group 1\")\n",
    "attacks_SDR_log10.plot.scatter(x=\"sdg14_cleanwat_log\", y=\"sdg14_fishstocks_log\", color=\"DarkGreen\", label=\"Group 2\", ax=ax);\n",
    "attacks_SDR_log10.plot.scatter(x=\"sdg14_trawl_log\", y=\"sdg15_redlist_log\", color=\"Orange\", label=\"Group 2\", ax=ax);"
   ]
  },
  {
   "cell_type": "markdown",
   "metadata": {},
   "source": [
    "<p>\n",
    "    A escala logarítmica na base 10 também não satisfez a correlação. Com isso, foi realizado um teste com escala em togarítmo natural com a finalidade de exaurir as possibilidades de correlação.\n",
    "    \n",
    "<p>   "
   ]
  },
  {
   "cell_type": "markdown",
   "metadata": {},
   "source": [
    "**Transformação das variáveis em escala ln**"
   ]
  },
  {
   "cell_type": "code",
   "execution_count": 46,
   "metadata": {},
   "outputs": [],
   "source": [
    "attacks_SDR_ln = pd.DataFrame()"
   ]
  },
  {
   "cell_type": "code",
   "execution_count": 47,
   "metadata": {},
   "outputs": [
    {
     "name": "stderr",
     "output_type": "stream",
     "text": [
      "C:\\Users\\carol\\Anaconda3.1\\lib\\site-packages\\pandas\\core\\series.py:726: RuntimeWarning: divide by zero encountered in log\n",
      "  result = getattr(ufunc, method)(*inputs, **kwargs)\n"
     ]
    },
    {
     "data": {
      "text/html": [
       "<div>\n",
       "<style scoped>\n",
       "    .dataframe tbody tr th:only-of-type {\n",
       "        vertical-align: middle;\n",
       "    }\n",
       "\n",
       "    .dataframe tbody tr th {\n",
       "        vertical-align: top;\n",
       "    }\n",
       "\n",
       "    .dataframe thead th {\n",
       "        text-align: right;\n",
       "    }\n",
       "</style>\n",
       "<table border=\"1\" class=\"dataframe\">\n",
       "  <thead>\n",
       "    <tr style=\"text-align: right;\">\n",
       "      <th></th>\n",
       "      <th>Attacks_ln</th>\n",
       "      <th>sdg14_cpma_ln</th>\n",
       "      <th>sdg14_cleanwat_ln</th>\n",
       "      <th>sdg14_fishstocks_ln</th>\n",
       "      <th>sdg14_trawl_ln</th>\n",
       "      <th>sdg15_redlist_ln</th>\n",
       "    </tr>\n",
       "  </thead>\n",
       "  <tbody>\n",
       "    <tr>\n",
       "      <th>0</th>\n",
       "      <td>2.890372</td>\n",
       "      <td>3.759268</td>\n",
       "      <td>NaN</td>\n",
       "      <td>2.852151</td>\n",
       "      <td>3.663639</td>\n",
       "      <td>-0.131248</td>\n",
       "    </tr>\n",
       "    <tr>\n",
       "      <th>1</th>\n",
       "      <td>2.564949</td>\n",
       "      <td>3.763523</td>\n",
       "      <td>NaN</td>\n",
       "      <td>3.086943</td>\n",
       "      <td>3.708363</td>\n",
       "      <td>-0.133531</td>\n",
       "    </tr>\n",
       "    <tr>\n",
       "      <th>2</th>\n",
       "      <td>2.564949</td>\n",
       "      <td>3.801293</td>\n",
       "      <td>NaN</td>\n",
       "      <td>3.164124</td>\n",
       "      <td>3.434245</td>\n",
       "      <td>-0.136966</td>\n",
       "    </tr>\n",
       "    <tr>\n",
       "      <th>3</th>\n",
       "      <td>2.302585</td>\n",
       "      <td>3.808195</td>\n",
       "      <td>NaN</td>\n",
       "      <td>3.384289</td>\n",
       "      <td>3.399629</td>\n",
       "      <td>-0.140412</td>\n",
       "    </tr>\n",
       "    <tr>\n",
       "      <th>4</th>\n",
       "      <td>2.833213</td>\n",
       "      <td>3.810964</td>\n",
       "      <td>NaN</td>\n",
       "      <td>3.459781</td>\n",
       "      <td>3.333489</td>\n",
       "      <td>-0.143870</td>\n",
       "    </tr>\n",
       "  </tbody>\n",
       "</table>\n",
       "</div>"
      ],
      "text/plain": [
       "   Attacks_ln  sdg14_cpma_ln  sdg14_cleanwat_ln  sdg14_fishstocks_ln  \\\n",
       "0    2.890372       3.759268                NaN             2.852151   \n",
       "1    2.564949       3.763523                NaN             3.086943   \n",
       "2    2.564949       3.801293                NaN             3.164124   \n",
       "3    2.302585       3.808195                NaN             3.384289   \n",
       "4    2.833213       3.810964                NaN             3.459781   \n",
       "\n",
       "   sdg14_trawl_ln  sdg15_redlist_ln  \n",
       "0        3.663639         -0.131248  \n",
       "1        3.708363         -0.133531  \n",
       "2        3.434245         -0.136966  \n",
       "3        3.399629         -0.140412  \n",
       "4        3.333489         -0.143870  "
      ]
     },
     "execution_count": 47,
     "metadata": {},
     "output_type": "execute_result"
    }
   ],
   "source": [
    "attacks_SDR_ln['Attacks_ln'] = np.log(attacks_SDR['Attacks'])\n",
    "attacks_SDR_ln['sdg14_cpma_ln'] = np.log(attacks_SDR['sdg14_cpma'])\n",
    "attacks_SDR_ln['sdg14_cleanwat_ln'] = np.log(attacks_SDR['sdg14_cleanwat'])\n",
    "attacks_SDR_ln['sdg14_fishstocks_ln'] = np.log(attacks_SDR['sdg14_fishstocks'])\n",
    "attacks_SDR_ln['sdg14_trawl_ln'] = np.log(attacks_SDR['sdg14_trawl'])\n",
    "attacks_SDR_ln['sdg15_redlist_ln'] = np.log(attacks_SDR['sdg15_redlist'])\n",
    "\n",
    "attacks_SDR_ln.head()"
   ]
  },
  {
   "cell_type": "markdown",
   "metadata": {},
   "source": [
    "<p>"
   ]
  },
  {
   "cell_type": "markdown",
   "metadata": {},
   "source": [
    "**Correlação com escala em ln**"
   ]
  },
  {
   "cell_type": "code",
   "execution_count": 48,
   "metadata": {
    "scrolled": true
   },
   "outputs": [
    {
     "data": {
      "text/html": [
       "<div>\n",
       "<style scoped>\n",
       "    .dataframe tbody tr th:only-of-type {\n",
       "        vertical-align: middle;\n",
       "    }\n",
       "\n",
       "    .dataframe tbody tr th {\n",
       "        vertical-align: top;\n",
       "    }\n",
       "\n",
       "    .dataframe thead th {\n",
       "        text-align: right;\n",
       "    }\n",
       "</style>\n",
       "<table border=\"1\" class=\"dataframe\">\n",
       "  <thead>\n",
       "    <tr style=\"text-align: right;\">\n",
       "      <th></th>\n",
       "      <th>Attacks_ln</th>\n",
       "      <th>sdg14_cpma_ln</th>\n",
       "      <th>sdg14_cleanwat_ln</th>\n",
       "      <th>sdg14_fishstocks_ln</th>\n",
       "      <th>sdg14_trawl_ln</th>\n",
       "      <th>sdg15_redlist_ln</th>\n",
       "    </tr>\n",
       "  </thead>\n",
       "  <tbody>\n",
       "    <tr>\n",
       "      <th>Attacks_ln</th>\n",
       "      <td>1.000000</td>\n",
       "      <td>0.279269</td>\n",
       "      <td>0.318895</td>\n",
       "      <td>0.149407</td>\n",
       "      <td>0.214258</td>\n",
       "      <td>0.231451</td>\n",
       "    </tr>\n",
       "    <tr>\n",
       "      <th>sdg14_cpma_ln</th>\n",
       "      <td>0.279269</td>\n",
       "      <td>1.000000</td>\n",
       "      <td>0.040229</td>\n",
       "      <td>0.484703</td>\n",
       "      <td>0.426952</td>\n",
       "      <td>0.159064</td>\n",
       "    </tr>\n",
       "    <tr>\n",
       "      <th>sdg14_cleanwat_ln</th>\n",
       "      <td>0.318895</td>\n",
       "      <td>0.040229</td>\n",
       "      <td>1.000000</td>\n",
       "      <td>0.117130</td>\n",
       "      <td>-0.211582</td>\n",
       "      <td>-0.055950</td>\n",
       "    </tr>\n",
       "    <tr>\n",
       "      <th>sdg14_fishstocks_ln</th>\n",
       "      <td>0.149407</td>\n",
       "      <td>0.484703</td>\n",
       "      <td>0.117130</td>\n",
       "      <td>1.000000</td>\n",
       "      <td>0.158106</td>\n",
       "      <td>0.015541</td>\n",
       "    </tr>\n",
       "    <tr>\n",
       "      <th>sdg14_trawl_ln</th>\n",
       "      <td>0.214258</td>\n",
       "      <td>0.426952</td>\n",
       "      <td>-0.211582</td>\n",
       "      <td>0.158106</td>\n",
       "      <td>1.000000</td>\n",
       "      <td>0.124228</td>\n",
       "    </tr>\n",
       "    <tr>\n",
       "      <th>sdg15_redlist_ln</th>\n",
       "      <td>0.231451</td>\n",
       "      <td>0.159064</td>\n",
       "      <td>-0.055950</td>\n",
       "      <td>0.015541</td>\n",
       "      <td>0.124228</td>\n",
       "      <td>1.000000</td>\n",
       "    </tr>\n",
       "  </tbody>\n",
       "</table>\n",
       "</div>"
      ],
      "text/plain": [
       "                     Attacks_ln  sdg14_cpma_ln  sdg14_cleanwat_ln  \\\n",
       "Attacks_ln             1.000000       0.279269           0.318895   \n",
       "sdg14_cpma_ln          0.279269       1.000000           0.040229   \n",
       "sdg14_cleanwat_ln      0.318895       0.040229           1.000000   \n",
       "sdg14_fishstocks_ln    0.149407       0.484703           0.117130   \n",
       "sdg14_trawl_ln         0.214258       0.426952          -0.211582   \n",
       "sdg15_redlist_ln       0.231451       0.159064          -0.055950   \n",
       "\n",
       "                     sdg14_fishstocks_ln  sdg14_trawl_ln  sdg15_redlist_ln  \n",
       "Attacks_ln                      0.149407        0.214258          0.231451  \n",
       "sdg14_cpma_ln                   0.484703        0.426952          0.159064  \n",
       "sdg14_cleanwat_ln               0.117130       -0.211582         -0.055950  \n",
       "sdg14_fishstocks_ln             1.000000        0.158106          0.015541  \n",
       "sdg14_trawl_ln                  0.158106        1.000000          0.124228  \n",
       "sdg15_redlist_ln                0.015541        0.124228          1.000000  "
      ]
     },
     "execution_count": 48,
     "metadata": {},
     "output_type": "execute_result"
    }
   ],
   "source": [
    "attacks_SDR_ln.corr()"
   ]
  },
  {
   "cell_type": "markdown",
   "metadata": {},
   "source": [
    "<p>"
   ]
  },
  {
   "cell_type": "markdown",
   "metadata": {},
   "source": [
    "<p>"
   ]
  },
  {
   "cell_type": "markdown",
   "metadata": {},
   "source": [
    "**Plotagem do gráfico de dispersão com escala em ln**"
   ]
  },
  {
   "cell_type": "code",
   "execution_count": 43,
   "metadata": {
    "scrolled": true
   },
   "outputs": [
    {
     "data": {
      "image/png": "[encoded data removed]",
      "text/plain": [
       "<Figure size 432x288 with 1 Axes>"
      ]
     },
     "metadata": {
      "needs_background": "light"
     },
     "output_type": "display_data"
    }
   ],
   "source": [
    "ax = attacks_SDR_ln.plot.scatter(x=\"Attacks_ln\", y=\"sdg14_cpma_ln\", color=\"DarkBlue\", label=\"Group 1\")\n",
    "attacks_SDR_ln.plot.scatter(x=\"sdg14_cleanwat_ln\", y=\"sdg14_fishstocks_ln\", color=\"DarkGreen\", label=\"Group 2\", ax=ax);\n",
    "attacks_SDR_ln.plot.scatter(x=\"sdg14_trawl_ln\", y=\"sdg15_redlist_ln\", color=\"Orange\", label=\"Group 2\", ax=ax);"
   ]
  },
  {
   "cell_type": "code",
   "execution_count": 49,
   "metadata": {},
   "outputs": [
    {
     "data": {
      "image/png": "[encoded data removed]",
      "text/plain": [
       "<Figure size 432x288 with 1 Axes>"
      ]
     },
     "metadata": {
      "needs_background": "light"
     },
     "output_type": "display_data"
    }
   ],
   "source": [
    "attacks_SDR_ln.plot.scatter(x=\"sdg14_trawl_ln\", y=\"sdg15_redlist_ln\", color=\"Orange\");"
   ]
  }
 ],
 "metadata": {
  "kernelspec": {
   "display_name": "Python 3",
   "language": "python",
   "name": "python3"
  },
  "language_info": {
   "codemirror_mode": {
    "name": "ipython",
    "version": 3
   },
   "file_extension": ".py",
   "mimetype": "text/x-python",
   "name": "python",
   "nbconvert_exporter": "python",
   "pygments_lexer": "ipython3",
   "version": "3.8.5"
  }
 },
 "nbformat": 4,
 "nbformat_minor": 4
}
