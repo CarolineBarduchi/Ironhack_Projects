{
 "cells": [
  {
   "cell_type": "markdown",
   "metadata": {},
   "source": [
    "# Representatividade da Mulher na Sociedade: análise do timeline\n",
    "\n",
    "**Objetivo**: analisar a evolução da representatividade da mulher na sociedade ao longo dos anos.\n",
    "\n",
    "### Procedimento:\n",
    "#### 1- Captura de dados utilizando web scrapping\n",
    "- Fonte de dados: Nações Unidas\n",
    "- Women's share of legislators and managers: http://data.un.org/Data.aspx?d=GenderStat&f=inID%3a120\n",
    "- Women's share of labour force: http://data.un.org/Data.aspx?d=GenderStat&f=inID%3a107\n",
    "- Gender Inequality Index: http://hdr.undp.org/en/indicators/68606\n",
    "\n",
    "#### 2- Realizar a junção das bases\n",
    "\n",
    "#### 3- Jogar no tableau para análise de dados visual"
   ]
  },
  {
   "cell_type": "markdown",
   "metadata": {},
   "source": [
    "#### Insights / visualização\n",
    "1- Qual o ano com mais dados para labour force?\n",
    "2- Como os países do mundo se caracterizam quanto ao labour force?\n",
    "   Quais os 5 melhores países e os 5 piores países?\n",
    "3- Como as regiões do mundo se caracterizam quanto ao labour force?\n",
    "4- Existe correlação da representatividade do labour force com o gdi?\n",
    "5- Qual foi a evolução ao londo dos anos do pior país e do melhor país em questão de representatividade?"
   ]
  },
  {
   "cell_type": "markdown",
   "metadata": {},
   "source": [
    "## Women's Share of Labour Force"
   ]
  },
  {
   "cell_type": "code",
   "execution_count": 1,
   "metadata": {},
   "outputs": [],
   "source": [
    "#Libraries\n",
    "from selenium import webdriver\n",
    "from bs4 import BeautifulSoup\n",
    "import numpy as np\n",
    "import pandas as pd\n",
    "import time"
   ]
  },
  {
   "cell_type": "code",
   "execution_count": 2,
   "metadata": {},
   "outputs": [],
   "source": [
    "# Open url\n",
    "driver = webdriver.Chrome('chromedriver.exe')\n",
    "url = f'http://data.un.org/Data.aspx?d=GenderStat&f=inID%3a107'\n",
    "driver.get(url)"
   ]
  },
  {
   "cell_type": "code",
   "execution_count": 3,
   "metadata": {},
   "outputs": [],
   "source": [
    "itens_tabela=[]\n",
    "\n",
    "#primeira página\n",
    "# pega a tabela completa, codigo em html\n",
    "tabela_completa_selenium = driver.find_element_by_xpath('//*[@id=\"divData\"]/div[1]').get_attribute('innerHTML')\n",
    "# transforma o resultado para BeatifulSoup\n",
    "tabela_completa_bs = BeautifulSoup(tabela_completa_selenium)\n",
    "#busca os elementos td\n",
    "elementos_td = tabela_completa_bs.find_all('td')\n",
    "#pega o texto dos itens, transforma em lista\n",
    "itens_tabela.append([x.text for x in elementos_td])"
   ]
  },
  {
   "cell_type": "code",
   "execution_count": 4,
   "metadata": {},
   "outputs": [],
   "source": [
    "#página 2 a 83\n",
    "for page in range(0,83):\n",
    "    # localiza e clica no botao de passar a pagina\n",
    "    driver.find_element_by_xpath('//*[@id=\"linkNextB\"]').click()\n",
    "    # pega a tabela completa, codigo em html\n",
    "    tabela_completa_selenium = driver.find_element_by_xpath('//*[@id=\"divData\"]/div[1]').get_attribute('innerHTML')\n",
    "    # transforma o resultado para BeatifulSoup\n",
    "    tabela_completa_bs = BeautifulSoup(tabela_completa_selenium)\n",
    "    #busca os elementos td\n",
    "    elementos_td = tabela_completa_bs.find_all('td')\n",
    "    #pega o texto dos itens, transforma em lista\n",
    "    itens_tabela.append([x.text for x in elementos_td])\n",
    "    time.sleep(2)"
   ]
  },
  {
   "cell_type": "code",
   "execution_count": 5,
   "metadata": {
    "scrolled": false
   },
   "outputs": [],
   "source": [
    "#transforma em array\n",
    "tabela1 = np.array(itens_tabela).reshape(-1)"
   ]
  },
  {
   "cell_type": "code",
   "execution_count": 6,
   "metadata": {},
   "outputs": [],
   "source": [
    "#reshaping\n",
    "tabela1 = np.array(tabela1).reshape((int(len(tabela1)/7), 7))"
   ]
  },
  {
   "cell_type": "code",
   "execution_count": 7,
   "metadata": {},
   "outputs": [],
   "source": [
    "#transforma em dataframe\n",
    "df_tabela1 = pd.DataFrame(tabela1)"
   ]
  },
  {
   "cell_type": "code",
   "execution_count": 8,
   "metadata": {},
   "outputs": [],
   "source": [
    "#última página\n",
    "# pega a tabela completa, codigo em html\n",
    "tabela_completa_selenium = driver.find_element_by_xpath('//*[@id=\"divData\"]/div[1]').get_attribute('innerHTML')\n",
    "# transforma o resultado para BeatifulSoup\n",
    "tabela_completa_bs = BeautifulSoup(tabela_completa_selenium)\n",
    "#busca os elementos td\n",
    "elementos_td = tabela_completa_bs.find_all('td')\n",
    "#pega o texto dos itens, transforma em lista e depois faz um reshape\n",
    "itens_tabela = [x.text for x in elementos_td]\n",
    "tabela1 = np.array(itens_tabela).reshape((int(len(itens_tabela)/7), 7))\n",
    "#transforma em dataframe\n",
    "df_tabela2 = pd.DataFrame(tabela1)"
   ]
  },
  {
   "cell_type": "code",
   "execution_count": 9,
   "metadata": {},
   "outputs": [],
   "source": [
    "women_labour_force = pd.concat([df_tabela1, df_tabela2], ignore_index=True)"
   ]
  },
  {
   "cell_type": "code",
   "execution_count": 10,
   "metadata": {},
   "outputs": [],
   "source": [
    "women_labour_force.rename(columns={0: \"Country\", 1: \"Subgroup\", 2: \"Year\", 3: \"Source\", 4: \"Unit\", \n",
    "                                   5: \"Value Labour Force\"}, inplace=True)"
   ]
  },
  {
   "cell_type": "code",
   "execution_count": 11,
   "metadata": {},
   "outputs": [],
   "source": [
    "women_labour_force.drop(columns=['Subgroup', 'Source', 'Unit', 6], inplace=True)"
   ]
  },
  {
   "cell_type": "code",
   "execution_count": 12,
   "metadata": {
    "collapsed": true
   },
   "outputs": [
    {
     "data": {
      "text/html": [
       "<div>\n",
       "<style scoped>\n",
       "    .dataframe tbody tr th:only-of-type {\n",
       "        vertical-align: middle;\n",
       "    }\n",
       "\n",
       "    .dataframe tbody tr th {\n",
       "        vertical-align: top;\n",
       "    }\n",
       "\n",
       "    .dataframe thead th {\n",
       "        text-align: right;\n",
       "    }\n",
       "</style>\n",
       "<table border=\"1\" class=\"dataframe\">\n",
       "  <thead>\n",
       "    <tr style=\"text-align: right;\">\n",
       "      <th></th>\n",
       "      <th>Country</th>\n",
       "      <th>Year</th>\n",
       "      <th>Value Labour Force</th>\n",
       "    </tr>\n",
       "  </thead>\n",
       "  <tbody>\n",
       "    <tr>\n",
       "      <th>30</th>\n",
       "      <td>Albania</td>\n",
       "      <td>1998</td>\n",
       "      <td>41.5</td>\n",
       "    </tr>\n",
       "    <tr>\n",
       "      <th>31</th>\n",
       "      <td>Albania</td>\n",
       "      <td>1997</td>\n",
       "      <td>41.3</td>\n",
       "    </tr>\n",
       "    <tr>\n",
       "      <th>32</th>\n",
       "      <td>Albania</td>\n",
       "      <td>1996</td>\n",
       "      <td>41.1</td>\n",
       "    </tr>\n",
       "    <tr>\n",
       "      <th>33</th>\n",
       "      <td>Albania</td>\n",
       "      <td>1995</td>\n",
       "      <td>40.9</td>\n",
       "    </tr>\n",
       "    <tr>\n",
       "      <th>34</th>\n",
       "      <td>Albania</td>\n",
       "      <td>1994</td>\n",
       "      <td>40.7</td>\n",
       "    </tr>\n",
       "    <tr>\n",
       "      <th>35</th>\n",
       "      <td>Albania</td>\n",
       "      <td>1993</td>\n",
       "      <td>40.5</td>\n",
       "    </tr>\n",
       "    <tr>\n",
       "      <th>36</th>\n",
       "      <td>Albania</td>\n",
       "      <td>1992</td>\n",
       "      <td>40.4</td>\n",
       "    </tr>\n",
       "    <tr>\n",
       "      <th>37</th>\n",
       "      <td>Albania</td>\n",
       "      <td>1991</td>\n",
       "      <td>40.3</td>\n",
       "    </tr>\n",
       "    <tr>\n",
       "      <th>38</th>\n",
       "      <td>Albania</td>\n",
       "      <td>1990</td>\n",
       "      <td>40.2</td>\n",
       "    </tr>\n",
       "    <tr>\n",
       "      <th>39</th>\n",
       "      <td>Albania</td>\n",
       "      <td>1989</td>\n",
       "      <td>40.1</td>\n",
       "    </tr>\n",
       "    <tr>\n",
       "      <th>40</th>\n",
       "      <td>Albania</td>\n",
       "      <td>1988</td>\n",
       "      <td>39.9</td>\n",
       "    </tr>\n",
       "    <tr>\n",
       "      <th>41</th>\n",
       "      <td>Albania</td>\n",
       "      <td>1987</td>\n",
       "      <td>39.7</td>\n",
       "    </tr>\n",
       "    <tr>\n",
       "      <th>42</th>\n",
       "      <td>Albania</td>\n",
       "      <td>1986</td>\n",
       "      <td>39.6</td>\n",
       "    </tr>\n",
       "    <tr>\n",
       "      <th>43</th>\n",
       "      <td>Albania</td>\n",
       "      <td>1985</td>\n",
       "      <td>39.4</td>\n",
       "    </tr>\n",
       "    <tr>\n",
       "      <th>44</th>\n",
       "      <td>Algeria</td>\n",
       "      <td>2006</td>\n",
       "      <td>31.1</td>\n",
       "    </tr>\n",
       "    <tr>\n",
       "      <th>45</th>\n",
       "      <td>Algeria</td>\n",
       "      <td>2005</td>\n",
       "      <td>30.6</td>\n",
       "    </tr>\n",
       "    <tr>\n",
       "      <th>46</th>\n",
       "      <td>Algeria</td>\n",
       "      <td>2004</td>\n",
       "      <td>30.1</td>\n",
       "    </tr>\n",
       "    <tr>\n",
       "      <th>47</th>\n",
       "      <td>Algeria</td>\n",
       "      <td>2003</td>\n",
       "      <td>29.5</td>\n",
       "    </tr>\n",
       "    <tr>\n",
       "      <th>48</th>\n",
       "      <td>Algeria</td>\n",
       "      <td>2002</td>\n",
       "      <td>29.0</td>\n",
       "    </tr>\n",
       "    <tr>\n",
       "      <th>49</th>\n",
       "      <td>Algeria</td>\n",
       "      <td>2001</td>\n",
       "      <td>28.5</td>\n",
       "    </tr>\n",
       "    <tr>\n",
       "      <th>50</th>\n",
       "      <td>Afghanistan</td>\n",
       "      <td>2006</td>\n",
       "      <td>29.4</td>\n",
       "    </tr>\n",
       "  </tbody>\n",
       "</table>\n",
       "</div>"
      ],
      "text/plain": [
       "        Country  Year Value Labour Force\n",
       "30      Albania  1998               41.5\n",
       "31      Albania  1997               41.3\n",
       "32      Albania  1996               41.1\n",
       "33      Albania  1995               40.9\n",
       "34      Albania  1994               40.7\n",
       "35      Albania  1993               40.5\n",
       "36      Albania  1992               40.4\n",
       "37      Albania  1991               40.3\n",
       "38      Albania  1990               40.2\n",
       "39      Albania  1989               40.1\n",
       "40      Albania  1988               39.9\n",
       "41      Albania  1987               39.7\n",
       "42      Albania  1986               39.6\n",
       "43      Albania  1985               39.4\n",
       "44      Algeria  2006               31.1\n",
       "45      Algeria  2005               30.6\n",
       "46      Algeria  2004               30.1\n",
       "47      Algeria  2003               29.5\n",
       "48      Algeria  2002               29.0\n",
       "49      Algeria  2001               28.5\n",
       "50  Afghanistan  2006               29.4"
      ]
     },
     "execution_count": 12,
     "metadata": {},
     "output_type": "execute_result"
    }
   ],
   "source": [
    "women_labour_force.loc[30:50]"
   ]
  },
  {
   "cell_type": "markdown",
   "metadata": {},
   "source": [
    "## Women's share of Legislators and Managers"
   ]
  },
  {
   "cell_type": "code",
   "execution_count": 13,
   "metadata": {},
   "outputs": [],
   "source": [
    "# Open url\n",
    "driver = webdriver.Chrome('chromedriver.exe')\n",
    "url = f'http://data.un.org/Data.aspx?d=GenderStat&f=inID%3a120'\n",
    "driver.get(url)"
   ]
  },
  {
   "cell_type": "code",
   "execution_count": 14,
   "metadata": {},
   "outputs": [],
   "source": [
    "itens_tabela=[]\n",
    "\n",
    "#primeira página\n",
    "# pega a tabela completa, codigo em html\n",
    "tabela_completa_selenium = driver.find_element_by_xpath('//*[@id=\"divData\"]/div[1]').get_attribute('innerHTML')\n",
    "# transforma o resultado para BeatifulSoup\n",
    "tabela_completa_bs = BeautifulSoup(tabela_completa_selenium)\n",
    "#busca os elementos td\n",
    "elementos_td = tabela_completa_bs.find_all('td')\n",
    "#pega o texto dos itens, transforma em lista\n",
    "itens_tabela.append([x.text for x in elementos_td])"
   ]
  },
  {
   "cell_type": "code",
   "execution_count": 15,
   "metadata": {},
   "outputs": [],
   "source": [
    "#página 2 a 25\n",
    "for page in range(0,25):\n",
    "    # localiza e clica no botao de passar a pagina\n",
    "    driver.find_element_by_xpath('//*[@id=\"linkNextB\"]').click()\n",
    "    # pega a tabela completa, codigo em html\n",
    "    tabela_completa_selenium = driver.find_element_by_xpath('//*[@id=\"divData\"]/div[1]').get_attribute('innerHTML')\n",
    "    # transforma o resultado para BeatifulSoup\n",
    "    tabela_completa_bs = BeautifulSoup(tabela_completa_selenium)\n",
    "    #busca os elementos td\n",
    "    elementos_td = tabela_completa_bs.find_all('td')\n",
    "    #pega o texto dos itens, transforma em lista\n",
    "    itens_tabela.append([x.text for x in elementos_td])\n",
    "    time.sleep(2)"
   ]
  },
  {
   "cell_type": "code",
   "execution_count": 16,
   "metadata": {},
   "outputs": [],
   "source": [
    "#transforma em array\n",
    "tabela1 = np.array(itens_tabela).reshape(-1)"
   ]
  },
  {
   "cell_type": "code",
   "execution_count": 17,
   "metadata": {},
   "outputs": [],
   "source": [
    "#reshaping\n",
    "tabela1 = np.array(tabela1).reshape((int(len(tabela1)/7), 7))"
   ]
  },
  {
   "cell_type": "code",
   "execution_count": 18,
   "metadata": {},
   "outputs": [],
   "source": [
    "#transforma em dataframe\n",
    "df_tabela1 = pd.DataFrame(tabela1)"
   ]
  },
  {
   "cell_type": "code",
   "execution_count": 19,
   "metadata": {},
   "outputs": [],
   "source": [
    "#última página\n",
    "# pega a tabela completa, codigo em html\n",
    "tabela_completa_selenium = driver.find_element_by_xpath('//*[@id=\"divData\"]/div[1]').get_attribute('innerHTML')\n",
    "# transforma o resultado para BeatifulSoup\n",
    "tabela_completa_bs = BeautifulSoup(tabela_completa_selenium)\n",
    "#busca os elementos td\n",
    "elementos_td = tabela_completa_bs.find_all('td')\n",
    "#pega o texto dos itens, transforma em lista e depois faz um reshape\n",
    "itens_tabela = [x.text for x in elementos_td]\n",
    "tabela1 = np.array(itens_tabela).reshape((int(len(itens_tabela)/7), 7))\n",
    "#transforma em dataframe\n",
    "df_tabela2 = pd.DataFrame(tabela1)"
   ]
  },
  {
   "cell_type": "code",
   "execution_count": 20,
   "metadata": {},
   "outputs": [],
   "source": [
    "women_share_politics = pd.concat([df_tabela1, df_tabela2], ignore_index=True)"
   ]
  },
  {
   "cell_type": "code",
   "execution_count": 21,
   "metadata": {},
   "outputs": [],
   "source": [
    "women_share_politics.rename(columns={0: \"Country\", 1: \"Subgroup\", 2: \"Year\", 3: \"Source\", 4: \"Unit\", \n",
    "                                     5: \"Value Legislators_Managers\"}, inplace=True)"
   ]
  },
  {
   "cell_type": "code",
   "execution_count": 22,
   "metadata": {},
   "outputs": [],
   "source": [
    "women_share_politics.drop(columns=['Subgroup', 'Source', 'Unit', 6], inplace=True)"
   ]
  },
  {
   "cell_type": "code",
   "execution_count": 23,
   "metadata": {
    "collapsed": true
   },
   "outputs": [
    {
     "data": {
      "text/html": [
       "<div>\n",
       "<style scoped>\n",
       "    .dataframe tbody tr th:only-of-type {\n",
       "        vertical-align: middle;\n",
       "    }\n",
       "\n",
       "    .dataframe tbody tr th {\n",
       "        vertical-align: top;\n",
       "    }\n",
       "\n",
       "    .dataframe thead th {\n",
       "        text-align: right;\n",
       "    }\n",
       "</style>\n",
       "<table border=\"1\" class=\"dataframe\">\n",
       "  <thead>\n",
       "    <tr style=\"text-align: right;\">\n",
       "      <th></th>\n",
       "      <th>Country</th>\n",
       "      <th>Year</th>\n",
       "      <th>Value Legislators_Managers</th>\n",
       "    </tr>\n",
       "  </thead>\n",
       "  <tbody>\n",
       "    <tr>\n",
       "      <th>30</th>\n",
       "      <td>Australia</td>\n",
       "      <td>1988</td>\n",
       "      <td>39.0</td>\n",
       "    </tr>\n",
       "    <tr>\n",
       "      <th>31</th>\n",
       "      <td>Australia</td>\n",
       "      <td>1987</td>\n",
       "      <td>38.8</td>\n",
       "    </tr>\n",
       "    <tr>\n",
       "      <th>32</th>\n",
       "      <td>Australia</td>\n",
       "      <td>1986</td>\n",
       "      <td>39.0</td>\n",
       "    </tr>\n",
       "    <tr>\n",
       "      <th>33</th>\n",
       "      <td>Australia</td>\n",
       "      <td>1985</td>\n",
       "      <td>17.6</td>\n",
       "    </tr>\n",
       "    <tr>\n",
       "      <th>34</th>\n",
       "      <td>Austria</td>\n",
       "      <td>2006</td>\n",
       "      <td>28.6</td>\n",
       "    </tr>\n",
       "    <tr>\n",
       "      <th>35</th>\n",
       "      <td>Austria</td>\n",
       "      <td>2005</td>\n",
       "      <td>27.2</td>\n",
       "    </tr>\n",
       "    <tr>\n",
       "      <th>36</th>\n",
       "      <td>Austria</td>\n",
       "      <td>2004</td>\n",
       "      <td>27.6</td>\n",
       "    </tr>\n",
       "    <tr>\n",
       "      <th>37</th>\n",
       "      <td>Austria</td>\n",
       "      <td>2003</td>\n",
       "      <td>27.2</td>\n",
       "    </tr>\n",
       "    <tr>\n",
       "      <th>38</th>\n",
       "      <td>Austria</td>\n",
       "      <td>2002</td>\n",
       "      <td>29.0</td>\n",
       "    </tr>\n",
       "    <tr>\n",
       "      <th>39</th>\n",
       "      <td>Austria</td>\n",
       "      <td>2001</td>\n",
       "      <td>29.3</td>\n",
       "    </tr>\n",
       "    <tr>\n",
       "      <th>40</th>\n",
       "      <td>Austria</td>\n",
       "      <td>2000</td>\n",
       "      <td>28.2</td>\n",
       "    </tr>\n",
       "    <tr>\n",
       "      <th>41</th>\n",
       "      <td>Austria</td>\n",
       "      <td>1999</td>\n",
       "      <td>25.8</td>\n",
       "    </tr>\n",
       "    <tr>\n",
       "      <th>42</th>\n",
       "      <td>Austria</td>\n",
       "      <td>1998</td>\n",
       "      <td>27.3</td>\n",
       "    </tr>\n",
       "    <tr>\n",
       "      <th>43</th>\n",
       "      <td>Austria</td>\n",
       "      <td>1997</td>\n",
       "      <td>27.8</td>\n",
       "    </tr>\n",
       "    <tr>\n",
       "      <th>44</th>\n",
       "      <td>Austria</td>\n",
       "      <td>1996</td>\n",
       "      <td>24.7</td>\n",
       "    </tr>\n",
       "    <tr>\n",
       "      <th>45</th>\n",
       "      <td>Austria</td>\n",
       "      <td>1995</td>\n",
       "      <td>23.9</td>\n",
       "    </tr>\n",
       "    <tr>\n",
       "      <th>46</th>\n",
       "      <td>Austria</td>\n",
       "      <td>1994</td>\n",
       "      <td>21.8</td>\n",
       "    </tr>\n",
       "    <tr>\n",
       "      <th>47</th>\n",
       "      <td>Austria</td>\n",
       "      <td>1993</td>\n",
       "      <td>19.2</td>\n",
       "    </tr>\n",
       "    <tr>\n",
       "      <th>48</th>\n",
       "      <td>Austria</td>\n",
       "      <td>1992</td>\n",
       "      <td>18.5</td>\n",
       "    </tr>\n",
       "    <tr>\n",
       "      <th>49</th>\n",
       "      <td>Austria</td>\n",
       "      <td>1991</td>\n",
       "      <td>17.3</td>\n",
       "    </tr>\n",
       "    <tr>\n",
       "      <th>50</th>\n",
       "      <td>Algeria</td>\n",
       "      <td>2003</td>\n",
       "      <td>5.7</td>\n",
       "    </tr>\n",
       "  </tbody>\n",
       "</table>\n",
       "</div>"
      ],
      "text/plain": [
       "      Country  Year Value Legislators_Managers\n",
       "30  Australia  1988                       39.0\n",
       "31  Australia  1987                       38.8\n",
       "32  Australia  1986                       39.0\n",
       "33  Australia  1985                       17.6\n",
       "34    Austria  2006                       28.6\n",
       "35    Austria  2005                       27.2\n",
       "36    Austria  2004                       27.6\n",
       "37    Austria  2003                       27.2\n",
       "38    Austria  2002                       29.0\n",
       "39    Austria  2001                       29.3\n",
       "40    Austria  2000                       28.2\n",
       "41    Austria  1999                       25.8\n",
       "42    Austria  1998                       27.3\n",
       "43    Austria  1997                       27.8\n",
       "44    Austria  1996                       24.7\n",
       "45    Austria  1995                       23.9\n",
       "46    Austria  1994                       21.8\n",
       "47    Austria  1993                       19.2\n",
       "48    Austria  1992                       18.5\n",
       "49    Austria  1991                       17.3\n",
       "50    Algeria  2003                        5.7"
      ]
     },
     "execution_count": 23,
     "metadata": {},
     "output_type": "execute_result"
    }
   ],
   "source": [
    "women_share_politics.loc[30:50]"
   ]
  },
  {
   "cell_type": "markdown",
   "metadata": {},
   "source": [
    "## Gender Inequality Index"
   ]
  },
  {
   "cell_type": "code",
   "execution_count": 24,
   "metadata": {},
   "outputs": [],
   "source": [
    "driver = webdriver.Chrome('chromedriver.exe')\n",
    "url = f'http://hdr.undp.org/en/indicators/68606#'\n",
    "driver.get(url)"
   ]
  },
  {
   "cell_type": "code",
   "execution_count": 25,
   "metadata": {},
   "outputs": [],
   "source": [
    "#pega a tabela completa\n",
    "df=pd.read_html(driver.find_element_by_tag_name('table').get_attribute('outerHTML'))"
   ]
  },
  {
   "cell_type": "code",
   "execution_count": 26,
   "metadata": {},
   "outputs": [
    {
     "data": {
      "text/plain": [
       "Index(['HDI Rank', 'Country', '1995', 'Unnamed: 3', '2000', 'Unnamed: 5',\n",
       "       '2005', 'Unnamed: 7', '2010', 'Unnamed: 9', '2011', 'Unnamed: 11',\n",
       "       '2012', 'Unnamed: 13', '2013', 'Unnamed: 15', '2014', 'Unnamed: 17',\n",
       "       '2015', 'Unnamed: 19', '2016', 'Unnamed: 21', '2017', 'Unnamed: 23',\n",
       "       '2018', 'Unnamed: 25', '2019', 'Unnamed: 27'],\n",
       "      dtype='object')"
      ]
     },
     "execution_count": 26,
     "metadata": {},
     "output_type": "execute_result"
    }
   ],
   "source": [
    "#atribuição para dataframe gdi\n",
    "gdi = df[0]\n",
    "gdi.columns"
   ]
  },
  {
   "cell_type": "code",
   "execution_count": 27,
   "metadata": {},
   "outputs": [],
   "source": [
    "#drop colunas desnecessárias\n",
    "gdi.drop(columns=['Unnamed: 3', 'Unnamed: 5', 'Unnamed: 7', 'Unnamed: 9', 'Unnamed: 11', 'Unnamed: 13', \n",
    "                  'Unnamed: 15', 'Unnamed: 17', 'Unnamed: 19', 'Unnamed: 21', 'Unnamed: 23', 'Unnamed: 25', 'Unnamed: 27'],\n",
    "                    inplace=True)"
   ]
  },
  {
   "cell_type": "code",
   "execution_count": 28,
   "metadata": {},
   "outputs": [],
   "source": [
    "#reshaping dataframe\n",
    "gdi = gdi.melt(id_vars='Country', value_vars=['1995', '2000', '2005', '2010', '2011', '2012',\n",
    "       '2013', '2014', '2015', '2016', '2017', '2018', '2019'], ignore_index=True)"
   ]
  },
  {
   "cell_type": "code",
   "execution_count": 29,
   "metadata": {},
   "outputs": [],
   "source": [
    "gdi.rename(columns={'variable':'Year'}, inplace=True)"
   ]
  },
  {
   "cell_type": "code",
   "execution_count": 30,
   "metadata": {
    "collapsed": true
   },
   "outputs": [
    {
     "data": {
      "text/html": [
       "<div>\n",
       "<style scoped>\n",
       "    .dataframe tbody tr th:only-of-type {\n",
       "        vertical-align: middle;\n",
       "    }\n",
       "\n",
       "    .dataframe tbody tr th {\n",
       "        vertical-align: top;\n",
       "    }\n",
       "\n",
       "    .dataframe thead th {\n",
       "        text-align: right;\n",
       "    }\n",
       "</style>\n",
       "<table border=\"1\" class=\"dataframe\">\n",
       "  <thead>\n",
       "    <tr style=\"text-align: right;\">\n",
       "      <th></th>\n",
       "      <th>Country</th>\n",
       "      <th>Year</th>\n",
       "      <th>value</th>\n",
       "    </tr>\n",
       "  </thead>\n",
       "  <tbody>\n",
       "    <tr>\n",
       "      <th>0</th>\n",
       "      <td>Afghanistan</td>\n",
       "      <td>1995</td>\n",
       "      <td>..</td>\n",
       "    </tr>\n",
       "    <tr>\n",
       "      <th>1</th>\n",
       "      <td>Albania</td>\n",
       "      <td>1995</td>\n",
       "      <td>..</td>\n",
       "    </tr>\n",
       "    <tr>\n",
       "      <th>2</th>\n",
       "      <td>Algeria</td>\n",
       "      <td>1995</td>\n",
       "      <td>0.682</td>\n",
       "    </tr>\n",
       "    <tr>\n",
       "      <th>3</th>\n",
       "      <td>Angola</td>\n",
       "      <td>1995</td>\n",
       "      <td>..</td>\n",
       "    </tr>\n",
       "    <tr>\n",
       "      <th>4</th>\n",
       "      <td>Argentina</td>\n",
       "      <td>1995</td>\n",
       "      <td>0.427</td>\n",
       "    </tr>\n",
       "    <tr>\n",
       "      <th>5</th>\n",
       "      <td>Armenia</td>\n",
       "      <td>1995</td>\n",
       "      <td>0.479</td>\n",
       "    </tr>\n",
       "    <tr>\n",
       "      <th>6</th>\n",
       "      <td>Australia</td>\n",
       "      <td>1995</td>\n",
       "      <td>0.180</td>\n",
       "    </tr>\n",
       "    <tr>\n",
       "      <th>7</th>\n",
       "      <td>Austria</td>\n",
       "      <td>1995</td>\n",
       "      <td>0.186</td>\n",
       "    </tr>\n",
       "    <tr>\n",
       "      <th>8</th>\n",
       "      <td>Azerbaijan</td>\n",
       "      <td>1995</td>\n",
       "      <td>..</td>\n",
       "    </tr>\n",
       "    <tr>\n",
       "      <th>9</th>\n",
       "      <td>Bahamas</td>\n",
       "      <td>1995</td>\n",
       "      <td>..</td>\n",
       "    </tr>\n",
       "    <tr>\n",
       "      <th>10</th>\n",
       "      <td>Bahrain</td>\n",
       "      <td>1995</td>\n",
       "      <td>..</td>\n",
       "    </tr>\n",
       "    <tr>\n",
       "      <th>11</th>\n",
       "      <td>Bangladesh</td>\n",
       "      <td>1995</td>\n",
       "      <td>0.708</td>\n",
       "    </tr>\n",
       "    <tr>\n",
       "      <th>12</th>\n",
       "      <td>Barbados</td>\n",
       "      <td>1995</td>\n",
       "      <td>0.392</td>\n",
       "    </tr>\n",
       "    <tr>\n",
       "      <th>13</th>\n",
       "      <td>Belarus</td>\n",
       "      <td>1995</td>\n",
       "      <td>..</td>\n",
       "    </tr>\n",
       "    <tr>\n",
       "      <th>14</th>\n",
       "      <td>Belgium</td>\n",
       "      <td>1995</td>\n",
       "      <td>0.162</td>\n",
       "    </tr>\n",
       "    <tr>\n",
       "      <th>15</th>\n",
       "      <td>Belize</td>\n",
       "      <td>1995</td>\n",
       "      <td>0.554</td>\n",
       "    </tr>\n",
       "    <tr>\n",
       "      <th>16</th>\n",
       "      <td>Benin</td>\n",
       "      <td>1995</td>\n",
       "      <td>0.681</td>\n",
       "    </tr>\n",
       "    <tr>\n",
       "      <th>17</th>\n",
       "      <td>Bhutan</td>\n",
       "      <td>1995</td>\n",
       "      <td>..</td>\n",
       "    </tr>\n",
       "    <tr>\n",
       "      <th>18</th>\n",
       "      <td>Bolivia (Plurinational State of)</td>\n",
       "      <td>1995</td>\n",
       "      <td>..</td>\n",
       "    </tr>\n",
       "    <tr>\n",
       "      <th>19</th>\n",
       "      <td>Bosnia and Herzegovina</td>\n",
       "      <td>1995</td>\n",
       "      <td>..</td>\n",
       "    </tr>\n",
       "    <tr>\n",
       "      <th>20</th>\n",
       "      <td>Botswana</td>\n",
       "      <td>1995</td>\n",
       "      <td>0.568</td>\n",
       "    </tr>\n",
       "    <tr>\n",
       "      <th>21</th>\n",
       "      <td>Brazil</td>\n",
       "      <td>1995</td>\n",
       "      <td>0.532</td>\n",
       "    </tr>\n",
       "    <tr>\n",
       "      <th>22</th>\n",
       "      <td>Brunei Darussalam</td>\n",
       "      <td>1995</td>\n",
       "      <td>..</td>\n",
       "    </tr>\n",
       "    <tr>\n",
       "      <th>23</th>\n",
       "      <td>Bulgaria</td>\n",
       "      <td>1995</td>\n",
       "      <td>0.370</td>\n",
       "    </tr>\n",
       "    <tr>\n",
       "      <th>24</th>\n",
       "      <td>Burkina Faso</td>\n",
       "      <td>1995</td>\n",
       "      <td>..</td>\n",
       "    </tr>\n",
       "    <tr>\n",
       "      <th>25</th>\n",
       "      <td>Burundi</td>\n",
       "      <td>1995</td>\n",
       "      <td>..</td>\n",
       "    </tr>\n",
       "    <tr>\n",
       "      <th>26</th>\n",
       "      <td>Cabo Verde</td>\n",
       "      <td>1995</td>\n",
       "      <td>..</td>\n",
       "    </tr>\n",
       "    <tr>\n",
       "      <th>27</th>\n",
       "      <td>Cambodia</td>\n",
       "      <td>1995</td>\n",
       "      <td>0.658</td>\n",
       "    </tr>\n",
       "    <tr>\n",
       "      <th>28</th>\n",
       "      <td>Cameroon</td>\n",
       "      <td>1995</td>\n",
       "      <td>0.706</td>\n",
       "    </tr>\n",
       "    <tr>\n",
       "      <th>29</th>\n",
       "      <td>Canada</td>\n",
       "      <td>1995</td>\n",
       "      <td>0.184</td>\n",
       "    </tr>\n",
       "  </tbody>\n",
       "</table>\n",
       "</div>"
      ],
      "text/plain": [
       "                             Country  Year  value\n",
       "0                        Afghanistan  1995     ..\n",
       "1                            Albania  1995     ..\n",
       "2                            Algeria  1995  0.682\n",
       "3                             Angola  1995     ..\n",
       "4                          Argentina  1995  0.427\n",
       "5                            Armenia  1995  0.479\n",
       "6                          Australia  1995  0.180\n",
       "7                            Austria  1995  0.186\n",
       "8                         Azerbaijan  1995     ..\n",
       "9                            Bahamas  1995     ..\n",
       "10                           Bahrain  1995     ..\n",
       "11                        Bangladesh  1995  0.708\n",
       "12                          Barbados  1995  0.392\n",
       "13                           Belarus  1995     ..\n",
       "14                           Belgium  1995  0.162\n",
       "15                            Belize  1995  0.554\n",
       "16                             Benin  1995  0.681\n",
       "17                            Bhutan  1995     ..\n",
       "18  Bolivia (Plurinational State of)  1995     ..\n",
       "19            Bosnia and Herzegovina  1995     ..\n",
       "20                          Botswana  1995  0.568\n",
       "21                            Brazil  1995  0.532\n",
       "22                 Brunei Darussalam  1995     ..\n",
       "23                          Bulgaria  1995  0.370\n",
       "24                      Burkina Faso  1995     ..\n",
       "25                           Burundi  1995     ..\n",
       "26                        Cabo Verde  1995     ..\n",
       "27                          Cambodia  1995  0.658\n",
       "28                          Cameroon  1995  0.706\n",
       "29                            Canada  1995  0.184"
      ]
     },
     "execution_count": 30,
     "metadata": {},
     "output_type": "execute_result"
    }
   ],
   "source": [
    "gdi.loc[0:29]"
   ]
  },
  {
   "cell_type": "code",
   "execution_count": 48,
   "metadata": {},
   "outputs": [],
   "source": [
    "gdi=gdi.replace('..', np.NaN)"
   ]
  },
  {
   "cell_type": "code",
   "execution_count": 49,
   "metadata": {},
   "outputs": [],
   "source": [
    "#exportar para excel\n",
    "gdi.to_excel(\"gdi.xlsx\")"
   ]
  },
  {
   "cell_type": "markdown",
   "metadata": {},
   "source": [
    "## Women's Share (Representation in Society)\n",
    "\n",
    "**Join of tables:** women_labour_force and women_share_politics"
   ]
  },
  {
   "cell_type": "code",
   "execution_count": 39,
   "metadata": {},
   "outputs": [],
   "source": [
    "#merge das tabelas\n",
    "women_representation = pd.merge(women_labour_force, women_share_politics, on=['Country', 'Year'], how='outer') "
   ]
  },
  {
   "cell_type": "code",
   "execution_count": 40,
   "metadata": {},
   "outputs": [],
   "source": [
    "#drop duplicates\n",
    "women_representation.drop_duplicates(keep='first', ignore_index=True, inplace=True)"
   ]
  },
  {
   "cell_type": "code",
   "execution_count": 41,
   "metadata": {
    "scrolled": true
   },
   "outputs": [
    {
     "data": {
      "text/html": [
       "<div>\n",
       "<style scoped>\n",
       "    .dataframe tbody tr th:only-of-type {\n",
       "        vertical-align: middle;\n",
       "    }\n",
       "\n",
       "    .dataframe tbody tr th {\n",
       "        vertical-align: top;\n",
       "    }\n",
       "\n",
       "    .dataframe thead th {\n",
       "        text-align: right;\n",
       "    }\n",
       "</style>\n",
       "<table border=\"1\" class=\"dataframe\">\n",
       "  <thead>\n",
       "    <tr style=\"text-align: right;\">\n",
       "      <th></th>\n",
       "      <th>Country</th>\n",
       "      <th>Year</th>\n",
       "      <th>Value Labour Force</th>\n",
       "      <th>Value Legislators_Managers</th>\n",
       "    </tr>\n",
       "  </thead>\n",
       "  <tbody>\n",
       "    <tr>\n",
       "      <th>0</th>\n",
       "      <td>Afghanistan</td>\n",
       "      <td>2006</td>\n",
       "      <td>29.4</td>\n",
       "      <td>NaN</td>\n",
       "    </tr>\n",
       "    <tr>\n",
       "      <th>1</th>\n",
       "      <td>Afghanistan</td>\n",
       "      <td>2005</td>\n",
       "      <td>29.0</td>\n",
       "      <td>NaN</td>\n",
       "    </tr>\n",
       "    <tr>\n",
       "      <th>2</th>\n",
       "      <td>Afghanistan</td>\n",
       "      <td>2004</td>\n",
       "      <td>28.8</td>\n",
       "      <td>NaN</td>\n",
       "    </tr>\n",
       "    <tr>\n",
       "      <th>3</th>\n",
       "      <td>Afghanistan</td>\n",
       "      <td>2003</td>\n",
       "      <td>28.8</td>\n",
       "      <td>NaN</td>\n",
       "    </tr>\n",
       "    <tr>\n",
       "      <th>4</th>\n",
       "      <td>Afghanistan</td>\n",
       "      <td>2002</td>\n",
       "      <td>28.6</td>\n",
       "      <td>NaN</td>\n",
       "    </tr>\n",
       "    <tr>\n",
       "      <th>...</th>\n",
       "      <td>...</td>\n",
       "      <td>...</td>\n",
       "      <td>...</td>\n",
       "      <td>...</td>\n",
       "    </tr>\n",
       "    <tr>\n",
       "      <th>4191</th>\n",
       "      <td>Serbia</td>\n",
       "      <td>2006</td>\n",
       "      <td>NaN</td>\n",
       "      <td>24.9</td>\n",
       "    </tr>\n",
       "    <tr>\n",
       "      <th>4192</th>\n",
       "      <td>Serbia</td>\n",
       "      <td>2005</td>\n",
       "      <td>NaN</td>\n",
       "      <td>24.8</td>\n",
       "    </tr>\n",
       "    <tr>\n",
       "      <th>4193</th>\n",
       "      <td>Serbia</td>\n",
       "      <td>2004</td>\n",
       "      <td>NaN</td>\n",
       "      <td>25.9</td>\n",
       "    </tr>\n",
       "    <tr>\n",
       "      <th>4194</th>\n",
       "      <td>St. Helena</td>\n",
       "      <td>1998</td>\n",
       "      <td>NaN</td>\n",
       "      <td>43.5</td>\n",
       "    </tr>\n",
       "    <tr>\n",
       "      <th>4195</th>\n",
       "      <td>United Republic of Tanzania: Tanganyika</td>\n",
       "      <td>2001</td>\n",
       "      <td>NaN</td>\n",
       "      <td>49.1</td>\n",
       "    </tr>\n",
       "  </tbody>\n",
       "</table>\n",
       "<p>4196 rows × 4 columns</p>\n",
       "</div>"
      ],
      "text/plain": [
       "                                      Country  Year Value Labour Force  \\\n",
       "0                                 Afghanistan  2006               29.4   \n",
       "1                                 Afghanistan  2005               29.0   \n",
       "2                                 Afghanistan  2004               28.8   \n",
       "3                                 Afghanistan  2003               28.8   \n",
       "4                                 Afghanistan  2002               28.6   \n",
       "...                                       ...   ...                ...   \n",
       "4191                                   Serbia  2006                NaN   \n",
       "4192                                   Serbia  2005                NaN   \n",
       "4193                                   Serbia  2004                NaN   \n",
       "4194                               St. Helena  1998                NaN   \n",
       "4195  United Republic of Tanzania: Tanganyika  2001                NaN   \n",
       "\n",
       "     Value Legislators_Managers  \n",
       "0                           NaN  \n",
       "1                           NaN  \n",
       "2                           NaN  \n",
       "3                           NaN  \n",
       "4                           NaN  \n",
       "...                         ...  \n",
       "4191                       24.9  \n",
       "4192                       24.8  \n",
       "4193                       25.9  \n",
       "4194                       43.5  \n",
       "4195                       49.1  \n",
       "\n",
       "[4196 rows x 4 columns]"
      ]
     },
     "execution_count": 41,
     "metadata": {},
     "output_type": "execute_result"
    }
   ],
   "source": [
    "women_representation"
   ]
  },
  {
   "cell_type": "code",
   "execution_count": 61,
   "metadata": {},
   "outputs": [],
   "source": [
    "women_representation = women_representation.astype({'Year': 'int', 'Value Labour Force': 'float', \n",
    "                                                    'Value Legislators_Managers': 'float'})"
   ]
  },
  {
   "cell_type": "code",
   "execution_count": 62,
   "metadata": {
    "scrolled": false
   },
   "outputs": [
    {
     "name": "stdout",
     "output_type": "stream",
     "text": [
      "<class 'pandas.core.frame.DataFrame'>\n",
      "RangeIndex: 4196 entries, 0 to 4195\n",
      "Data columns (total 4 columns):\n",
      " #   Column                      Non-Null Count  Dtype  \n",
      "---  ------                      --------------  -----  \n",
      " 0   Country                     4196 non-null   object \n",
      " 1   Year                        4196 non-null   int32  \n",
      " 2   Value Labour Force          4158 non-null   float64\n",
      " 3   Value Legislators_Managers  1265 non-null   float64\n",
      "dtypes: float64(2), int32(1), object(1)\n",
      "memory usage: 114.9+ KB\n"
     ]
    }
   ],
   "source": [
    "women_representation.info()"
   ]
  },
  {
   "cell_type": "code",
   "execution_count": 63,
   "metadata": {},
   "outputs": [],
   "source": [
    "#exportar para excel\n",
    "women_representation.to_excel(\"v2_women_representation.xlsx\")"
   ]
  },
  {
   "cell_type": "code",
   "execution_count": 50,
   "metadata": {},
   "outputs": [],
   "source": [
    "#merge: women_representation e gdi\n",
    "women_standing = pd.merge(women_representation, gdi, on=['Country', 'Year'], how='outer') "
   ]
  },
  {
   "cell_type": "code",
   "execution_count": 51,
   "metadata": {},
   "outputs": [],
   "source": [
    "women_standing.rename(columns={'value':'GDI'}, inplace=True)"
   ]
  },
  {
   "cell_type": "code",
   "execution_count": 58,
   "metadata": {},
   "outputs": [],
   "source": [
    "women_standing = women_standing.astype({'Year': 'int', 'Value Labour Force': 'float', 'Value Legislators_Managers': 'float', 'GDI':'float'})"
   ]
  },
  {
   "cell_type": "code",
   "execution_count": 59,
   "metadata": {},
   "outputs": [
    {
     "name": "stdout",
     "output_type": "stream",
     "text": [
      "<class 'pandas.core.frame.DataFrame'>\n",
      "RangeIndex: 6426 entries, 0 to 6425\n",
      "Data columns (total 5 columns):\n",
      " #   Column                      Non-Null Count  Dtype  \n",
      "---  ------                      --------------  -----  \n",
      " 0   Country                     6413 non-null   object \n",
      " 1   Year                        6426 non-null   int32  \n",
      " 2   Value Labour Force          4158 non-null   float64\n",
      " 3   Value Legislators_Managers  1265 non-null   float64\n",
      " 4   GDI                         2124 non-null   float64\n",
      "dtypes: float64(3), int32(1), object(1)\n",
      "memory usage: 226.0+ KB\n"
     ]
    }
   ],
   "source": [
    "women_standing.info()"
   ]
  },
  {
   "cell_type": "code",
   "execution_count": 53,
   "metadata": {
    "scrolled": true
   },
   "outputs": [],
   "source": [
    "#drop duplicates\n",
    "women_standing.drop_duplicates(keep='first', ignore_index=True, inplace=True)"
   ]
  },
  {
   "cell_type": "code",
   "execution_count": 57,
   "metadata": {},
   "outputs": [],
   "source": [
    "#exportar para excel\n",
    "women_standing.to_excel(\"v3_women_standing.xlsx\")"
   ]
  },
  {
   "cell_type": "code",
   "execution_count": null,
   "metadata": {},
   "outputs": [],
   "source": []
  }
 ],
 "metadata": {
  "kernelspec": {
   "display_name": "Python 3",
   "language": "python",
   "name": "python3"
  },
  "language_info": {
   "codemirror_mode": {
    "name": "ipython",
    "version": 3
   },
   "file_extension": ".py",
   "mimetype": "text/x-python",
   "name": "python",
   "nbconvert_exporter": "python",
   "pygments_lexer": "ipython3",
   "version": "3.8.5"
  }
 },
 "nbformat": 4,
 "nbformat_minor": 4
}
