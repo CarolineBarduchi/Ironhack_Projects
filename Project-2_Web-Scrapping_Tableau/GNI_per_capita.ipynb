{
 "cells": [
  {
   "cell_type": "code",
   "execution_count": 3,
   "metadata": {},
   "outputs": [],
   "source": [
    "#Libraries\n",
    "from selenium import webdriver\n",
    "from bs4 import BeautifulSoup\n",
    "import numpy as np\n",
    "import pandas as pd\n",
    "import time"
   ]
  },
  {
   "cell_type": "code",
   "execution_count": 2,
   "metadata": {},
   "outputs": [],
   "source": [
    "# Open url\n",
    "driver = webdriver.Chrome('chromedriver.exe')\n",
    "url = f'http://data.un.org/Data.aspx?d=WDI&f=Indicator_Code%3aNY.GNP.PCAP.PP.CD'\n",
    "driver.get(url)"
   ]
  },
  {
   "cell_type": "code",
   "execution_count": 4,
   "metadata": {},
   "outputs": [],
   "source": [
    "itens_tabela=[]\n",
    "\n",
    "#primeira página\n",
    "# pega a tabela completa, codigo em html\n",
    "tabela_completa_selenium = driver.find_element_by_xpath('//*[@id=\"divData\"]/div[1]').get_attribute('innerHTML')\n",
    "# transforma o resultado para BeatifulSoup\n",
    "tabela_completa_bs = BeautifulSoup(tabela_completa_selenium)\n",
    "#busca os elementos td\n",
    "elementos_td = tabela_completa_bs.find_all('td')\n",
    "#pega o texto dos itens, transforma em lista\n",
    "itens_tabela.append([x.text for x in elementos_td])"
   ]
  },
  {
   "cell_type": "code",
   "execution_count": 5,
   "metadata": {},
   "outputs": [],
   "source": [
    "#página 2 a 136\n",
    "for page in range(0,135):\n",
    "    # localiza e clica no botao de passar a pagina\n",
    "    driver.find_element_by_xpath('//*[@id=\"linkNextB\"]').click()\n",
    "    # pega a tabela completa, codigo em html\n",
    "    tabela_completa_selenium = driver.find_element_by_xpath('//*[@id=\"divData\"]/div[1]').get_attribute('innerHTML')\n",
    "    # transforma o resultado para BeatifulSoup\n",
    "    tabela_completa_bs = BeautifulSoup(tabela_completa_selenium)\n",
    "    #busca os elementos td\n",
    "    elementos_td = tabela_completa_bs.find_all('td')\n",
    "    #pega o texto dos itens, transforma em lista\n",
    "    itens_tabela.append([x.text for x in elementos_td])\n",
    "    time.sleep(2)"
   ]
  },
  {
   "cell_type": "code",
   "execution_count": 6,
   "metadata": {},
   "outputs": [
    {
     "data": {
      "text/plain": [
       "136"
      ]
     },
     "execution_count": 6,
     "metadata": {},
     "output_type": "execute_result"
    }
   ],
   "source": [
    "len(itens_tabela)"
   ]
  },
  {
   "cell_type": "code",
   "execution_count": 7,
   "metadata": {
    "scrolled": false
   },
   "outputs": [],
   "source": [
    "#transforma em array\n",
    "tabela1 = np.array(itens_tabela).reshape(-1)"
   ]
  },
  {
   "cell_type": "code",
   "execution_count": 9,
   "metadata": {},
   "outputs": [],
   "source": [
    "#reshaping\n",
    "tabela1 = np.array(tabela1).reshape((int(len(tabela1)/4), 4))"
   ]
  },
  {
   "cell_type": "code",
   "execution_count": 12,
   "metadata": {},
   "outputs": [
    {
     "data": {
      "text/html": [
       "<div>\n",
       "<style scoped>\n",
       "    .dataframe tbody tr th:only-of-type {\n",
       "        vertical-align: middle;\n",
       "    }\n",
       "\n",
       "    .dataframe tbody tr th {\n",
       "        vertical-align: top;\n",
       "    }\n",
       "\n",
       "    .dataframe thead th {\n",
       "        text-align: right;\n",
       "    }\n",
       "</style>\n",
       "<table border=\"1\" class=\"dataframe\">\n",
       "  <thead>\n",
       "    <tr style=\"text-align: right;\">\n",
       "      <th></th>\n",
       "      <th>0</th>\n",
       "      <th>1</th>\n",
       "      <th>2</th>\n",
       "      <th>3</th>\n",
       "    </tr>\n",
       "  </thead>\n",
       "  <tbody>\n",
       "    <tr>\n",
       "      <th>0</th>\n",
       "      <td>Afghanistan</td>\n",
       "      <td>2019</td>\n",
       "      <td>2190</td>\n",
       "      <td></td>\n",
       "    </tr>\n",
       "    <tr>\n",
       "      <th>1</th>\n",
       "      <td>Afghanistan</td>\n",
       "      <td>2018</td>\n",
       "      <td>2100</td>\n",
       "      <td></td>\n",
       "    </tr>\n",
       "    <tr>\n",
       "      <th>2</th>\n",
       "      <td>Afghanistan</td>\n",
       "      <td>2017</td>\n",
       "      <td>2090</td>\n",
       "      <td></td>\n",
       "    </tr>\n",
       "    <tr>\n",
       "      <th>3</th>\n",
       "      <td>Afghanistan</td>\n",
       "      <td>2016</td>\n",
       "      <td>2000</td>\n",
       "      <td></td>\n",
       "    </tr>\n",
       "    <tr>\n",
       "      <th>4</th>\n",
       "      <td>Afghanistan</td>\n",
       "      <td>2015</td>\n",
       "      <td>2110</td>\n",
       "      <td></td>\n",
       "    </tr>\n",
       "    <tr>\n",
       "      <th>...</th>\n",
       "      <td>...</td>\n",
       "      <td>...</td>\n",
       "      <td>...</td>\n",
       "      <td>...</td>\n",
       "    </tr>\n",
       "    <tr>\n",
       "      <th>6795</th>\n",
       "      <td>Zambia</td>\n",
       "      <td>2001</td>\n",
       "      <td>1660</td>\n",
       "      <td></td>\n",
       "    </tr>\n",
       "    <tr>\n",
       "      <th>6796</th>\n",
       "      <td>Zambia</td>\n",
       "      <td>2000</td>\n",
       "      <td>1570</td>\n",
       "      <td></td>\n",
       "    </tr>\n",
       "    <tr>\n",
       "      <th>6797</th>\n",
       "      <td>Zambia</td>\n",
       "      <td>1999</td>\n",
       "      <td>1510</td>\n",
       "      <td></td>\n",
       "    </tr>\n",
       "    <tr>\n",
       "      <th>6798</th>\n",
       "      <td>Zambia</td>\n",
       "      <td>1998</td>\n",
       "      <td>1440</td>\n",
       "      <td></td>\n",
       "    </tr>\n",
       "    <tr>\n",
       "      <th>6799</th>\n",
       "      <td>Zambia</td>\n",
       "      <td>1997</td>\n",
       "      <td>1480</td>\n",
       "      <td></td>\n",
       "    </tr>\n",
       "  </tbody>\n",
       "</table>\n",
       "<p>6800 rows × 4 columns</p>\n",
       "</div>"
      ],
      "text/plain": [
       "                0     1     2  3\n",
       "0     Afghanistan  2019  2190   \n",
       "1     Afghanistan  2018  2100   \n",
       "2     Afghanistan  2017  2090   \n",
       "3     Afghanistan  2016  2000   \n",
       "4     Afghanistan  2015  2110   \n",
       "...           ...   ...   ... ..\n",
       "6795       Zambia  2001  1660   \n",
       "6796       Zambia  2000  1570   \n",
       "6797       Zambia  1999  1510   \n",
       "6798       Zambia  1998  1440   \n",
       "6799       Zambia  1997  1480   \n",
       "\n",
       "[6800 rows x 4 columns]"
      ]
     },
     "execution_count": 12,
     "metadata": {},
     "output_type": "execute_result"
    }
   ],
   "source": [
    "#transforma em dataframe\n",
    "df_tabela1 = pd.DataFrame(tabela1)\n",
    "df_tabela1"
   ]
  },
  {
   "cell_type": "code",
   "execution_count": 14,
   "metadata": {},
   "outputs": [],
   "source": [
    "#última página\n",
    "# pega a tabela completa, codigo em html\n",
    "tabela_completa_selenium = driver.find_element_by_xpath('//*[@id=\"divData\"]/div[1]').get_attribute('innerHTML')\n",
    "# transforma o resultado para BeatifulSoup\n",
    "tabela_completa_bs = BeautifulSoup(tabela_completa_selenium)\n",
    "#busca os elementos td\n",
    "elementos_td = tabela_completa_bs.find_all('td')\n",
    "#pega o texto dos itens, transforma em lista e depois faz um reshape\n",
    "itens_tabela = [x.text for x in elementos_td]\n",
    "tabela1 = np.array(itens_tabela).reshape((int(len(itens_tabela)/4), 4))\n",
    "#transforma em dataframe\n",
    "df_tabela2 = pd.DataFrame(tabela1)"
   ]
  },
  {
   "cell_type": "code",
   "execution_count": 16,
   "metadata": {},
   "outputs": [],
   "source": [
    "gni_per_capita = pd.concat([df_tabela1, df_tabela2], ignore_index=True)"
   ]
  },
  {
   "cell_type": "code",
   "execution_count": 17,
   "metadata": {},
   "outputs": [
    {
     "data": {
      "text/html": [
       "<div>\n",
       "<style scoped>\n",
       "    .dataframe tbody tr th:only-of-type {\n",
       "        vertical-align: middle;\n",
       "    }\n",
       "\n",
       "    .dataframe tbody tr th {\n",
       "        vertical-align: top;\n",
       "    }\n",
       "\n",
       "    .dataframe thead th {\n",
       "        text-align: right;\n",
       "    }\n",
       "</style>\n",
       "<table border=\"1\" class=\"dataframe\">\n",
       "  <thead>\n",
       "    <tr style=\"text-align: right;\">\n",
       "      <th></th>\n",
       "      <th>0</th>\n",
       "      <th>1</th>\n",
       "      <th>2</th>\n",
       "      <th>3</th>\n",
       "    </tr>\n",
       "  </thead>\n",
       "  <tbody>\n",
       "    <tr>\n",
       "      <th>0</th>\n",
       "      <td>Afghanistan</td>\n",
       "      <td>2019</td>\n",
       "      <td>2190</td>\n",
       "      <td></td>\n",
       "    </tr>\n",
       "    <tr>\n",
       "      <th>1</th>\n",
       "      <td>Afghanistan</td>\n",
       "      <td>2018</td>\n",
       "      <td>2100</td>\n",
       "      <td></td>\n",
       "    </tr>\n",
       "    <tr>\n",
       "      <th>2</th>\n",
       "      <td>Afghanistan</td>\n",
       "      <td>2017</td>\n",
       "      <td>2090</td>\n",
       "      <td></td>\n",
       "    </tr>\n",
       "    <tr>\n",
       "      <th>3</th>\n",
       "      <td>Afghanistan</td>\n",
       "      <td>2016</td>\n",
       "      <td>2000</td>\n",
       "      <td></td>\n",
       "    </tr>\n",
       "    <tr>\n",
       "      <th>4</th>\n",
       "      <td>Afghanistan</td>\n",
       "      <td>2015</td>\n",
       "      <td>2110</td>\n",
       "      <td></td>\n",
       "    </tr>\n",
       "    <tr>\n",
       "      <th>...</th>\n",
       "      <td>...</td>\n",
       "      <td>...</td>\n",
       "      <td>...</td>\n",
       "      <td>...</td>\n",
       "    </tr>\n",
       "    <tr>\n",
       "      <th>6832</th>\n",
       "      <td>Zimbabwe</td>\n",
       "      <td>1994</td>\n",
       "      <td>1870</td>\n",
       "      <td></td>\n",
       "    </tr>\n",
       "    <tr>\n",
       "      <th>6833</th>\n",
       "      <td>Zimbabwe</td>\n",
       "      <td>1993</td>\n",
       "      <td>1710</td>\n",
       "      <td></td>\n",
       "    </tr>\n",
       "    <tr>\n",
       "      <th>6834</th>\n",
       "      <td>Zimbabwe</td>\n",
       "      <td>1992</td>\n",
       "      <td>1680</td>\n",
       "      <td></td>\n",
       "    </tr>\n",
       "    <tr>\n",
       "      <th>6835</th>\n",
       "      <td>Zimbabwe</td>\n",
       "      <td>1991</td>\n",
       "      <td>1850</td>\n",
       "      <td></td>\n",
       "    </tr>\n",
       "    <tr>\n",
       "      <th>6836</th>\n",
       "      <td>Zimbabwe</td>\n",
       "      <td>1990</td>\n",
       "      <td>1740</td>\n",
       "      <td></td>\n",
       "    </tr>\n",
       "  </tbody>\n",
       "</table>\n",
       "<p>6837 rows × 4 columns</p>\n",
       "</div>"
      ],
      "text/plain": [
       "                0     1     2  3\n",
       "0     Afghanistan  2019  2190   \n",
       "1     Afghanistan  2018  2100   \n",
       "2     Afghanistan  2017  2090   \n",
       "3     Afghanistan  2016  2000   \n",
       "4     Afghanistan  2015  2110   \n",
       "...           ...   ...   ... ..\n",
       "6832     Zimbabwe  1994  1870   \n",
       "6833     Zimbabwe  1993  1710   \n",
       "6834     Zimbabwe  1992  1680   \n",
       "6835     Zimbabwe  1991  1850   \n",
       "6836     Zimbabwe  1990  1740   \n",
       "\n",
       "[6837 rows x 4 columns]"
      ]
     },
     "execution_count": 17,
     "metadata": {},
     "output_type": "execute_result"
    }
   ],
   "source": [
    "gni_per_capita"
   ]
  },
  {
   "cell_type": "code",
   "execution_count": 21,
   "metadata": {},
   "outputs": [],
   "source": [
    "gni_per_capita.rename(columns={0:'Country', 1:'Year', 'Year':'GNI Per Capita'}, inplace=True)"
   ]
  },
  {
   "cell_type": "code",
   "execution_count": 23,
   "metadata": {},
   "outputs": [],
   "source": [
    "gni_per_capita.drop(columns=[3], inplace=True)"
   ]
  },
  {
   "cell_type": "code",
   "execution_count": 26,
   "metadata": {},
   "outputs": [],
   "source": [
    "gni_per_capita = gni_per_capita.astype({'Year': 'int', 'GNI Per Capita': 'float'})"
   ]
  },
  {
   "cell_type": "code",
   "execution_count": 27,
   "metadata": {},
   "outputs": [
    {
     "name": "stdout",
     "output_type": "stream",
     "text": [
      "<class 'pandas.core.frame.DataFrame'>\n",
      "RangeIndex: 6837 entries, 0 to 6836\n",
      "Data columns (total 3 columns):\n",
      " #   Column          Non-Null Count  Dtype  \n",
      "---  ------          --------------  -----  \n",
      " 0   Country         6837 non-null   object \n",
      " 1   Year            6837 non-null   int32  \n",
      " 2   GNI Per Capita  6837 non-null   float64\n",
      "dtypes: float64(1), int32(1), object(1)\n",
      "memory usage: 133.7+ KB\n"
     ]
    }
   ],
   "source": [
    "gni_per_capita.info()"
   ]
  },
  {
   "cell_type": "code",
   "execution_count": 28,
   "metadata": {},
   "outputs": [],
   "source": [
    "gni_per_capita = gni_per_capita.replace('United States', 'United States of America')"
   ]
  },
  {
   "cell_type": "code",
   "execution_count": 29,
   "metadata": {},
   "outputs": [
    {
     "data": {
      "text/html": [
       "<div>\n",
       "<style scoped>\n",
       "    .dataframe tbody tr th:only-of-type {\n",
       "        vertical-align: middle;\n",
       "    }\n",
       "\n",
       "    .dataframe tbody tr th {\n",
       "        vertical-align: top;\n",
       "    }\n",
       "\n",
       "    .dataframe thead th {\n",
       "        text-align: right;\n",
       "    }\n",
       "</style>\n",
       "<table border=\"1\" class=\"dataframe\">\n",
       "  <thead>\n",
       "    <tr style=\"text-align: right;\">\n",
       "      <th></th>\n",
       "      <th>Country</th>\n",
       "      <th>Year</th>\n",
       "      <th>GNI Per Capita</th>\n",
       "    </tr>\n",
       "  </thead>\n",
       "  <tbody>\n",
       "    <tr>\n",
       "      <th>30</th>\n",
       "      <td>Albania</td>\n",
       "      <td>2000</td>\n",
       "      <td>3980.0</td>\n",
       "    </tr>\n",
       "    <tr>\n",
       "      <th>31</th>\n",
       "      <td>Albania</td>\n",
       "      <td>1999</td>\n",
       "      <td>3550.0</td>\n",
       "    </tr>\n",
       "    <tr>\n",
       "      <th>32</th>\n",
       "      <td>Albania</td>\n",
       "      <td>1998</td>\n",
       "      <td>3110.0</td>\n",
       "    </tr>\n",
       "    <tr>\n",
       "      <th>33</th>\n",
       "      <td>Albania</td>\n",
       "      <td>1997</td>\n",
       "      <td>2780.0</td>\n",
       "    </tr>\n",
       "    <tr>\n",
       "      <th>34</th>\n",
       "      <td>Albania</td>\n",
       "      <td>1996</td>\n",
       "      <td>3050.0</td>\n",
       "    </tr>\n",
       "    <tr>\n",
       "      <th>...</th>\n",
       "      <td>...</td>\n",
       "      <td>...</td>\n",
       "      <td>...</td>\n",
       "    </tr>\n",
       "    <tr>\n",
       "      <th>86</th>\n",
       "      <td>Albania</td>\n",
       "      <td>1994</td>\n",
       "      <td>2300.0</td>\n",
       "    </tr>\n",
       "    <tr>\n",
       "      <th>87</th>\n",
       "      <td>Albania</td>\n",
       "      <td>1993</td>\n",
       "      <td>2110.0</td>\n",
       "    </tr>\n",
       "    <tr>\n",
       "      <th>88</th>\n",
       "      <td>Albania</td>\n",
       "      <td>1992</td>\n",
       "      <td>1740.0</td>\n",
       "    </tr>\n",
       "    <tr>\n",
       "      <th>89</th>\n",
       "      <td>Albania</td>\n",
       "      <td>1991</td>\n",
       "      <td>1880.0</td>\n",
       "    </tr>\n",
       "    <tr>\n",
       "      <th>90</th>\n",
       "      <td>Albania</td>\n",
       "      <td>1990</td>\n",
       "      <td>2550.0</td>\n",
       "    </tr>\n",
       "  </tbody>\n",
       "</table>\n",
       "<p>61 rows × 3 columns</p>\n",
       "</div>"
      ],
      "text/plain": [
       "    Country  Year  GNI Per Capita\n",
       "30  Albania  2000          3980.0\n",
       "31  Albania  1999          3550.0\n",
       "32  Albania  1998          3110.0\n",
       "33  Albania  1997          2780.0\n",
       "34  Albania  1996          3050.0\n",
       "..      ...   ...             ...\n",
       "86  Albania  1994          2300.0\n",
       "87  Albania  1993          2110.0\n",
       "88  Albania  1992          1740.0\n",
       "89  Albania  1991          1880.0\n",
       "90  Albania  1990          2550.0\n",
       "\n",
       "[61 rows x 3 columns]"
      ]
     },
     "execution_count": 29,
     "metadata": {},
     "output_type": "execute_result"
    }
   ],
   "source": [
    "gni_per_capita.loc[30:90]"
   ]
  },
  {
   "cell_type": "code",
   "execution_count": 31,
   "metadata": {
    "collapsed": true
   },
   "outputs": [
    {
     "ename": "SyntaxError",
     "evalue": "invalid syntax (<ipython-input-31-ecf4e0f5741b>, line 2)",
     "output_type": "error",
     "traceback": [
      "\u001b[1;36m  File \u001b[1;32m\"<ipython-input-31-ecf4e0f5741b>\"\u001b[1;36m, line \u001b[1;32m2\u001b[0m\n\u001b[1;33m    gni_per_capita.loc[gni_per_capita['GNI Per Capita'] >= 1036 and <4045, 'Economy Classification'] = 'Lower-middle income'\u001b[0m\n\u001b[1;37m                                                                    ^\u001b[0m\n\u001b[1;31mSyntaxError\u001b[0m\u001b[1;31m:\u001b[0m invalid syntax\n"
     ]
    }
   ],
   "source": [
    "gni_per_capita.loc[gni_per_capita['GNI Per Capita'] < 1036, 'Economy Classification'] = 'Low income'\n",
    "gni_per_capita.loc[gni_per_capita['GNI Per Capita'] >= 1036 and <4045, 'Economy Classification'] = 'Lower-middle income'\n",
    "gni_per_capita.loc[gni_per_capita['GNI Per Capita'] >= 4046 and <12535, 'Economy Classification'] = 'Upper-middle income'\n",
    "gni_per_capita.loc[gni_per_capita['GNI Per Capita'] >= 12535, 'Economy Classification'] = 'High income'"
   ]
  },
  {
   "cell_type": "code",
   "execution_count": 32,
   "metadata": {},
   "outputs": [],
   "source": [
    "gni_per_capita.loc[gni_per_capita['GNI Per Capita'] < 1036, 'Economy Classification'] = 'Low income'"
   ]
  },
  {
   "cell_type": "code",
   "execution_count": 46,
   "metadata": {},
   "outputs": [],
   "source": [
    "gni_per_capita.loc[gni_per_capita['GNI Per Capita'] >= 12535, 'Economy Classification'] = 'High income'"
   ]
  },
  {
   "cell_type": "code",
   "execution_count": 57,
   "metadata": {},
   "outputs": [],
   "source": [
    "gni_per_capita.loc[(gni_per_capita['GNI Per Capita'] >= 1036) & (gni_per_capita['GNI Per Capita'] < 4045), \n",
    "                   'Economy Classification'] = 'Lower-middle income'"
   ]
  },
  {
   "cell_type": "code",
   "execution_count": 58,
   "metadata": {},
   "outputs": [],
   "source": [
    "gni_per_capita.loc[(gni_per_capita['GNI Per Capita'] >= 4046) & (gni_per_capita['GNI Per Capita'] < 12535), \n",
    "                   'Economy Classification'] = 'Upper-middle income'"
   ]
  },
  {
   "cell_type": "code",
   "execution_count": 59,
   "metadata": {},
   "outputs": [
    {
     "data": {
      "text/html": [
       "<div>\n",
       "<style scoped>\n",
       "    .dataframe tbody tr th:only-of-type {\n",
       "        vertical-align: middle;\n",
       "    }\n",
       "\n",
       "    .dataframe tbody tr th {\n",
       "        vertical-align: top;\n",
       "    }\n",
       "\n",
       "    .dataframe thead th {\n",
       "        text-align: right;\n",
       "    }\n",
       "</style>\n",
       "<table border=\"1\" class=\"dataframe\">\n",
       "  <thead>\n",
       "    <tr style=\"text-align: right;\">\n",
       "      <th></th>\n",
       "      <th>Country</th>\n",
       "      <th>Year</th>\n",
       "      <th>GNI Per Capita</th>\n",
       "      <th>Economy Classification</th>\n",
       "    </tr>\n",
       "  </thead>\n",
       "  <tbody>\n",
       "    <tr>\n",
       "      <th>6000</th>\n",
       "      <td>Switzerland</td>\n",
       "      <td>2006</td>\n",
       "      <td>48460.0</td>\n",
       "      <td>High income</td>\n",
       "    </tr>\n",
       "    <tr>\n",
       "      <th>6001</th>\n",
       "      <td>Switzerland</td>\n",
       "      <td>2005</td>\n",
       "      <td>43980.0</td>\n",
       "      <td>High income</td>\n",
       "    </tr>\n",
       "    <tr>\n",
       "      <th>6002</th>\n",
       "      <td>Switzerland</td>\n",
       "      <td>2004</td>\n",
       "      <td>41610.0</td>\n",
       "      <td>High income</td>\n",
       "    </tr>\n",
       "    <tr>\n",
       "      <th>6003</th>\n",
       "      <td>Switzerland</td>\n",
       "      <td>2003</td>\n",
       "      <td>40190.0</td>\n",
       "      <td>High income</td>\n",
       "    </tr>\n",
       "    <tr>\n",
       "      <th>6004</th>\n",
       "      <td>Switzerland</td>\n",
       "      <td>2002</td>\n",
       "      <td>38720.0</td>\n",
       "      <td>High income</td>\n",
       "    </tr>\n",
       "    <tr>\n",
       "      <th>...</th>\n",
       "      <td>...</td>\n",
       "      <td>...</td>\n",
       "      <td>...</td>\n",
       "      <td>...</td>\n",
       "    </tr>\n",
       "    <tr>\n",
       "      <th>6096</th>\n",
       "      <td>Thailand</td>\n",
       "      <td>2000</td>\n",
       "      <td>7160.0</td>\n",
       "      <td>Upper-middle income</td>\n",
       "    </tr>\n",
       "    <tr>\n",
       "      <th>6097</th>\n",
       "      <td>Thailand</td>\n",
       "      <td>1999</td>\n",
       "      <td>6700.0</td>\n",
       "      <td>Upper-middle income</td>\n",
       "    </tr>\n",
       "    <tr>\n",
       "      <th>6098</th>\n",
       "      <td>Thailand</td>\n",
       "      <td>1998</td>\n",
       "      <td>6330.0</td>\n",
       "      <td>Upper-middle income</td>\n",
       "    </tr>\n",
       "    <tr>\n",
       "      <th>6099</th>\n",
       "      <td>Thailand</td>\n",
       "      <td>1997</td>\n",
       "      <td>6930.0</td>\n",
       "      <td>Upper-middle income</td>\n",
       "    </tr>\n",
       "    <tr>\n",
       "      <th>6100</th>\n",
       "      <td>Thailand</td>\n",
       "      <td>1996</td>\n",
       "      <td>7120.0</td>\n",
       "      <td>Upper-middle income</td>\n",
       "    </tr>\n",
       "  </tbody>\n",
       "</table>\n",
       "<p>101 rows × 4 columns</p>\n",
       "</div>"
      ],
      "text/plain": [
       "          Country  Year  GNI Per Capita Economy Classification\n",
       "6000  Switzerland  2006         48460.0            High income\n",
       "6001  Switzerland  2005         43980.0            High income\n",
       "6002  Switzerland  2004         41610.0            High income\n",
       "6003  Switzerland  2003         40190.0            High income\n",
       "6004  Switzerland  2002         38720.0            High income\n",
       "...           ...   ...             ...                    ...\n",
       "6096     Thailand  2000          7160.0    Upper-middle income\n",
       "6097     Thailand  1999          6700.0    Upper-middle income\n",
       "6098     Thailand  1998          6330.0    Upper-middle income\n",
       "6099     Thailand  1997          6930.0    Upper-middle income\n",
       "6100     Thailand  1996          7120.0    Upper-middle income\n",
       "\n",
       "[101 rows x 4 columns]"
      ]
     },
     "execution_count": 59,
     "metadata": {},
     "output_type": "execute_result"
    }
   ],
   "source": [
    "gni_per_capita.loc[6000:6100]"
   ]
  },
  {
   "cell_type": "code",
   "execution_count": 61,
   "metadata": {},
   "outputs": [],
   "source": [
    "gni_per_capita.to_excel(\"gni.xlsx\", sheet_name='gni_per_capita')"
   ]
  },
  {
   "cell_type": "code",
   "execution_count": 62,
   "metadata": {},
   "outputs": [
    {
     "name": "stdout",
     "output_type": "stream",
     "text": [
      "<class 'pandas.core.frame.DataFrame'>\n",
      "RangeIndex: 6837 entries, 0 to 6836\n",
      "Data columns (total 4 columns):\n",
      " #   Column                  Non-Null Count  Dtype  \n",
      "---  ------                  --------------  -----  \n",
      " 0   Country                 6837 non-null   object \n",
      " 1   Year                    6837 non-null   int32  \n",
      " 2   GNI Per Capita          6837 non-null   float64\n",
      " 3   Economy Classification  6837 non-null   object \n",
      "dtypes: float64(1), int32(1), object(2)\n",
      "memory usage: 187.1+ KB\n"
     ]
    }
   ],
   "source": [
    "gni_per_capita.info()"
   ]
  },
  {
   "cell_type": "code",
   "execution_count": null,
   "metadata": {},
   "outputs": [],
   "source": []
  }
 ],
 "metadata": {
  "kernelspec": {
   "display_name": "Python 3",
   "language": "python",
   "name": "python3"
  },
  "language_info": {
   "codemirror_mode": {
    "name": "ipython",
    "version": 3
   },
   "file_extension": ".py",
   "mimetype": "text/x-python",
   "name": "python",
   "nbconvert_exporter": "python",
   "pygments_lexer": "ipython3",
   "version": "3.8.5"
  }
 },
 "nbformat": 4,
 "nbformat_minor": 4
}
