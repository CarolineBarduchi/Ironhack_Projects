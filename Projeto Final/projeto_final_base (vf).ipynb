{
 "cells": [
  {
   "cell_type": "markdown",
   "metadata": {},
   "source": [
    "### Importando dataframes"
   ]
  },
  {
   "cell_type": "code",
   "execution_count": 1,
   "metadata": {},
   "outputs": [],
   "source": [
    "import pandas as pd\n",
    "import matplotlib.pyplot as plt\n",
    "import seaborn as sns\n",
    "import numpy as np\n",
    "from sklearn.linear_model import LinearRegression\n",
    "from scipy.stats import boxcox"
   ]
  },
  {
   "cell_type": "code",
   "execution_count": 2,
   "metadata": {},
   "outputs": [],
   "source": [
    "# janeiro\n",
    "df01 = pd.read_excel('201901-preco-terceiros-venda-apto-var-ano.xlsx',\n",
    "                     skiprows=range(0,7), \n",
    "                     names=['BAIRROS', 'Unnamed: 1', 'JAN_18_01', 'JAN_19_01', 'VAR (%)_01', 'Unnamed: 5', \n",
    "                            'JAN_18_02', 'JAN_19_02', 'VAR (%)_02', 'Unnamed: 9',\n",
    "                            'JAN_18_03', 'JAN_19_03', 'VAR (%)_03', 'Unnamed: 13',\n",
    "                            'JAN_18_04', 'JAN_19_04', 'VAR (%)_04'])"
   ]
  },
  {
   "cell_type": "code",
   "execution_count": 3,
   "metadata": {},
   "outputs": [],
   "source": [
    "# fevereiro\n",
    "df02 = pd.read_excel('201902-preco-terceiros-venda-apto-var-ano.xlsx',\n",
    "                     skiprows=range(0,7), \n",
    "                     names=['BAIRROS', 'Unnamed: 1', 'FEV_18_01', 'FEV_19_01', 'VAR (%)_01', 'Unnamed: 5', \n",
    "                            'FEV_18_02', 'FEV_19_02', 'VAR (%)_02', 'Unnamed: 9',\n",
    "                            'FEV_18_03', 'FEV_19_03', 'VAR (%)_03', 'Unnamed: 13',\n",
    "                            'FEV_18_04', 'FEV_19_04', 'VAR (%)_04'])"
   ]
  },
  {
   "cell_type": "code",
   "execution_count": 4,
   "metadata": {},
   "outputs": [],
   "source": [
    "# março\n",
    "df03 = pd.read_excel('201903-preco-terceiros-venda-apto-var-ano.xlsx',\n",
    "                     skiprows=range(0,7), \n",
    "                     names=['BAIRROS', 'Unnamed: 1', 'MAR_18_01', 'MAR_19_01', 'VAR (%)_01', 'Unnamed: 5', \n",
    "                            'MAR_18_02', 'MAR_19_02', 'VAR (%)_02', 'Unnamed: 9',\n",
    "                            'MAR_18_03', 'MAR_19_03', 'VAR (%)_03', 'Unnamed: 13',\n",
    "                            'MAR_18_04', 'MAR_19_04', 'VAR (%)_04'])"
   ]
  },
  {
   "cell_type": "code",
   "execution_count": 5,
   "metadata": {},
   "outputs": [],
   "source": [
    "# abril\n",
    "df04 = pd.read_excel('201904-preco-terceiros-venda-apto-var-ano.xlsx',\n",
    "                     skiprows=range(0,7), \n",
    "                     names=['BAIRROS', 'Unnamed: 1', 'ABR_18_01', 'ABR_19_01', 'VAR (%)_01', 'Unnamed: 5', \n",
    "                            'ABR_18_02', 'ABR_19_02', 'VAR (%)_02', 'Unnamed: 9',\n",
    "                            'ABR_18_03', 'ABR_19_03', 'VAR (%)_03', 'Unnamed: 13',\n",
    "                            'ABR_18_04', 'ABR_19_04', 'VAR (%)_04'])"
   ]
  },
  {
   "cell_type": "code",
   "execution_count": 6,
   "metadata": {},
   "outputs": [],
   "source": [
    "# maio\n",
    "df05 = pd.read_excel('201905-preco-terceiros-venda-apto-var-ano.xlsx',\n",
    "                     skiprows=range(0,7), \n",
    "                     names=['BAIRROS', 'Unnamed: 1', 'MAI_18_01', 'MAI_19_01', 'VAR (%)_01', 'Unnamed: 5', \n",
    "                            'MAI_18_02', 'MAI_19_02', 'VAR (%)_02', 'Unnamed: 9',\n",
    "                            'MAI_18_03', 'MAI_19_03', 'VAR (%)_03', 'Unnamed: 13',\n",
    "                            'MAI_18_04', 'MAI_19_04', 'VAR (%)_04'])"
   ]
  },
  {
   "cell_type": "code",
   "execution_count": 7,
   "metadata": {},
   "outputs": [],
   "source": [
    "# junho\n",
    "df06 = pd.read_excel('201906-preco-terceiros-venda-apto-var-ano.xlsx',\n",
    "                     skiprows=range(0,7), \n",
    "                     names=['BAIRROS', 'Unnamed: 1', 'JUN_18_01', 'JUN_19_01', 'VAR (%)_01', 'Unnamed: 5', \n",
    "                            'JUN_18_02', 'JUN_19_02', 'VAR (%)_02', 'Unnamed: 9',\n",
    "                            'JUN_18_03', 'JUN_19_03', 'VAR (%)_03', 'Unnamed: 13',\n",
    "                            'JUN_18_04', 'JUN_19_04', 'VAR (%)_04'])"
   ]
  },
  {
   "cell_type": "code",
   "execution_count": 8,
   "metadata": {},
   "outputs": [],
   "source": [
    "# julho\n",
    "df07 = pd.read_excel('201907-preco-terceiros-venda-apto-var-ano.xlsx',\n",
    "                     skiprows=range(0,7), \n",
    "                     names=['BAIRROS', 'Unnamed: 1', 'JUL_18_01', 'JUL_19_01', 'VAR (%)_01', 'Unnamed: 5', \n",
    "                            'JUL_18_02', 'JUL_19_02', 'VAR (%)_02', 'Unnamed: 9',\n",
    "                            'JUL_18_03', 'JUL_19_03', 'VAR (%)_03', 'Unnamed: 13',\n",
    "                            'JUL_18_04', 'JUL_19_04', 'VAR (%)_04'])"
   ]
  },
  {
   "cell_type": "code",
   "execution_count": 9,
   "metadata": {},
   "outputs": [],
   "source": [
    "# agosto\n",
    "df08 = pd.read_excel('201908-preco-terceiros-venda-apto-var-ano.xlsx',\n",
    "                     skiprows=range(0,7), \n",
    "                     names=['BAIRROS', 'Unnamed: 1', 'AGO_18_01', 'AGO_19_01', 'VAR (%)_01', 'Unnamed: 5', \n",
    "                            'AGO_18_02', 'AGO_19_02', 'VAR (%)_02', 'Unnamed: 9',\n",
    "                            'AGO_18_03', 'AGO_19_03', 'VAR (%)_03', 'Unnamed: 13',\n",
    "                            'AGO_18_04', 'AGO_19_04', 'VAR (%)_04'])"
   ]
  },
  {
   "cell_type": "code",
   "execution_count": 10,
   "metadata": {},
   "outputs": [],
   "source": [
    "# setembro\n",
    "df09 = pd.read_excel('201909-preco-terceiros-venda-apto-var-ano.xlsx',\n",
    "                     skiprows=range(0,7), \n",
    "                     names=['BAIRROS', 'Unnamed: 1', 'SET_18_01', 'SET_19_01', 'VAR (%)_01', 'Unnamed: 5', \n",
    "                            'SET_18_02', 'SET_19_02', 'VAR (%)_02', 'Unnamed: 9',\n",
    "                            'SET_18_03', 'SET_19_03', 'VAR (%)_03', 'Unnamed: 13',\n",
    "                            'SET_18_04', 'SET_19_04', 'VAR (%)_04'])"
   ]
  },
  {
   "cell_type": "code",
   "execution_count": 11,
   "metadata": {},
   "outputs": [],
   "source": [
    "# outubro\n",
    "df10 = pd.read_excel('201910-preco-terceiros-venda-apto-var-ano.xlsx',\n",
    "                     skiprows=range(0,7), \n",
    "                     names=['BAIRROS', 'Unnamed: 1', 'OUT_18_01', 'OUT_19_01', 'VAR (%)_01', 'Unnamed: 5', \n",
    "                            'OUT_18_02', 'OUT_19_02', 'VAR (%)_02', 'Unnamed: 9',\n",
    "                            'OUT_18_03', 'OUT_19_03', 'VAR (%)_03', 'Unnamed: 13',\n",
    "                            'OUT_18_04', 'OUT_19_04', 'VAR (%)_04'])"
   ]
  },
  {
   "cell_type": "code",
   "execution_count": 12,
   "metadata": {},
   "outputs": [],
   "source": [
    "# novembro\n",
    "df11 = pd.read_excel('201911-preco-terceiros-venda-apto-var-ano.xlsx',\n",
    "                     skiprows=range(0,7), \n",
    "                     names=['BAIRROS', 'Unnamed: 1', 'NOV_18_01', 'NOV_19_01', 'VAR (%)_01', 'Unnamed: 5', \n",
    "                            'NOV_18_02', 'NOV_19_02', 'VAR (%)_02', 'Unnamed: 9',\n",
    "                            'NOV_18_03', 'NOV_19_03', 'VAR (%)_03', 'Unnamed: 13',\n",
    "                            'NOV_18_04', 'NOV_19_04', 'VAR (%)_04'])"
   ]
  },
  {
   "cell_type": "code",
   "execution_count": 13,
   "metadata": {},
   "outputs": [],
   "source": [
    "# dezembro\n",
    "df12 = pd.read_excel('201912-preco-terceiros-venda-apto-var-ano.xlsx',\n",
    "                     skiprows=range(0,7), \n",
    "                     names=['BAIRROS', 'Unnamed: 1', 'DEZ_18_01', 'DEZ_19_01', 'VAR (%)_01', 'Unnamed: 5', \n",
    "                            'DEZ_18_02', 'DEZ_19_02', 'VAR (%)_02', 'Unnamed: 9',\n",
    "                            'DEZ_18_03', 'DEZ_19_03', 'VAR (%)_03', 'Unnamed: 13',\n",
    "                            'DEZ_18_04', 'DEZ_19_04', 'VAR (%)_04'])"
   ]
  },
  {
   "cell_type": "code",
   "execution_count": 14,
   "metadata": {},
   "outputs": [],
   "source": [
    "df01.drop(columns=['Unnamed: 1', 'Unnamed: 5', 'Unnamed: 9', 'Unnamed: 13'], inplace=True)\n",
    "df02.drop(columns=['Unnamed: 1', 'Unnamed: 5', 'Unnamed: 9', 'Unnamed: 13'], inplace=True)\n",
    "df03.drop(columns=['Unnamed: 1', 'Unnamed: 5', 'Unnamed: 9', 'Unnamed: 13'], inplace=True)\n",
    "df04.drop(columns=['Unnamed: 1', 'Unnamed: 5', 'Unnamed: 9', 'Unnamed: 13'], inplace=True)\n",
    "df05.drop(columns=['Unnamed: 1', 'Unnamed: 5', 'Unnamed: 9', 'Unnamed: 13'], inplace=True)\n",
    "df06.drop(columns=['Unnamed: 1', 'Unnamed: 5', 'Unnamed: 9', 'Unnamed: 13'], inplace=True)\n",
    "df07.drop(columns=['Unnamed: 1', 'Unnamed: 5', 'Unnamed: 9', 'Unnamed: 13'], inplace=True)\n",
    "df08.drop(columns=['Unnamed: 1', 'Unnamed: 5', 'Unnamed: 9', 'Unnamed: 13'], inplace=True)\n",
    "df09.drop(columns=['Unnamed: 1', 'Unnamed: 5', 'Unnamed: 9', 'Unnamed: 13'], inplace=True)\n",
    "df10.drop(columns=['Unnamed: 1', 'Unnamed: 5', 'Unnamed: 9', 'Unnamed: 13'], inplace=True)\n",
    "df11.drop(columns=['Unnamed: 1', 'Unnamed: 5', 'Unnamed: 9', 'Unnamed: 13'], inplace=True)\n",
    "df12.drop(columns=['Unnamed: 1', 'Unnamed: 5', 'Unnamed: 9', 'Unnamed: 13'], inplace=True)"
   ]
  },
  {
   "cell_type": "code",
   "execution_count": 15,
   "metadata": {},
   "outputs": [
    {
     "data": {
      "text/html": [
       "<div>\n",
       "<style scoped>\n",
       "    .dataframe tbody tr th:only-of-type {\n",
       "        vertical-align: middle;\n",
       "    }\n",
       "\n",
       "    .dataframe tbody tr th {\n",
       "        vertical-align: top;\n",
       "    }\n",
       "\n",
       "    .dataframe thead th {\n",
       "        text-align: right;\n",
       "    }\n",
       "</style>\n",
       "<table border=\"1\" class=\"dataframe\">\n",
       "  <thead>\n",
       "    <tr style=\"text-align: right;\">\n",
       "      <th></th>\n",
       "      <th>BAIRROS</th>\n",
       "      <th>DEZ_18_01</th>\n",
       "      <th>DEZ_19_01</th>\n",
       "      <th>VAR (%)_01</th>\n",
       "      <th>DEZ_18_02</th>\n",
       "      <th>DEZ_19_02</th>\n",
       "      <th>VAR (%)_02</th>\n",
       "      <th>DEZ_18_03</th>\n",
       "      <th>DEZ_19_03</th>\n",
       "      <th>VAR (%)_03</th>\n",
       "      <th>DEZ_18_04</th>\n",
       "      <th>DEZ_19_04</th>\n",
       "      <th>VAR (%)_04</th>\n",
       "    </tr>\n",
       "  </thead>\n",
       "  <tbody>\n",
       "    <tr>\n",
       "      <th>0</th>\n",
       "      <td>ACLIMAÇÃO</td>\n",
       "      <td>8867.18</td>\n",
       "      <td>8463.92</td>\n",
       "      <td>-0.0454778</td>\n",
       "      <td>7557.76</td>\n",
       "      <td>7496.95</td>\n",
       "      <td>-0.00804574</td>\n",
       "      <td>8256.23</td>\n",
       "      <td>8577.68</td>\n",
       "      <td>0.0389348</td>\n",
       "      <td>9335.52</td>\n",
       "      <td>9566.59</td>\n",
       "      <td>0.024752</td>\n",
       "    </tr>\n",
       "  </tbody>\n",
       "</table>\n",
       "</div>"
      ],
      "text/plain": [
       "     BAIRROS DEZ_18_01 DEZ_19_01 VAR (%)_01 DEZ_18_02 DEZ_19_02  VAR (%)_02  \\\n",
       "0  ACLIMAÇÃO   8867.18   8463.92 -0.0454778   7557.76   7496.95 -0.00804574   \n",
       "\n",
       "  DEZ_18_03 DEZ_19_03 VAR (%)_03 DEZ_18_04 DEZ_19_04 VAR (%)_04  \n",
       "0   8256.23   8577.68  0.0389348   9335.52   9566.59   0.024752  "
      ]
     },
     "execution_count": 15,
     "metadata": {},
     "output_type": "execute_result"
    }
   ],
   "source": [
    "df12.head(1)"
   ]
  },
  {
   "cell_type": "markdown",
   "metadata": {},
   "source": [
    "### Dataframe 1 dormitório"
   ]
  },
  {
   "cell_type": "markdown",
   "metadata": {},
   "source": [
    "### Janeiro"
   ]
  },
  {
   "cell_type": "code",
   "execution_count": 16,
   "metadata": {
    "scrolled": true
   },
   "outputs": [
    {
     "data": {
      "text/plain": [
       "Index(['BAIRROS', 'JAN_18_01', 'JAN_19_01', 'VAR (%)_01', 'JAN_18_02',\n",
       "       'JAN_19_02', 'VAR (%)_02', 'JAN_18_03', 'JAN_19_03', 'VAR (%)_03',\n",
       "       'JAN_18_04', 'JAN_19_04', 'VAR (%)_04'],\n",
       "      dtype='object')"
      ]
     },
     "execution_count": 16,
     "metadata": {},
     "output_type": "execute_result"
    }
   ],
   "source": [
    "df01.columns"
   ]
  },
  {
   "cell_type": "code",
   "execution_count": 17,
   "metadata": {},
   "outputs": [],
   "source": [
    "df01_01_18 = df01[['BAIRROS', 'JAN_18_01']]"
   ]
  },
  {
   "cell_type": "code",
   "execution_count": 18,
   "metadata": {
    "collapsed": true
   },
   "outputs": [
    {
     "name": "stderr",
     "output_type": "stream",
     "text": [
      "<ipython-input-18-855af5e0d0ed>:1: SettingWithCopyWarning: \n",
      "A value is trying to be set on a copy of a slice from a DataFrame.\n",
      "Try using .loc[row_indexer,col_indexer] = value instead\n",
      "\n",
      "See the caveats in the documentation: https://pandas.pydata.org/pandas-docs/stable/user_guide/indexing.html#returning-a-view-versus-a-copy\n",
      "  df01_01_18['MES'] = 0\n",
      "<ipython-input-18-855af5e0d0ed>:2: SettingWithCopyWarning: \n",
      "A value is trying to be set on a copy of a slice from a DataFrame.\n",
      "Try using .loc[row_indexer,col_indexer] = value instead\n",
      "\n",
      "See the caveats in the documentation: https://pandas.pydata.org/pandas-docs/stable/user_guide/indexing.html#returning-a-view-versus-a-copy\n",
      "  df01_01_18['ANO'] = 0\n",
      "<ipython-input-18-855af5e0d0ed>:5: SettingWithCopyWarning: \n",
      "A value is trying to be set on a copy of a slice from a DataFrame.\n",
      "Try using .loc[row_indexer,col_indexer] = value instead\n",
      "\n",
      "See the caveats in the documentation: https://pandas.pydata.org/pandas-docs/stable/user_guide/indexing.html#returning-a-view-versus-a-copy\n",
      "  df01_01_18['MES'] = 'JANEIRO'\n",
      "<ipython-input-18-855af5e0d0ed>:6: SettingWithCopyWarning: \n",
      "A value is trying to be set on a copy of a slice from a DataFrame.\n",
      "Try using .loc[row_indexer,col_indexer] = value instead\n",
      "\n",
      "See the caveats in the documentation: https://pandas.pydata.org/pandas-docs/stable/user_guide/indexing.html#returning-a-view-versus-a-copy\n",
      "  df01_01_18['ANO'] = 2018\n"
     ]
    }
   ],
   "source": [
    "df01_01_18['MES'] = 0\n",
    "df01_01_18['ANO'] = 0\n",
    "\n",
    "for index, row in df01_01_18.iterrows():\n",
    "    df01_01_18['MES'] = 'JANEIRO'\n",
    "    df01_01_18['ANO'] = 2018"
   ]
  },
  {
   "cell_type": "code",
   "execution_count": 19,
   "metadata": {
    "collapsed": true
   },
   "outputs": [
    {
     "name": "stderr",
     "output_type": "stream",
     "text": [
      "<ipython-input-19-7354427d6cb2>:3: SettingWithCopyWarning: \n",
      "A value is trying to be set on a copy of a slice from a DataFrame.\n",
      "Try using .loc[row_indexer,col_indexer] = value instead\n",
      "\n",
      "See the caveats in the documentation: https://pandas.pydata.org/pandas-docs/stable/user_guide/indexing.html#returning-a-view-versus-a-copy\n",
      "  df01_01_19['MES'] = 0\n",
      "<ipython-input-19-7354427d6cb2>:4: SettingWithCopyWarning: \n",
      "A value is trying to be set on a copy of a slice from a DataFrame.\n",
      "Try using .loc[row_indexer,col_indexer] = value instead\n",
      "\n",
      "See the caveats in the documentation: https://pandas.pydata.org/pandas-docs/stable/user_guide/indexing.html#returning-a-view-versus-a-copy\n",
      "  df01_01_19['ANO'] = 0\n",
      "<ipython-input-19-7354427d6cb2>:7: SettingWithCopyWarning: \n",
      "A value is trying to be set on a copy of a slice from a DataFrame.\n",
      "Try using .loc[row_indexer,col_indexer] = value instead\n",
      "\n",
      "See the caveats in the documentation: https://pandas.pydata.org/pandas-docs/stable/user_guide/indexing.html#returning-a-view-versus-a-copy\n",
      "  df01_01_19['MES'] = 'JANEIRO'\n",
      "<ipython-input-19-7354427d6cb2>:8: SettingWithCopyWarning: \n",
      "A value is trying to be set on a copy of a slice from a DataFrame.\n",
      "Try using .loc[row_indexer,col_indexer] = value instead\n",
      "\n",
      "See the caveats in the documentation: https://pandas.pydata.org/pandas-docs/stable/user_guide/indexing.html#returning-a-view-versus-a-copy\n",
      "  df01_01_19['ANO'] = 2019\n"
     ]
    }
   ],
   "source": [
    "df01_01_19 = df01[['BAIRROS', 'JAN_19_01']]\n",
    "\n",
    "df01_01_19['MES'] = 0\n",
    "df01_01_19['ANO'] = 0\n",
    "\n",
    "for index, row in df01_01_19.iterrows():\n",
    "    df01_01_19['MES'] = 'JANEIRO'\n",
    "    df01_01_19['ANO'] = 2019"
   ]
  },
  {
   "cell_type": "code",
   "execution_count": 20,
   "metadata": {
    "collapsed": true
   },
   "outputs": [
    {
     "name": "stderr",
     "output_type": "stream",
     "text": [
      "C:\\Users\\carol\\Anaconda3.1\\lib\\site-packages\\pandas\\core\\frame.py:4296: SettingWithCopyWarning: \n",
      "A value is trying to be set on a copy of a slice from a DataFrame\n",
      "\n",
      "See the caveats in the documentation: https://pandas.pydata.org/pandas-docs/stable/user_guide/indexing.html#returning-a-view-versus-a-copy\n",
      "  return super().rename(\n"
     ]
    }
   ],
   "source": [
    "df01_01_18.rename(columns={'JAN_18_01':'PRECO'}, inplace=True)\n",
    "\n",
    "df01_01_19.rename(columns={'JAN_19_01':'PRECO'}, inplace=True)"
   ]
  },
  {
   "cell_type": "code",
   "execution_count": 21,
   "metadata": {},
   "outputs": [
    {
     "data": {
      "text/html": [
       "<div>\n",
       "<style scoped>\n",
       "    .dataframe tbody tr th:only-of-type {\n",
       "        vertical-align: middle;\n",
       "    }\n",
       "\n",
       "    .dataframe tbody tr th {\n",
       "        vertical-align: top;\n",
       "    }\n",
       "\n",
       "    .dataframe thead th {\n",
       "        text-align: right;\n",
       "    }\n",
       "</style>\n",
       "<table border=\"1\" class=\"dataframe\">\n",
       "  <thead>\n",
       "    <tr style=\"text-align: right;\">\n",
       "      <th></th>\n",
       "      <th>BAIRROS</th>\n",
       "      <th>PRECO</th>\n",
       "      <th>MES</th>\n",
       "      <th>ANO</th>\n",
       "    </tr>\n",
       "  </thead>\n",
       "  <tbody>\n",
       "    <tr>\n",
       "      <th>0</th>\n",
       "      <td>ACLIMAÇÃO</td>\n",
       "      <td>8664.17</td>\n",
       "      <td>JANEIRO</td>\n",
       "      <td>2018</td>\n",
       "    </tr>\n",
       "  </tbody>\n",
       "</table>\n",
       "</div>"
      ],
      "text/plain": [
       "     BAIRROS    PRECO      MES   ANO\n",
       "0  ACLIMAÇÃO  8664.17  JANEIRO  2018"
      ]
     },
     "execution_count": 21,
     "metadata": {},
     "output_type": "execute_result"
    }
   ],
   "source": [
    "df01_01_18.head(1)"
   ]
  },
  {
   "cell_type": "code",
   "execution_count": 22,
   "metadata": {},
   "outputs": [],
   "source": [
    "janeiro = df01_01_18.append(df01_01_19)"
   ]
  },
  {
   "cell_type": "code",
   "execution_count": 23,
   "metadata": {},
   "outputs": [
    {
     "data": {
      "text/html": [
       "<div>\n",
       "<style scoped>\n",
       "    .dataframe tbody tr th:only-of-type {\n",
       "        vertical-align: middle;\n",
       "    }\n",
       "\n",
       "    .dataframe tbody tr th {\n",
       "        vertical-align: top;\n",
       "    }\n",
       "\n",
       "    .dataframe thead th {\n",
       "        text-align: right;\n",
       "    }\n",
       "</style>\n",
       "<table border=\"1\" class=\"dataframe\">\n",
       "  <thead>\n",
       "    <tr style=\"text-align: right;\">\n",
       "      <th></th>\n",
       "      <th>BAIRROS</th>\n",
       "      <th>PRECO</th>\n",
       "      <th>MES</th>\n",
       "      <th>ANO</th>\n",
       "    </tr>\n",
       "  </thead>\n",
       "  <tbody>\n",
       "    <tr>\n",
       "      <th>0</th>\n",
       "      <td>ACLIMAÇÃO</td>\n",
       "      <td>8664.17</td>\n",
       "      <td>JANEIRO</td>\n",
       "      <td>2018</td>\n",
       "    </tr>\n",
       "    <tr>\n",
       "      <th>1</th>\n",
       "      <td>ALTO DA BOA VISTA</td>\n",
       "      <td>10175.4</td>\n",
       "      <td>JANEIRO</td>\n",
       "      <td>2018</td>\n",
       "    </tr>\n",
       "    <tr>\n",
       "      <th>2</th>\n",
       "      <td>BARRA FUNDA</td>\n",
       "      <td>9208.55</td>\n",
       "      <td>JANEIRO</td>\n",
       "      <td>2018</td>\n",
       "    </tr>\n",
       "    <tr>\n",
       "      <th>3</th>\n",
       "      <td>BELA VISTA</td>\n",
       "      <td>8465.83</td>\n",
       "      <td>JANEIRO</td>\n",
       "      <td>2018</td>\n",
       "    </tr>\n",
       "    <tr>\n",
       "      <th>4</th>\n",
       "      <td>BELÉM</td>\n",
       "      <td>5908.94</td>\n",
       "      <td>JANEIRO</td>\n",
       "      <td>2018</td>\n",
       "    </tr>\n",
       "  </tbody>\n",
       "</table>\n",
       "</div>"
      ],
      "text/plain": [
       "             BAIRROS    PRECO      MES   ANO\n",
       "0          ACLIMAÇÃO  8664.17  JANEIRO  2018\n",
       "1  ALTO DA BOA VISTA  10175.4  JANEIRO  2018\n",
       "2        BARRA FUNDA  9208.55  JANEIRO  2018\n",
       "3         BELA VISTA  8465.83  JANEIRO  2018\n",
       "4              BELÉM  5908.94  JANEIRO  2018"
      ]
     },
     "execution_count": 23,
     "metadata": {},
     "output_type": "execute_result"
    }
   ],
   "source": [
    "janeiro.head()"
   ]
  },
  {
   "cell_type": "markdown",
   "metadata": {},
   "source": [
    "### Fevereiro"
   ]
  },
  {
   "cell_type": "code",
   "execution_count": 24,
   "metadata": {
    "collapsed": true
   },
   "outputs": [
    {
     "name": "stderr",
     "output_type": "stream",
     "text": [
      "<ipython-input-24-01124cf0dd03>:3: SettingWithCopyWarning: \n",
      "A value is trying to be set on a copy of a slice from a DataFrame.\n",
      "Try using .loc[row_indexer,col_indexer] = value instead\n",
      "\n",
      "See the caveats in the documentation: https://pandas.pydata.org/pandas-docs/stable/user_guide/indexing.html#returning-a-view-versus-a-copy\n",
      "  df02_01_18['MES'] = 0\n",
      "<ipython-input-24-01124cf0dd03>:4: SettingWithCopyWarning: \n",
      "A value is trying to be set on a copy of a slice from a DataFrame.\n",
      "Try using .loc[row_indexer,col_indexer] = value instead\n",
      "\n",
      "See the caveats in the documentation: https://pandas.pydata.org/pandas-docs/stable/user_guide/indexing.html#returning-a-view-versus-a-copy\n",
      "  df02_01_18['ANO'] = 0\n",
      "<ipython-input-24-01124cf0dd03>:7: SettingWithCopyWarning: \n",
      "A value is trying to be set on a copy of a slice from a DataFrame.\n",
      "Try using .loc[row_indexer,col_indexer] = value instead\n",
      "\n",
      "See the caveats in the documentation: https://pandas.pydata.org/pandas-docs/stable/user_guide/indexing.html#returning-a-view-versus-a-copy\n",
      "  df02_01_18['MES'] = 'FEVEREIRO'\n",
      "<ipython-input-24-01124cf0dd03>:8: SettingWithCopyWarning: \n",
      "A value is trying to be set on a copy of a slice from a DataFrame.\n",
      "Try using .loc[row_indexer,col_indexer] = value instead\n",
      "\n",
      "See the caveats in the documentation: https://pandas.pydata.org/pandas-docs/stable/user_guide/indexing.html#returning-a-view-versus-a-copy\n",
      "  df02_01_18['ANO'] = 2018\n"
     ]
    }
   ],
   "source": [
    "df02_01_18 = df02[['BAIRROS', 'FEV_18_01']]\n",
    "\n",
    "df02_01_18['MES'] = 0\n",
    "df02_01_18['ANO'] = 0\n",
    "\n",
    "for index, row in df02_01_18.iterrows():\n",
    "    df02_01_18['MES'] = 'FEVEREIRO'\n",
    "    df02_01_18['ANO'] = 2018"
   ]
  },
  {
   "cell_type": "code",
   "execution_count": 25,
   "metadata": {
    "collapsed": true
   },
   "outputs": [
    {
     "name": "stderr",
     "output_type": "stream",
     "text": [
      "<ipython-input-25-874f86c5f78f>:3: SettingWithCopyWarning: \n",
      "A value is trying to be set on a copy of a slice from a DataFrame.\n",
      "Try using .loc[row_indexer,col_indexer] = value instead\n",
      "\n",
      "See the caveats in the documentation: https://pandas.pydata.org/pandas-docs/stable/user_guide/indexing.html#returning-a-view-versus-a-copy\n",
      "  df02_01_19['MES'] = 0\n",
      "<ipython-input-25-874f86c5f78f>:4: SettingWithCopyWarning: \n",
      "A value is trying to be set on a copy of a slice from a DataFrame.\n",
      "Try using .loc[row_indexer,col_indexer] = value instead\n",
      "\n",
      "See the caveats in the documentation: https://pandas.pydata.org/pandas-docs/stable/user_guide/indexing.html#returning-a-view-versus-a-copy\n",
      "  df02_01_19['ANO'] = 0\n",
      "<ipython-input-25-874f86c5f78f>:7: SettingWithCopyWarning: \n",
      "A value is trying to be set on a copy of a slice from a DataFrame.\n",
      "Try using .loc[row_indexer,col_indexer] = value instead\n",
      "\n",
      "See the caveats in the documentation: https://pandas.pydata.org/pandas-docs/stable/user_guide/indexing.html#returning-a-view-versus-a-copy\n",
      "  df02_01_19['MES'] = 'FEVEREIRO'\n",
      "<ipython-input-25-874f86c5f78f>:8: SettingWithCopyWarning: \n",
      "A value is trying to be set on a copy of a slice from a DataFrame.\n",
      "Try using .loc[row_indexer,col_indexer] = value instead\n",
      "\n",
      "See the caveats in the documentation: https://pandas.pydata.org/pandas-docs/stable/user_guide/indexing.html#returning-a-view-versus-a-copy\n",
      "  df02_01_19['ANO'] = 2019\n"
     ]
    }
   ],
   "source": [
    "df02_01_19 = df02[['BAIRROS', 'FEV_19_01']]\n",
    "\n",
    "df02_01_19['MES'] = 0\n",
    "df02_01_19['ANO'] = 0\n",
    "\n",
    "for index, row in df02_01_19.iterrows():\n",
    "    df02_01_19['MES'] = 'FEVEREIRO'\n",
    "    df02_01_19['ANO'] = 2019"
   ]
  },
  {
   "cell_type": "code",
   "execution_count": 26,
   "metadata": {
    "collapsed": true
   },
   "outputs": [
    {
     "name": "stderr",
     "output_type": "stream",
     "text": [
      "C:\\Users\\carol\\Anaconda3.1\\lib\\site-packages\\pandas\\core\\frame.py:4296: SettingWithCopyWarning: \n",
      "A value is trying to be set on a copy of a slice from a DataFrame\n",
      "\n",
      "See the caveats in the documentation: https://pandas.pydata.org/pandas-docs/stable/user_guide/indexing.html#returning-a-view-versus-a-copy\n",
      "  return super().rename(\n"
     ]
    }
   ],
   "source": [
    "df02_01_18.rename(columns={'FEV_18_01':'PRECO'}, inplace=True)\n",
    "\n",
    "df02_01_19.rename(columns={'FEV_19_01':'PRECO'}, inplace=True)"
   ]
  },
  {
   "cell_type": "code",
   "execution_count": 27,
   "metadata": {},
   "outputs": [],
   "source": [
    "fevereiro = df02_01_18.append(df02_01_19)"
   ]
  },
  {
   "cell_type": "code",
   "execution_count": 28,
   "metadata": {},
   "outputs": [
    {
     "data": {
      "text/html": [
       "<div>\n",
       "<style scoped>\n",
       "    .dataframe tbody tr th:only-of-type {\n",
       "        vertical-align: middle;\n",
       "    }\n",
       "\n",
       "    .dataframe tbody tr th {\n",
       "        vertical-align: top;\n",
       "    }\n",
       "\n",
       "    .dataframe thead th {\n",
       "        text-align: right;\n",
       "    }\n",
       "</style>\n",
       "<table border=\"1\" class=\"dataframe\">\n",
       "  <thead>\n",
       "    <tr style=\"text-align: right;\">\n",
       "      <th></th>\n",
       "      <th>BAIRROS</th>\n",
       "      <th>PRECO</th>\n",
       "      <th>MES</th>\n",
       "      <th>ANO</th>\n",
       "    </tr>\n",
       "  </thead>\n",
       "  <tbody>\n",
       "    <tr>\n",
       "      <th>0</th>\n",
       "      <td>ACLIMAÇÃO</td>\n",
       "      <td>8999.01</td>\n",
       "      <td>FEVEREIRO</td>\n",
       "      <td>2018</td>\n",
       "    </tr>\n",
       "  </tbody>\n",
       "</table>\n",
       "</div>"
      ],
      "text/plain": [
       "     BAIRROS    PRECO        MES   ANO\n",
       "0  ACLIMAÇÃO  8999.01  FEVEREIRO  2018"
      ]
     },
     "execution_count": 28,
     "metadata": {},
     "output_type": "execute_result"
    }
   ],
   "source": [
    "fevereiro.head(1)"
   ]
  },
  {
   "cell_type": "markdown",
   "metadata": {},
   "source": [
    "### Março"
   ]
  },
  {
   "cell_type": "code",
   "execution_count": 29,
   "metadata": {
    "collapsed": true
   },
   "outputs": [
    {
     "name": "stderr",
     "output_type": "stream",
     "text": [
      "<ipython-input-29-3cefbc4f202a>:3: SettingWithCopyWarning: \n",
      "A value is trying to be set on a copy of a slice from a DataFrame.\n",
      "Try using .loc[row_indexer,col_indexer] = value instead\n",
      "\n",
      "See the caveats in the documentation: https://pandas.pydata.org/pandas-docs/stable/user_guide/indexing.html#returning-a-view-versus-a-copy\n",
      "  df03_01_18['MES'] = 0\n",
      "<ipython-input-29-3cefbc4f202a>:4: SettingWithCopyWarning: \n",
      "A value is trying to be set on a copy of a slice from a DataFrame.\n",
      "Try using .loc[row_indexer,col_indexer] = value instead\n",
      "\n",
      "See the caveats in the documentation: https://pandas.pydata.org/pandas-docs/stable/user_guide/indexing.html#returning-a-view-versus-a-copy\n",
      "  df03_01_18['ANO'] = 0\n",
      "<ipython-input-29-3cefbc4f202a>:7: SettingWithCopyWarning: \n",
      "A value is trying to be set on a copy of a slice from a DataFrame.\n",
      "Try using .loc[row_indexer,col_indexer] = value instead\n",
      "\n",
      "See the caveats in the documentation: https://pandas.pydata.org/pandas-docs/stable/user_guide/indexing.html#returning-a-view-versus-a-copy\n",
      "  df03_01_18['MES'] = 'MARCO'\n",
      "<ipython-input-29-3cefbc4f202a>:8: SettingWithCopyWarning: \n",
      "A value is trying to be set on a copy of a slice from a DataFrame.\n",
      "Try using .loc[row_indexer,col_indexer] = value instead\n",
      "\n",
      "See the caveats in the documentation: https://pandas.pydata.org/pandas-docs/stable/user_guide/indexing.html#returning-a-view-versus-a-copy\n",
      "  df03_01_18['ANO'] = 2018\n"
     ]
    }
   ],
   "source": [
    "df03_01_18 = df03[['BAIRROS', 'MAR_18_01']]\n",
    "\n",
    "df03_01_18['MES'] = 0\n",
    "df03_01_18['ANO'] = 0\n",
    "\n",
    "for index, row in df03_01_18.iterrows():\n",
    "    df03_01_18['MES'] = 'MARCO'\n",
    "    df03_01_18['ANO'] = 2018"
   ]
  },
  {
   "cell_type": "code",
   "execution_count": 30,
   "metadata": {
    "collapsed": true
   },
   "outputs": [
    {
     "name": "stderr",
     "output_type": "stream",
     "text": [
      "<ipython-input-30-924f0fa9edf9>:3: SettingWithCopyWarning: \n",
      "A value is trying to be set on a copy of a slice from a DataFrame.\n",
      "Try using .loc[row_indexer,col_indexer] = value instead\n",
      "\n",
      "See the caveats in the documentation: https://pandas.pydata.org/pandas-docs/stable/user_guide/indexing.html#returning-a-view-versus-a-copy\n",
      "  df03_01_19['MES'] = 0\n",
      "<ipython-input-30-924f0fa9edf9>:4: SettingWithCopyWarning: \n",
      "A value is trying to be set on a copy of a slice from a DataFrame.\n",
      "Try using .loc[row_indexer,col_indexer] = value instead\n",
      "\n",
      "See the caveats in the documentation: https://pandas.pydata.org/pandas-docs/stable/user_guide/indexing.html#returning-a-view-versus-a-copy\n",
      "  df03_01_19['ANO'] = 0\n",
      "<ipython-input-30-924f0fa9edf9>:7: SettingWithCopyWarning: \n",
      "A value is trying to be set on a copy of a slice from a DataFrame.\n",
      "Try using .loc[row_indexer,col_indexer] = value instead\n",
      "\n",
      "See the caveats in the documentation: https://pandas.pydata.org/pandas-docs/stable/user_guide/indexing.html#returning-a-view-versus-a-copy\n",
      "  df03_01_19['MES'] = 'MARCO'\n",
      "<ipython-input-30-924f0fa9edf9>:8: SettingWithCopyWarning: \n",
      "A value is trying to be set on a copy of a slice from a DataFrame.\n",
      "Try using .loc[row_indexer,col_indexer] = value instead\n",
      "\n",
      "See the caveats in the documentation: https://pandas.pydata.org/pandas-docs/stable/user_guide/indexing.html#returning-a-view-versus-a-copy\n",
      "  df03_01_19['ANO'] = 2019\n"
     ]
    }
   ],
   "source": [
    "df03_01_19 = df03[['BAIRROS', 'MAR_19_01']]\n",
    "\n",
    "df03_01_19['MES'] = 0\n",
    "df03_01_19['ANO'] = 0\n",
    "\n",
    "for index, row in df03_01_19.iterrows():\n",
    "    df03_01_19['MES'] = 'MARCO'\n",
    "    df03_01_19['ANO'] = 2019"
   ]
  },
  {
   "cell_type": "code",
   "execution_count": 31,
   "metadata": {},
   "outputs": [
    {
     "name": "stderr",
     "output_type": "stream",
     "text": [
      "C:\\Users\\carol\\Anaconda3.1\\lib\\site-packages\\pandas\\core\\frame.py:4296: SettingWithCopyWarning: \n",
      "A value is trying to be set on a copy of a slice from a DataFrame\n",
      "\n",
      "See the caveats in the documentation: https://pandas.pydata.org/pandas-docs/stable/user_guide/indexing.html#returning-a-view-versus-a-copy\n",
      "  return super().rename(\n"
     ]
    }
   ],
   "source": [
    "df03_01_18.rename(columns={'MAR_18_01':'PRECO'}, inplace=True)\n",
    "\n",
    "df03_01_19.rename(columns={'MAR_19_01':'PRECO'}, inplace=True)"
   ]
  },
  {
   "cell_type": "code",
   "execution_count": 32,
   "metadata": {},
   "outputs": [],
   "source": [
    "marco = df03_01_18.append(df03_01_19)"
   ]
  },
  {
   "cell_type": "code",
   "execution_count": 33,
   "metadata": {},
   "outputs": [
    {
     "data": {
      "text/html": [
       "<div>\n",
       "<style scoped>\n",
       "    .dataframe tbody tr th:only-of-type {\n",
       "        vertical-align: middle;\n",
       "    }\n",
       "\n",
       "    .dataframe tbody tr th {\n",
       "        vertical-align: top;\n",
       "    }\n",
       "\n",
       "    .dataframe thead th {\n",
       "        text-align: right;\n",
       "    }\n",
       "</style>\n",
       "<table border=\"1\" class=\"dataframe\">\n",
       "  <thead>\n",
       "    <tr style=\"text-align: right;\">\n",
       "      <th></th>\n",
       "      <th>BAIRROS</th>\n",
       "      <th>PRECO</th>\n",
       "      <th>MES</th>\n",
       "      <th>ANO</th>\n",
       "    </tr>\n",
       "  </thead>\n",
       "  <tbody>\n",
       "    <tr>\n",
       "      <th>0</th>\n",
       "      <td>ACLIMAÇÃO</td>\n",
       "      <td>8967.48</td>\n",
       "      <td>MARCO</td>\n",
       "      <td>2018</td>\n",
       "    </tr>\n",
       "    <tr>\n",
       "      <th>1</th>\n",
       "      <td>ALTO DA BOA VISTA</td>\n",
       "      <td>10106.7</td>\n",
       "      <td>MARCO</td>\n",
       "      <td>2018</td>\n",
       "    </tr>\n",
       "    <tr>\n",
       "      <th>2</th>\n",
       "      <td>BARRA FUNDA</td>\n",
       "      <td>9216.77</td>\n",
       "      <td>MARCO</td>\n",
       "      <td>2018</td>\n",
       "    </tr>\n",
       "    <tr>\n",
       "      <th>3</th>\n",
       "      <td>BELA VISTA</td>\n",
       "      <td>8481.77</td>\n",
       "      <td>MARCO</td>\n",
       "      <td>2018</td>\n",
       "    </tr>\n",
       "    <tr>\n",
       "      <th>4</th>\n",
       "      <td>BELÉM</td>\n",
       "      <td>5864.29</td>\n",
       "      <td>MARCO</td>\n",
       "      <td>2018</td>\n",
       "    </tr>\n",
       "  </tbody>\n",
       "</table>\n",
       "</div>"
      ],
      "text/plain": [
       "             BAIRROS    PRECO    MES   ANO\n",
       "0          ACLIMAÇÃO  8967.48  MARCO  2018\n",
       "1  ALTO DA BOA VISTA  10106.7  MARCO  2018\n",
       "2        BARRA FUNDA  9216.77  MARCO  2018\n",
       "3         BELA VISTA  8481.77  MARCO  2018\n",
       "4              BELÉM  5864.29  MARCO  2018"
      ]
     },
     "execution_count": 33,
     "metadata": {},
     "output_type": "execute_result"
    }
   ],
   "source": [
    "marco.head()"
   ]
  },
  {
   "cell_type": "markdown",
   "metadata": {},
   "source": [
    "### Abril"
   ]
  },
  {
   "cell_type": "code",
   "execution_count": 34,
   "metadata": {
    "collapsed": true
   },
   "outputs": [
    {
     "name": "stderr",
     "output_type": "stream",
     "text": [
      "<ipython-input-34-153e07dbc7db>:3: SettingWithCopyWarning: \n",
      "A value is trying to be set on a copy of a slice from a DataFrame.\n",
      "Try using .loc[row_indexer,col_indexer] = value instead\n",
      "\n",
      "See the caveats in the documentation: https://pandas.pydata.org/pandas-docs/stable/user_guide/indexing.html#returning-a-view-versus-a-copy\n",
      "  df04_01_18['MES'] = 0\n",
      "<ipython-input-34-153e07dbc7db>:4: SettingWithCopyWarning: \n",
      "A value is trying to be set on a copy of a slice from a DataFrame.\n",
      "Try using .loc[row_indexer,col_indexer] = value instead\n",
      "\n",
      "See the caveats in the documentation: https://pandas.pydata.org/pandas-docs/stable/user_guide/indexing.html#returning-a-view-versus-a-copy\n",
      "  df04_01_18['ANO'] = 0\n",
      "<ipython-input-34-153e07dbc7db>:7: SettingWithCopyWarning: \n",
      "A value is trying to be set on a copy of a slice from a DataFrame.\n",
      "Try using .loc[row_indexer,col_indexer] = value instead\n",
      "\n",
      "See the caveats in the documentation: https://pandas.pydata.org/pandas-docs/stable/user_guide/indexing.html#returning-a-view-versus-a-copy\n",
      "  df04_01_18['MES'] = 'ABRIL'\n",
      "<ipython-input-34-153e07dbc7db>:8: SettingWithCopyWarning: \n",
      "A value is trying to be set on a copy of a slice from a DataFrame.\n",
      "Try using .loc[row_indexer,col_indexer] = value instead\n",
      "\n",
      "See the caveats in the documentation: https://pandas.pydata.org/pandas-docs/stable/user_guide/indexing.html#returning-a-view-versus-a-copy\n",
      "  df04_01_18['ANO'] = 2018\n"
     ]
    }
   ],
   "source": [
    "df04_01_18 = df04[['BAIRROS', 'ABR_18_01']]\n",
    "\n",
    "df04_01_18['MES'] = 0\n",
    "df04_01_18['ANO'] = 0\n",
    "\n",
    "for index, row in df04_01_18.iterrows():\n",
    "    df04_01_18['MES'] = 'ABRIL'\n",
    "    df04_01_18['ANO'] = 2018"
   ]
  },
  {
   "cell_type": "code",
   "execution_count": 35,
   "metadata": {
    "collapsed": true
   },
   "outputs": [
    {
     "name": "stderr",
     "output_type": "stream",
     "text": [
      "<ipython-input-35-e0867fd50dc2>:3: SettingWithCopyWarning: \n",
      "A value is trying to be set on a copy of a slice from a DataFrame.\n",
      "Try using .loc[row_indexer,col_indexer] = value instead\n",
      "\n",
      "See the caveats in the documentation: https://pandas.pydata.org/pandas-docs/stable/user_guide/indexing.html#returning-a-view-versus-a-copy\n",
      "  df04_01_19['MES'] = 0\n",
      "<ipython-input-35-e0867fd50dc2>:4: SettingWithCopyWarning: \n",
      "A value is trying to be set on a copy of a slice from a DataFrame.\n",
      "Try using .loc[row_indexer,col_indexer] = value instead\n",
      "\n",
      "See the caveats in the documentation: https://pandas.pydata.org/pandas-docs/stable/user_guide/indexing.html#returning-a-view-versus-a-copy\n",
      "  df04_01_19['ANO'] = 0\n",
      "<ipython-input-35-e0867fd50dc2>:7: SettingWithCopyWarning: \n",
      "A value is trying to be set on a copy of a slice from a DataFrame.\n",
      "Try using .loc[row_indexer,col_indexer] = value instead\n",
      "\n",
      "See the caveats in the documentation: https://pandas.pydata.org/pandas-docs/stable/user_guide/indexing.html#returning-a-view-versus-a-copy\n",
      "  df04_01_19['MES'] = 'ABRIL'\n",
      "<ipython-input-35-e0867fd50dc2>:8: SettingWithCopyWarning: \n",
      "A value is trying to be set on a copy of a slice from a DataFrame.\n",
      "Try using .loc[row_indexer,col_indexer] = value instead\n",
      "\n",
      "See the caveats in the documentation: https://pandas.pydata.org/pandas-docs/stable/user_guide/indexing.html#returning-a-view-versus-a-copy\n",
      "  df04_01_19['ANO'] = 2019\n"
     ]
    }
   ],
   "source": [
    "df04_01_19 = df04[['BAIRROS', 'ABR_19_01']]\n",
    "\n",
    "df04_01_19['MES'] = 0\n",
    "df04_01_19['ANO'] = 0\n",
    "\n",
    "for index, row in df04_01_19.iterrows():\n",
    "    df04_01_19['MES'] = 'ABRIL'\n",
    "    df04_01_19['ANO'] = 2019"
   ]
  },
  {
   "cell_type": "code",
   "execution_count": 36,
   "metadata": {},
   "outputs": [
    {
     "name": "stderr",
     "output_type": "stream",
     "text": [
      "C:\\Users\\carol\\Anaconda3.1\\lib\\site-packages\\pandas\\core\\frame.py:4296: SettingWithCopyWarning: \n",
      "A value is trying to be set on a copy of a slice from a DataFrame\n",
      "\n",
      "See the caveats in the documentation: https://pandas.pydata.org/pandas-docs/stable/user_guide/indexing.html#returning-a-view-versus-a-copy\n",
      "  return super().rename(\n"
     ]
    }
   ],
   "source": [
    "df04_01_18.rename(columns={'ABR_18_01':'PRECO'}, inplace=True)\n",
    "\n",
    "df04_01_19.rename(columns={'ABR_19_01':'PRECO'}, inplace=True)"
   ]
  },
  {
   "cell_type": "code",
   "execution_count": 37,
   "metadata": {},
   "outputs": [],
   "source": [
    "abril = df04_01_18.append(df04_01_19)"
   ]
  },
  {
   "cell_type": "code",
   "execution_count": 38,
   "metadata": {},
   "outputs": [
    {
     "data": {
      "text/html": [
       "<div>\n",
       "<style scoped>\n",
       "    .dataframe tbody tr th:only-of-type {\n",
       "        vertical-align: middle;\n",
       "    }\n",
       "\n",
       "    .dataframe tbody tr th {\n",
       "        vertical-align: top;\n",
       "    }\n",
       "\n",
       "    .dataframe thead th {\n",
       "        text-align: right;\n",
       "    }\n",
       "</style>\n",
       "<table border=\"1\" class=\"dataframe\">\n",
       "  <thead>\n",
       "    <tr style=\"text-align: right;\">\n",
       "      <th></th>\n",
       "      <th>BAIRROS</th>\n",
       "      <th>PRECO</th>\n",
       "      <th>MES</th>\n",
       "      <th>ANO</th>\n",
       "    </tr>\n",
       "  </thead>\n",
       "  <tbody>\n",
       "    <tr>\n",
       "      <th>0</th>\n",
       "      <td>ACLIMAÇÃO</td>\n",
       "      <td>8995.41</td>\n",
       "      <td>ABRIL</td>\n",
       "      <td>2018</td>\n",
       "    </tr>\n",
       "    <tr>\n",
       "      <th>1</th>\n",
       "      <td>ALTO DA BOA VISTA</td>\n",
       "      <td>10095.7</td>\n",
       "      <td>ABRIL</td>\n",
       "      <td>2018</td>\n",
       "    </tr>\n",
       "    <tr>\n",
       "      <th>2</th>\n",
       "      <td>BARRA FUNDA</td>\n",
       "      <td>9097.43</td>\n",
       "      <td>ABRIL</td>\n",
       "      <td>2018</td>\n",
       "    </tr>\n",
       "    <tr>\n",
       "      <th>3</th>\n",
       "      <td>BELA VISTA</td>\n",
       "      <td>8420.62</td>\n",
       "      <td>ABRIL</td>\n",
       "      <td>2018</td>\n",
       "    </tr>\n",
       "    <tr>\n",
       "      <th>4</th>\n",
       "      <td>BELÉM</td>\n",
       "      <td>5795.03</td>\n",
       "      <td>ABRIL</td>\n",
       "      <td>2018</td>\n",
       "    </tr>\n",
       "  </tbody>\n",
       "</table>\n",
       "</div>"
      ],
      "text/plain": [
       "             BAIRROS    PRECO    MES   ANO\n",
       "0          ACLIMAÇÃO  8995.41  ABRIL  2018\n",
       "1  ALTO DA BOA VISTA  10095.7  ABRIL  2018\n",
       "2        BARRA FUNDA  9097.43  ABRIL  2018\n",
       "3         BELA VISTA  8420.62  ABRIL  2018\n",
       "4              BELÉM  5795.03  ABRIL  2018"
      ]
     },
     "execution_count": 38,
     "metadata": {},
     "output_type": "execute_result"
    }
   ],
   "source": [
    "abril.head()"
   ]
  },
  {
   "cell_type": "markdown",
   "metadata": {},
   "source": [
    "### Maio"
   ]
  },
  {
   "cell_type": "code",
   "execution_count": 39,
   "metadata": {
    "collapsed": true
   },
   "outputs": [
    {
     "name": "stderr",
     "output_type": "stream",
     "text": [
      "<ipython-input-39-87dae1499b32>:3: SettingWithCopyWarning: \n",
      "A value is trying to be set on a copy of a slice from a DataFrame.\n",
      "Try using .loc[row_indexer,col_indexer] = value instead\n",
      "\n",
      "See the caveats in the documentation: https://pandas.pydata.org/pandas-docs/stable/user_guide/indexing.html#returning-a-view-versus-a-copy\n",
      "  df05_01_18['MES'] = 0\n",
      "<ipython-input-39-87dae1499b32>:4: SettingWithCopyWarning: \n",
      "A value is trying to be set on a copy of a slice from a DataFrame.\n",
      "Try using .loc[row_indexer,col_indexer] = value instead\n",
      "\n",
      "See the caveats in the documentation: https://pandas.pydata.org/pandas-docs/stable/user_guide/indexing.html#returning-a-view-versus-a-copy\n",
      "  df05_01_18['ANO'] = 0\n",
      "<ipython-input-39-87dae1499b32>:7: SettingWithCopyWarning: \n",
      "A value is trying to be set on a copy of a slice from a DataFrame.\n",
      "Try using .loc[row_indexer,col_indexer] = value instead\n",
      "\n",
      "See the caveats in the documentation: https://pandas.pydata.org/pandas-docs/stable/user_guide/indexing.html#returning-a-view-versus-a-copy\n",
      "  df05_01_18['MES'] = 'MAIO'\n",
      "<ipython-input-39-87dae1499b32>:8: SettingWithCopyWarning: \n",
      "A value is trying to be set on a copy of a slice from a DataFrame.\n",
      "Try using .loc[row_indexer,col_indexer] = value instead\n",
      "\n",
      "See the caveats in the documentation: https://pandas.pydata.org/pandas-docs/stable/user_guide/indexing.html#returning-a-view-versus-a-copy\n",
      "  df05_01_18['ANO'] = 2018\n"
     ]
    }
   ],
   "source": [
    "df05_01_18 = df05[['BAIRROS', 'MAI_18_01']]\n",
    "\n",
    "df05_01_18['MES'] = 0\n",
    "df05_01_18['ANO'] = 0\n",
    "\n",
    "for index, row in df05_01_18.iterrows():\n",
    "    df05_01_18['MES'] = 'MAIO'\n",
    "    df05_01_18['ANO'] = 2018"
   ]
  },
  {
   "cell_type": "code",
   "execution_count": 40,
   "metadata": {
    "collapsed": true
   },
   "outputs": [
    {
     "name": "stderr",
     "output_type": "stream",
     "text": [
      "<ipython-input-40-7fdff8d9f32b>:3: SettingWithCopyWarning: \n",
      "A value is trying to be set on a copy of a slice from a DataFrame.\n",
      "Try using .loc[row_indexer,col_indexer] = value instead\n",
      "\n",
      "See the caveats in the documentation: https://pandas.pydata.org/pandas-docs/stable/user_guide/indexing.html#returning-a-view-versus-a-copy\n",
      "  df05_01_19['MES'] = 0\n",
      "<ipython-input-40-7fdff8d9f32b>:4: SettingWithCopyWarning: \n",
      "A value is trying to be set on a copy of a slice from a DataFrame.\n",
      "Try using .loc[row_indexer,col_indexer] = value instead\n",
      "\n",
      "See the caveats in the documentation: https://pandas.pydata.org/pandas-docs/stable/user_guide/indexing.html#returning-a-view-versus-a-copy\n",
      "  df05_01_19['ANO'] = 0\n",
      "<ipython-input-40-7fdff8d9f32b>:7: SettingWithCopyWarning: \n",
      "A value is trying to be set on a copy of a slice from a DataFrame.\n",
      "Try using .loc[row_indexer,col_indexer] = value instead\n",
      "\n",
      "See the caveats in the documentation: https://pandas.pydata.org/pandas-docs/stable/user_guide/indexing.html#returning-a-view-versus-a-copy\n",
      "  df05_01_19['MES'] = 'MAIO'\n",
      "<ipython-input-40-7fdff8d9f32b>:8: SettingWithCopyWarning: \n",
      "A value is trying to be set on a copy of a slice from a DataFrame.\n",
      "Try using .loc[row_indexer,col_indexer] = value instead\n",
      "\n",
      "See the caveats in the documentation: https://pandas.pydata.org/pandas-docs/stable/user_guide/indexing.html#returning-a-view-versus-a-copy\n",
      "  df05_01_19['ANO'] = 2019\n"
     ]
    }
   ],
   "source": [
    "df05_01_19 = df05[['BAIRROS', 'MAI_19_01']]\n",
    "\n",
    "df05_01_19['MES'] = 0\n",
    "df05_01_19['ANO'] = 0\n",
    "\n",
    "for index, row in df05_01_19.iterrows():\n",
    "    df05_01_19['MES'] = 'MAIO'\n",
    "    df05_01_19['ANO'] = 2019"
   ]
  },
  {
   "cell_type": "code",
   "execution_count": 41,
   "metadata": {},
   "outputs": [
    {
     "name": "stderr",
     "output_type": "stream",
     "text": [
      "C:\\Users\\carol\\Anaconda3.1\\lib\\site-packages\\pandas\\core\\frame.py:4296: SettingWithCopyWarning: \n",
      "A value is trying to be set on a copy of a slice from a DataFrame\n",
      "\n",
      "See the caveats in the documentation: https://pandas.pydata.org/pandas-docs/stable/user_guide/indexing.html#returning-a-view-versus-a-copy\n",
      "  return super().rename(\n"
     ]
    }
   ],
   "source": [
    "df05_01_18.rename(columns={'MAI_18_01':'PRECO'}, inplace=True)\n",
    "\n",
    "df05_01_19.rename(columns={'MAI_19_01':'PRECO'}, inplace=True)"
   ]
  },
  {
   "cell_type": "code",
   "execution_count": 42,
   "metadata": {},
   "outputs": [],
   "source": [
    "maio = df05_01_18.append(df05_01_19)"
   ]
  },
  {
   "cell_type": "code",
   "execution_count": 43,
   "metadata": {},
   "outputs": [
    {
     "data": {
      "text/html": [
       "<div>\n",
       "<style scoped>\n",
       "    .dataframe tbody tr th:only-of-type {\n",
       "        vertical-align: middle;\n",
       "    }\n",
       "\n",
       "    .dataframe tbody tr th {\n",
       "        vertical-align: top;\n",
       "    }\n",
       "\n",
       "    .dataframe thead th {\n",
       "        text-align: right;\n",
       "    }\n",
       "</style>\n",
       "<table border=\"1\" class=\"dataframe\">\n",
       "  <thead>\n",
       "    <tr style=\"text-align: right;\">\n",
       "      <th></th>\n",
       "      <th>BAIRROS</th>\n",
       "      <th>PRECO</th>\n",
       "      <th>MES</th>\n",
       "      <th>ANO</th>\n",
       "    </tr>\n",
       "  </thead>\n",
       "  <tbody>\n",
       "    <tr>\n",
       "      <th>0</th>\n",
       "      <td>ACLIMAÇÃO</td>\n",
       "      <td>9003</td>\n",
       "      <td>MAIO</td>\n",
       "      <td>2018</td>\n",
       "    </tr>\n",
       "    <tr>\n",
       "      <th>1</th>\n",
       "      <td>ALTO DA BOA VISTA</td>\n",
       "      <td>10109.3</td>\n",
       "      <td>MAIO</td>\n",
       "      <td>2018</td>\n",
       "    </tr>\n",
       "    <tr>\n",
       "      <th>2</th>\n",
       "      <td>BARRA FUNDA</td>\n",
       "      <td>9001.47</td>\n",
       "      <td>MAIO</td>\n",
       "      <td>2018</td>\n",
       "    </tr>\n",
       "    <tr>\n",
       "      <th>3</th>\n",
       "      <td>BELA VISTA</td>\n",
       "      <td>8364.09</td>\n",
       "      <td>MAIO</td>\n",
       "      <td>2018</td>\n",
       "    </tr>\n",
       "    <tr>\n",
       "      <th>4</th>\n",
       "      <td>BELÉM</td>\n",
       "      <td>5735.53</td>\n",
       "      <td>MAIO</td>\n",
       "      <td>2018</td>\n",
       "    </tr>\n",
       "  </tbody>\n",
       "</table>\n",
       "</div>"
      ],
      "text/plain": [
       "             BAIRROS    PRECO   MES   ANO\n",
       "0          ACLIMAÇÃO     9003  MAIO  2018\n",
       "1  ALTO DA BOA VISTA  10109.3  MAIO  2018\n",
       "2        BARRA FUNDA  9001.47  MAIO  2018\n",
       "3         BELA VISTA  8364.09  MAIO  2018\n",
       "4              BELÉM  5735.53  MAIO  2018"
      ]
     },
     "execution_count": 43,
     "metadata": {},
     "output_type": "execute_result"
    }
   ],
   "source": [
    "maio.head()"
   ]
  },
  {
   "cell_type": "markdown",
   "metadata": {},
   "source": [
    "### Junho"
   ]
  },
  {
   "cell_type": "code",
   "execution_count": 44,
   "metadata": {
    "collapsed": true
   },
   "outputs": [
    {
     "name": "stderr",
     "output_type": "stream",
     "text": [
      "<ipython-input-44-425dd506b7dd>:3: SettingWithCopyWarning: \n",
      "A value is trying to be set on a copy of a slice from a DataFrame.\n",
      "Try using .loc[row_indexer,col_indexer] = value instead\n",
      "\n",
      "See the caveats in the documentation: https://pandas.pydata.org/pandas-docs/stable/user_guide/indexing.html#returning-a-view-versus-a-copy\n",
      "  df06_01_18['MES'] = 0\n",
      "<ipython-input-44-425dd506b7dd>:4: SettingWithCopyWarning: \n",
      "A value is trying to be set on a copy of a slice from a DataFrame.\n",
      "Try using .loc[row_indexer,col_indexer] = value instead\n",
      "\n",
      "See the caveats in the documentation: https://pandas.pydata.org/pandas-docs/stable/user_guide/indexing.html#returning-a-view-versus-a-copy\n",
      "  df06_01_18['ANO'] = 0\n",
      "<ipython-input-44-425dd506b7dd>:7: SettingWithCopyWarning: \n",
      "A value is trying to be set on a copy of a slice from a DataFrame.\n",
      "Try using .loc[row_indexer,col_indexer] = value instead\n",
      "\n",
      "See the caveats in the documentation: https://pandas.pydata.org/pandas-docs/stable/user_guide/indexing.html#returning-a-view-versus-a-copy\n",
      "  df06_01_18['MES'] = 'JUNHO'\n",
      "<ipython-input-44-425dd506b7dd>:8: SettingWithCopyWarning: \n",
      "A value is trying to be set on a copy of a slice from a DataFrame.\n",
      "Try using .loc[row_indexer,col_indexer] = value instead\n",
      "\n",
      "See the caveats in the documentation: https://pandas.pydata.org/pandas-docs/stable/user_guide/indexing.html#returning-a-view-versus-a-copy\n",
      "  df06_01_18['ANO'] = 2018\n"
     ]
    }
   ],
   "source": [
    "df06_01_18 = df06[['BAIRROS', 'JUN_18_01']]\n",
    "\n",
    "df06_01_18['MES'] = 0\n",
    "df06_01_18['ANO'] = 0\n",
    "\n",
    "for index, row in df06_01_18.iterrows():\n",
    "    df06_01_18['MES'] = 'JUNHO'\n",
    "    df06_01_18['ANO'] = 2018"
   ]
  },
  {
   "cell_type": "code",
   "execution_count": 45,
   "metadata": {
    "collapsed": true
   },
   "outputs": [
    {
     "name": "stderr",
     "output_type": "stream",
     "text": [
      "<ipython-input-45-dbdcd473927e>:3: SettingWithCopyWarning: \n",
      "A value is trying to be set on a copy of a slice from a DataFrame.\n",
      "Try using .loc[row_indexer,col_indexer] = value instead\n",
      "\n",
      "See the caveats in the documentation: https://pandas.pydata.org/pandas-docs/stable/user_guide/indexing.html#returning-a-view-versus-a-copy\n",
      "  df06_01_19['MES'] = 0\n",
      "<ipython-input-45-dbdcd473927e>:4: SettingWithCopyWarning: \n",
      "A value is trying to be set on a copy of a slice from a DataFrame.\n",
      "Try using .loc[row_indexer,col_indexer] = value instead\n",
      "\n",
      "See the caveats in the documentation: https://pandas.pydata.org/pandas-docs/stable/user_guide/indexing.html#returning-a-view-versus-a-copy\n",
      "  df06_01_19['ANO'] = 0\n",
      "<ipython-input-45-dbdcd473927e>:7: SettingWithCopyWarning: \n",
      "A value is trying to be set on a copy of a slice from a DataFrame.\n",
      "Try using .loc[row_indexer,col_indexer] = value instead\n",
      "\n",
      "See the caveats in the documentation: https://pandas.pydata.org/pandas-docs/stable/user_guide/indexing.html#returning-a-view-versus-a-copy\n",
      "  df06_01_19['MES'] = 'JUNHO'\n",
      "<ipython-input-45-dbdcd473927e>:8: SettingWithCopyWarning: \n",
      "A value is trying to be set on a copy of a slice from a DataFrame.\n",
      "Try using .loc[row_indexer,col_indexer] = value instead\n",
      "\n",
      "See the caveats in the documentation: https://pandas.pydata.org/pandas-docs/stable/user_guide/indexing.html#returning-a-view-versus-a-copy\n",
      "  df06_01_19['ANO'] = 2019\n"
     ]
    }
   ],
   "source": [
    "df06_01_19 = df06[['BAIRROS', 'JUN_19_01']]\n",
    "\n",
    "df06_01_19['MES'] = 0\n",
    "df06_01_19['ANO'] = 0\n",
    "\n",
    "for index, row in df06_01_19.iterrows():\n",
    "    df06_01_19['MES'] = 'JUNHO'\n",
    "    df06_01_19['ANO'] = 2019"
   ]
  },
  {
   "cell_type": "code",
   "execution_count": 46,
   "metadata": {},
   "outputs": [
    {
     "name": "stderr",
     "output_type": "stream",
     "text": [
      "C:\\Users\\carol\\Anaconda3.1\\lib\\site-packages\\pandas\\core\\frame.py:4296: SettingWithCopyWarning: \n",
      "A value is trying to be set on a copy of a slice from a DataFrame\n",
      "\n",
      "See the caveats in the documentation: https://pandas.pydata.org/pandas-docs/stable/user_guide/indexing.html#returning-a-view-versus-a-copy\n",
      "  return super().rename(\n"
     ]
    }
   ],
   "source": [
    "df06_01_18.rename(columns={'JUN_18_01':'PRECO'}, inplace=True)\n",
    "\n",
    "df06_01_19.rename(columns={'JUN_19_01':'PRECO'}, inplace=True)"
   ]
  },
  {
   "cell_type": "code",
   "execution_count": 47,
   "metadata": {},
   "outputs": [],
   "source": [
    "junho = df06_01_18.append(df06_01_19)"
   ]
  },
  {
   "cell_type": "code",
   "execution_count": 48,
   "metadata": {},
   "outputs": [
    {
     "data": {
      "text/html": [
       "<div>\n",
       "<style scoped>\n",
       "    .dataframe tbody tr th:only-of-type {\n",
       "        vertical-align: middle;\n",
       "    }\n",
       "\n",
       "    .dataframe tbody tr th {\n",
       "        vertical-align: top;\n",
       "    }\n",
       "\n",
       "    .dataframe thead th {\n",
       "        text-align: right;\n",
       "    }\n",
       "</style>\n",
       "<table border=\"1\" class=\"dataframe\">\n",
       "  <thead>\n",
       "    <tr style=\"text-align: right;\">\n",
       "      <th></th>\n",
       "      <th>BAIRROS</th>\n",
       "      <th>PRECO</th>\n",
       "      <th>MES</th>\n",
       "      <th>ANO</th>\n",
       "    </tr>\n",
       "  </thead>\n",
       "  <tbody>\n",
       "    <tr>\n",
       "      <th>0</th>\n",
       "      <td>ACLIMAÇÃO</td>\n",
       "      <td>9286.13</td>\n",
       "      <td>JUNHO</td>\n",
       "      <td>2018</td>\n",
       "    </tr>\n",
       "    <tr>\n",
       "      <th>1</th>\n",
       "      <td>ALTO DA BOA VISTA</td>\n",
       "      <td>10202.7</td>\n",
       "      <td>JUNHO</td>\n",
       "      <td>2018</td>\n",
       "    </tr>\n",
       "    <tr>\n",
       "      <th>2</th>\n",
       "      <td>BARRA FUNDA</td>\n",
       "      <td>9173.71</td>\n",
       "      <td>JUNHO</td>\n",
       "      <td>2018</td>\n",
       "    </tr>\n",
       "    <tr>\n",
       "      <th>3</th>\n",
       "      <td>BELA VISTA</td>\n",
       "      <td>8421.86</td>\n",
       "      <td>JUNHO</td>\n",
       "      <td>2018</td>\n",
       "    </tr>\n",
       "    <tr>\n",
       "      <th>4</th>\n",
       "      <td>BELÉM</td>\n",
       "      <td>5724.03</td>\n",
       "      <td>JUNHO</td>\n",
       "      <td>2018</td>\n",
       "    </tr>\n",
       "  </tbody>\n",
       "</table>\n",
       "</div>"
      ],
      "text/plain": [
       "             BAIRROS    PRECO    MES   ANO\n",
       "0          ACLIMAÇÃO  9286.13  JUNHO  2018\n",
       "1  ALTO DA BOA VISTA  10202.7  JUNHO  2018\n",
       "2        BARRA FUNDA  9173.71  JUNHO  2018\n",
       "3         BELA VISTA  8421.86  JUNHO  2018\n",
       "4              BELÉM  5724.03  JUNHO  2018"
      ]
     },
     "execution_count": 48,
     "metadata": {},
     "output_type": "execute_result"
    }
   ],
   "source": [
    "junho.head()"
   ]
  },
  {
   "cell_type": "markdown",
   "metadata": {},
   "source": [
    "### Julho"
   ]
  },
  {
   "cell_type": "code",
   "execution_count": 49,
   "metadata": {
    "collapsed": true
   },
   "outputs": [
    {
     "name": "stderr",
     "output_type": "stream",
     "text": [
      "<ipython-input-49-52dd8eb6a45a>:3: SettingWithCopyWarning: \n",
      "A value is trying to be set on a copy of a slice from a DataFrame.\n",
      "Try using .loc[row_indexer,col_indexer] = value instead\n",
      "\n",
      "See the caveats in the documentation: https://pandas.pydata.org/pandas-docs/stable/user_guide/indexing.html#returning-a-view-versus-a-copy\n",
      "  df07_01_18['MES'] = 0\n",
      "<ipython-input-49-52dd8eb6a45a>:4: SettingWithCopyWarning: \n",
      "A value is trying to be set on a copy of a slice from a DataFrame.\n",
      "Try using .loc[row_indexer,col_indexer] = value instead\n",
      "\n",
      "See the caveats in the documentation: https://pandas.pydata.org/pandas-docs/stable/user_guide/indexing.html#returning-a-view-versus-a-copy\n",
      "  df07_01_18['ANO'] = 0\n",
      "<ipython-input-49-52dd8eb6a45a>:7: SettingWithCopyWarning: \n",
      "A value is trying to be set on a copy of a slice from a DataFrame.\n",
      "Try using .loc[row_indexer,col_indexer] = value instead\n",
      "\n",
      "See the caveats in the documentation: https://pandas.pydata.org/pandas-docs/stable/user_guide/indexing.html#returning-a-view-versus-a-copy\n",
      "  df07_01_18['MES'] = 'JULHO'\n",
      "<ipython-input-49-52dd8eb6a45a>:8: SettingWithCopyWarning: \n",
      "A value is trying to be set on a copy of a slice from a DataFrame.\n",
      "Try using .loc[row_indexer,col_indexer] = value instead\n",
      "\n",
      "See the caveats in the documentation: https://pandas.pydata.org/pandas-docs/stable/user_guide/indexing.html#returning-a-view-versus-a-copy\n",
      "  df07_01_18['ANO'] = 2018\n"
     ]
    }
   ],
   "source": [
    "df07_01_18 = df07[['BAIRROS', 'JUL_18_01']]\n",
    "\n",
    "df07_01_18['MES'] = 0\n",
    "df07_01_18['ANO'] = 0\n",
    "\n",
    "for index, row in df07_01_18.iterrows():\n",
    "    df07_01_18['MES'] = 'JULHO'\n",
    "    df07_01_18['ANO'] = 2018"
   ]
  },
  {
   "cell_type": "code",
   "execution_count": 50,
   "metadata": {
    "collapsed": true
   },
   "outputs": [
    {
     "name": "stderr",
     "output_type": "stream",
     "text": [
      "<ipython-input-50-3c39b8de7b8a>:3: SettingWithCopyWarning: \n",
      "A value is trying to be set on a copy of a slice from a DataFrame.\n",
      "Try using .loc[row_indexer,col_indexer] = value instead\n",
      "\n",
      "See the caveats in the documentation: https://pandas.pydata.org/pandas-docs/stable/user_guide/indexing.html#returning-a-view-versus-a-copy\n",
      "  df07_01_19['MES'] = 0\n",
      "<ipython-input-50-3c39b8de7b8a>:4: SettingWithCopyWarning: \n",
      "A value is trying to be set on a copy of a slice from a DataFrame.\n",
      "Try using .loc[row_indexer,col_indexer] = value instead\n",
      "\n",
      "See the caveats in the documentation: https://pandas.pydata.org/pandas-docs/stable/user_guide/indexing.html#returning-a-view-versus-a-copy\n",
      "  df07_01_19['ANO'] = 0\n",
      "<ipython-input-50-3c39b8de7b8a>:7: SettingWithCopyWarning: \n",
      "A value is trying to be set on a copy of a slice from a DataFrame.\n",
      "Try using .loc[row_indexer,col_indexer] = value instead\n",
      "\n",
      "See the caveats in the documentation: https://pandas.pydata.org/pandas-docs/stable/user_guide/indexing.html#returning-a-view-versus-a-copy\n",
      "  df07_01_19['MES'] = 'JULHO'\n",
      "<ipython-input-50-3c39b8de7b8a>:8: SettingWithCopyWarning: \n",
      "A value is trying to be set on a copy of a slice from a DataFrame.\n",
      "Try using .loc[row_indexer,col_indexer] = value instead\n",
      "\n",
      "See the caveats in the documentation: https://pandas.pydata.org/pandas-docs/stable/user_guide/indexing.html#returning-a-view-versus-a-copy\n",
      "  df07_01_19['ANO'] = 2019\n"
     ]
    }
   ],
   "source": [
    "df07_01_19 = df07[['BAIRROS', 'JUL_19_01']]\n",
    "\n",
    "df07_01_19['MES'] = 0\n",
    "df07_01_19['ANO'] = 0\n",
    "\n",
    "for index, row in df07_01_19.iterrows():\n",
    "    df07_01_19['MES'] = 'JULHO'\n",
    "    df07_01_19['ANO'] = 2019"
   ]
  },
  {
   "cell_type": "code",
   "execution_count": 51,
   "metadata": {
    "collapsed": true
   },
   "outputs": [
    {
     "name": "stderr",
     "output_type": "stream",
     "text": [
      "C:\\Users\\carol\\Anaconda3.1\\lib\\site-packages\\pandas\\core\\frame.py:4296: SettingWithCopyWarning: \n",
      "A value is trying to be set on a copy of a slice from a DataFrame\n",
      "\n",
      "See the caveats in the documentation: https://pandas.pydata.org/pandas-docs/stable/user_guide/indexing.html#returning-a-view-versus-a-copy\n",
      "  return super().rename(\n"
     ]
    }
   ],
   "source": [
    "df07_01_18.rename(columns={'JUL_18_01':'PRECO'}, inplace=True)\n",
    "\n",
    "df07_01_19.rename(columns={'JUL_19_01':'PRECO'}, inplace=True)"
   ]
  },
  {
   "cell_type": "code",
   "execution_count": 52,
   "metadata": {},
   "outputs": [],
   "source": [
    "julho = df07_01_18.append(df07_01_19)"
   ]
  },
  {
   "cell_type": "code",
   "execution_count": 53,
   "metadata": {},
   "outputs": [
    {
     "data": {
      "text/html": [
       "<div>\n",
       "<style scoped>\n",
       "    .dataframe tbody tr th:only-of-type {\n",
       "        vertical-align: middle;\n",
       "    }\n",
       "\n",
       "    .dataframe tbody tr th {\n",
       "        vertical-align: top;\n",
       "    }\n",
       "\n",
       "    .dataframe thead th {\n",
       "        text-align: right;\n",
       "    }\n",
       "</style>\n",
       "<table border=\"1\" class=\"dataframe\">\n",
       "  <thead>\n",
       "    <tr style=\"text-align: right;\">\n",
       "      <th></th>\n",
       "      <th>BAIRROS</th>\n",
       "      <th>PRECO</th>\n",
       "      <th>MES</th>\n",
       "      <th>ANO</th>\n",
       "    </tr>\n",
       "  </thead>\n",
       "  <tbody>\n",
       "    <tr>\n",
       "      <th>0</th>\n",
       "      <td>ACLIMAÇÃO</td>\n",
       "      <td>9275.21</td>\n",
       "      <td>JULHO</td>\n",
       "      <td>2018</td>\n",
       "    </tr>\n",
       "    <tr>\n",
       "      <th>1</th>\n",
       "      <td>ALTO DA BOA VISTA</td>\n",
       "      <td>10222.6</td>\n",
       "      <td>JULHO</td>\n",
       "      <td>2018</td>\n",
       "    </tr>\n",
       "    <tr>\n",
       "      <th>2</th>\n",
       "      <td>BARRA FUNDA</td>\n",
       "      <td>9171.6</td>\n",
       "      <td>JULHO</td>\n",
       "      <td>2018</td>\n",
       "    </tr>\n",
       "    <tr>\n",
       "      <th>3</th>\n",
       "      <td>BELA VISTA</td>\n",
       "      <td>8463.86</td>\n",
       "      <td>JULHO</td>\n",
       "      <td>2018</td>\n",
       "    </tr>\n",
       "    <tr>\n",
       "      <th>4</th>\n",
       "      <td>BELÉM</td>\n",
       "      <td>5714.07</td>\n",
       "      <td>JULHO</td>\n",
       "      <td>2018</td>\n",
       "    </tr>\n",
       "  </tbody>\n",
       "</table>\n",
       "</div>"
      ],
      "text/plain": [
       "             BAIRROS    PRECO    MES   ANO\n",
       "0          ACLIMAÇÃO  9275.21  JULHO  2018\n",
       "1  ALTO DA BOA VISTA  10222.6  JULHO  2018\n",
       "2        BARRA FUNDA   9171.6  JULHO  2018\n",
       "3         BELA VISTA  8463.86  JULHO  2018\n",
       "4              BELÉM  5714.07  JULHO  2018"
      ]
     },
     "execution_count": 53,
     "metadata": {},
     "output_type": "execute_result"
    }
   ],
   "source": [
    "julho.head()"
   ]
  },
  {
   "cell_type": "markdown",
   "metadata": {},
   "source": [
    "### Agosto"
   ]
  },
  {
   "cell_type": "code",
   "execution_count": 54,
   "metadata": {
    "collapsed": true
   },
   "outputs": [
    {
     "name": "stderr",
     "output_type": "stream",
     "text": [
      "<ipython-input-54-5fabfdfe48e6>:3: SettingWithCopyWarning: \n",
      "A value is trying to be set on a copy of a slice from a DataFrame.\n",
      "Try using .loc[row_indexer,col_indexer] = value instead\n",
      "\n",
      "See the caveats in the documentation: https://pandas.pydata.org/pandas-docs/stable/user_guide/indexing.html#returning-a-view-versus-a-copy\n",
      "  df08_01_18['MES'] = 0\n",
      "<ipython-input-54-5fabfdfe48e6>:4: SettingWithCopyWarning: \n",
      "A value is trying to be set on a copy of a slice from a DataFrame.\n",
      "Try using .loc[row_indexer,col_indexer] = value instead\n",
      "\n",
      "See the caveats in the documentation: https://pandas.pydata.org/pandas-docs/stable/user_guide/indexing.html#returning-a-view-versus-a-copy\n",
      "  df08_01_18['ANO'] = 0\n",
      "<ipython-input-54-5fabfdfe48e6>:7: SettingWithCopyWarning: \n",
      "A value is trying to be set on a copy of a slice from a DataFrame.\n",
      "Try using .loc[row_indexer,col_indexer] = value instead\n",
      "\n",
      "See the caveats in the documentation: https://pandas.pydata.org/pandas-docs/stable/user_guide/indexing.html#returning-a-view-versus-a-copy\n",
      "  df08_01_18['MES'] = 'AGOSTO'\n",
      "<ipython-input-54-5fabfdfe48e6>:8: SettingWithCopyWarning: \n",
      "A value is trying to be set on a copy of a slice from a DataFrame.\n",
      "Try using .loc[row_indexer,col_indexer] = value instead\n",
      "\n",
      "See the caveats in the documentation: https://pandas.pydata.org/pandas-docs/stable/user_guide/indexing.html#returning-a-view-versus-a-copy\n",
      "  df08_01_18['ANO'] = 2018\n"
     ]
    }
   ],
   "source": [
    "df08_01_18 = df08[['BAIRROS', 'AGO_18_01']]\n",
    "\n",
    "df08_01_18['MES'] = 0\n",
    "df08_01_18['ANO'] = 0\n",
    "\n",
    "for index, row in df08_01_18.iterrows():\n",
    "    df08_01_18['MES'] = 'AGOSTO'\n",
    "    df08_01_18['ANO'] = 2018"
   ]
  },
  {
   "cell_type": "code",
   "execution_count": 55,
   "metadata": {
    "collapsed": true
   },
   "outputs": [
    {
     "name": "stderr",
     "output_type": "stream",
     "text": [
      "<ipython-input-55-e2bb00086c59>:3: SettingWithCopyWarning: \n",
      "A value is trying to be set on a copy of a slice from a DataFrame.\n",
      "Try using .loc[row_indexer,col_indexer] = value instead\n",
      "\n",
      "See the caveats in the documentation: https://pandas.pydata.org/pandas-docs/stable/user_guide/indexing.html#returning-a-view-versus-a-copy\n",
      "  df08_01_19['MES'] = 0\n",
      "<ipython-input-55-e2bb00086c59>:4: SettingWithCopyWarning: \n",
      "A value is trying to be set on a copy of a slice from a DataFrame.\n",
      "Try using .loc[row_indexer,col_indexer] = value instead\n",
      "\n",
      "See the caveats in the documentation: https://pandas.pydata.org/pandas-docs/stable/user_guide/indexing.html#returning-a-view-versus-a-copy\n",
      "  df08_01_19['ANO'] = 0\n",
      "<ipython-input-55-e2bb00086c59>:7: SettingWithCopyWarning: \n",
      "A value is trying to be set on a copy of a slice from a DataFrame.\n",
      "Try using .loc[row_indexer,col_indexer] = value instead\n",
      "\n",
      "See the caveats in the documentation: https://pandas.pydata.org/pandas-docs/stable/user_guide/indexing.html#returning-a-view-versus-a-copy\n",
      "  df08_01_19['MES'] = 'AGOSTO'\n",
      "<ipython-input-55-e2bb00086c59>:8: SettingWithCopyWarning: \n",
      "A value is trying to be set on a copy of a slice from a DataFrame.\n",
      "Try using .loc[row_indexer,col_indexer] = value instead\n",
      "\n",
      "See the caveats in the documentation: https://pandas.pydata.org/pandas-docs/stable/user_guide/indexing.html#returning-a-view-versus-a-copy\n",
      "  df08_01_19['ANO'] = 2019\n"
     ]
    }
   ],
   "source": [
    "df08_01_19 = df08[['BAIRROS', 'AGO_19_01']]\n",
    "\n",
    "df08_01_19['MES'] = 0\n",
    "df08_01_19['ANO'] = 0\n",
    "\n",
    "for index, row in df08_01_19.iterrows():\n",
    "    df08_01_19['MES'] = 'AGOSTO'\n",
    "    df08_01_19['ANO'] = 2019"
   ]
  },
  {
   "cell_type": "code",
   "execution_count": 56,
   "metadata": {},
   "outputs": [
    {
     "name": "stderr",
     "output_type": "stream",
     "text": [
      "C:\\Users\\carol\\Anaconda3.1\\lib\\site-packages\\pandas\\core\\frame.py:4296: SettingWithCopyWarning: \n",
      "A value is trying to be set on a copy of a slice from a DataFrame\n",
      "\n",
      "See the caveats in the documentation: https://pandas.pydata.org/pandas-docs/stable/user_guide/indexing.html#returning-a-view-versus-a-copy\n",
      "  return super().rename(\n"
     ]
    }
   ],
   "source": [
    "df08_01_18.rename(columns={'AGO_18_01':'PRECO'}, inplace=True)\n",
    "\n",
    "df08_01_19.rename(columns={'AGO_19_01':'PRECO'}, inplace=True)"
   ]
  },
  {
   "cell_type": "code",
   "execution_count": 57,
   "metadata": {},
   "outputs": [],
   "source": [
    "agosto = df08_01_18.append(df08_01_19)"
   ]
  },
  {
   "cell_type": "code",
   "execution_count": 58,
   "metadata": {},
   "outputs": [
    {
     "data": {
      "text/html": [
       "<div>\n",
       "<style scoped>\n",
       "    .dataframe tbody tr th:only-of-type {\n",
       "        vertical-align: middle;\n",
       "    }\n",
       "\n",
       "    .dataframe tbody tr th {\n",
       "        vertical-align: top;\n",
       "    }\n",
       "\n",
       "    .dataframe thead th {\n",
       "        text-align: right;\n",
       "    }\n",
       "</style>\n",
       "<table border=\"1\" class=\"dataframe\">\n",
       "  <thead>\n",
       "    <tr style=\"text-align: right;\">\n",
       "      <th></th>\n",
       "      <th>BAIRROS</th>\n",
       "      <th>PRECO</th>\n",
       "      <th>MES</th>\n",
       "      <th>ANO</th>\n",
       "    </tr>\n",
       "  </thead>\n",
       "  <tbody>\n",
       "    <tr>\n",
       "      <th>0</th>\n",
       "      <td>ACLIMAÇÃO</td>\n",
       "      <td>9274.63</td>\n",
       "      <td>AGOSTO</td>\n",
       "      <td>2018</td>\n",
       "    </tr>\n",
       "    <tr>\n",
       "      <th>1</th>\n",
       "      <td>ALTO DA BOA VISTA</td>\n",
       "      <td>10212.2</td>\n",
       "      <td>AGOSTO</td>\n",
       "      <td>2018</td>\n",
       "    </tr>\n",
       "    <tr>\n",
       "      <th>2</th>\n",
       "      <td>BARRA FUNDA</td>\n",
       "      <td>9150.91</td>\n",
       "      <td>AGOSTO</td>\n",
       "      <td>2018</td>\n",
       "    </tr>\n",
       "    <tr>\n",
       "      <th>3</th>\n",
       "      <td>BELA VISTA</td>\n",
       "      <td>8513.97</td>\n",
       "      <td>AGOSTO</td>\n",
       "      <td>2018</td>\n",
       "    </tr>\n",
       "    <tr>\n",
       "      <th>4</th>\n",
       "      <td>BELÉM</td>\n",
       "      <td>5743.01</td>\n",
       "      <td>AGOSTO</td>\n",
       "      <td>2018</td>\n",
       "    </tr>\n",
       "  </tbody>\n",
       "</table>\n",
       "</div>"
      ],
      "text/plain": [
       "             BAIRROS    PRECO     MES   ANO\n",
       "0          ACLIMAÇÃO  9274.63  AGOSTO  2018\n",
       "1  ALTO DA BOA VISTA  10212.2  AGOSTO  2018\n",
       "2        BARRA FUNDA  9150.91  AGOSTO  2018\n",
       "3         BELA VISTA  8513.97  AGOSTO  2018\n",
       "4              BELÉM  5743.01  AGOSTO  2018"
      ]
     },
     "execution_count": 58,
     "metadata": {},
     "output_type": "execute_result"
    }
   ],
   "source": [
    "agosto.head()"
   ]
  },
  {
   "cell_type": "markdown",
   "metadata": {},
   "source": [
    "### Setembro"
   ]
  },
  {
   "cell_type": "code",
   "execution_count": 59,
   "metadata": {
    "collapsed": true
   },
   "outputs": [
    {
     "name": "stderr",
     "output_type": "stream",
     "text": [
      "<ipython-input-59-2de2823b74a8>:3: SettingWithCopyWarning: \n",
      "A value is trying to be set on a copy of a slice from a DataFrame.\n",
      "Try using .loc[row_indexer,col_indexer] = value instead\n",
      "\n",
      "See the caveats in the documentation: https://pandas.pydata.org/pandas-docs/stable/user_guide/indexing.html#returning-a-view-versus-a-copy\n",
      "  df09_01_18['MES'] = 0\n",
      "<ipython-input-59-2de2823b74a8>:4: SettingWithCopyWarning: \n",
      "A value is trying to be set on a copy of a slice from a DataFrame.\n",
      "Try using .loc[row_indexer,col_indexer] = value instead\n",
      "\n",
      "See the caveats in the documentation: https://pandas.pydata.org/pandas-docs/stable/user_guide/indexing.html#returning-a-view-versus-a-copy\n",
      "  df09_01_18['ANO'] = 0\n",
      "<ipython-input-59-2de2823b74a8>:7: SettingWithCopyWarning: \n",
      "A value is trying to be set on a copy of a slice from a DataFrame.\n",
      "Try using .loc[row_indexer,col_indexer] = value instead\n",
      "\n",
      "See the caveats in the documentation: https://pandas.pydata.org/pandas-docs/stable/user_guide/indexing.html#returning-a-view-versus-a-copy\n",
      "  df09_01_18['MES'] = 'SETEMBRO'\n",
      "<ipython-input-59-2de2823b74a8>:8: SettingWithCopyWarning: \n",
      "A value is trying to be set on a copy of a slice from a DataFrame.\n",
      "Try using .loc[row_indexer,col_indexer] = value instead\n",
      "\n",
      "See the caveats in the documentation: https://pandas.pydata.org/pandas-docs/stable/user_guide/indexing.html#returning-a-view-versus-a-copy\n",
      "  df09_01_18['ANO'] = 2018\n"
     ]
    }
   ],
   "source": [
    "df09_01_18 = df09[['BAIRROS', 'SET_18_01']]\n",
    "\n",
    "df09_01_18['MES'] = 0\n",
    "df09_01_18['ANO'] = 0\n",
    "\n",
    "for index, row in df09_01_18.iterrows():\n",
    "    df09_01_18['MES'] = 'SETEMBRO'\n",
    "    df09_01_18['ANO'] = 2018"
   ]
  },
  {
   "cell_type": "code",
   "execution_count": 60,
   "metadata": {
    "collapsed": true
   },
   "outputs": [
    {
     "name": "stderr",
     "output_type": "stream",
     "text": [
      "<ipython-input-60-ca55101b0f0c>:3: SettingWithCopyWarning: \n",
      "A value is trying to be set on a copy of a slice from a DataFrame.\n",
      "Try using .loc[row_indexer,col_indexer] = value instead\n",
      "\n",
      "See the caveats in the documentation: https://pandas.pydata.org/pandas-docs/stable/user_guide/indexing.html#returning-a-view-versus-a-copy\n",
      "  df09_01_19['MES'] = 0\n",
      "<ipython-input-60-ca55101b0f0c>:4: SettingWithCopyWarning: \n",
      "A value is trying to be set on a copy of a slice from a DataFrame.\n",
      "Try using .loc[row_indexer,col_indexer] = value instead\n",
      "\n",
      "See the caveats in the documentation: https://pandas.pydata.org/pandas-docs/stable/user_guide/indexing.html#returning-a-view-versus-a-copy\n",
      "  df09_01_19['ANO'] = 0\n",
      "<ipython-input-60-ca55101b0f0c>:7: SettingWithCopyWarning: \n",
      "A value is trying to be set on a copy of a slice from a DataFrame.\n",
      "Try using .loc[row_indexer,col_indexer] = value instead\n",
      "\n",
      "See the caveats in the documentation: https://pandas.pydata.org/pandas-docs/stable/user_guide/indexing.html#returning-a-view-versus-a-copy\n",
      "  df09_01_19['MES'] = 'SETEMBRO'\n",
      "<ipython-input-60-ca55101b0f0c>:8: SettingWithCopyWarning: \n",
      "A value is trying to be set on a copy of a slice from a DataFrame.\n",
      "Try using .loc[row_indexer,col_indexer] = value instead\n",
      "\n",
      "See the caveats in the documentation: https://pandas.pydata.org/pandas-docs/stable/user_guide/indexing.html#returning-a-view-versus-a-copy\n",
      "  df09_01_19['ANO'] = 2019\n"
     ]
    }
   ],
   "source": [
    "df09_01_19 = df09[['BAIRROS', 'SET_19_01']]\n",
    "\n",
    "df09_01_19['MES'] = 0\n",
    "df09_01_19['ANO'] = 0\n",
    "\n",
    "for index, row in df09_01_19.iterrows():\n",
    "    df09_01_19['MES'] = 'SETEMBRO'\n",
    "    df09_01_19['ANO'] = 2019"
   ]
  },
  {
   "cell_type": "code",
   "execution_count": 61,
   "metadata": {},
   "outputs": [
    {
     "name": "stderr",
     "output_type": "stream",
     "text": [
      "C:\\Users\\carol\\Anaconda3.1\\lib\\site-packages\\pandas\\core\\frame.py:4296: SettingWithCopyWarning: \n",
      "A value is trying to be set on a copy of a slice from a DataFrame\n",
      "\n",
      "See the caveats in the documentation: https://pandas.pydata.org/pandas-docs/stable/user_guide/indexing.html#returning-a-view-versus-a-copy\n",
      "  return super().rename(\n"
     ]
    }
   ],
   "source": [
    "df09_01_18.rename(columns={'SET_18_01':'PRECO'}, inplace=True)\n",
    "\n",
    "df09_01_19.rename(columns={'SET_19_01':'PRECO'}, inplace=True)"
   ]
  },
  {
   "cell_type": "code",
   "execution_count": 62,
   "metadata": {},
   "outputs": [],
   "source": [
    "setembro = df09_01_18.append(df09_01_19)"
   ]
  },
  {
   "cell_type": "code",
   "execution_count": 63,
   "metadata": {},
   "outputs": [
    {
     "data": {
      "text/html": [
       "<div>\n",
       "<style scoped>\n",
       "    .dataframe tbody tr th:only-of-type {\n",
       "        vertical-align: middle;\n",
       "    }\n",
       "\n",
       "    .dataframe tbody tr th {\n",
       "        vertical-align: top;\n",
       "    }\n",
       "\n",
       "    .dataframe thead th {\n",
       "        text-align: right;\n",
       "    }\n",
       "</style>\n",
       "<table border=\"1\" class=\"dataframe\">\n",
       "  <thead>\n",
       "    <tr style=\"text-align: right;\">\n",
       "      <th></th>\n",
       "      <th>BAIRROS</th>\n",
       "      <th>PRECO</th>\n",
       "      <th>MES</th>\n",
       "      <th>ANO</th>\n",
       "    </tr>\n",
       "  </thead>\n",
       "  <tbody>\n",
       "    <tr>\n",
       "      <th>0</th>\n",
       "      <td>ACLIMAÇÃO</td>\n",
       "      <td>9002.96</td>\n",
       "      <td>SETEMBRO</td>\n",
       "      <td>2018</td>\n",
       "    </tr>\n",
       "    <tr>\n",
       "      <th>1</th>\n",
       "      <td>ALTO DA BOA VISTA</td>\n",
       "      <td>10208.9</td>\n",
       "      <td>SETEMBRO</td>\n",
       "      <td>2018</td>\n",
       "    </tr>\n",
       "    <tr>\n",
       "      <th>2</th>\n",
       "      <td>BARRA FUNDA</td>\n",
       "      <td>8958.97</td>\n",
       "      <td>SETEMBRO</td>\n",
       "      <td>2018</td>\n",
       "    </tr>\n",
       "    <tr>\n",
       "      <th>3</th>\n",
       "      <td>BELA VISTA</td>\n",
       "      <td>8516.44</td>\n",
       "      <td>SETEMBRO</td>\n",
       "      <td>2018</td>\n",
       "    </tr>\n",
       "    <tr>\n",
       "      <th>4</th>\n",
       "      <td>BELÉM</td>\n",
       "      <td>5700.35</td>\n",
       "      <td>SETEMBRO</td>\n",
       "      <td>2018</td>\n",
       "    </tr>\n",
       "  </tbody>\n",
       "</table>\n",
       "</div>"
      ],
      "text/plain": [
       "             BAIRROS    PRECO       MES   ANO\n",
       "0          ACLIMAÇÃO  9002.96  SETEMBRO  2018\n",
       "1  ALTO DA BOA VISTA  10208.9  SETEMBRO  2018\n",
       "2        BARRA FUNDA  8958.97  SETEMBRO  2018\n",
       "3         BELA VISTA  8516.44  SETEMBRO  2018\n",
       "4              BELÉM  5700.35  SETEMBRO  2018"
      ]
     },
     "execution_count": 63,
     "metadata": {},
     "output_type": "execute_result"
    }
   ],
   "source": [
    "setembro.head()"
   ]
  },
  {
   "cell_type": "markdown",
   "metadata": {},
   "source": [
    "### Outubro"
   ]
  },
  {
   "cell_type": "code",
   "execution_count": 64,
   "metadata": {
    "collapsed": true
   },
   "outputs": [
    {
     "name": "stderr",
     "output_type": "stream",
     "text": [
      "<ipython-input-64-338edc065f58>:3: SettingWithCopyWarning: \n",
      "A value is trying to be set on a copy of a slice from a DataFrame.\n",
      "Try using .loc[row_indexer,col_indexer] = value instead\n",
      "\n",
      "See the caveats in the documentation: https://pandas.pydata.org/pandas-docs/stable/user_guide/indexing.html#returning-a-view-versus-a-copy\n",
      "  df10_01_18['MES'] = 0\n",
      "<ipython-input-64-338edc065f58>:4: SettingWithCopyWarning: \n",
      "A value is trying to be set on a copy of a slice from a DataFrame.\n",
      "Try using .loc[row_indexer,col_indexer] = value instead\n",
      "\n",
      "See the caveats in the documentation: https://pandas.pydata.org/pandas-docs/stable/user_guide/indexing.html#returning-a-view-versus-a-copy\n",
      "  df10_01_18['ANO'] = 0\n",
      "<ipython-input-64-338edc065f58>:7: SettingWithCopyWarning: \n",
      "A value is trying to be set on a copy of a slice from a DataFrame.\n",
      "Try using .loc[row_indexer,col_indexer] = value instead\n",
      "\n",
      "See the caveats in the documentation: https://pandas.pydata.org/pandas-docs/stable/user_guide/indexing.html#returning-a-view-versus-a-copy\n",
      "  df10_01_18['MES'] = 'OUTUBRO'\n",
      "<ipython-input-64-338edc065f58>:8: SettingWithCopyWarning: \n",
      "A value is trying to be set on a copy of a slice from a DataFrame.\n",
      "Try using .loc[row_indexer,col_indexer] = value instead\n",
      "\n",
      "See the caveats in the documentation: https://pandas.pydata.org/pandas-docs/stable/user_guide/indexing.html#returning-a-view-versus-a-copy\n",
      "  df10_01_18['ANO'] = 2018\n"
     ]
    }
   ],
   "source": [
    "df10_01_18 = df10[['BAIRROS', 'OUT_18_01']]\n",
    "\n",
    "df10_01_18['MES'] = 0\n",
    "df10_01_18['ANO'] = 0\n",
    "\n",
    "for index, row in df10_01_18.iterrows():\n",
    "    df10_01_18['MES'] = 'OUTUBRO'\n",
    "    df10_01_18['ANO'] = 2018"
   ]
  },
  {
   "cell_type": "code",
   "execution_count": 65,
   "metadata": {
    "collapsed": true
   },
   "outputs": [
    {
     "name": "stderr",
     "output_type": "stream",
     "text": [
      "<ipython-input-65-0893c23006f0>:3: SettingWithCopyWarning: \n",
      "A value is trying to be set on a copy of a slice from a DataFrame.\n",
      "Try using .loc[row_indexer,col_indexer] = value instead\n",
      "\n",
      "See the caveats in the documentation: https://pandas.pydata.org/pandas-docs/stable/user_guide/indexing.html#returning-a-view-versus-a-copy\n",
      "  df10_01_19['MES'] = 0\n",
      "<ipython-input-65-0893c23006f0>:4: SettingWithCopyWarning: \n",
      "A value is trying to be set on a copy of a slice from a DataFrame.\n",
      "Try using .loc[row_indexer,col_indexer] = value instead\n",
      "\n",
      "See the caveats in the documentation: https://pandas.pydata.org/pandas-docs/stable/user_guide/indexing.html#returning-a-view-versus-a-copy\n",
      "  df10_01_19['ANO'] = 0\n",
      "<ipython-input-65-0893c23006f0>:7: SettingWithCopyWarning: \n",
      "A value is trying to be set on a copy of a slice from a DataFrame.\n",
      "Try using .loc[row_indexer,col_indexer] = value instead\n",
      "\n",
      "See the caveats in the documentation: https://pandas.pydata.org/pandas-docs/stable/user_guide/indexing.html#returning-a-view-versus-a-copy\n",
      "  df10_01_19['MES'] = 'OUTUBRO'\n",
      "<ipython-input-65-0893c23006f0>:8: SettingWithCopyWarning: \n",
      "A value is trying to be set on a copy of a slice from a DataFrame.\n",
      "Try using .loc[row_indexer,col_indexer] = value instead\n",
      "\n",
      "See the caveats in the documentation: https://pandas.pydata.org/pandas-docs/stable/user_guide/indexing.html#returning-a-view-versus-a-copy\n",
      "  df10_01_19['ANO'] = 2019\n"
     ]
    }
   ],
   "source": [
    "df10_01_19 = df10[['BAIRROS', 'OUT_19_01']]\n",
    "\n",
    "df10_01_19['MES'] = 0\n",
    "df10_01_19['ANO'] = 0\n",
    "\n",
    "for index, row in df10_01_19.iterrows():\n",
    "    df10_01_19['MES'] = 'OUTUBRO'\n",
    "    df10_01_19['ANO'] = 2019"
   ]
  },
  {
   "cell_type": "code",
   "execution_count": 66,
   "metadata": {},
   "outputs": [
    {
     "name": "stderr",
     "output_type": "stream",
     "text": [
      "C:\\Users\\carol\\Anaconda3.1\\lib\\site-packages\\pandas\\core\\frame.py:4296: SettingWithCopyWarning: \n",
      "A value is trying to be set on a copy of a slice from a DataFrame\n",
      "\n",
      "See the caveats in the documentation: https://pandas.pydata.org/pandas-docs/stable/user_guide/indexing.html#returning-a-view-versus-a-copy\n",
      "  return super().rename(\n"
     ]
    }
   ],
   "source": [
    "df10_01_18.rename(columns={'OUT_18_01':'PRECO'}, inplace=True)\n",
    "\n",
    "df10_01_19.rename(columns={'OUT_19_01':'PRECO'}, inplace=True)"
   ]
  },
  {
   "cell_type": "code",
   "execution_count": 67,
   "metadata": {},
   "outputs": [],
   "source": [
    "outubro = df10_01_18.append(df10_01_19)"
   ]
  },
  {
   "cell_type": "code",
   "execution_count": 68,
   "metadata": {},
   "outputs": [
    {
     "data": {
      "text/html": [
       "<div>\n",
       "<style scoped>\n",
       "    .dataframe tbody tr th:only-of-type {\n",
       "        vertical-align: middle;\n",
       "    }\n",
       "\n",
       "    .dataframe tbody tr th {\n",
       "        vertical-align: top;\n",
       "    }\n",
       "\n",
       "    .dataframe thead th {\n",
       "        text-align: right;\n",
       "    }\n",
       "</style>\n",
       "<table border=\"1\" class=\"dataframe\">\n",
       "  <thead>\n",
       "    <tr style=\"text-align: right;\">\n",
       "      <th></th>\n",
       "      <th>BAIRROS</th>\n",
       "      <th>PRECO</th>\n",
       "      <th>MES</th>\n",
       "      <th>ANO</th>\n",
       "    </tr>\n",
       "  </thead>\n",
       "  <tbody>\n",
       "    <tr>\n",
       "      <th>0</th>\n",
       "      <td>ACLIMAÇÃO</td>\n",
       "      <td>8967.14</td>\n",
       "      <td>OUTUBRO</td>\n",
       "      <td>2018</td>\n",
       "    </tr>\n",
       "    <tr>\n",
       "      <th>1</th>\n",
       "      <td>ALTO DA BOA VISTA</td>\n",
       "      <td>10216.4</td>\n",
       "      <td>OUTUBRO</td>\n",
       "      <td>2018</td>\n",
       "    </tr>\n",
       "    <tr>\n",
       "      <th>2</th>\n",
       "      <td>BARRA FUNDA</td>\n",
       "      <td>8945.49</td>\n",
       "      <td>OUTUBRO</td>\n",
       "      <td>2018</td>\n",
       "    </tr>\n",
       "    <tr>\n",
       "      <th>3</th>\n",
       "      <td>BELA VISTA</td>\n",
       "      <td>8505.93</td>\n",
       "      <td>OUTUBRO</td>\n",
       "      <td>2018</td>\n",
       "    </tr>\n",
       "    <tr>\n",
       "      <th>4</th>\n",
       "      <td>BELÉM</td>\n",
       "      <td>5784.27</td>\n",
       "      <td>OUTUBRO</td>\n",
       "      <td>2018</td>\n",
       "    </tr>\n",
       "  </tbody>\n",
       "</table>\n",
       "</div>"
      ],
      "text/plain": [
       "             BAIRROS    PRECO      MES   ANO\n",
       "0          ACLIMAÇÃO  8967.14  OUTUBRO  2018\n",
       "1  ALTO DA BOA VISTA  10216.4  OUTUBRO  2018\n",
       "2        BARRA FUNDA  8945.49  OUTUBRO  2018\n",
       "3         BELA VISTA  8505.93  OUTUBRO  2018\n",
       "4              BELÉM  5784.27  OUTUBRO  2018"
      ]
     },
     "execution_count": 68,
     "metadata": {},
     "output_type": "execute_result"
    }
   ],
   "source": [
    "outubro.head()"
   ]
  },
  {
   "cell_type": "markdown",
   "metadata": {},
   "source": [
    "### Novembro"
   ]
  },
  {
   "cell_type": "code",
   "execution_count": 69,
   "metadata": {
    "collapsed": true
   },
   "outputs": [
    {
     "name": "stderr",
     "output_type": "stream",
     "text": [
      "<ipython-input-69-120a3c9d043d>:3: SettingWithCopyWarning: \n",
      "A value is trying to be set on a copy of a slice from a DataFrame.\n",
      "Try using .loc[row_indexer,col_indexer] = value instead\n",
      "\n",
      "See the caveats in the documentation: https://pandas.pydata.org/pandas-docs/stable/user_guide/indexing.html#returning-a-view-versus-a-copy\n",
      "  df11_01_18['MES'] = 0\n",
      "<ipython-input-69-120a3c9d043d>:4: SettingWithCopyWarning: \n",
      "A value is trying to be set on a copy of a slice from a DataFrame.\n",
      "Try using .loc[row_indexer,col_indexer] = value instead\n",
      "\n",
      "See the caveats in the documentation: https://pandas.pydata.org/pandas-docs/stable/user_guide/indexing.html#returning-a-view-versus-a-copy\n",
      "  df11_01_18['ANO'] = 0\n",
      "<ipython-input-69-120a3c9d043d>:7: SettingWithCopyWarning: \n",
      "A value is trying to be set on a copy of a slice from a DataFrame.\n",
      "Try using .loc[row_indexer,col_indexer] = value instead\n",
      "\n",
      "See the caveats in the documentation: https://pandas.pydata.org/pandas-docs/stable/user_guide/indexing.html#returning-a-view-versus-a-copy\n",
      "  df11_01_18['MES'] = 'NOVEMBRO'\n",
      "<ipython-input-69-120a3c9d043d>:8: SettingWithCopyWarning: \n",
      "A value is trying to be set on a copy of a slice from a DataFrame.\n",
      "Try using .loc[row_indexer,col_indexer] = value instead\n",
      "\n",
      "See the caveats in the documentation: https://pandas.pydata.org/pandas-docs/stable/user_guide/indexing.html#returning-a-view-versus-a-copy\n",
      "  df11_01_18['ANO'] = 2018\n"
     ]
    }
   ],
   "source": [
    "df11_01_18 = df11[['BAIRROS', 'NOV_18_01']]\n",
    "\n",
    "df11_01_18['MES'] = 0\n",
    "df11_01_18['ANO'] = 0\n",
    "\n",
    "for index, row in df11_01_18.iterrows():\n",
    "    df11_01_18['MES'] = 'NOVEMBRO'\n",
    "    df11_01_18['ANO'] = 2018"
   ]
  },
  {
   "cell_type": "code",
   "execution_count": 70,
   "metadata": {
    "collapsed": true
   },
   "outputs": [
    {
     "name": "stderr",
     "output_type": "stream",
     "text": [
      "<ipython-input-70-887574410d34>:3: SettingWithCopyWarning: \n",
      "A value is trying to be set on a copy of a slice from a DataFrame.\n",
      "Try using .loc[row_indexer,col_indexer] = value instead\n",
      "\n",
      "See the caveats in the documentation: https://pandas.pydata.org/pandas-docs/stable/user_guide/indexing.html#returning-a-view-versus-a-copy\n",
      "  df11_01_19['MES'] = 0\n",
      "<ipython-input-70-887574410d34>:4: SettingWithCopyWarning: \n",
      "A value is trying to be set on a copy of a slice from a DataFrame.\n",
      "Try using .loc[row_indexer,col_indexer] = value instead\n",
      "\n",
      "See the caveats in the documentation: https://pandas.pydata.org/pandas-docs/stable/user_guide/indexing.html#returning-a-view-versus-a-copy\n",
      "  df11_01_19['ANO'] = 0\n",
      "<ipython-input-70-887574410d34>:7: SettingWithCopyWarning: \n",
      "A value is trying to be set on a copy of a slice from a DataFrame.\n",
      "Try using .loc[row_indexer,col_indexer] = value instead\n",
      "\n",
      "See the caveats in the documentation: https://pandas.pydata.org/pandas-docs/stable/user_guide/indexing.html#returning-a-view-versus-a-copy\n",
      "  df11_01_19['MES'] = 'NOVEMBRO'\n",
      "<ipython-input-70-887574410d34>:8: SettingWithCopyWarning: \n",
      "A value is trying to be set on a copy of a slice from a DataFrame.\n",
      "Try using .loc[row_indexer,col_indexer] = value instead\n",
      "\n",
      "See the caveats in the documentation: https://pandas.pydata.org/pandas-docs/stable/user_guide/indexing.html#returning-a-view-versus-a-copy\n",
      "  df11_01_19['ANO'] = 2019\n"
     ]
    }
   ],
   "source": [
    "df11_01_19 = df11[['BAIRROS', 'NOV_19_01']]\n",
    "\n",
    "df11_01_19['MES'] = 0\n",
    "df11_01_19['ANO'] = 0\n",
    "\n",
    "for index, row in df11_01_19.iterrows():\n",
    "    df11_01_19['MES'] = 'NOVEMBRO'\n",
    "    df11_01_19['ANO'] = 2019"
   ]
  },
  {
   "cell_type": "code",
   "execution_count": 71,
   "metadata": {},
   "outputs": [
    {
     "name": "stderr",
     "output_type": "stream",
     "text": [
      "C:\\Users\\carol\\Anaconda3.1\\lib\\site-packages\\pandas\\core\\frame.py:4296: SettingWithCopyWarning: \n",
      "A value is trying to be set on a copy of a slice from a DataFrame\n",
      "\n",
      "See the caveats in the documentation: https://pandas.pydata.org/pandas-docs/stable/user_guide/indexing.html#returning-a-view-versus-a-copy\n",
      "  return super().rename(\n"
     ]
    }
   ],
   "source": [
    "df11_01_18.rename(columns={'NOV_18_01':'PRECO'}, inplace=True)\n",
    "\n",
    "df11_01_19.rename(columns={'NOV_19_01':'PRECO'}, inplace=True)"
   ]
  },
  {
   "cell_type": "code",
   "execution_count": 72,
   "metadata": {},
   "outputs": [],
   "source": [
    "novembro = df11_01_18.append(df11_01_19)"
   ]
  },
  {
   "cell_type": "code",
   "execution_count": 73,
   "metadata": {},
   "outputs": [
    {
     "data": {
      "text/html": [
       "<div>\n",
       "<style scoped>\n",
       "    .dataframe tbody tr th:only-of-type {\n",
       "        vertical-align: middle;\n",
       "    }\n",
       "\n",
       "    .dataframe tbody tr th {\n",
       "        vertical-align: top;\n",
       "    }\n",
       "\n",
       "    .dataframe thead th {\n",
       "        text-align: right;\n",
       "    }\n",
       "</style>\n",
       "<table border=\"1\" class=\"dataframe\">\n",
       "  <thead>\n",
       "    <tr style=\"text-align: right;\">\n",
       "      <th></th>\n",
       "      <th>BAIRROS</th>\n",
       "      <th>PRECO</th>\n",
       "      <th>MES</th>\n",
       "      <th>ANO</th>\n",
       "    </tr>\n",
       "  </thead>\n",
       "  <tbody>\n",
       "    <tr>\n",
       "      <th>0</th>\n",
       "      <td>ACLIMAÇÃO</td>\n",
       "      <td>8913.19</td>\n",
       "      <td>NOVEMBRO</td>\n",
       "      <td>2018</td>\n",
       "    </tr>\n",
       "    <tr>\n",
       "      <th>1</th>\n",
       "      <td>ALTO DA BOA VISTA</td>\n",
       "      <td>10233.1</td>\n",
       "      <td>NOVEMBRO</td>\n",
       "      <td>2018</td>\n",
       "    </tr>\n",
       "    <tr>\n",
       "      <th>2</th>\n",
       "      <td>BARRA FUNDA</td>\n",
       "      <td>8940.16</td>\n",
       "      <td>NOVEMBRO</td>\n",
       "      <td>2018</td>\n",
       "    </tr>\n",
       "    <tr>\n",
       "      <th>3</th>\n",
       "      <td>BELA VISTA</td>\n",
       "      <td>8508</td>\n",
       "      <td>NOVEMBRO</td>\n",
       "      <td>2018</td>\n",
       "    </tr>\n",
       "    <tr>\n",
       "      <th>4</th>\n",
       "      <td>BELÉM</td>\n",
       "      <td>5910.61</td>\n",
       "      <td>NOVEMBRO</td>\n",
       "      <td>2018</td>\n",
       "    </tr>\n",
       "  </tbody>\n",
       "</table>\n",
       "</div>"
      ],
      "text/plain": [
       "             BAIRROS    PRECO       MES   ANO\n",
       "0          ACLIMAÇÃO  8913.19  NOVEMBRO  2018\n",
       "1  ALTO DA BOA VISTA  10233.1  NOVEMBRO  2018\n",
       "2        BARRA FUNDA  8940.16  NOVEMBRO  2018\n",
       "3         BELA VISTA     8508  NOVEMBRO  2018\n",
       "4              BELÉM  5910.61  NOVEMBRO  2018"
      ]
     },
     "execution_count": 73,
     "metadata": {},
     "output_type": "execute_result"
    }
   ],
   "source": [
    "novembro.head()"
   ]
  },
  {
   "cell_type": "markdown",
   "metadata": {},
   "source": [
    "### Dezembro"
   ]
  },
  {
   "cell_type": "code",
   "execution_count": 74,
   "metadata": {
    "collapsed": true
   },
   "outputs": [
    {
     "name": "stderr",
     "output_type": "stream",
     "text": [
      "<ipython-input-74-d272a45e408d>:3: SettingWithCopyWarning: \n",
      "A value is trying to be set on a copy of a slice from a DataFrame.\n",
      "Try using .loc[row_indexer,col_indexer] = value instead\n",
      "\n",
      "See the caveats in the documentation: https://pandas.pydata.org/pandas-docs/stable/user_guide/indexing.html#returning-a-view-versus-a-copy\n",
      "  df12_01_18['MES'] = 0\n",
      "<ipython-input-74-d272a45e408d>:4: SettingWithCopyWarning: \n",
      "A value is trying to be set on a copy of a slice from a DataFrame.\n",
      "Try using .loc[row_indexer,col_indexer] = value instead\n",
      "\n",
      "See the caveats in the documentation: https://pandas.pydata.org/pandas-docs/stable/user_guide/indexing.html#returning-a-view-versus-a-copy\n",
      "  df12_01_18['ANO'] = 0\n",
      "<ipython-input-74-d272a45e408d>:7: SettingWithCopyWarning: \n",
      "A value is trying to be set on a copy of a slice from a DataFrame.\n",
      "Try using .loc[row_indexer,col_indexer] = value instead\n",
      "\n",
      "See the caveats in the documentation: https://pandas.pydata.org/pandas-docs/stable/user_guide/indexing.html#returning-a-view-versus-a-copy\n",
      "  df12_01_18['MES'] = 'DEZEMBRO'\n",
      "<ipython-input-74-d272a45e408d>:8: SettingWithCopyWarning: \n",
      "A value is trying to be set on a copy of a slice from a DataFrame.\n",
      "Try using .loc[row_indexer,col_indexer] = value instead\n",
      "\n",
      "See the caveats in the documentation: https://pandas.pydata.org/pandas-docs/stable/user_guide/indexing.html#returning-a-view-versus-a-copy\n",
      "  df12_01_18['ANO'] = 2018\n"
     ]
    }
   ],
   "source": [
    "df12_01_18 = df12[['BAIRROS', 'DEZ_18_01']]\n",
    "\n",
    "df12_01_18['MES'] = 0\n",
    "df12_01_18['ANO'] = 0\n",
    "\n",
    "for index, row in df12_01_18.iterrows():\n",
    "    df12_01_18['MES'] = 'DEZEMBRO'\n",
    "    df12_01_18['ANO'] = 2018"
   ]
  },
  {
   "cell_type": "code",
   "execution_count": 75,
   "metadata": {
    "collapsed": true
   },
   "outputs": [
    {
     "name": "stderr",
     "output_type": "stream",
     "text": [
      "<ipython-input-75-86691fa95940>:3: SettingWithCopyWarning: \n",
      "A value is trying to be set on a copy of a slice from a DataFrame.\n",
      "Try using .loc[row_indexer,col_indexer] = value instead\n",
      "\n",
      "See the caveats in the documentation: https://pandas.pydata.org/pandas-docs/stable/user_guide/indexing.html#returning-a-view-versus-a-copy\n",
      "  df12_01_19['MES'] = 0\n",
      "<ipython-input-75-86691fa95940>:4: SettingWithCopyWarning: \n",
      "A value is trying to be set on a copy of a slice from a DataFrame.\n",
      "Try using .loc[row_indexer,col_indexer] = value instead\n",
      "\n",
      "See the caveats in the documentation: https://pandas.pydata.org/pandas-docs/stable/user_guide/indexing.html#returning-a-view-versus-a-copy\n",
      "  df12_01_19['ANO'] = 0\n",
      "<ipython-input-75-86691fa95940>:7: SettingWithCopyWarning: \n",
      "A value is trying to be set on a copy of a slice from a DataFrame.\n",
      "Try using .loc[row_indexer,col_indexer] = value instead\n",
      "\n",
      "See the caveats in the documentation: https://pandas.pydata.org/pandas-docs/stable/user_guide/indexing.html#returning-a-view-versus-a-copy\n",
      "  df12_01_19['MES'] = 'DEZEMBRO'\n",
      "<ipython-input-75-86691fa95940>:8: SettingWithCopyWarning: \n",
      "A value is trying to be set on a copy of a slice from a DataFrame.\n",
      "Try using .loc[row_indexer,col_indexer] = value instead\n",
      "\n",
      "See the caveats in the documentation: https://pandas.pydata.org/pandas-docs/stable/user_guide/indexing.html#returning-a-view-versus-a-copy\n",
      "  df12_01_19['ANO'] = 2019\n"
     ]
    }
   ],
   "source": [
    "df12_01_19 = df12[['BAIRROS', 'DEZ_19_01']]\n",
    "\n",
    "df12_01_19['MES'] = 0\n",
    "df12_01_19['ANO'] = 0\n",
    "\n",
    "for index, row in df12_01_19.iterrows():\n",
    "    df12_01_19['MES'] = 'DEZEMBRO'\n",
    "    df12_01_19['ANO'] = 2019"
   ]
  },
  {
   "cell_type": "code",
   "execution_count": 76,
   "metadata": {},
   "outputs": [
    {
     "name": "stderr",
     "output_type": "stream",
     "text": [
      "C:\\Users\\carol\\Anaconda3.1\\lib\\site-packages\\pandas\\core\\frame.py:4296: SettingWithCopyWarning: \n",
      "A value is trying to be set on a copy of a slice from a DataFrame\n",
      "\n",
      "See the caveats in the documentation: https://pandas.pydata.org/pandas-docs/stable/user_guide/indexing.html#returning-a-view-versus-a-copy\n",
      "  return super().rename(\n"
     ]
    }
   ],
   "source": [
    "df12_01_18.rename(columns={'DEZ_18_01':'PRECO'}, inplace=True)\n",
    "\n",
    "df12_01_19.rename(columns={'DEZ_19_01':'PRECO'}, inplace=True)"
   ]
  },
  {
   "cell_type": "code",
   "execution_count": 77,
   "metadata": {},
   "outputs": [],
   "source": [
    "dezembro = df12_01_18.append(df12_01_19)"
   ]
  },
  {
   "cell_type": "code",
   "execution_count": 78,
   "metadata": {},
   "outputs": [
    {
     "data": {
      "text/html": [
       "<div>\n",
       "<style scoped>\n",
       "    .dataframe tbody tr th:only-of-type {\n",
       "        vertical-align: middle;\n",
       "    }\n",
       "\n",
       "    .dataframe tbody tr th {\n",
       "        vertical-align: top;\n",
       "    }\n",
       "\n",
       "    .dataframe thead th {\n",
       "        text-align: right;\n",
       "    }\n",
       "</style>\n",
       "<table border=\"1\" class=\"dataframe\">\n",
       "  <thead>\n",
       "    <tr style=\"text-align: right;\">\n",
       "      <th></th>\n",
       "      <th>BAIRROS</th>\n",
       "      <th>PRECO</th>\n",
       "      <th>MES</th>\n",
       "      <th>ANO</th>\n",
       "    </tr>\n",
       "  </thead>\n",
       "  <tbody>\n",
       "    <tr>\n",
       "      <th>0</th>\n",
       "      <td>ACLIMAÇÃO</td>\n",
       "      <td>8867.18</td>\n",
       "      <td>DEZEMBRO</td>\n",
       "      <td>2018</td>\n",
       "    </tr>\n",
       "    <tr>\n",
       "      <th>1</th>\n",
       "      <td>ALTO DA BOA VISTA</td>\n",
       "      <td>10272</td>\n",
       "      <td>DEZEMBRO</td>\n",
       "      <td>2018</td>\n",
       "    </tr>\n",
       "    <tr>\n",
       "      <th>2</th>\n",
       "      <td>BARRA FUNDA</td>\n",
       "      <td>8998.9</td>\n",
       "      <td>DEZEMBRO</td>\n",
       "      <td>2018</td>\n",
       "    </tr>\n",
       "    <tr>\n",
       "      <th>3</th>\n",
       "      <td>BELA VISTA</td>\n",
       "      <td>8543.23</td>\n",
       "      <td>DEZEMBRO</td>\n",
       "      <td>2018</td>\n",
       "    </tr>\n",
       "    <tr>\n",
       "      <th>4</th>\n",
       "      <td>BELÉM</td>\n",
       "      <td>5954.94</td>\n",
       "      <td>DEZEMBRO</td>\n",
       "      <td>2018</td>\n",
       "    </tr>\n",
       "  </tbody>\n",
       "</table>\n",
       "</div>"
      ],
      "text/plain": [
       "             BAIRROS    PRECO       MES   ANO\n",
       "0          ACLIMAÇÃO  8867.18  DEZEMBRO  2018\n",
       "1  ALTO DA BOA VISTA    10272  DEZEMBRO  2018\n",
       "2        BARRA FUNDA   8998.9  DEZEMBRO  2018\n",
       "3         BELA VISTA  8543.23  DEZEMBRO  2018\n",
       "4              BELÉM  5954.94  DEZEMBRO  2018"
      ]
     },
     "execution_count": 78,
     "metadata": {},
     "output_type": "execute_result"
    }
   ],
   "source": [
    "dezembro.head()"
   ]
  },
  {
   "cell_type": "markdown",
   "metadata": {},
   "source": [
    "### Concatenando dataframes\n",
    "Criação de dataframe dormitorio_01, que representa dados de imóveis com único dormitório."
   ]
  },
  {
   "cell_type": "code",
   "execution_count": 81,
   "metadata": {},
   "outputs": [],
   "source": [
    "dormitorio_01 = pd.concat([janeiro, fevereiro, marco, abril, maio, junho, julho, agosto, setembro, outubro, novembro, dezembro])"
   ]
  },
  {
   "cell_type": "code",
   "execution_count": 82,
   "metadata": {},
   "outputs": [],
   "source": [
    "dormitorio_01.reset_index(drop=True, inplace=True)"
   ]
  },
  {
   "cell_type": "code",
   "execution_count": 85,
   "metadata": {},
   "outputs": [],
   "source": [
    "dormitorio_01['n_dormitorios'] = 0\n",
    "\n",
    "for index, row in dormitorio_01.iterrows():\n",
    "    dormitorio_01['n_dormitorios'] = 1    "
   ]
  },
  {
   "cell_type": "code",
   "execution_count": 86,
   "metadata": {},
   "outputs": [
    {
     "data": {
      "text/html": [
       "<div>\n",
       "<style scoped>\n",
       "    .dataframe tbody tr th:only-of-type {\n",
       "        vertical-align: middle;\n",
       "    }\n",
       "\n",
       "    .dataframe tbody tr th {\n",
       "        vertical-align: top;\n",
       "    }\n",
       "\n",
       "    .dataframe thead th {\n",
       "        text-align: right;\n",
       "    }\n",
       "</style>\n",
       "<table border=\"1\" class=\"dataframe\">\n",
       "  <thead>\n",
       "    <tr style=\"text-align: right;\">\n",
       "      <th></th>\n",
       "      <th>BAIRROS</th>\n",
       "      <th>PRECO</th>\n",
       "      <th>MES</th>\n",
       "      <th>ANO</th>\n",
       "      <th>n_dormitorios</th>\n",
       "    </tr>\n",
       "  </thead>\n",
       "  <tbody>\n",
       "    <tr>\n",
       "      <th>0</th>\n",
       "      <td>ACLIMAÇÃO</td>\n",
       "      <td>8664.17</td>\n",
       "      <td>JANEIRO</td>\n",
       "      <td>2018</td>\n",
       "      <td>1</td>\n",
       "    </tr>\n",
       "    <tr>\n",
       "      <th>1</th>\n",
       "      <td>ALTO DA BOA VISTA</td>\n",
       "      <td>10175.4</td>\n",
       "      <td>JANEIRO</td>\n",
       "      <td>2018</td>\n",
       "      <td>1</td>\n",
       "    </tr>\n",
       "    <tr>\n",
       "      <th>2</th>\n",
       "      <td>BARRA FUNDA</td>\n",
       "      <td>9208.55</td>\n",
       "      <td>JANEIRO</td>\n",
       "      <td>2018</td>\n",
       "      <td>1</td>\n",
       "    </tr>\n",
       "    <tr>\n",
       "      <th>3</th>\n",
       "      <td>BELA VISTA</td>\n",
       "      <td>8465.83</td>\n",
       "      <td>JANEIRO</td>\n",
       "      <td>2018</td>\n",
       "      <td>1</td>\n",
       "    </tr>\n",
       "    <tr>\n",
       "      <th>4</th>\n",
       "      <td>BELÉM</td>\n",
       "      <td>5908.94</td>\n",
       "      <td>JANEIRO</td>\n",
       "      <td>2018</td>\n",
       "      <td>1</td>\n",
       "    </tr>\n",
       "    <tr>\n",
       "      <th>...</th>\n",
       "      <td>...</td>\n",
       "      <td>...</td>\n",
       "      <td>...</td>\n",
       "      <td>...</td>\n",
       "      <td>...</td>\n",
       "    </tr>\n",
       "    <tr>\n",
       "      <th>1579</th>\n",
       "      <td>VILA OLÍMPIA</td>\n",
       "      <td>15040.4</td>\n",
       "      <td>DEZEMBRO</td>\n",
       "      <td>2019</td>\n",
       "      <td>1</td>\n",
       "    </tr>\n",
       "    <tr>\n",
       "      <th>1580</th>\n",
       "      <td>VILA PRUDENTE</td>\n",
       "      <td>6411.92</td>\n",
       "      <td>DEZEMBRO</td>\n",
       "      <td>2019</td>\n",
       "      <td>1</td>\n",
       "    </tr>\n",
       "    <tr>\n",
       "      <th>1581</th>\n",
       "      <td>VILA ROMANA</td>\n",
       "      <td>6992.1</td>\n",
       "      <td>DEZEMBRO</td>\n",
       "      <td>2019</td>\n",
       "      <td>1</td>\n",
       "    </tr>\n",
       "    <tr>\n",
       "      <th>1582</th>\n",
       "      <td>VILA SÔNIA</td>\n",
       "      <td>7149.61</td>\n",
       "      <td>DEZEMBRO</td>\n",
       "      <td>2019</td>\n",
       "      <td>1</td>\n",
       "    </tr>\n",
       "    <tr>\n",
       "      <th>1583</th>\n",
       "      <td>Fonte: Secovi-SP</td>\n",
       "      <td>NaN</td>\n",
       "      <td>DEZEMBRO</td>\n",
       "      <td>2019</td>\n",
       "      <td>1</td>\n",
       "    </tr>\n",
       "  </tbody>\n",
       "</table>\n",
       "<p>1584 rows × 5 columns</p>\n",
       "</div>"
      ],
      "text/plain": [
       "                BAIRROS    PRECO       MES   ANO  n_dormitorios\n",
       "0             ACLIMAÇÃO  8664.17   JANEIRO  2018              1\n",
       "1     ALTO DA BOA VISTA  10175.4   JANEIRO  2018              1\n",
       "2           BARRA FUNDA  9208.55   JANEIRO  2018              1\n",
       "3            BELA VISTA  8465.83   JANEIRO  2018              1\n",
       "4                 BELÉM  5908.94   JANEIRO  2018              1\n",
       "...                 ...      ...       ...   ...            ...\n",
       "1579       VILA OLÍMPIA  15040.4  DEZEMBRO  2019              1\n",
       "1580      VILA PRUDENTE  6411.92  DEZEMBRO  2019              1\n",
       "1581        VILA ROMANA   6992.1  DEZEMBRO  2019              1\n",
       "1582         VILA SÔNIA  7149.61  DEZEMBRO  2019              1\n",
       "1583   Fonte: Secovi-SP      NaN  DEZEMBRO  2019              1\n",
       "\n",
       "[1584 rows x 5 columns]"
      ]
     },
     "execution_count": 86,
     "metadata": {},
     "output_type": "execute_result"
    }
   ],
   "source": [
    "dormitorio_01"
   ]
  },
  {
   "cell_type": "markdown",
   "metadata": {},
   "source": [
    "### Dataframe 2 dormitórios"
   ]
  },
  {
   "cell_type": "code",
   "execution_count": 87,
   "metadata": {},
   "outputs": [
    {
     "data": {
      "text/html": [
       "<div>\n",
       "<style scoped>\n",
       "    .dataframe tbody tr th:only-of-type {\n",
       "        vertical-align: middle;\n",
       "    }\n",
       "\n",
       "    .dataframe tbody tr th {\n",
       "        vertical-align: top;\n",
       "    }\n",
       "\n",
       "    .dataframe thead th {\n",
       "        text-align: right;\n",
       "    }\n",
       "</style>\n",
       "<table border=\"1\" class=\"dataframe\">\n",
       "  <thead>\n",
       "    <tr style=\"text-align: right;\">\n",
       "      <th></th>\n",
       "      <th>BAIRROS</th>\n",
       "      <th>JAN_18_01</th>\n",
       "      <th>JAN_19_01</th>\n",
       "      <th>VAR (%)_01</th>\n",
       "      <th>JAN_18_02</th>\n",
       "      <th>JAN_19_02</th>\n",
       "      <th>VAR (%)_02</th>\n",
       "      <th>JAN_18_03</th>\n",
       "      <th>JAN_19_03</th>\n",
       "      <th>VAR (%)_03</th>\n",
       "      <th>JAN_18_04</th>\n",
       "      <th>JAN_19_04</th>\n",
       "      <th>VAR (%)_04</th>\n",
       "    </tr>\n",
       "  </thead>\n",
       "  <tbody>\n",
       "    <tr>\n",
       "      <th>0</th>\n",
       "      <td>ACLIMAÇÃO</td>\n",
       "      <td>8664.17</td>\n",
       "      <td>8812.46</td>\n",
       "      <td>0.0171157</td>\n",
       "      <td>7699.85</td>\n",
       "      <td>7585.1794</td>\n",
       "      <td>-0.0148923</td>\n",
       "      <td>8429.77</td>\n",
       "      <td>8340.856638</td>\n",
       "      <td>-0.010547</td>\n",
       "      <td>9363.87</td>\n",
       "      <td>9368.55</td>\n",
       "      <td>0.000499848</td>\n",
       "    </tr>\n",
       "  </tbody>\n",
       "</table>\n",
       "</div>"
      ],
      "text/plain": [
       "     BAIRROS JAN_18_01 JAN_19_01 VAR (%)_01 JAN_18_02  JAN_19_02 VAR (%)_02  \\\n",
       "0  ACLIMAÇÃO   8664.17   8812.46  0.0171157   7699.85  7585.1794 -0.0148923   \n",
       "\n",
       "  JAN_18_03    JAN_19_03 VAR (%)_03 JAN_18_04 JAN_19_04   VAR (%)_04  \n",
       "0   8429.77  8340.856638  -0.010547   9363.87   9368.55  0.000499848  "
      ]
     },
     "execution_count": 87,
     "metadata": {},
     "output_type": "execute_result"
    }
   ],
   "source": [
    "df01.head(1)"
   ]
  },
  {
   "cell_type": "markdown",
   "metadata": {},
   "source": [
    "### Janeiro"
   ]
  },
  {
   "cell_type": "code",
   "execution_count": null,
   "metadata": {},
   "outputs": [],
   "source": []
  },
  {
   "cell_type": "code",
   "execution_count": 93,
   "metadata": {},
   "outputs": [
    {
     "name": "stderr",
     "output_type": "stream",
     "text": [
      "<ipython-input-93-55cc7c154a7e>:3: SettingWithCopyWarning: \n",
      "A value is trying to be set on a copy of a slice from a DataFrame.\n",
      "Try using .loc[row_indexer,col_indexer] = value instead\n",
      "\n",
      "See the caveats in the documentation: https://pandas.pydata.org/pandas-docs/stable/user_guide/indexing.html#returning-a-view-versus-a-copy\n",
      "  df01_02_18['MES'] = 0\n",
      "<ipython-input-93-55cc7c154a7e>:4: SettingWithCopyWarning: \n",
      "A value is trying to be set on a copy of a slice from a DataFrame.\n",
      "Try using .loc[row_indexer,col_indexer] = value instead\n",
      "\n",
      "See the caveats in the documentation: https://pandas.pydata.org/pandas-docs/stable/user_guide/indexing.html#returning-a-view-versus-a-copy\n",
      "  df01_02_18['ANO'] = 0\n",
      "<ipython-input-93-55cc7c154a7e>:7: SettingWithCopyWarning: \n",
      "A value is trying to be set on a copy of a slice from a DataFrame.\n",
      "Try using .loc[row_indexer,col_indexer] = value instead\n",
      "\n",
      "See the caveats in the documentation: https://pandas.pydata.org/pandas-docs/stable/user_guide/indexing.html#returning-a-view-versus-a-copy\n",
      "  df01_02_18['MES'] = 'JANEIRO'\n",
      "<ipython-input-93-55cc7c154a7e>:8: SettingWithCopyWarning: \n",
      "A value is trying to be set on a copy of a slice from a DataFrame.\n",
      "Try using .loc[row_indexer,col_indexer] = value instead\n",
      "\n",
      "See the caveats in the documentation: https://pandas.pydata.org/pandas-docs/stable/user_guide/indexing.html#returning-a-view-versus-a-copy\n",
      "  df01_02_18['ANO'] = 2018\n"
     ]
    }
   ],
   "source": [
    "df01_02_18 = df01[['BAIRROS', 'JAN_18_02']]\n",
    "\n",
    "df01_02_18['MES'] = 0\n",
    "df01_02_18['ANO'] = 0\n",
    "\n",
    "for index, row in df01_02_18.iterrows():\n",
    "    df01_02_18['MES'] = 'JANEIRO'\n",
    "    df01_02_18['ANO'] = 2018"
   ]
  },
  {
   "cell_type": "code",
   "execution_count": 94,
   "metadata": {},
   "outputs": [
    {
     "name": "stderr",
     "output_type": "stream",
     "text": [
      "<ipython-input-94-c66065ea809f>:3: SettingWithCopyWarning: \n",
      "A value is trying to be set on a copy of a slice from a DataFrame.\n",
      "Try using .loc[row_indexer,col_indexer] = value instead\n",
      "\n",
      "See the caveats in the documentation: https://pandas.pydata.org/pandas-docs/stable/user_guide/indexing.html#returning-a-view-versus-a-copy\n",
      "  df01_02_19['MES'] = 0\n",
      "<ipython-input-94-c66065ea809f>:4: SettingWithCopyWarning: \n",
      "A value is trying to be set on a copy of a slice from a DataFrame.\n",
      "Try using .loc[row_indexer,col_indexer] = value instead\n",
      "\n",
      "See the caveats in the documentation: https://pandas.pydata.org/pandas-docs/stable/user_guide/indexing.html#returning-a-view-versus-a-copy\n",
      "  df01_02_19['ANO'] = 0\n",
      "<ipython-input-94-c66065ea809f>:7: SettingWithCopyWarning: \n",
      "A value is trying to be set on a copy of a slice from a DataFrame.\n",
      "Try using .loc[row_indexer,col_indexer] = value instead\n",
      "\n",
      "See the caveats in the documentation: https://pandas.pydata.org/pandas-docs/stable/user_guide/indexing.html#returning-a-view-versus-a-copy\n",
      "  df01_02_19['MES'] = 'JANEIRO'\n",
      "<ipython-input-94-c66065ea809f>:8: SettingWithCopyWarning: \n",
      "A value is trying to be set on a copy of a slice from a DataFrame.\n",
      "Try using .loc[row_indexer,col_indexer] = value instead\n",
      "\n",
      "See the caveats in the documentation: https://pandas.pydata.org/pandas-docs/stable/user_guide/indexing.html#returning-a-view-versus-a-copy\n",
      "  df01_02_19['ANO'] = 2019\n"
     ]
    }
   ],
   "source": [
    "df01_02_19 = df01[['BAIRROS', 'JAN_19_02']]\n",
    "\n",
    "df01_02_19['MES'] = 0\n",
    "df01_02_19['ANO'] = 0\n",
    "\n",
    "for index, row in df01_02_19.iterrows():\n",
    "    df01_02_19['MES'] = 'JANEIRO'\n",
    "    df01_02_19['ANO'] = 2019"
   ]
  },
  {
   "cell_type": "code",
   "execution_count": 95,
   "metadata": {},
   "outputs": [
    {
     "name": "stderr",
     "output_type": "stream",
     "text": [
      "C:\\Users\\carol\\Anaconda3.1\\lib\\site-packages\\pandas\\core\\frame.py:4296: SettingWithCopyWarning: \n",
      "A value is trying to be set on a copy of a slice from a DataFrame\n",
      "\n",
      "See the caveats in the documentation: https://pandas.pydata.org/pandas-docs/stable/user_guide/indexing.html#returning-a-view-versus-a-copy\n",
      "  return super().rename(\n"
     ]
    }
   ],
   "source": [
    "df01_02_18.rename(columns={'JAN_18_02':'PRECO'}, inplace=True)\n",
    "\n",
    "df01_02_19.rename(columns={'JAN_19_02':'PRECO'}, inplace=True)"
   ]
  },
  {
   "cell_type": "code",
   "execution_count": 96,
   "metadata": {},
   "outputs": [],
   "source": [
    "janeiro = df01_02_18.append(df01_02_19)"
   ]
  },
  {
   "cell_type": "code",
   "execution_count": 97,
   "metadata": {},
   "outputs": [
    {
     "data": {
      "text/html": [
       "<div>\n",
       "<style scoped>\n",
       "    .dataframe tbody tr th:only-of-type {\n",
       "        vertical-align: middle;\n",
       "    }\n",
       "\n",
       "    .dataframe tbody tr th {\n",
       "        vertical-align: top;\n",
       "    }\n",
       "\n",
       "    .dataframe thead th {\n",
       "        text-align: right;\n",
       "    }\n",
       "</style>\n",
       "<table border=\"1\" class=\"dataframe\">\n",
       "  <thead>\n",
       "    <tr style=\"text-align: right;\">\n",
       "      <th></th>\n",
       "      <th>BAIRROS</th>\n",
       "      <th>PRECO</th>\n",
       "      <th>MES</th>\n",
       "      <th>ANO</th>\n",
       "    </tr>\n",
       "  </thead>\n",
       "  <tbody>\n",
       "    <tr>\n",
       "      <th>0</th>\n",
       "      <td>ACLIMAÇÃO</td>\n",
       "      <td>7699.85</td>\n",
       "      <td>JANEIRO</td>\n",
       "      <td>2018</td>\n",
       "    </tr>\n",
       "    <tr>\n",
       "      <th>1</th>\n",
       "      <td>ALTO DA BOA VISTA</td>\n",
       "      <td>8808.43</td>\n",
       "      <td>JANEIRO</td>\n",
       "      <td>2018</td>\n",
       "    </tr>\n",
       "    <tr>\n",
       "      <th>2</th>\n",
       "      <td>BARRA FUNDA</td>\n",
       "      <td>8552.75</td>\n",
       "      <td>JANEIRO</td>\n",
       "      <td>2018</td>\n",
       "    </tr>\n",
       "    <tr>\n",
       "      <th>3</th>\n",
       "      <td>BELA VISTA</td>\n",
       "      <td>7818.03</td>\n",
       "      <td>JANEIRO</td>\n",
       "      <td>2018</td>\n",
       "    </tr>\n",
       "    <tr>\n",
       "      <th>4</th>\n",
       "      <td>BELÉM</td>\n",
       "      <td>6482.47</td>\n",
       "      <td>JANEIRO</td>\n",
       "      <td>2018</td>\n",
       "    </tr>\n",
       "  </tbody>\n",
       "</table>\n",
       "</div>"
      ],
      "text/plain": [
       "             BAIRROS    PRECO      MES   ANO\n",
       "0          ACLIMAÇÃO  7699.85  JANEIRO  2018\n",
       "1  ALTO DA BOA VISTA  8808.43  JANEIRO  2018\n",
       "2        BARRA FUNDA  8552.75  JANEIRO  2018\n",
       "3         BELA VISTA  7818.03  JANEIRO  2018\n",
       "4              BELÉM  6482.47  JANEIRO  2018"
      ]
     },
     "execution_count": 97,
     "metadata": {},
     "output_type": "execute_result"
    }
   ],
   "source": [
    "janeiro.head()"
   ]
  },
  {
   "cell_type": "markdown",
   "metadata": {},
   "source": [
    "### Fevereiro"
   ]
  },
  {
   "cell_type": "code",
   "execution_count": 98,
   "metadata": {},
   "outputs": [
    {
     "name": "stderr",
     "output_type": "stream",
     "text": [
      "<ipython-input-98-6298858cdbdf>:3: SettingWithCopyWarning: \n",
      "A value is trying to be set on a copy of a slice from a DataFrame.\n",
      "Try using .loc[row_indexer,col_indexer] = value instead\n",
      "\n",
      "See the caveats in the documentation: https://pandas.pydata.org/pandas-docs/stable/user_guide/indexing.html#returning-a-view-versus-a-copy\n",
      "  df02_02_18['MES'] = 0\n",
      "<ipython-input-98-6298858cdbdf>:4: SettingWithCopyWarning: \n",
      "A value is trying to be set on a copy of a slice from a DataFrame.\n",
      "Try using .loc[row_indexer,col_indexer] = value instead\n",
      "\n",
      "See the caveats in the documentation: https://pandas.pydata.org/pandas-docs/stable/user_guide/indexing.html#returning-a-view-versus-a-copy\n",
      "  df02_02_18['ANO'] = 0\n",
      "<ipython-input-98-6298858cdbdf>:7: SettingWithCopyWarning: \n",
      "A value is trying to be set on a copy of a slice from a DataFrame.\n",
      "Try using .loc[row_indexer,col_indexer] = value instead\n",
      "\n",
      "See the caveats in the documentation: https://pandas.pydata.org/pandas-docs/stable/user_guide/indexing.html#returning-a-view-versus-a-copy\n",
      "  df02_02_18['MES'] = 'FEVEREIRO'\n",
      "<ipython-input-98-6298858cdbdf>:8: SettingWithCopyWarning: \n",
      "A value is trying to be set on a copy of a slice from a DataFrame.\n",
      "Try using .loc[row_indexer,col_indexer] = value instead\n",
      "\n",
      "See the caveats in the documentation: https://pandas.pydata.org/pandas-docs/stable/user_guide/indexing.html#returning-a-view-versus-a-copy\n",
      "  df02_02_18['ANO'] = 2018\n"
     ]
    }
   ],
   "source": [
    "df02_02_18 = df02[['BAIRROS', 'FEV_18_02']]\n",
    "\n",
    "df02_02_18['MES'] = 0\n",
    "df02_02_18['ANO'] = 0\n",
    "\n",
    "for index, row in df02_02_18.iterrows():\n",
    "    df02_02_18['MES'] = 'FEVEREIRO'\n",
    "    df02_02_18['ANO'] = 2018"
   ]
  },
  {
   "cell_type": "code",
   "execution_count": 99,
   "metadata": {},
   "outputs": [
    {
     "name": "stderr",
     "output_type": "stream",
     "text": [
      "<ipython-input-99-1f75125921e0>:3: SettingWithCopyWarning: \n",
      "A value is trying to be set on a copy of a slice from a DataFrame.\n",
      "Try using .loc[row_indexer,col_indexer] = value instead\n",
      "\n",
      "See the caveats in the documentation: https://pandas.pydata.org/pandas-docs/stable/user_guide/indexing.html#returning-a-view-versus-a-copy\n",
      "  df02_02_19['MES'] = 0\n",
      "<ipython-input-99-1f75125921e0>:4: SettingWithCopyWarning: \n",
      "A value is trying to be set on a copy of a slice from a DataFrame.\n",
      "Try using .loc[row_indexer,col_indexer] = value instead\n",
      "\n",
      "See the caveats in the documentation: https://pandas.pydata.org/pandas-docs/stable/user_guide/indexing.html#returning-a-view-versus-a-copy\n",
      "  df02_02_19['ANO'] = 0\n",
      "<ipython-input-99-1f75125921e0>:7: SettingWithCopyWarning: \n",
      "A value is trying to be set on a copy of a slice from a DataFrame.\n",
      "Try using .loc[row_indexer,col_indexer] = value instead\n",
      "\n",
      "See the caveats in the documentation: https://pandas.pydata.org/pandas-docs/stable/user_guide/indexing.html#returning-a-view-versus-a-copy\n",
      "  df02_02_19['MES'] = 'FEVEREIRO'\n",
      "<ipython-input-99-1f75125921e0>:8: SettingWithCopyWarning: \n",
      "A value is trying to be set on a copy of a slice from a DataFrame.\n",
      "Try using .loc[row_indexer,col_indexer] = value instead\n",
      "\n",
      "See the caveats in the documentation: https://pandas.pydata.org/pandas-docs/stable/user_guide/indexing.html#returning-a-view-versus-a-copy\n",
      "  df02_02_19['ANO'] = 2019\n"
     ]
    }
   ],
   "source": [
    "df02_02_19 = df02[['BAIRROS', 'FEV_19_02']]\n",
    "\n",
    "df02_02_19['MES'] = 0\n",
    "df02_02_19['ANO'] = 0\n",
    "\n",
    "for index, row in df02_01_19.iterrows():\n",
    "    df02_02_19['MES'] = 'FEVEREIRO'\n",
    "    df02_02_19['ANO'] = 2019"
   ]
  },
  {
   "cell_type": "code",
   "execution_count": 100,
   "metadata": {},
   "outputs": [
    {
     "name": "stderr",
     "output_type": "stream",
     "text": [
      "C:\\Users\\carol\\Anaconda3.1\\lib\\site-packages\\pandas\\core\\frame.py:4296: SettingWithCopyWarning: \n",
      "A value is trying to be set on a copy of a slice from a DataFrame\n",
      "\n",
      "See the caveats in the documentation: https://pandas.pydata.org/pandas-docs/stable/user_guide/indexing.html#returning-a-view-versus-a-copy\n",
      "  return super().rename(\n"
     ]
    }
   ],
   "source": [
    "df02_02_18.rename(columns={'FEV_18_02':'PRECO'}, inplace=True)\n",
    "\n",
    "df02_02_19.rename(columns={'FEV_19_02':'PRECO'}, inplace=True)"
   ]
  },
  {
   "cell_type": "code",
   "execution_count": 101,
   "metadata": {},
   "outputs": [],
   "source": [
    "fevereiro = df02_02_18.append(df02_02_19)"
   ]
  },
  {
   "cell_type": "code",
   "execution_count": 102,
   "metadata": {},
   "outputs": [
    {
     "data": {
      "text/html": [
       "<div>\n",
       "<style scoped>\n",
       "    .dataframe tbody tr th:only-of-type {\n",
       "        vertical-align: middle;\n",
       "    }\n",
       "\n",
       "    .dataframe tbody tr th {\n",
       "        vertical-align: top;\n",
       "    }\n",
       "\n",
       "    .dataframe thead th {\n",
       "        text-align: right;\n",
       "    }\n",
       "</style>\n",
       "<table border=\"1\" class=\"dataframe\">\n",
       "  <thead>\n",
       "    <tr style=\"text-align: right;\">\n",
       "      <th></th>\n",
       "      <th>BAIRROS</th>\n",
       "      <th>PRECO</th>\n",
       "      <th>MES</th>\n",
       "      <th>ANO</th>\n",
       "    </tr>\n",
       "  </thead>\n",
       "  <tbody>\n",
       "    <tr>\n",
       "      <th>0</th>\n",
       "      <td>ACLIMAÇÃO</td>\n",
       "      <td>7645.19</td>\n",
       "      <td>FEVEREIRO</td>\n",
       "      <td>2018</td>\n",
       "    </tr>\n",
       "    <tr>\n",
       "      <th>1</th>\n",
       "      <td>ALTO DA BOA VISTA</td>\n",
       "      <td>8715.33</td>\n",
       "      <td>FEVEREIRO</td>\n",
       "      <td>2018</td>\n",
       "    </tr>\n",
       "    <tr>\n",
       "      <th>2</th>\n",
       "      <td>BARRA FUNDA</td>\n",
       "      <td>8463.42</td>\n",
       "      <td>FEVEREIRO</td>\n",
       "      <td>2018</td>\n",
       "    </tr>\n",
       "    <tr>\n",
       "      <th>3</th>\n",
       "      <td>BELA VISTA</td>\n",
       "      <td>7667.38</td>\n",
       "      <td>FEVEREIRO</td>\n",
       "      <td>2018</td>\n",
       "    </tr>\n",
       "    <tr>\n",
       "      <th>4</th>\n",
       "      <td>BELÉM</td>\n",
       "      <td>6600.04</td>\n",
       "      <td>FEVEREIRO</td>\n",
       "      <td>2018</td>\n",
       "    </tr>\n",
       "  </tbody>\n",
       "</table>\n",
       "</div>"
      ],
      "text/plain": [
       "             BAIRROS    PRECO        MES   ANO\n",
       "0          ACLIMAÇÃO  7645.19  FEVEREIRO  2018\n",
       "1  ALTO DA BOA VISTA  8715.33  FEVEREIRO  2018\n",
       "2        BARRA FUNDA  8463.42  FEVEREIRO  2018\n",
       "3         BELA VISTA  7667.38  FEVEREIRO  2018\n",
       "4              BELÉM  6600.04  FEVEREIRO  2018"
      ]
     },
     "execution_count": 102,
     "metadata": {},
     "output_type": "execute_result"
    }
   ],
   "source": [
    "fevereiro.head()"
   ]
  },
  {
   "cell_type": "markdown",
   "metadata": {},
   "source": [
    "### Março"
   ]
  },
  {
   "cell_type": "code",
   "execution_count": 103,
   "metadata": {},
   "outputs": [
    {
     "name": "stderr",
     "output_type": "stream",
     "text": [
      "<ipython-input-103-003c3c9f73fd>:3: SettingWithCopyWarning: \n",
      "A value is trying to be set on a copy of a slice from a DataFrame.\n",
      "Try using .loc[row_indexer,col_indexer] = value instead\n",
      "\n",
      "See the caveats in the documentation: https://pandas.pydata.org/pandas-docs/stable/user_guide/indexing.html#returning-a-view-versus-a-copy\n",
      "  df03_02_18['MES'] = 0\n",
      "<ipython-input-103-003c3c9f73fd>:4: SettingWithCopyWarning: \n",
      "A value is trying to be set on a copy of a slice from a DataFrame.\n",
      "Try using .loc[row_indexer,col_indexer] = value instead\n",
      "\n",
      "See the caveats in the documentation: https://pandas.pydata.org/pandas-docs/stable/user_guide/indexing.html#returning-a-view-versus-a-copy\n",
      "  df03_02_18['ANO'] = 0\n",
      "<ipython-input-103-003c3c9f73fd>:7: SettingWithCopyWarning: \n",
      "A value is trying to be set on a copy of a slice from a DataFrame.\n",
      "Try using .loc[row_indexer,col_indexer] = value instead\n",
      "\n",
      "See the caveats in the documentation: https://pandas.pydata.org/pandas-docs/stable/user_guide/indexing.html#returning-a-view-versus-a-copy\n",
      "  df03_02_18['MES'] = 'MARCO'\n",
      "<ipython-input-103-003c3c9f73fd>:8: SettingWithCopyWarning: \n",
      "A value is trying to be set on a copy of a slice from a DataFrame.\n",
      "Try using .loc[row_indexer,col_indexer] = value instead\n",
      "\n",
      "See the caveats in the documentation: https://pandas.pydata.org/pandas-docs/stable/user_guide/indexing.html#returning-a-view-versus-a-copy\n",
      "  df03_02_18['ANO'] = 2018\n"
     ]
    }
   ],
   "source": [
    "df03_02_18 = df03[['BAIRROS', 'MAR_18_02']]\n",
    "\n",
    "df03_02_18['MES'] = 0\n",
    "df03_02_18['ANO'] = 0\n",
    "\n",
    "for index, row in df03_02_18.iterrows():\n",
    "    df03_02_18['MES'] = 'MARCO'\n",
    "    df03_02_18['ANO'] = 2018"
   ]
  },
  {
   "cell_type": "code",
   "execution_count": 104,
   "metadata": {},
   "outputs": [
    {
     "name": "stderr",
     "output_type": "stream",
     "text": [
      "<ipython-input-104-b110b247bd7e>:3: SettingWithCopyWarning: \n",
      "A value is trying to be set on a copy of a slice from a DataFrame.\n",
      "Try using .loc[row_indexer,col_indexer] = value instead\n",
      "\n",
      "See the caveats in the documentation: https://pandas.pydata.org/pandas-docs/stable/user_guide/indexing.html#returning-a-view-versus-a-copy\n",
      "  df03_02_19['MES'] = 0\n",
      "<ipython-input-104-b110b247bd7e>:4: SettingWithCopyWarning: \n",
      "A value is trying to be set on a copy of a slice from a DataFrame.\n",
      "Try using .loc[row_indexer,col_indexer] = value instead\n",
      "\n",
      "See the caveats in the documentation: https://pandas.pydata.org/pandas-docs/stable/user_guide/indexing.html#returning-a-view-versus-a-copy\n",
      "  df03_02_19['ANO'] = 0\n",
      "<ipython-input-104-b110b247bd7e>:7: SettingWithCopyWarning: \n",
      "A value is trying to be set on a copy of a slice from a DataFrame.\n",
      "Try using .loc[row_indexer,col_indexer] = value instead\n",
      "\n",
      "See the caveats in the documentation: https://pandas.pydata.org/pandas-docs/stable/user_guide/indexing.html#returning-a-view-versus-a-copy\n",
      "  df03_02_19['MES'] = 'MARCO'\n",
      "<ipython-input-104-b110b247bd7e>:8: SettingWithCopyWarning: \n",
      "A value is trying to be set on a copy of a slice from a DataFrame.\n",
      "Try using .loc[row_indexer,col_indexer] = value instead\n",
      "\n",
      "See the caveats in the documentation: https://pandas.pydata.org/pandas-docs/stable/user_guide/indexing.html#returning-a-view-versus-a-copy\n",
      "  df03_02_19['ANO'] = 2019\n"
     ]
    }
   ],
   "source": [
    "df03_02_19 = df03[['BAIRROS', 'MAR_19_02']]\n",
    "\n",
    "df03_02_19['MES'] = 0\n",
    "df03_02_19['ANO'] = 0\n",
    "\n",
    "for index, row in df03_01_19.iterrows():\n",
    "    df03_02_19['MES'] = 'MARCO'\n",
    "    df03_02_19['ANO'] = 2019"
   ]
  },
  {
   "cell_type": "code",
   "execution_count": 105,
   "metadata": {},
   "outputs": [
    {
     "name": "stderr",
     "output_type": "stream",
     "text": [
      "C:\\Users\\carol\\Anaconda3.1\\lib\\site-packages\\pandas\\core\\frame.py:4296: SettingWithCopyWarning: \n",
      "A value is trying to be set on a copy of a slice from a DataFrame\n",
      "\n",
      "See the caveats in the documentation: https://pandas.pydata.org/pandas-docs/stable/user_guide/indexing.html#returning-a-view-versus-a-copy\n",
      "  return super().rename(\n"
     ]
    }
   ],
   "source": [
    "df03_02_18.rename(columns={'MAR_18_02':'PRECO'}, inplace=True)\n",
    "\n",
    "df03_02_19.rename(columns={'MAR_19_02':'PRECO'}, inplace=True)"
   ]
  },
  {
   "cell_type": "code",
   "execution_count": 106,
   "metadata": {},
   "outputs": [],
   "source": [
    "marco = df03_02_18.append(df03_02_19)"
   ]
  },
  {
   "cell_type": "code",
   "execution_count": 107,
   "metadata": {},
   "outputs": [
    {
     "data": {
      "text/html": [
       "<div>\n",
       "<style scoped>\n",
       "    .dataframe tbody tr th:only-of-type {\n",
       "        vertical-align: middle;\n",
       "    }\n",
       "\n",
       "    .dataframe tbody tr th {\n",
       "        vertical-align: top;\n",
       "    }\n",
       "\n",
       "    .dataframe thead th {\n",
       "        text-align: right;\n",
       "    }\n",
       "</style>\n",
       "<table border=\"1\" class=\"dataframe\">\n",
       "  <thead>\n",
       "    <tr style=\"text-align: right;\">\n",
       "      <th></th>\n",
       "      <th>BAIRROS</th>\n",
       "      <th>PRECO</th>\n",
       "      <th>MES</th>\n",
       "      <th>ANO</th>\n",
       "    </tr>\n",
       "  </thead>\n",
       "  <tbody>\n",
       "    <tr>\n",
       "      <th>0</th>\n",
       "      <td>ACLIMAÇÃO</td>\n",
       "      <td>7464.108686</td>\n",
       "      <td>MARCO</td>\n",
       "      <td>2018</td>\n",
       "    </tr>\n",
       "    <tr>\n",
       "      <th>1</th>\n",
       "      <td>ALTO DA BOA VISTA</td>\n",
       "      <td>8613.306874</td>\n",
       "      <td>MARCO</td>\n",
       "      <td>2018</td>\n",
       "    </tr>\n",
       "    <tr>\n",
       "      <th>2</th>\n",
       "      <td>BARRA FUNDA</td>\n",
       "      <td>8295.009221</td>\n",
       "      <td>MARCO</td>\n",
       "      <td>2018</td>\n",
       "    </tr>\n",
       "    <tr>\n",
       "      <th>3</th>\n",
       "      <td>BELA VISTA</td>\n",
       "      <td>7420.108949</td>\n",
       "      <td>MARCO</td>\n",
       "      <td>2018</td>\n",
       "    </tr>\n",
       "    <tr>\n",
       "      <th>4</th>\n",
       "      <td>BELÉM</td>\n",
       "      <td>6594.487430</td>\n",
       "      <td>MARCO</td>\n",
       "      <td>2018</td>\n",
       "    </tr>\n",
       "  </tbody>\n",
       "</table>\n",
       "</div>"
      ],
      "text/plain": [
       "             BAIRROS        PRECO    MES   ANO\n",
       "0          ACLIMAÇÃO  7464.108686  MARCO  2018\n",
       "1  ALTO DA BOA VISTA  8613.306874  MARCO  2018\n",
       "2        BARRA FUNDA  8295.009221  MARCO  2018\n",
       "3         BELA VISTA  7420.108949  MARCO  2018\n",
       "4              BELÉM  6594.487430  MARCO  2018"
      ]
     },
     "execution_count": 107,
     "metadata": {},
     "output_type": "execute_result"
    }
   ],
   "source": [
    "marco.head()"
   ]
  },
  {
   "cell_type": "markdown",
   "metadata": {},
   "source": [
    "### Abril"
   ]
  },
  {
   "cell_type": "code",
   "execution_count": 108,
   "metadata": {},
   "outputs": [
    {
     "name": "stderr",
     "output_type": "stream",
     "text": [
      "<ipython-input-108-edfbfa16be6b>:3: SettingWithCopyWarning: \n",
      "A value is trying to be set on a copy of a slice from a DataFrame.\n",
      "Try using .loc[row_indexer,col_indexer] = value instead\n",
      "\n",
      "See the caveats in the documentation: https://pandas.pydata.org/pandas-docs/stable/user_guide/indexing.html#returning-a-view-versus-a-copy\n",
      "  df04_02_18['MES'] = 0\n",
      "<ipython-input-108-edfbfa16be6b>:4: SettingWithCopyWarning: \n",
      "A value is trying to be set on a copy of a slice from a DataFrame.\n",
      "Try using .loc[row_indexer,col_indexer] = value instead\n",
      "\n",
      "See the caveats in the documentation: https://pandas.pydata.org/pandas-docs/stable/user_guide/indexing.html#returning-a-view-versus-a-copy\n",
      "  df04_02_18['ANO'] = 0\n",
      "<ipython-input-108-edfbfa16be6b>:7: SettingWithCopyWarning: \n",
      "A value is trying to be set on a copy of a slice from a DataFrame.\n",
      "Try using .loc[row_indexer,col_indexer] = value instead\n",
      "\n",
      "See the caveats in the documentation: https://pandas.pydata.org/pandas-docs/stable/user_guide/indexing.html#returning-a-view-versus-a-copy\n",
      "  df04_02_18['MES'] = 'ABRIL'\n",
      "<ipython-input-108-edfbfa16be6b>:8: SettingWithCopyWarning: \n",
      "A value is trying to be set on a copy of a slice from a DataFrame.\n",
      "Try using .loc[row_indexer,col_indexer] = value instead\n",
      "\n",
      "See the caveats in the documentation: https://pandas.pydata.org/pandas-docs/stable/user_guide/indexing.html#returning-a-view-versus-a-copy\n",
      "  df04_02_18['ANO'] = 2018\n"
     ]
    }
   ],
   "source": [
    "df04_02_18 = df04[['BAIRROS', 'ABR_18_02']]\n",
    "\n",
    "df04_02_18['MES'] = 0\n",
    "df04_02_18['ANO'] = 0\n",
    "\n",
    "for index, row in df04_02_18.iterrows():\n",
    "    df04_02_18['MES'] = 'ABRIL'\n",
    "    df04_02_18['ANO'] = 2018"
   ]
  },
  {
   "cell_type": "code",
   "execution_count": 109,
   "metadata": {},
   "outputs": [
    {
     "name": "stderr",
     "output_type": "stream",
     "text": [
      "<ipython-input-109-fe2e0ff6e0a5>:3: SettingWithCopyWarning: \n",
      "A value is trying to be set on a copy of a slice from a DataFrame.\n",
      "Try using .loc[row_indexer,col_indexer] = value instead\n",
      "\n",
      "See the caveats in the documentation: https://pandas.pydata.org/pandas-docs/stable/user_guide/indexing.html#returning-a-view-versus-a-copy\n",
      "  df04_02_19['MES'] = 0\n",
      "<ipython-input-109-fe2e0ff6e0a5>:4: SettingWithCopyWarning: \n",
      "A value is trying to be set on a copy of a slice from a DataFrame.\n",
      "Try using .loc[row_indexer,col_indexer] = value instead\n",
      "\n",
      "See the caveats in the documentation: https://pandas.pydata.org/pandas-docs/stable/user_guide/indexing.html#returning-a-view-versus-a-copy\n",
      "  df04_02_19['ANO'] = 0\n",
      "<ipython-input-109-fe2e0ff6e0a5>:7: SettingWithCopyWarning: \n",
      "A value is trying to be set on a copy of a slice from a DataFrame.\n",
      "Try using .loc[row_indexer,col_indexer] = value instead\n",
      "\n",
      "See the caveats in the documentation: https://pandas.pydata.org/pandas-docs/stable/user_guide/indexing.html#returning-a-view-versus-a-copy\n",
      "  df04_02_19['MES'] = 'ABRIL'\n",
      "<ipython-input-109-fe2e0ff6e0a5>:8: SettingWithCopyWarning: \n",
      "A value is trying to be set on a copy of a slice from a DataFrame.\n",
      "Try using .loc[row_indexer,col_indexer] = value instead\n",
      "\n",
      "See the caveats in the documentation: https://pandas.pydata.org/pandas-docs/stable/user_guide/indexing.html#returning-a-view-versus-a-copy\n",
      "  df04_02_19['ANO'] = 2019\n"
     ]
    }
   ],
   "source": [
    "df04_02_19 = df04[['BAIRROS', 'ABR_19_02']]\n",
    "\n",
    "df04_02_19['MES'] = 0\n",
    "df04_02_19['ANO'] = 0\n",
    "\n",
    "for index, row in df04_01_19.iterrows():\n",
    "    df04_02_19['MES'] = 'ABRIL'\n",
    "    df04_02_19['ANO'] = 2019"
   ]
  },
  {
   "cell_type": "code",
   "execution_count": 110,
   "metadata": {},
   "outputs": [
    {
     "name": "stderr",
     "output_type": "stream",
     "text": [
      "C:\\Users\\carol\\Anaconda3.1\\lib\\site-packages\\pandas\\core\\frame.py:4296: SettingWithCopyWarning: \n",
      "A value is trying to be set on a copy of a slice from a DataFrame\n",
      "\n",
      "See the caveats in the documentation: https://pandas.pydata.org/pandas-docs/stable/user_guide/indexing.html#returning-a-view-versus-a-copy\n",
      "  return super().rename(\n"
     ]
    }
   ],
   "source": [
    "df04_02_18.rename(columns={'ABR_18_02':'PRECO'}, inplace=True)\n",
    "\n",
    "df04_02_19.rename(columns={'ABR_19_02':'PRECO'}, inplace=True)"
   ]
  },
  {
   "cell_type": "code",
   "execution_count": 111,
   "metadata": {},
   "outputs": [],
   "source": [
    "abril = df04_02_18.append(df04_02_19)"
   ]
  },
  {
   "cell_type": "code",
   "execution_count": 112,
   "metadata": {},
   "outputs": [
    {
     "data": {
      "text/html": [
       "<div>\n",
       "<style scoped>\n",
       "    .dataframe tbody tr th:only-of-type {\n",
       "        vertical-align: middle;\n",
       "    }\n",
       "\n",
       "    .dataframe tbody tr th {\n",
       "        vertical-align: top;\n",
       "    }\n",
       "\n",
       "    .dataframe thead th {\n",
       "        text-align: right;\n",
       "    }\n",
       "</style>\n",
       "<table border=\"1\" class=\"dataframe\">\n",
       "  <thead>\n",
       "    <tr style=\"text-align: right;\">\n",
       "      <th></th>\n",
       "      <th>BAIRROS</th>\n",
       "      <th>PRECO</th>\n",
       "      <th>MES</th>\n",
       "      <th>ANO</th>\n",
       "    </tr>\n",
       "  </thead>\n",
       "  <tbody>\n",
       "    <tr>\n",
       "      <th>0</th>\n",
       "      <td>ACLIMAÇÃO</td>\n",
       "      <td>7512.648013</td>\n",
       "      <td>ABRIL</td>\n",
       "      <td>2018</td>\n",
       "    </tr>\n",
       "    <tr>\n",
       "      <th>1</th>\n",
       "      <td>ALTO DA BOA VISTA</td>\n",
       "      <td>8646.392574</td>\n",
       "      <td>ABRIL</td>\n",
       "      <td>2018</td>\n",
       "    </tr>\n",
       "    <tr>\n",
       "      <th>2</th>\n",
       "      <td>BARRA FUNDA</td>\n",
       "      <td>8255.862698</td>\n",
       "      <td>ABRIL</td>\n",
       "      <td>2018</td>\n",
       "    </tr>\n",
       "    <tr>\n",
       "      <th>3</th>\n",
       "      <td>BELA VISTA</td>\n",
       "      <td>7358.091094</td>\n",
       "      <td>ABRIL</td>\n",
       "      <td>2018</td>\n",
       "    </tr>\n",
       "    <tr>\n",
       "      <th>4</th>\n",
       "      <td>BELÉM</td>\n",
       "      <td>6660.726851</td>\n",
       "      <td>ABRIL</td>\n",
       "      <td>2018</td>\n",
       "    </tr>\n",
       "  </tbody>\n",
       "</table>\n",
       "</div>"
      ],
      "text/plain": [
       "             BAIRROS        PRECO    MES   ANO\n",
       "0          ACLIMAÇÃO  7512.648013  ABRIL  2018\n",
       "1  ALTO DA BOA VISTA  8646.392574  ABRIL  2018\n",
       "2        BARRA FUNDA  8255.862698  ABRIL  2018\n",
       "3         BELA VISTA  7358.091094  ABRIL  2018\n",
       "4              BELÉM  6660.726851  ABRIL  2018"
      ]
     },
     "execution_count": 112,
     "metadata": {},
     "output_type": "execute_result"
    }
   ],
   "source": [
    "abril.head()"
   ]
  },
  {
   "cell_type": "markdown",
   "metadata": {},
   "source": [
    "### Maio"
   ]
  },
  {
   "cell_type": "code",
   "execution_count": 113,
   "metadata": {},
   "outputs": [
    {
     "name": "stderr",
     "output_type": "stream",
     "text": [
      "<ipython-input-113-acaa8a06c155>:3: SettingWithCopyWarning: \n",
      "A value is trying to be set on a copy of a slice from a DataFrame.\n",
      "Try using .loc[row_indexer,col_indexer] = value instead\n",
      "\n",
      "See the caveats in the documentation: https://pandas.pydata.org/pandas-docs/stable/user_guide/indexing.html#returning-a-view-versus-a-copy\n",
      "  df05_02_18['MES'] = 0\n",
      "<ipython-input-113-acaa8a06c155>:4: SettingWithCopyWarning: \n",
      "A value is trying to be set on a copy of a slice from a DataFrame.\n",
      "Try using .loc[row_indexer,col_indexer] = value instead\n",
      "\n",
      "See the caveats in the documentation: https://pandas.pydata.org/pandas-docs/stable/user_guide/indexing.html#returning-a-view-versus-a-copy\n",
      "  df05_02_18['ANO'] = 0\n",
      "<ipython-input-113-acaa8a06c155>:7: SettingWithCopyWarning: \n",
      "A value is trying to be set on a copy of a slice from a DataFrame.\n",
      "Try using .loc[row_indexer,col_indexer] = value instead\n",
      "\n",
      "See the caveats in the documentation: https://pandas.pydata.org/pandas-docs/stable/user_guide/indexing.html#returning-a-view-versus-a-copy\n",
      "  df05_02_18['MES'] = 'MAIO'\n",
      "<ipython-input-113-acaa8a06c155>:8: SettingWithCopyWarning: \n",
      "A value is trying to be set on a copy of a slice from a DataFrame.\n",
      "Try using .loc[row_indexer,col_indexer] = value instead\n",
      "\n",
      "See the caveats in the documentation: https://pandas.pydata.org/pandas-docs/stable/user_guide/indexing.html#returning-a-view-versus-a-copy\n",
      "  df05_02_18['ANO'] = 2018\n"
     ]
    }
   ],
   "source": [
    "df05_02_18 = df05[['BAIRROS', 'MAI_18_02']]\n",
    "\n",
    "df05_02_18['MES'] = 0\n",
    "df05_02_18['ANO'] = 0\n",
    "\n",
    "for index, row in df05_02_18.iterrows():\n",
    "    df05_02_18['MES'] = 'MAIO'\n",
    "    df05_02_18['ANO'] = 2018"
   ]
  },
  {
   "cell_type": "code",
   "execution_count": 114,
   "metadata": {},
   "outputs": [
    {
     "name": "stderr",
     "output_type": "stream",
     "text": [
      "<ipython-input-114-95992cec8304>:3: SettingWithCopyWarning: \n",
      "A value is trying to be set on a copy of a slice from a DataFrame.\n",
      "Try using .loc[row_indexer,col_indexer] = value instead\n",
      "\n",
      "See the caveats in the documentation: https://pandas.pydata.org/pandas-docs/stable/user_guide/indexing.html#returning-a-view-versus-a-copy\n",
      "  df05_02_19['MES'] = 0\n",
      "<ipython-input-114-95992cec8304>:4: SettingWithCopyWarning: \n",
      "A value is trying to be set on a copy of a slice from a DataFrame.\n",
      "Try using .loc[row_indexer,col_indexer] = value instead\n",
      "\n",
      "See the caveats in the documentation: https://pandas.pydata.org/pandas-docs/stable/user_guide/indexing.html#returning-a-view-versus-a-copy\n",
      "  df05_02_19['ANO'] = 0\n",
      "<ipython-input-114-95992cec8304>:7: SettingWithCopyWarning: \n",
      "A value is trying to be set on a copy of a slice from a DataFrame.\n",
      "Try using .loc[row_indexer,col_indexer] = value instead\n",
      "\n",
      "See the caveats in the documentation: https://pandas.pydata.org/pandas-docs/stable/user_guide/indexing.html#returning-a-view-versus-a-copy\n",
      "  df05_02_19['MES'] = 'MAIO'\n",
      "<ipython-input-114-95992cec8304>:8: SettingWithCopyWarning: \n",
      "A value is trying to be set on a copy of a slice from a DataFrame.\n",
      "Try using .loc[row_indexer,col_indexer] = value instead\n",
      "\n",
      "See the caveats in the documentation: https://pandas.pydata.org/pandas-docs/stable/user_guide/indexing.html#returning-a-view-versus-a-copy\n",
      "  df05_02_19['ANO'] = 2019\n"
     ]
    }
   ],
   "source": [
    "df05_02_19 = df05[['BAIRROS', 'MAI_19_02']]\n",
    "\n",
    "df05_02_19['MES'] = 0\n",
    "df05_02_19['ANO'] = 0\n",
    "\n",
    "for index, row in df05_01_19.iterrows():\n",
    "    df05_02_19['MES'] = 'MAIO'\n",
    "    df05_02_19['ANO'] = 2019"
   ]
  },
  {
   "cell_type": "code",
   "execution_count": 115,
   "metadata": {},
   "outputs": [
    {
     "name": "stderr",
     "output_type": "stream",
     "text": [
      "C:\\Users\\carol\\Anaconda3.1\\lib\\site-packages\\pandas\\core\\frame.py:4296: SettingWithCopyWarning: \n",
      "A value is trying to be set on a copy of a slice from a DataFrame\n",
      "\n",
      "See the caveats in the documentation: https://pandas.pydata.org/pandas-docs/stable/user_guide/indexing.html#returning-a-view-versus-a-copy\n",
      "  return super().rename(\n"
     ]
    }
   ],
   "source": [
    "df05_02_18.rename(columns={'MAI_18_02':'PRECO'}, inplace=True)\n",
    "\n",
    "df05_02_19.rename(columns={'MAI_19_02':'PRECO'}, inplace=True)"
   ]
  },
  {
   "cell_type": "code",
   "execution_count": 116,
   "metadata": {},
   "outputs": [],
   "source": [
    "maio = df05_02_18.append(df05_02_19)"
   ]
  },
  {
   "cell_type": "code",
   "execution_count": 117,
   "metadata": {},
   "outputs": [
    {
     "data": {
      "text/html": [
       "<div>\n",
       "<style scoped>\n",
       "    .dataframe tbody tr th:only-of-type {\n",
       "        vertical-align: middle;\n",
       "    }\n",
       "\n",
       "    .dataframe tbody tr th {\n",
       "        vertical-align: top;\n",
       "    }\n",
       "\n",
       "    .dataframe thead th {\n",
       "        text-align: right;\n",
       "    }\n",
       "</style>\n",
       "<table border=\"1\" class=\"dataframe\">\n",
       "  <thead>\n",
       "    <tr style=\"text-align: right;\">\n",
       "      <th></th>\n",
       "      <th>BAIRROS</th>\n",
       "      <th>PRECO</th>\n",
       "      <th>MES</th>\n",
       "      <th>ANO</th>\n",
       "    </tr>\n",
       "  </thead>\n",
       "  <tbody>\n",
       "    <tr>\n",
       "      <th>0</th>\n",
       "      <td>ACLIMAÇÃO</td>\n",
       "      <td>7585.623778</td>\n",
       "      <td>MAIO</td>\n",
       "      <td>2018</td>\n",
       "    </tr>\n",
       "    <tr>\n",
       "      <th>1</th>\n",
       "      <td>ALTO DA BOA VISTA</td>\n",
       "      <td>8764.156117</td>\n",
       "      <td>MAIO</td>\n",
       "      <td>2018</td>\n",
       "    </tr>\n",
       "    <tr>\n",
       "      <th>2</th>\n",
       "      <td>BARRA FUNDA</td>\n",
       "      <td>8264.170276</td>\n",
       "      <td>MAIO</td>\n",
       "      <td>2018</td>\n",
       "    </tr>\n",
       "    <tr>\n",
       "      <th>3</th>\n",
       "      <td>BELA VISTA</td>\n",
       "      <td>7289.211775</td>\n",
       "      <td>MAIO</td>\n",
       "      <td>2018</td>\n",
       "    </tr>\n",
       "    <tr>\n",
       "      <th>4</th>\n",
       "      <td>BELÉM</td>\n",
       "      <td>6713.209507</td>\n",
       "      <td>MAIO</td>\n",
       "      <td>2018</td>\n",
       "    </tr>\n",
       "  </tbody>\n",
       "</table>\n",
       "</div>"
      ],
      "text/plain": [
       "             BAIRROS        PRECO   MES   ANO\n",
       "0          ACLIMAÇÃO  7585.623778  MAIO  2018\n",
       "1  ALTO DA BOA VISTA  8764.156117  MAIO  2018\n",
       "2        BARRA FUNDA  8264.170276  MAIO  2018\n",
       "3         BELA VISTA  7289.211775  MAIO  2018\n",
       "4              BELÉM  6713.209507  MAIO  2018"
      ]
     },
     "execution_count": 117,
     "metadata": {},
     "output_type": "execute_result"
    }
   ],
   "source": [
    "maio.head()"
   ]
  },
  {
   "cell_type": "markdown",
   "metadata": {},
   "source": [
    "### Junho"
   ]
  },
  {
   "cell_type": "code",
   "execution_count": 118,
   "metadata": {},
   "outputs": [
    {
     "name": "stderr",
     "output_type": "stream",
     "text": [
      "<ipython-input-118-68ddb01a2f52>:3: SettingWithCopyWarning: \n",
      "A value is trying to be set on a copy of a slice from a DataFrame.\n",
      "Try using .loc[row_indexer,col_indexer] = value instead\n",
      "\n",
      "See the caveats in the documentation: https://pandas.pydata.org/pandas-docs/stable/user_guide/indexing.html#returning-a-view-versus-a-copy\n",
      "  df06_02_18['MES'] = 0\n",
      "<ipython-input-118-68ddb01a2f52>:4: SettingWithCopyWarning: \n",
      "A value is trying to be set on a copy of a slice from a DataFrame.\n",
      "Try using .loc[row_indexer,col_indexer] = value instead\n",
      "\n",
      "See the caveats in the documentation: https://pandas.pydata.org/pandas-docs/stable/user_guide/indexing.html#returning-a-view-versus-a-copy\n",
      "  df06_02_18['ANO'] = 0\n",
      "<ipython-input-118-68ddb01a2f52>:7: SettingWithCopyWarning: \n",
      "A value is trying to be set on a copy of a slice from a DataFrame.\n",
      "Try using .loc[row_indexer,col_indexer] = value instead\n",
      "\n",
      "See the caveats in the documentation: https://pandas.pydata.org/pandas-docs/stable/user_guide/indexing.html#returning-a-view-versus-a-copy\n",
      "  df06_02_18['MES'] = 'JUNHO'\n",
      "<ipython-input-118-68ddb01a2f52>:8: SettingWithCopyWarning: \n",
      "A value is trying to be set on a copy of a slice from a DataFrame.\n",
      "Try using .loc[row_indexer,col_indexer] = value instead\n",
      "\n",
      "See the caveats in the documentation: https://pandas.pydata.org/pandas-docs/stable/user_guide/indexing.html#returning-a-view-versus-a-copy\n",
      "  df06_02_18['ANO'] = 2018\n"
     ]
    }
   ],
   "source": [
    "df06_02_18 = df06[['BAIRROS', 'JUN_18_02']]\n",
    "\n",
    "df06_02_18['MES'] = 0\n",
    "df06_02_18['ANO'] = 0\n",
    "\n",
    "for index, row in df06_02_18.iterrows():\n",
    "    df06_02_18['MES'] = 'JUNHO'\n",
    "    df06_02_18['ANO'] = 2018"
   ]
  },
  {
   "cell_type": "code",
   "execution_count": 119,
   "metadata": {},
   "outputs": [
    {
     "name": "stderr",
     "output_type": "stream",
     "text": [
      "<ipython-input-119-77b079ce0828>:3: SettingWithCopyWarning: \n",
      "A value is trying to be set on a copy of a slice from a DataFrame.\n",
      "Try using .loc[row_indexer,col_indexer] = value instead\n",
      "\n",
      "See the caveats in the documentation: https://pandas.pydata.org/pandas-docs/stable/user_guide/indexing.html#returning-a-view-versus-a-copy\n",
      "  df06_02_19['MES'] = 0\n",
      "<ipython-input-119-77b079ce0828>:4: SettingWithCopyWarning: \n",
      "A value is trying to be set on a copy of a slice from a DataFrame.\n",
      "Try using .loc[row_indexer,col_indexer] = value instead\n",
      "\n",
      "See the caveats in the documentation: https://pandas.pydata.org/pandas-docs/stable/user_guide/indexing.html#returning-a-view-versus-a-copy\n",
      "  df06_02_19['ANO'] = 0\n",
      "<ipython-input-119-77b079ce0828>:7: SettingWithCopyWarning: \n",
      "A value is trying to be set on a copy of a slice from a DataFrame.\n",
      "Try using .loc[row_indexer,col_indexer] = value instead\n",
      "\n",
      "See the caveats in the documentation: https://pandas.pydata.org/pandas-docs/stable/user_guide/indexing.html#returning-a-view-versus-a-copy\n",
      "  df06_02_19['MES'] = 'JUNHO'\n",
      "<ipython-input-119-77b079ce0828>:8: SettingWithCopyWarning: \n",
      "A value is trying to be set on a copy of a slice from a DataFrame.\n",
      "Try using .loc[row_indexer,col_indexer] = value instead\n",
      "\n",
      "See the caveats in the documentation: https://pandas.pydata.org/pandas-docs/stable/user_guide/indexing.html#returning-a-view-versus-a-copy\n",
      "  df06_02_19['ANO'] = 2019\n"
     ]
    }
   ],
   "source": [
    "df06_02_19 = df06[['BAIRROS', 'JUN_19_02']]\n",
    "\n",
    "df06_02_19['MES'] = 0\n",
    "df06_02_19['ANO'] = 0\n",
    "\n",
    "for index, row in df06_01_19.iterrows():\n",
    "    df06_02_19['MES'] = 'JUNHO'\n",
    "    df06_02_19['ANO'] = 2019"
   ]
  },
  {
   "cell_type": "code",
   "execution_count": 120,
   "metadata": {},
   "outputs": [
    {
     "name": "stderr",
     "output_type": "stream",
     "text": [
      "C:\\Users\\carol\\Anaconda3.1\\lib\\site-packages\\pandas\\core\\frame.py:4296: SettingWithCopyWarning: \n",
      "A value is trying to be set on a copy of a slice from a DataFrame\n",
      "\n",
      "See the caveats in the documentation: https://pandas.pydata.org/pandas-docs/stable/user_guide/indexing.html#returning-a-view-versus-a-copy\n",
      "  return super().rename(\n"
     ]
    }
   ],
   "source": [
    "df06_02_18.rename(columns={'JUN_18_02':'PRECO'}, inplace=True)\n",
    "\n",
    "df06_02_19.rename(columns={'JUN_19_02':'PRECO'}, inplace=True)"
   ]
  },
  {
   "cell_type": "code",
   "execution_count": 121,
   "metadata": {},
   "outputs": [],
   "source": [
    "junho = df06_02_18.append(df06_02_19)"
   ]
  },
  {
   "cell_type": "code",
   "execution_count": 122,
   "metadata": {},
   "outputs": [
    {
     "data": {
      "text/html": [
       "<div>\n",
       "<style scoped>\n",
       "    .dataframe tbody tr th:only-of-type {\n",
       "        vertical-align: middle;\n",
       "    }\n",
       "\n",
       "    .dataframe tbody tr th {\n",
       "        vertical-align: top;\n",
       "    }\n",
       "\n",
       "    .dataframe thead th {\n",
       "        text-align: right;\n",
       "    }\n",
       "</style>\n",
       "<table border=\"1\" class=\"dataframe\">\n",
       "  <thead>\n",
       "    <tr style=\"text-align: right;\">\n",
       "      <th></th>\n",
       "      <th>BAIRROS</th>\n",
       "      <th>PRECO</th>\n",
       "      <th>MES</th>\n",
       "      <th>ANO</th>\n",
       "    </tr>\n",
       "  </thead>\n",
       "  <tbody>\n",
       "    <tr>\n",
       "      <th>0</th>\n",
       "      <td>ACLIMAÇÃO</td>\n",
       "      <td>7948.548960</td>\n",
       "      <td>JUNHO</td>\n",
       "      <td>2018</td>\n",
       "    </tr>\n",
       "    <tr>\n",
       "      <th>1</th>\n",
       "      <td>ALTO DA BOA VISTA</td>\n",
       "      <td>8942.018429</td>\n",
       "      <td>JUNHO</td>\n",
       "      <td>2018</td>\n",
       "    </tr>\n",
       "    <tr>\n",
       "      <th>2</th>\n",
       "      <td>BARRA FUNDA</td>\n",
       "      <td>8462.415336</td>\n",
       "      <td>JUNHO</td>\n",
       "      <td>2018</td>\n",
       "    </tr>\n",
       "    <tr>\n",
       "      <th>3</th>\n",
       "      <td>BELA VISTA</td>\n",
       "      <td>7573.170525</td>\n",
       "      <td>JUNHO</td>\n",
       "      <td>2018</td>\n",
       "    </tr>\n",
       "    <tr>\n",
       "      <th>4</th>\n",
       "      <td>BELÉM</td>\n",
       "      <td>6843.194751</td>\n",
       "      <td>JUNHO</td>\n",
       "      <td>2018</td>\n",
       "    </tr>\n",
       "  </tbody>\n",
       "</table>\n",
       "</div>"
      ],
      "text/plain": [
       "             BAIRROS        PRECO    MES   ANO\n",
       "0          ACLIMAÇÃO  7948.548960  JUNHO  2018\n",
       "1  ALTO DA BOA VISTA  8942.018429  JUNHO  2018\n",
       "2        BARRA FUNDA  8462.415336  JUNHO  2018\n",
       "3         BELA VISTA  7573.170525  JUNHO  2018\n",
       "4              BELÉM  6843.194751  JUNHO  2018"
      ]
     },
     "execution_count": 122,
     "metadata": {},
     "output_type": "execute_result"
    }
   ],
   "source": [
    "junho.head()"
   ]
  },
  {
   "cell_type": "markdown",
   "metadata": {},
   "source": [
    "### Julho"
   ]
  },
  {
   "cell_type": "code",
   "execution_count": 123,
   "metadata": {},
   "outputs": [
    {
     "name": "stderr",
     "output_type": "stream",
     "text": [
      "<ipython-input-123-aaf95c3b173b>:3: SettingWithCopyWarning: \n",
      "A value is trying to be set on a copy of a slice from a DataFrame.\n",
      "Try using .loc[row_indexer,col_indexer] = value instead\n",
      "\n",
      "See the caveats in the documentation: https://pandas.pydata.org/pandas-docs/stable/user_guide/indexing.html#returning-a-view-versus-a-copy\n",
      "  df07_02_18['MES'] = 0\n",
      "<ipython-input-123-aaf95c3b173b>:4: SettingWithCopyWarning: \n",
      "A value is trying to be set on a copy of a slice from a DataFrame.\n",
      "Try using .loc[row_indexer,col_indexer] = value instead\n",
      "\n",
      "See the caveats in the documentation: https://pandas.pydata.org/pandas-docs/stable/user_guide/indexing.html#returning-a-view-versus-a-copy\n",
      "  df07_02_18['ANO'] = 0\n",
      "<ipython-input-123-aaf95c3b173b>:7: SettingWithCopyWarning: \n",
      "A value is trying to be set on a copy of a slice from a DataFrame.\n",
      "Try using .loc[row_indexer,col_indexer] = value instead\n",
      "\n",
      "See the caveats in the documentation: https://pandas.pydata.org/pandas-docs/stable/user_guide/indexing.html#returning-a-view-versus-a-copy\n",
      "  df07_02_18['MES'] = 'JULHO'\n",
      "<ipython-input-123-aaf95c3b173b>:8: SettingWithCopyWarning: \n",
      "A value is trying to be set on a copy of a slice from a DataFrame.\n",
      "Try using .loc[row_indexer,col_indexer] = value instead\n",
      "\n",
      "See the caveats in the documentation: https://pandas.pydata.org/pandas-docs/stable/user_guide/indexing.html#returning-a-view-versus-a-copy\n",
      "  df07_02_18['ANO'] = 2018\n"
     ]
    }
   ],
   "source": [
    "df07_02_18 = df07[['BAIRROS', 'JUL_18_02']]\n",
    "\n",
    "df07_02_18['MES'] = 0\n",
    "df07_02_18['ANO'] = 0\n",
    "\n",
    "for index, row in df07_02_18.iterrows():\n",
    "    df07_02_18['MES'] = 'JULHO'\n",
    "    df07_02_18['ANO'] = 2018"
   ]
  },
  {
   "cell_type": "code",
   "execution_count": 124,
   "metadata": {},
   "outputs": [
    {
     "name": "stderr",
     "output_type": "stream",
     "text": [
      "<ipython-input-124-3b254b18c3e3>:3: SettingWithCopyWarning: \n",
      "A value is trying to be set on a copy of a slice from a DataFrame.\n",
      "Try using .loc[row_indexer,col_indexer] = value instead\n",
      "\n",
      "See the caveats in the documentation: https://pandas.pydata.org/pandas-docs/stable/user_guide/indexing.html#returning-a-view-versus-a-copy\n",
      "  df07_02_19['MES'] = 0\n",
      "<ipython-input-124-3b254b18c3e3>:4: SettingWithCopyWarning: \n",
      "A value is trying to be set on a copy of a slice from a DataFrame.\n",
      "Try using .loc[row_indexer,col_indexer] = value instead\n",
      "\n",
      "See the caveats in the documentation: https://pandas.pydata.org/pandas-docs/stable/user_guide/indexing.html#returning-a-view-versus-a-copy\n",
      "  df07_02_19['ANO'] = 0\n",
      "<ipython-input-124-3b254b18c3e3>:7: SettingWithCopyWarning: \n",
      "A value is trying to be set on a copy of a slice from a DataFrame.\n",
      "Try using .loc[row_indexer,col_indexer] = value instead\n",
      "\n",
      "See the caveats in the documentation: https://pandas.pydata.org/pandas-docs/stable/user_guide/indexing.html#returning-a-view-versus-a-copy\n",
      "  df07_02_19['MES'] = 'JULHO'\n",
      "<ipython-input-124-3b254b18c3e3>:8: SettingWithCopyWarning: \n",
      "A value is trying to be set on a copy of a slice from a DataFrame.\n",
      "Try using .loc[row_indexer,col_indexer] = value instead\n",
      "\n",
      "See the caveats in the documentation: https://pandas.pydata.org/pandas-docs/stable/user_guide/indexing.html#returning-a-view-versus-a-copy\n",
      "  df07_02_19['ANO'] = 2019\n"
     ]
    }
   ],
   "source": [
    "df07_02_19 = df07[['BAIRROS', 'JUL_19_02']]\n",
    "\n",
    "df07_02_19['MES'] = 0\n",
    "df07_02_19['ANO'] = 0\n",
    "\n",
    "for index, row in df07_01_19.iterrows():\n",
    "    df07_02_19['MES'] = 'JULHO'\n",
    "    df07_02_19['ANO'] = 2019"
   ]
  },
  {
   "cell_type": "code",
   "execution_count": 125,
   "metadata": {},
   "outputs": [
    {
     "name": "stderr",
     "output_type": "stream",
     "text": [
      "C:\\Users\\carol\\Anaconda3.1\\lib\\site-packages\\pandas\\core\\frame.py:4296: SettingWithCopyWarning: \n",
      "A value is trying to be set on a copy of a slice from a DataFrame\n",
      "\n",
      "See the caveats in the documentation: https://pandas.pydata.org/pandas-docs/stable/user_guide/indexing.html#returning-a-view-versus-a-copy\n",
      "  return super().rename(\n"
     ]
    }
   ],
   "source": [
    "df07_02_18.rename(columns={'JUL_18_02':'PRECO'}, inplace=True)\n",
    "\n",
    "df07_02_19.rename(columns={'JUL_19_02':'PRECO'}, inplace=True)"
   ]
  },
  {
   "cell_type": "code",
   "execution_count": 126,
   "metadata": {},
   "outputs": [],
   "source": [
    "julho = df07_02_18.append(df07_02_19)"
   ]
  },
  {
   "cell_type": "code",
   "execution_count": 127,
   "metadata": {},
   "outputs": [
    {
     "data": {
      "text/html": [
       "<div>\n",
       "<style scoped>\n",
       "    .dataframe tbody tr th:only-of-type {\n",
       "        vertical-align: middle;\n",
       "    }\n",
       "\n",
       "    .dataframe tbody tr th {\n",
       "        vertical-align: top;\n",
       "    }\n",
       "\n",
       "    .dataframe thead th {\n",
       "        text-align: right;\n",
       "    }\n",
       "</style>\n",
       "<table border=\"1\" class=\"dataframe\">\n",
       "  <thead>\n",
       "    <tr style=\"text-align: right;\">\n",
       "      <th></th>\n",
       "      <th>BAIRROS</th>\n",
       "      <th>PRECO</th>\n",
       "      <th>MES</th>\n",
       "      <th>ANO</th>\n",
       "    </tr>\n",
       "  </thead>\n",
       "  <tbody>\n",
       "    <tr>\n",
       "      <th>0</th>\n",
       "      <td>ACLIMAÇÃO</td>\n",
       "      <td>7966.213107</td>\n",
       "      <td>JULHO</td>\n",
       "      <td>2018</td>\n",
       "    </tr>\n",
       "    <tr>\n",
       "      <th>1</th>\n",
       "      <td>ALTO DA BOA VISTA</td>\n",
       "      <td>8994.730616</td>\n",
       "      <td>JULHO</td>\n",
       "      <td>2018</td>\n",
       "    </tr>\n",
       "    <tr>\n",
       "      <th>2</th>\n",
       "      <td>BARRA FUNDA</td>\n",
       "      <td>8478.231003</td>\n",
       "      <td>JULHO</td>\n",
       "      <td>2018</td>\n",
       "    </tr>\n",
       "    <tr>\n",
       "      <th>3</th>\n",
       "      <td>BELA VISTA</td>\n",
       "      <td>7591.830255</td>\n",
       "      <td>JULHO</td>\n",
       "      <td>2018</td>\n",
       "    </tr>\n",
       "    <tr>\n",
       "      <th>4</th>\n",
       "      <td>BELÉM</td>\n",
       "      <td>6771.724663</td>\n",
       "      <td>JULHO</td>\n",
       "      <td>2018</td>\n",
       "    </tr>\n",
       "  </tbody>\n",
       "</table>\n",
       "</div>"
      ],
      "text/plain": [
       "             BAIRROS        PRECO    MES   ANO\n",
       "0          ACLIMAÇÃO  7966.213107  JULHO  2018\n",
       "1  ALTO DA BOA VISTA  8994.730616  JULHO  2018\n",
       "2        BARRA FUNDA  8478.231003  JULHO  2018\n",
       "3         BELA VISTA  7591.830255  JULHO  2018\n",
       "4              BELÉM  6771.724663  JULHO  2018"
      ]
     },
     "execution_count": 127,
     "metadata": {},
     "output_type": "execute_result"
    }
   ],
   "source": [
    "julho.head()"
   ]
  },
  {
   "cell_type": "markdown",
   "metadata": {},
   "source": [
    "### Agosto"
   ]
  },
  {
   "cell_type": "code",
   "execution_count": 128,
   "metadata": {},
   "outputs": [
    {
     "name": "stderr",
     "output_type": "stream",
     "text": [
      "<ipython-input-128-69fda1d5f9c4>:3: SettingWithCopyWarning: \n",
      "A value is trying to be set on a copy of a slice from a DataFrame.\n",
      "Try using .loc[row_indexer,col_indexer] = value instead\n",
      "\n",
      "See the caveats in the documentation: https://pandas.pydata.org/pandas-docs/stable/user_guide/indexing.html#returning-a-view-versus-a-copy\n",
      "  df08_02_18['MES'] = 0\n",
      "<ipython-input-128-69fda1d5f9c4>:4: SettingWithCopyWarning: \n",
      "A value is trying to be set on a copy of a slice from a DataFrame.\n",
      "Try using .loc[row_indexer,col_indexer] = value instead\n",
      "\n",
      "See the caveats in the documentation: https://pandas.pydata.org/pandas-docs/stable/user_guide/indexing.html#returning-a-view-versus-a-copy\n",
      "  df08_02_18['ANO'] = 0\n",
      "<ipython-input-128-69fda1d5f9c4>:7: SettingWithCopyWarning: \n",
      "A value is trying to be set on a copy of a slice from a DataFrame.\n",
      "Try using .loc[row_indexer,col_indexer] = value instead\n",
      "\n",
      "See the caveats in the documentation: https://pandas.pydata.org/pandas-docs/stable/user_guide/indexing.html#returning-a-view-versus-a-copy\n",
      "  df08_02_18['MES'] = 'AGOSTO'\n",
      "<ipython-input-128-69fda1d5f9c4>:8: SettingWithCopyWarning: \n",
      "A value is trying to be set on a copy of a slice from a DataFrame.\n",
      "Try using .loc[row_indexer,col_indexer] = value instead\n",
      "\n",
      "See the caveats in the documentation: https://pandas.pydata.org/pandas-docs/stable/user_guide/indexing.html#returning-a-view-versus-a-copy\n",
      "  df08_02_18['ANO'] = 2018\n"
     ]
    }
   ],
   "source": [
    "df08_02_18 = df08[['BAIRROS', 'AGO_18_02']]\n",
    "\n",
    "df08_02_18['MES'] = 0\n",
    "df08_02_18['ANO'] = 0\n",
    "\n",
    "for index, row in df08_02_18.iterrows():\n",
    "    df08_02_18['MES'] = 'AGOSTO'\n",
    "    df08_02_18['ANO'] = 2018"
   ]
  },
  {
   "cell_type": "code",
   "execution_count": 131,
   "metadata": {},
   "outputs": [
    {
     "name": "stderr",
     "output_type": "stream",
     "text": [
      "<ipython-input-131-f18ccadf79f3>:3: SettingWithCopyWarning: \n",
      "A value is trying to be set on a copy of a slice from a DataFrame.\n",
      "Try using .loc[row_indexer,col_indexer] = value instead\n",
      "\n",
      "See the caveats in the documentation: https://pandas.pydata.org/pandas-docs/stable/user_guide/indexing.html#returning-a-view-versus-a-copy\n",
      "  df08_02_19['MES'] = 0\n",
      "<ipython-input-131-f18ccadf79f3>:4: SettingWithCopyWarning: \n",
      "A value is trying to be set on a copy of a slice from a DataFrame.\n",
      "Try using .loc[row_indexer,col_indexer] = value instead\n",
      "\n",
      "See the caveats in the documentation: https://pandas.pydata.org/pandas-docs/stable/user_guide/indexing.html#returning-a-view-versus-a-copy\n",
      "  df08_02_19['ANO'] = 0\n",
      "<ipython-input-131-f18ccadf79f3>:7: SettingWithCopyWarning: \n",
      "A value is trying to be set on a copy of a slice from a DataFrame.\n",
      "Try using .loc[row_indexer,col_indexer] = value instead\n",
      "\n",
      "See the caveats in the documentation: https://pandas.pydata.org/pandas-docs/stable/user_guide/indexing.html#returning-a-view-versus-a-copy\n",
      "  df08_02_19['MES'] = 'AGOSTO'\n",
      "<ipython-input-131-f18ccadf79f3>:8: SettingWithCopyWarning: \n",
      "A value is trying to be set on a copy of a slice from a DataFrame.\n",
      "Try using .loc[row_indexer,col_indexer] = value instead\n",
      "\n",
      "See the caveats in the documentation: https://pandas.pydata.org/pandas-docs/stable/user_guide/indexing.html#returning-a-view-versus-a-copy\n",
      "  df08_02_19['ANO'] = 2019\n"
     ]
    }
   ],
   "source": [
    "df08_02_19 = df08[['BAIRROS', 'AGO_19_02']]\n",
    "\n",
    "df08_02_19['MES'] = 0\n",
    "df08_02_19['ANO'] = 0\n",
    "\n",
    "for index, row in df08_01_19.iterrows():\n",
    "    df08_02_19['MES'] = 'AGOSTO'\n",
    "    df08_02_19['ANO'] = 2019"
   ]
  },
  {
   "cell_type": "code",
   "execution_count": 132,
   "metadata": {},
   "outputs": [],
   "source": [
    "df08_02_18.rename(columns={'AGO_18_02':'PRECO'}, inplace=True)\n",
    "\n",
    "df08_02_19.rename(columns={'AGO_19_02':'PRECO'}, inplace=True)"
   ]
  },
  {
   "cell_type": "code",
   "execution_count": 133,
   "metadata": {},
   "outputs": [],
   "source": [
    "agosto = df08_02_18.append(df08_02_19)"
   ]
  },
  {
   "cell_type": "code",
   "execution_count": 134,
   "metadata": {},
   "outputs": [
    {
     "data": {
      "text/html": [
       "<div>\n",
       "<style scoped>\n",
       "    .dataframe tbody tr th:only-of-type {\n",
       "        vertical-align: middle;\n",
       "    }\n",
       "\n",
       "    .dataframe tbody tr th {\n",
       "        vertical-align: top;\n",
       "    }\n",
       "\n",
       "    .dataframe thead th {\n",
       "        text-align: right;\n",
       "    }\n",
       "</style>\n",
       "<table border=\"1\" class=\"dataframe\">\n",
       "  <thead>\n",
       "    <tr style=\"text-align: right;\">\n",
       "      <th></th>\n",
       "      <th>BAIRROS</th>\n",
       "      <th>PRECO</th>\n",
       "      <th>MES</th>\n",
       "      <th>ANO</th>\n",
       "    </tr>\n",
       "  </thead>\n",
       "  <tbody>\n",
       "    <tr>\n",
       "      <th>0</th>\n",
       "      <td>ACLIMAÇÃO</td>\n",
       "      <td>7973.77</td>\n",
       "      <td>AGOSTO</td>\n",
       "      <td>2018</td>\n",
       "    </tr>\n",
       "    <tr>\n",
       "      <th>1</th>\n",
       "      <td>ALTO DA BOA VISTA</td>\n",
       "      <td>8999.97</td>\n",
       "      <td>AGOSTO</td>\n",
       "      <td>2018</td>\n",
       "    </tr>\n",
       "    <tr>\n",
       "      <th>2</th>\n",
       "      <td>BARRA FUNDA</td>\n",
       "      <td>8495.17</td>\n",
       "      <td>AGOSTO</td>\n",
       "      <td>2018</td>\n",
       "    </tr>\n",
       "    <tr>\n",
       "      <th>3</th>\n",
       "      <td>BELA VISTA</td>\n",
       "      <td>7615.52</td>\n",
       "      <td>AGOSTO</td>\n",
       "      <td>2018</td>\n",
       "    </tr>\n",
       "    <tr>\n",
       "      <th>4</th>\n",
       "      <td>BELÉM</td>\n",
       "      <td>6691.42</td>\n",
       "      <td>AGOSTO</td>\n",
       "      <td>2018</td>\n",
       "    </tr>\n",
       "  </tbody>\n",
       "</table>\n",
       "</div>"
      ],
      "text/plain": [
       "             BAIRROS    PRECO     MES   ANO\n",
       "0          ACLIMAÇÃO  7973.77  AGOSTO  2018\n",
       "1  ALTO DA BOA VISTA  8999.97  AGOSTO  2018\n",
       "2        BARRA FUNDA  8495.17  AGOSTO  2018\n",
       "3         BELA VISTA  7615.52  AGOSTO  2018\n",
       "4              BELÉM  6691.42  AGOSTO  2018"
      ]
     },
     "execution_count": 134,
     "metadata": {},
     "output_type": "execute_result"
    }
   ],
   "source": [
    "agosto.head()"
   ]
  },
  {
   "cell_type": "markdown",
   "metadata": {},
   "source": [
    "### Setembro"
   ]
  },
  {
   "cell_type": "code",
   "execution_count": 135,
   "metadata": {},
   "outputs": [
    {
     "name": "stderr",
     "output_type": "stream",
     "text": [
      "<ipython-input-135-f30c7a4561ea>:3: SettingWithCopyWarning: \n",
      "A value is trying to be set on a copy of a slice from a DataFrame.\n",
      "Try using .loc[row_indexer,col_indexer] = value instead\n",
      "\n",
      "See the caveats in the documentation: https://pandas.pydata.org/pandas-docs/stable/user_guide/indexing.html#returning-a-view-versus-a-copy\n",
      "  df09_02_18['MES'] = 0\n",
      "<ipython-input-135-f30c7a4561ea>:4: SettingWithCopyWarning: \n",
      "A value is trying to be set on a copy of a slice from a DataFrame.\n",
      "Try using .loc[row_indexer,col_indexer] = value instead\n",
      "\n",
      "See the caveats in the documentation: https://pandas.pydata.org/pandas-docs/stable/user_guide/indexing.html#returning-a-view-versus-a-copy\n",
      "  df09_02_18['ANO'] = 0\n",
      "<ipython-input-135-f30c7a4561ea>:7: SettingWithCopyWarning: \n",
      "A value is trying to be set on a copy of a slice from a DataFrame.\n",
      "Try using .loc[row_indexer,col_indexer] = value instead\n",
      "\n",
      "See the caveats in the documentation: https://pandas.pydata.org/pandas-docs/stable/user_guide/indexing.html#returning-a-view-versus-a-copy\n",
      "  df09_02_18['MES'] = 'SETEMBRO'\n",
      "<ipython-input-135-f30c7a4561ea>:8: SettingWithCopyWarning: \n",
      "A value is trying to be set on a copy of a slice from a DataFrame.\n",
      "Try using .loc[row_indexer,col_indexer] = value instead\n",
      "\n",
      "See the caveats in the documentation: https://pandas.pydata.org/pandas-docs/stable/user_guide/indexing.html#returning-a-view-versus-a-copy\n",
      "  df09_02_18['ANO'] = 2018\n"
     ]
    }
   ],
   "source": [
    "df09_02_18 = df09[['BAIRROS', 'SET_18_02']]\n",
    "\n",
    "df09_02_18['MES'] = 0\n",
    "df09_02_18['ANO'] = 0\n",
    "\n",
    "for index, row in df09_02_18.iterrows():\n",
    "    df09_02_18['MES'] = 'SETEMBRO'\n",
    "    df09_02_18['ANO'] = 2018"
   ]
  },
  {
   "cell_type": "code",
   "execution_count": 136,
   "metadata": {},
   "outputs": [
    {
     "name": "stderr",
     "output_type": "stream",
     "text": [
      "<ipython-input-136-d3b994cfa21f>:3: SettingWithCopyWarning: \n",
      "A value is trying to be set on a copy of a slice from a DataFrame.\n",
      "Try using .loc[row_indexer,col_indexer] = value instead\n",
      "\n",
      "See the caveats in the documentation: https://pandas.pydata.org/pandas-docs/stable/user_guide/indexing.html#returning-a-view-versus-a-copy\n",
      "  df09_02_19['MES'] = 0\n",
      "<ipython-input-136-d3b994cfa21f>:4: SettingWithCopyWarning: \n",
      "A value is trying to be set on a copy of a slice from a DataFrame.\n",
      "Try using .loc[row_indexer,col_indexer] = value instead\n",
      "\n",
      "See the caveats in the documentation: https://pandas.pydata.org/pandas-docs/stable/user_guide/indexing.html#returning-a-view-versus-a-copy\n",
      "  df09_02_19['ANO'] = 0\n",
      "<ipython-input-136-d3b994cfa21f>:7: SettingWithCopyWarning: \n",
      "A value is trying to be set on a copy of a slice from a DataFrame.\n",
      "Try using .loc[row_indexer,col_indexer] = value instead\n",
      "\n",
      "See the caveats in the documentation: https://pandas.pydata.org/pandas-docs/stable/user_guide/indexing.html#returning-a-view-versus-a-copy\n",
      "  df09_02_19['MES'] = 'SETEMBRO'\n",
      "<ipython-input-136-d3b994cfa21f>:8: SettingWithCopyWarning: \n",
      "A value is trying to be set on a copy of a slice from a DataFrame.\n",
      "Try using .loc[row_indexer,col_indexer] = value instead\n",
      "\n",
      "See the caveats in the documentation: https://pandas.pydata.org/pandas-docs/stable/user_guide/indexing.html#returning-a-view-versus-a-copy\n",
      "  df09_02_19['ANO'] = 2019\n"
     ]
    }
   ],
   "source": [
    "df09_02_19 = df09[['BAIRROS', 'SET_19_02']]\n",
    "\n",
    "df09_02_19['MES'] = 0\n",
    "df09_02_19['ANO'] = 0\n",
    "\n",
    "for index, row in df09_01_19.iterrows():\n",
    "    df09_02_19['MES'] = 'SETEMBRO'\n",
    "    df09_02_19['ANO'] = 2019"
   ]
  },
  {
   "cell_type": "code",
   "execution_count": 137,
   "metadata": {},
   "outputs": [
    {
     "name": "stderr",
     "output_type": "stream",
     "text": [
      "C:\\Users\\carol\\Anaconda3.1\\lib\\site-packages\\pandas\\core\\frame.py:4296: SettingWithCopyWarning: \n",
      "A value is trying to be set on a copy of a slice from a DataFrame\n",
      "\n",
      "See the caveats in the documentation: https://pandas.pydata.org/pandas-docs/stable/user_guide/indexing.html#returning-a-view-versus-a-copy\n",
      "  return super().rename(\n"
     ]
    }
   ],
   "source": [
    "df09_02_18.rename(columns={'SET_18_02':'PRECO'}, inplace=True)\n",
    "\n",
    "df09_02_19.rename(columns={'SET_19_02':'PRECO'}, inplace=True)"
   ]
  },
  {
   "cell_type": "code",
   "execution_count": 138,
   "metadata": {},
   "outputs": [],
   "source": [
    "setembro = df09_02_18.append(df09_02_19)"
   ]
  },
  {
   "cell_type": "code",
   "execution_count": 139,
   "metadata": {},
   "outputs": [
    {
     "data": {
      "text/html": [
       "<div>\n",
       "<style scoped>\n",
       "    .dataframe tbody tr th:only-of-type {\n",
       "        vertical-align: middle;\n",
       "    }\n",
       "\n",
       "    .dataframe tbody tr th {\n",
       "        vertical-align: top;\n",
       "    }\n",
       "\n",
       "    .dataframe thead th {\n",
       "        text-align: right;\n",
       "    }\n",
       "</style>\n",
       "<table border=\"1\" class=\"dataframe\">\n",
       "  <thead>\n",
       "    <tr style=\"text-align: right;\">\n",
       "      <th></th>\n",
       "      <th>BAIRROS</th>\n",
       "      <th>PRECO</th>\n",
       "      <th>MES</th>\n",
       "      <th>ANO</th>\n",
       "    </tr>\n",
       "  </thead>\n",
       "  <tbody>\n",
       "    <tr>\n",
       "      <th>0</th>\n",
       "      <td>ACLIMAÇÃO</td>\n",
       "      <td>7738.06</td>\n",
       "      <td>SETEMBRO</td>\n",
       "      <td>2018</td>\n",
       "    </tr>\n",
       "    <tr>\n",
       "      <th>1</th>\n",
       "      <td>ALTO DA BOA VISTA</td>\n",
       "      <td>8955.14</td>\n",
       "      <td>SETEMBRO</td>\n",
       "      <td>2018</td>\n",
       "    </tr>\n",
       "    <tr>\n",
       "      <th>2</th>\n",
       "      <td>BARRA FUNDA</td>\n",
       "      <td>8417.3</td>\n",
       "      <td>SETEMBRO</td>\n",
       "      <td>2018</td>\n",
       "    </tr>\n",
       "    <tr>\n",
       "      <th>3</th>\n",
       "      <td>BELA VISTA</td>\n",
       "      <td>7540.58</td>\n",
       "      <td>SETEMBRO</td>\n",
       "      <td>2018</td>\n",
       "    </tr>\n",
       "    <tr>\n",
       "      <th>4</th>\n",
       "      <td>BELÉM</td>\n",
       "      <td>6553.31</td>\n",
       "      <td>SETEMBRO</td>\n",
       "      <td>2018</td>\n",
       "    </tr>\n",
       "  </tbody>\n",
       "</table>\n",
       "</div>"
      ],
      "text/plain": [
       "             BAIRROS    PRECO       MES   ANO\n",
       "0          ACLIMAÇÃO  7738.06  SETEMBRO  2018\n",
       "1  ALTO DA BOA VISTA  8955.14  SETEMBRO  2018\n",
       "2        BARRA FUNDA   8417.3  SETEMBRO  2018\n",
       "3         BELA VISTA  7540.58  SETEMBRO  2018\n",
       "4              BELÉM  6553.31  SETEMBRO  2018"
      ]
     },
     "execution_count": 139,
     "metadata": {},
     "output_type": "execute_result"
    }
   ],
   "source": [
    "setembro.head()"
   ]
  },
  {
   "cell_type": "markdown",
   "metadata": {},
   "source": [
    "### Outubro"
   ]
  },
  {
   "cell_type": "code",
   "execution_count": 140,
   "metadata": {},
   "outputs": [
    {
     "name": "stderr",
     "output_type": "stream",
     "text": [
      "<ipython-input-140-dafd24110410>:3: SettingWithCopyWarning: \n",
      "A value is trying to be set on a copy of a slice from a DataFrame.\n",
      "Try using .loc[row_indexer,col_indexer] = value instead\n",
      "\n",
      "See the caveats in the documentation: https://pandas.pydata.org/pandas-docs/stable/user_guide/indexing.html#returning-a-view-versus-a-copy\n",
      "  df10_02_18['MES'] = 0\n",
      "<ipython-input-140-dafd24110410>:4: SettingWithCopyWarning: \n",
      "A value is trying to be set on a copy of a slice from a DataFrame.\n",
      "Try using .loc[row_indexer,col_indexer] = value instead\n",
      "\n",
      "See the caveats in the documentation: https://pandas.pydata.org/pandas-docs/stable/user_guide/indexing.html#returning-a-view-versus-a-copy\n",
      "  df10_02_18['ANO'] = 0\n",
      "<ipython-input-140-dafd24110410>:7: SettingWithCopyWarning: \n",
      "A value is trying to be set on a copy of a slice from a DataFrame.\n",
      "Try using .loc[row_indexer,col_indexer] = value instead\n",
      "\n",
      "See the caveats in the documentation: https://pandas.pydata.org/pandas-docs/stable/user_guide/indexing.html#returning-a-view-versus-a-copy\n",
      "  df10_02_18['MES'] = 'OUTUBRO'\n",
      "<ipython-input-140-dafd24110410>:8: SettingWithCopyWarning: \n",
      "A value is trying to be set on a copy of a slice from a DataFrame.\n",
      "Try using .loc[row_indexer,col_indexer] = value instead\n",
      "\n",
      "See the caveats in the documentation: https://pandas.pydata.org/pandas-docs/stable/user_guide/indexing.html#returning-a-view-versus-a-copy\n",
      "  df10_02_18['ANO'] = 2018\n"
     ]
    }
   ],
   "source": [
    "df10_02_18 = df10[['BAIRROS', 'OUT_18_02']]\n",
    "\n",
    "df10_02_18['MES'] = 0\n",
    "df10_02_18['ANO'] = 0\n",
    "\n",
    "for index, row in df10_02_18.iterrows():\n",
    "    df10_02_18['MES'] = 'OUTUBRO'\n",
    "    df10_02_18['ANO'] = 2018"
   ]
  },
  {
   "cell_type": "code",
   "execution_count": 141,
   "metadata": {},
   "outputs": [
    {
     "name": "stderr",
     "output_type": "stream",
     "text": [
      "<ipython-input-141-7143701e3d3f>:3: SettingWithCopyWarning: \n",
      "A value is trying to be set on a copy of a slice from a DataFrame.\n",
      "Try using .loc[row_indexer,col_indexer] = value instead\n",
      "\n",
      "See the caveats in the documentation: https://pandas.pydata.org/pandas-docs/stable/user_guide/indexing.html#returning-a-view-versus-a-copy\n",
      "  df10_02_19['MES'] = 0\n",
      "<ipython-input-141-7143701e3d3f>:4: SettingWithCopyWarning: \n",
      "A value is trying to be set on a copy of a slice from a DataFrame.\n",
      "Try using .loc[row_indexer,col_indexer] = value instead\n",
      "\n",
      "See the caveats in the documentation: https://pandas.pydata.org/pandas-docs/stable/user_guide/indexing.html#returning-a-view-versus-a-copy\n",
      "  df10_02_19['ANO'] = 0\n",
      "<ipython-input-141-7143701e3d3f>:7: SettingWithCopyWarning: \n",
      "A value is trying to be set on a copy of a slice from a DataFrame.\n",
      "Try using .loc[row_indexer,col_indexer] = value instead\n",
      "\n",
      "See the caveats in the documentation: https://pandas.pydata.org/pandas-docs/stable/user_guide/indexing.html#returning-a-view-versus-a-copy\n",
      "  df10_02_19['MES'] = 'OUTUBRO'\n",
      "<ipython-input-141-7143701e3d3f>:8: SettingWithCopyWarning: \n",
      "A value is trying to be set on a copy of a slice from a DataFrame.\n",
      "Try using .loc[row_indexer,col_indexer] = value instead\n",
      "\n",
      "See the caveats in the documentation: https://pandas.pydata.org/pandas-docs/stable/user_guide/indexing.html#returning-a-view-versus-a-copy\n",
      "  df10_02_19['ANO'] = 2019\n"
     ]
    }
   ],
   "source": [
    "df10_02_19 = df10[['BAIRROS', 'OUT_19_02']]\n",
    "\n",
    "df10_02_19['MES'] = 0\n",
    "df10_02_19['ANO'] = 0\n",
    "\n",
    "for index, row in df10_01_19.iterrows():\n",
    "    df10_02_19['MES'] = 'OUTUBRO'\n",
    "    df10_02_19['ANO'] = 2019"
   ]
  },
  {
   "cell_type": "code",
   "execution_count": 142,
   "metadata": {},
   "outputs": [
    {
     "name": "stderr",
     "output_type": "stream",
     "text": [
      "C:\\Users\\carol\\Anaconda3.1\\lib\\site-packages\\pandas\\core\\frame.py:4296: SettingWithCopyWarning: \n",
      "A value is trying to be set on a copy of a slice from a DataFrame\n",
      "\n",
      "See the caveats in the documentation: https://pandas.pydata.org/pandas-docs/stable/user_guide/indexing.html#returning-a-view-versus-a-copy\n",
      "  return super().rename(\n"
     ]
    }
   ],
   "source": [
    "df10_02_18.rename(columns={'OUT_18_02':'PRECO'}, inplace=True)\n",
    "\n",
    "df10_02_19.rename(columns={'OUT_19_02':'PRECO'}, inplace=True)"
   ]
  },
  {
   "cell_type": "code",
   "execution_count": 143,
   "metadata": {},
   "outputs": [],
   "source": [
    "outubro = df10_02_18.append(df10_02_19)"
   ]
  },
  {
   "cell_type": "code",
   "execution_count": 144,
   "metadata": {},
   "outputs": [
    {
     "data": {
      "text/html": [
       "<div>\n",
       "<style scoped>\n",
       "    .dataframe tbody tr th:only-of-type {\n",
       "        vertical-align: middle;\n",
       "    }\n",
       "\n",
       "    .dataframe tbody tr th {\n",
       "        vertical-align: top;\n",
       "    }\n",
       "\n",
       "    .dataframe thead th {\n",
       "        text-align: right;\n",
       "    }\n",
       "</style>\n",
       "<table border=\"1\" class=\"dataframe\">\n",
       "  <thead>\n",
       "    <tr style=\"text-align: right;\">\n",
       "      <th></th>\n",
       "      <th>BAIRROS</th>\n",
       "      <th>PRECO</th>\n",
       "      <th>MES</th>\n",
       "      <th>ANO</th>\n",
       "    </tr>\n",
       "  </thead>\n",
       "  <tbody>\n",
       "    <tr>\n",
       "      <th>0</th>\n",
       "      <td>ACLIMAÇÃO</td>\n",
       "      <td>7712.24</td>\n",
       "      <td>OUTUBRO</td>\n",
       "      <td>2018</td>\n",
       "    </tr>\n",
       "    <tr>\n",
       "      <th>1</th>\n",
       "      <td>ALTO DA BOA VISTA</td>\n",
       "      <td>8979.28</td>\n",
       "      <td>OUTUBRO</td>\n",
       "      <td>2018</td>\n",
       "    </tr>\n",
       "    <tr>\n",
       "      <th>2</th>\n",
       "      <td>BARRA FUNDA</td>\n",
       "      <td>8390.73</td>\n",
       "      <td>OUTUBRO</td>\n",
       "      <td>2018</td>\n",
       "    </tr>\n",
       "    <tr>\n",
       "      <th>3</th>\n",
       "      <td>BELA VISTA</td>\n",
       "      <td>7544.74</td>\n",
       "      <td>OUTUBRO</td>\n",
       "      <td>2018</td>\n",
       "    </tr>\n",
       "    <tr>\n",
       "      <th>4</th>\n",
       "      <td>BELÉM</td>\n",
       "      <td>6556.21</td>\n",
       "      <td>OUTUBRO</td>\n",
       "      <td>2018</td>\n",
       "    </tr>\n",
       "  </tbody>\n",
       "</table>\n",
       "</div>"
      ],
      "text/plain": [
       "             BAIRROS    PRECO      MES   ANO\n",
       "0          ACLIMAÇÃO  7712.24  OUTUBRO  2018\n",
       "1  ALTO DA BOA VISTA  8979.28  OUTUBRO  2018\n",
       "2        BARRA FUNDA  8390.73  OUTUBRO  2018\n",
       "3         BELA VISTA  7544.74  OUTUBRO  2018\n",
       "4              BELÉM  6556.21  OUTUBRO  2018"
      ]
     },
     "execution_count": 144,
     "metadata": {},
     "output_type": "execute_result"
    }
   ],
   "source": [
    "outubro.head()"
   ]
  },
  {
   "cell_type": "markdown",
   "metadata": {},
   "source": [
    "### Novembro"
   ]
  },
  {
   "cell_type": "code",
   "execution_count": 145,
   "metadata": {},
   "outputs": [
    {
     "name": "stderr",
     "output_type": "stream",
     "text": [
      "<ipython-input-145-23c85d32bfbf>:3: SettingWithCopyWarning: \n",
      "A value is trying to be set on a copy of a slice from a DataFrame.\n",
      "Try using .loc[row_indexer,col_indexer] = value instead\n",
      "\n",
      "See the caveats in the documentation: https://pandas.pydata.org/pandas-docs/stable/user_guide/indexing.html#returning-a-view-versus-a-copy\n",
      "  df11_02_18['MES'] = 0\n",
      "<ipython-input-145-23c85d32bfbf>:4: SettingWithCopyWarning: \n",
      "A value is trying to be set on a copy of a slice from a DataFrame.\n",
      "Try using .loc[row_indexer,col_indexer] = value instead\n",
      "\n",
      "See the caveats in the documentation: https://pandas.pydata.org/pandas-docs/stable/user_guide/indexing.html#returning-a-view-versus-a-copy\n",
      "  df11_02_18['ANO'] = 0\n",
      "<ipython-input-145-23c85d32bfbf>:7: SettingWithCopyWarning: \n",
      "A value is trying to be set on a copy of a slice from a DataFrame.\n",
      "Try using .loc[row_indexer,col_indexer] = value instead\n",
      "\n",
      "See the caveats in the documentation: https://pandas.pydata.org/pandas-docs/stable/user_guide/indexing.html#returning-a-view-versus-a-copy\n",
      "  df11_02_18['MES'] = 'NOVEMBRO'\n",
      "<ipython-input-145-23c85d32bfbf>:8: SettingWithCopyWarning: \n",
      "A value is trying to be set on a copy of a slice from a DataFrame.\n",
      "Try using .loc[row_indexer,col_indexer] = value instead\n",
      "\n",
      "See the caveats in the documentation: https://pandas.pydata.org/pandas-docs/stable/user_guide/indexing.html#returning-a-view-versus-a-copy\n",
      "  df11_02_18['ANO'] = 2018\n"
     ]
    }
   ],
   "source": [
    "df11_02_18 = df11[['BAIRROS', 'NOV_18_02']]\n",
    "\n",
    "df11_02_18['MES'] = 0\n",
    "df11_02_18['ANO'] = 0\n",
    "\n",
    "for index, row in df11_02_18.iterrows():\n",
    "    df11_02_18['MES'] = 'NOVEMBRO'\n",
    "    df11_02_18['ANO'] = 2018"
   ]
  },
  {
   "cell_type": "code",
   "execution_count": 146,
   "metadata": {},
   "outputs": [
    {
     "name": "stderr",
     "output_type": "stream",
     "text": [
      "<ipython-input-146-a035a167aec2>:3: SettingWithCopyWarning: \n",
      "A value is trying to be set on a copy of a slice from a DataFrame.\n",
      "Try using .loc[row_indexer,col_indexer] = value instead\n",
      "\n",
      "See the caveats in the documentation: https://pandas.pydata.org/pandas-docs/stable/user_guide/indexing.html#returning-a-view-versus-a-copy\n",
      "  df11_02_19['MES'] = 0\n",
      "<ipython-input-146-a035a167aec2>:4: SettingWithCopyWarning: \n",
      "A value is trying to be set on a copy of a slice from a DataFrame.\n",
      "Try using .loc[row_indexer,col_indexer] = value instead\n",
      "\n",
      "See the caveats in the documentation: https://pandas.pydata.org/pandas-docs/stable/user_guide/indexing.html#returning-a-view-versus-a-copy\n",
      "  df11_02_19['ANO'] = 0\n",
      "<ipython-input-146-a035a167aec2>:7: SettingWithCopyWarning: \n",
      "A value is trying to be set on a copy of a slice from a DataFrame.\n",
      "Try using .loc[row_indexer,col_indexer] = value instead\n",
      "\n",
      "See the caveats in the documentation: https://pandas.pydata.org/pandas-docs/stable/user_guide/indexing.html#returning-a-view-versus-a-copy\n",
      "  df11_02_19['MES'] = 'NOVEMBRO'\n",
      "<ipython-input-146-a035a167aec2>:8: SettingWithCopyWarning: \n",
      "A value is trying to be set on a copy of a slice from a DataFrame.\n",
      "Try using .loc[row_indexer,col_indexer] = value instead\n",
      "\n",
      "See the caveats in the documentation: https://pandas.pydata.org/pandas-docs/stable/user_guide/indexing.html#returning-a-view-versus-a-copy\n",
      "  df11_02_19['ANO'] = 2019\n"
     ]
    }
   ],
   "source": [
    "df11_02_19 = df11[['BAIRROS', 'NOV_19_02']]\n",
    "\n",
    "df11_02_19['MES'] = 0\n",
    "df11_02_19['ANO'] = 0\n",
    "\n",
    "for index, row in df11_01_19.iterrows():\n",
    "    df11_02_19['MES'] = 'NOVEMBRO'\n",
    "    df11_02_19['ANO'] = 2019"
   ]
  },
  {
   "cell_type": "code",
   "execution_count": 147,
   "metadata": {},
   "outputs": [
    {
     "name": "stderr",
     "output_type": "stream",
     "text": [
      "C:\\Users\\carol\\Anaconda3.1\\lib\\site-packages\\pandas\\core\\frame.py:4296: SettingWithCopyWarning: \n",
      "A value is trying to be set on a copy of a slice from a DataFrame\n",
      "\n",
      "See the caveats in the documentation: https://pandas.pydata.org/pandas-docs/stable/user_guide/indexing.html#returning-a-view-versus-a-copy\n",
      "  return super().rename(\n"
     ]
    }
   ],
   "source": [
    "df11_02_18.rename(columns={'NOV_18_02':'PRECO'}, inplace=True)\n",
    "\n",
    "df11_02_19.rename(columns={'NOV_19_02':'PRECO'}, inplace=True)"
   ]
  },
  {
   "cell_type": "code",
   "execution_count": 148,
   "metadata": {},
   "outputs": [],
   "source": [
    "novembro = df11_02_18.append(df11_02_19)"
   ]
  },
  {
   "cell_type": "code",
   "execution_count": 149,
   "metadata": {},
   "outputs": [
    {
     "data": {
      "text/html": [
       "<div>\n",
       "<style scoped>\n",
       "    .dataframe tbody tr th:only-of-type {\n",
       "        vertical-align: middle;\n",
       "    }\n",
       "\n",
       "    .dataframe tbody tr th {\n",
       "        vertical-align: top;\n",
       "    }\n",
       "\n",
       "    .dataframe thead th {\n",
       "        text-align: right;\n",
       "    }\n",
       "</style>\n",
       "<table border=\"1\" class=\"dataframe\">\n",
       "  <thead>\n",
       "    <tr style=\"text-align: right;\">\n",
       "      <th></th>\n",
       "      <th>BAIRROS</th>\n",
       "      <th>PRECO</th>\n",
       "      <th>MES</th>\n",
       "      <th>ANO</th>\n",
       "    </tr>\n",
       "  </thead>\n",
       "  <tbody>\n",
       "    <tr>\n",
       "      <th>0</th>\n",
       "      <td>ACLIMAÇÃO</td>\n",
       "      <td>7654.61</td>\n",
       "      <td>NOVEMBRO</td>\n",
       "      <td>2018</td>\n",
       "    </tr>\n",
       "    <tr>\n",
       "      <th>1</th>\n",
       "      <td>ALTO DA BOA VISTA</td>\n",
       "      <td>9010.57</td>\n",
       "      <td>NOVEMBRO</td>\n",
       "      <td>2018</td>\n",
       "    </tr>\n",
       "    <tr>\n",
       "      <th>2</th>\n",
       "      <td>BARRA FUNDA</td>\n",
       "      <td>8341.31</td>\n",
       "      <td>NOVEMBRO</td>\n",
       "      <td>2018</td>\n",
       "    </tr>\n",
       "    <tr>\n",
       "      <th>3</th>\n",
       "      <td>BELA VISTA</td>\n",
       "      <td>7576.52</td>\n",
       "      <td>NOVEMBRO</td>\n",
       "      <td>2018</td>\n",
       "    </tr>\n",
       "    <tr>\n",
       "      <th>4</th>\n",
       "      <td>BELÉM</td>\n",
       "      <td>6581.85</td>\n",
       "      <td>NOVEMBRO</td>\n",
       "      <td>2018</td>\n",
       "    </tr>\n",
       "  </tbody>\n",
       "</table>\n",
       "</div>"
      ],
      "text/plain": [
       "             BAIRROS    PRECO       MES   ANO\n",
       "0          ACLIMAÇÃO  7654.61  NOVEMBRO  2018\n",
       "1  ALTO DA BOA VISTA  9010.57  NOVEMBRO  2018\n",
       "2        BARRA FUNDA  8341.31  NOVEMBRO  2018\n",
       "3         BELA VISTA  7576.52  NOVEMBRO  2018\n",
       "4              BELÉM  6581.85  NOVEMBRO  2018"
      ]
     },
     "execution_count": 149,
     "metadata": {},
     "output_type": "execute_result"
    }
   ],
   "source": [
    "novembro.head()"
   ]
  },
  {
   "cell_type": "markdown",
   "metadata": {},
   "source": [
    "### Dezembro"
   ]
  },
  {
   "cell_type": "code",
   "execution_count": 150,
   "metadata": {},
   "outputs": [
    {
     "name": "stderr",
     "output_type": "stream",
     "text": [
      "<ipython-input-150-b375f56e87f5>:3: SettingWithCopyWarning: \n",
      "A value is trying to be set on a copy of a slice from a DataFrame.\n",
      "Try using .loc[row_indexer,col_indexer] = value instead\n",
      "\n",
      "See the caveats in the documentation: https://pandas.pydata.org/pandas-docs/stable/user_guide/indexing.html#returning-a-view-versus-a-copy\n",
      "  df12_02_18['MES'] = 0\n",
      "<ipython-input-150-b375f56e87f5>:4: SettingWithCopyWarning: \n",
      "A value is trying to be set on a copy of a slice from a DataFrame.\n",
      "Try using .loc[row_indexer,col_indexer] = value instead\n",
      "\n",
      "See the caveats in the documentation: https://pandas.pydata.org/pandas-docs/stable/user_guide/indexing.html#returning-a-view-versus-a-copy\n",
      "  df12_02_18['ANO'] = 0\n",
      "<ipython-input-150-b375f56e87f5>:7: SettingWithCopyWarning: \n",
      "A value is trying to be set on a copy of a slice from a DataFrame.\n",
      "Try using .loc[row_indexer,col_indexer] = value instead\n",
      "\n",
      "See the caveats in the documentation: https://pandas.pydata.org/pandas-docs/stable/user_guide/indexing.html#returning-a-view-versus-a-copy\n",
      "  df12_02_18['MES'] = 'DEZEMBRO'\n",
      "<ipython-input-150-b375f56e87f5>:8: SettingWithCopyWarning: \n",
      "A value is trying to be set on a copy of a slice from a DataFrame.\n",
      "Try using .loc[row_indexer,col_indexer] = value instead\n",
      "\n",
      "See the caveats in the documentation: https://pandas.pydata.org/pandas-docs/stable/user_guide/indexing.html#returning-a-view-versus-a-copy\n",
      "  df12_02_18['ANO'] = 2018\n"
     ]
    }
   ],
   "source": [
    "df12_02_18 = df12[['BAIRROS', 'DEZ_18_02']]\n",
    "\n",
    "df12_02_18['MES'] = 0\n",
    "df12_02_18['ANO'] = 0\n",
    "\n",
    "for index, row in df12_02_18.iterrows():\n",
    "    df12_02_18['MES'] = 'DEZEMBRO'\n",
    "    df12_02_18['ANO'] = 2018"
   ]
  },
  {
   "cell_type": "code",
   "execution_count": 163,
   "metadata": {},
   "outputs": [
    {
     "name": "stderr",
     "output_type": "stream",
     "text": [
      "<ipython-input-163-428410d28de9>:3: SettingWithCopyWarning: \n",
      "A value is trying to be set on a copy of a slice from a DataFrame.\n",
      "Try using .loc[row_indexer,col_indexer] = value instead\n",
      "\n",
      "See the caveats in the documentation: https://pandas.pydata.org/pandas-docs/stable/user_guide/indexing.html#returning-a-view-versus-a-copy\n",
      "  df12_02_19['MES'] = 0\n",
      "<ipython-input-163-428410d28de9>:4: SettingWithCopyWarning: \n",
      "A value is trying to be set on a copy of a slice from a DataFrame.\n",
      "Try using .loc[row_indexer,col_indexer] = value instead\n",
      "\n",
      "See the caveats in the documentation: https://pandas.pydata.org/pandas-docs/stable/user_guide/indexing.html#returning-a-view-versus-a-copy\n",
      "  df12_02_19['ANO'] = 0\n",
      "<ipython-input-163-428410d28de9>:7: SettingWithCopyWarning: \n",
      "A value is trying to be set on a copy of a slice from a DataFrame.\n",
      "Try using .loc[row_indexer,col_indexer] = value instead\n",
      "\n",
      "See the caveats in the documentation: https://pandas.pydata.org/pandas-docs/stable/user_guide/indexing.html#returning-a-view-versus-a-copy\n",
      "  df12_02_19['MES'] = 'DEZEMBRO'\n",
      "<ipython-input-163-428410d28de9>:8: SettingWithCopyWarning: \n",
      "A value is trying to be set on a copy of a slice from a DataFrame.\n",
      "Try using .loc[row_indexer,col_indexer] = value instead\n",
      "\n",
      "See the caveats in the documentation: https://pandas.pydata.org/pandas-docs/stable/user_guide/indexing.html#returning-a-view-versus-a-copy\n",
      "  df12_02_19['ANO'] = 2019\n"
     ]
    }
   ],
   "source": [
    "df12_02_19 = df12[['BAIRROS', 'DEZ_19_02']]\n",
    "\n",
    "df12_02_19['MES'] = 0\n",
    "df12_02_19['ANO'] = 0\n",
    "\n",
    "for index, row in df12_02_19.iterrows():\n",
    "    df12_02_19['MES'] = 'DEZEMBRO'\n",
    "    df12_02_19['ANO'] = 2019"
   ]
  },
  {
   "cell_type": "code",
   "execution_count": 164,
   "metadata": {},
   "outputs": [
    {
     "name": "stderr",
     "output_type": "stream",
     "text": [
      "C:\\Users\\carol\\Anaconda3.1\\lib\\site-packages\\pandas\\core\\frame.py:4296: SettingWithCopyWarning: \n",
      "A value is trying to be set on a copy of a slice from a DataFrame\n",
      "\n",
      "See the caveats in the documentation: https://pandas.pydata.org/pandas-docs/stable/user_guide/indexing.html#returning-a-view-versus-a-copy\n",
      "  return super().rename(\n"
     ]
    }
   ],
   "source": [
    "df12_02_18.rename(columns={'DEZ_18_02':'PRECO'}, inplace=True)\n",
    "\n",
    "df12_02_19.rename(columns={'DEZ_19_02':'PRECO'}, inplace=True)"
   ]
  },
  {
   "cell_type": "code",
   "execution_count": 165,
   "metadata": {},
   "outputs": [],
   "source": [
    "dezembro = df12_02_18.append(df12_02_19)"
   ]
  },
  {
   "cell_type": "code",
   "execution_count": 166,
   "metadata": {},
   "outputs": [
    {
     "data": {
      "text/html": [
       "<div>\n",
       "<style scoped>\n",
       "    .dataframe tbody tr th:only-of-type {\n",
       "        vertical-align: middle;\n",
       "    }\n",
       "\n",
       "    .dataframe tbody tr th {\n",
       "        vertical-align: top;\n",
       "    }\n",
       "\n",
       "    .dataframe thead th {\n",
       "        text-align: right;\n",
       "    }\n",
       "</style>\n",
       "<table border=\"1\" class=\"dataframe\">\n",
       "  <thead>\n",
       "    <tr style=\"text-align: right;\">\n",
       "      <th></th>\n",
       "      <th>BAIRROS</th>\n",
       "      <th>PRECO</th>\n",
       "      <th>MES</th>\n",
       "      <th>ANO</th>\n",
       "    </tr>\n",
       "  </thead>\n",
       "  <tbody>\n",
       "    <tr>\n",
       "      <th>0</th>\n",
       "      <td>ACLIMAÇÃO</td>\n",
       "      <td>7557.76</td>\n",
       "      <td>DEZEMBRO</td>\n",
       "      <td>2018</td>\n",
       "    </tr>\n",
       "    <tr>\n",
       "      <th>1</th>\n",
       "      <td>ALTO DA BOA VISTA</td>\n",
       "      <td>9001.09</td>\n",
       "      <td>DEZEMBRO</td>\n",
       "      <td>2018</td>\n",
       "    </tr>\n",
       "    <tr>\n",
       "      <th>2</th>\n",
       "      <td>BARRA FUNDA</td>\n",
       "      <td>8306.62</td>\n",
       "      <td>DEZEMBRO</td>\n",
       "      <td>2018</td>\n",
       "    </tr>\n",
       "    <tr>\n",
       "      <th>3</th>\n",
       "      <td>BELA VISTA</td>\n",
       "      <td>7476.69</td>\n",
       "      <td>DEZEMBRO</td>\n",
       "      <td>2018</td>\n",
       "    </tr>\n",
       "    <tr>\n",
       "      <th>4</th>\n",
       "      <td>BELÉM</td>\n",
       "      <td>6606.54</td>\n",
       "      <td>DEZEMBRO</td>\n",
       "      <td>2018</td>\n",
       "    </tr>\n",
       "  </tbody>\n",
       "</table>\n",
       "</div>"
      ],
      "text/plain": [
       "             BAIRROS    PRECO       MES   ANO\n",
       "0          ACLIMAÇÃO  7557.76  DEZEMBRO  2018\n",
       "1  ALTO DA BOA VISTA  9001.09  DEZEMBRO  2018\n",
       "2        BARRA FUNDA  8306.62  DEZEMBRO  2018\n",
       "3         BELA VISTA  7476.69  DEZEMBRO  2018\n",
       "4              BELÉM  6606.54  DEZEMBRO  2018"
      ]
     },
     "execution_count": 166,
     "metadata": {},
     "output_type": "execute_result"
    }
   ],
   "source": [
    "dezembro.head()"
   ]
  },
  {
   "cell_type": "markdown",
   "metadata": {},
   "source": [
    "### Concatenando dataframes"
   ]
  },
  {
   "cell_type": "code",
   "execution_count": 167,
   "metadata": {},
   "outputs": [],
   "source": [
    "dormitorio_02 = pd.concat([janeiro, fevereiro, marco, abril, maio, junho, julho, agosto, setembro, outubro, novembro, dezembro])"
   ]
  },
  {
   "cell_type": "code",
   "execution_count": 168,
   "metadata": {},
   "outputs": [],
   "source": [
    "dormitorio_02.reset_index(drop=True, inplace=True)"
   ]
  },
  {
   "cell_type": "code",
   "execution_count": 169,
   "metadata": {},
   "outputs": [],
   "source": [
    "dormitorio_02['n_dormitorios'] = 0\n",
    "\n",
    "for index, row in dormitorio_02.iterrows():\n",
    "    dormitorio_02['n_dormitorios'] = 2   "
   ]
  },
  {
   "cell_type": "code",
   "execution_count": 170,
   "metadata": {},
   "outputs": [
    {
     "data": {
      "text/html": [
       "<div>\n",
       "<style scoped>\n",
       "    .dataframe tbody tr th:only-of-type {\n",
       "        vertical-align: middle;\n",
       "    }\n",
       "\n",
       "    .dataframe tbody tr th {\n",
       "        vertical-align: top;\n",
       "    }\n",
       "\n",
       "    .dataframe thead th {\n",
       "        text-align: right;\n",
       "    }\n",
       "</style>\n",
       "<table border=\"1\" class=\"dataframe\">\n",
       "  <thead>\n",
       "    <tr style=\"text-align: right;\">\n",
       "      <th></th>\n",
       "      <th>BAIRROS</th>\n",
       "      <th>PRECO</th>\n",
       "      <th>MES</th>\n",
       "      <th>ANO</th>\n",
       "      <th>n_dormitorios</th>\n",
       "    </tr>\n",
       "  </thead>\n",
       "  <tbody>\n",
       "    <tr>\n",
       "      <th>0</th>\n",
       "      <td>ACLIMAÇÃO</td>\n",
       "      <td>7699.85</td>\n",
       "      <td>JANEIRO</td>\n",
       "      <td>2018</td>\n",
       "      <td>2</td>\n",
       "    </tr>\n",
       "    <tr>\n",
       "      <th>1</th>\n",
       "      <td>ALTO DA BOA VISTA</td>\n",
       "      <td>8808.43</td>\n",
       "      <td>JANEIRO</td>\n",
       "      <td>2018</td>\n",
       "      <td>2</td>\n",
       "    </tr>\n",
       "    <tr>\n",
       "      <th>2</th>\n",
       "      <td>BARRA FUNDA</td>\n",
       "      <td>8552.75</td>\n",
       "      <td>JANEIRO</td>\n",
       "      <td>2018</td>\n",
       "      <td>2</td>\n",
       "    </tr>\n",
       "    <tr>\n",
       "      <th>3</th>\n",
       "      <td>BELA VISTA</td>\n",
       "      <td>7818.03</td>\n",
       "      <td>JANEIRO</td>\n",
       "      <td>2018</td>\n",
       "      <td>2</td>\n",
       "    </tr>\n",
       "    <tr>\n",
       "      <th>4</th>\n",
       "      <td>BELÉM</td>\n",
       "      <td>6482.47</td>\n",
       "      <td>JANEIRO</td>\n",
       "      <td>2018</td>\n",
       "      <td>2</td>\n",
       "    </tr>\n",
       "    <tr>\n",
       "      <th>...</th>\n",
       "      <td>...</td>\n",
       "      <td>...</td>\n",
       "      <td>...</td>\n",
       "      <td>...</td>\n",
       "      <td>...</td>\n",
       "    </tr>\n",
       "    <tr>\n",
       "      <th>1579</th>\n",
       "      <td>VILA OLÍMPIA</td>\n",
       "      <td>10739</td>\n",
       "      <td>DEZEMBRO</td>\n",
       "      <td>2019</td>\n",
       "      <td>2</td>\n",
       "    </tr>\n",
       "    <tr>\n",
       "      <th>1580</th>\n",
       "      <td>VILA PRUDENTE</td>\n",
       "      <td>6176.02</td>\n",
       "      <td>DEZEMBRO</td>\n",
       "      <td>2019</td>\n",
       "      <td>2</td>\n",
       "    </tr>\n",
       "    <tr>\n",
       "      <th>1581</th>\n",
       "      <td>VILA ROMANA</td>\n",
       "      <td>9439.11</td>\n",
       "      <td>DEZEMBRO</td>\n",
       "      <td>2019</td>\n",
       "      <td>2</td>\n",
       "    </tr>\n",
       "    <tr>\n",
       "      <th>1582</th>\n",
       "      <td>VILA SÔNIA</td>\n",
       "      <td>6263.38</td>\n",
       "      <td>DEZEMBRO</td>\n",
       "      <td>2019</td>\n",
       "      <td>2</td>\n",
       "    </tr>\n",
       "    <tr>\n",
       "      <th>1583</th>\n",
       "      <td>Fonte: Secovi-SP</td>\n",
       "      <td>NaN</td>\n",
       "      <td>DEZEMBRO</td>\n",
       "      <td>2019</td>\n",
       "      <td>2</td>\n",
       "    </tr>\n",
       "  </tbody>\n",
       "</table>\n",
       "<p>1584 rows × 5 columns</p>\n",
       "</div>"
      ],
      "text/plain": [
       "                BAIRROS    PRECO       MES   ANO  n_dormitorios\n",
       "0             ACLIMAÇÃO  7699.85   JANEIRO  2018              2\n",
       "1     ALTO DA BOA VISTA  8808.43   JANEIRO  2018              2\n",
       "2           BARRA FUNDA  8552.75   JANEIRO  2018              2\n",
       "3            BELA VISTA  7818.03   JANEIRO  2018              2\n",
       "4                 BELÉM  6482.47   JANEIRO  2018              2\n",
       "...                 ...      ...       ...   ...            ...\n",
       "1579       VILA OLÍMPIA    10739  DEZEMBRO  2019              2\n",
       "1580      VILA PRUDENTE  6176.02  DEZEMBRO  2019              2\n",
       "1581        VILA ROMANA  9439.11  DEZEMBRO  2019              2\n",
       "1582         VILA SÔNIA  6263.38  DEZEMBRO  2019              2\n",
       "1583   Fonte: Secovi-SP      NaN  DEZEMBRO  2019              2\n",
       "\n",
       "[1584 rows x 5 columns]"
      ]
     },
     "execution_count": 170,
     "metadata": {},
     "output_type": "execute_result"
    }
   ],
   "source": [
    "dormitorio_02"
   ]
  },
  {
   "cell_type": "markdown",
   "metadata": {},
   "source": [
    "### Dataframe 3 Dormitórios"
   ]
  },
  {
   "cell_type": "code",
   "execution_count": 162,
   "metadata": {},
   "outputs": [
    {
     "data": {
      "text/html": [
       "<div>\n",
       "<style scoped>\n",
       "    .dataframe tbody tr th:only-of-type {\n",
       "        vertical-align: middle;\n",
       "    }\n",
       "\n",
       "    .dataframe tbody tr th {\n",
       "        vertical-align: top;\n",
       "    }\n",
       "\n",
       "    .dataframe thead th {\n",
       "        text-align: right;\n",
       "    }\n",
       "</style>\n",
       "<table border=\"1\" class=\"dataframe\">\n",
       "  <thead>\n",
       "    <tr style=\"text-align: right;\">\n",
       "      <th></th>\n",
       "      <th>BAIRROS</th>\n",
       "      <th>JAN_18_01</th>\n",
       "      <th>JAN_19_01</th>\n",
       "      <th>VAR (%)_01</th>\n",
       "      <th>JAN_18_02</th>\n",
       "      <th>JAN_19_02</th>\n",
       "      <th>VAR (%)_02</th>\n",
       "      <th>JAN_18_03</th>\n",
       "      <th>JAN_19_03</th>\n",
       "      <th>VAR (%)_03</th>\n",
       "      <th>JAN_18_04</th>\n",
       "      <th>JAN_19_04</th>\n",
       "      <th>VAR (%)_04</th>\n",
       "    </tr>\n",
       "  </thead>\n",
       "  <tbody>\n",
       "    <tr>\n",
       "      <th>0</th>\n",
       "      <td>ACLIMAÇÃO</td>\n",
       "      <td>8664.17</td>\n",
       "      <td>8812.46</td>\n",
       "      <td>0.0171157</td>\n",
       "      <td>7699.85</td>\n",
       "      <td>7585.1794</td>\n",
       "      <td>-0.0148923</td>\n",
       "      <td>8429.77</td>\n",
       "      <td>8340.856638</td>\n",
       "      <td>-0.010547</td>\n",
       "      <td>9363.87</td>\n",
       "      <td>9368.55</td>\n",
       "      <td>0.000499848</td>\n",
       "    </tr>\n",
       "  </tbody>\n",
       "</table>\n",
       "</div>"
      ],
      "text/plain": [
       "     BAIRROS JAN_18_01 JAN_19_01 VAR (%)_01 JAN_18_02  JAN_19_02 VAR (%)_02  \\\n",
       "0  ACLIMAÇÃO   8664.17   8812.46  0.0171157   7699.85  7585.1794 -0.0148923   \n",
       "\n",
       "  JAN_18_03    JAN_19_03 VAR (%)_03 JAN_18_04 JAN_19_04   VAR (%)_04  \n",
       "0   8429.77  8340.856638  -0.010547   9363.87   9368.55  0.000499848  "
      ]
     },
     "execution_count": 162,
     "metadata": {},
     "output_type": "execute_result"
    }
   ],
   "source": [
    "df01.head(1)"
   ]
  },
  {
   "cell_type": "markdown",
   "metadata": {},
   "source": [
    "### Janeiro"
   ]
  },
  {
   "cell_type": "code",
   "execution_count": 171,
   "metadata": {},
   "outputs": [
    {
     "name": "stderr",
     "output_type": "stream",
     "text": [
      "<ipython-input-171-3c402a8850c1>:3: SettingWithCopyWarning: \n",
      "A value is trying to be set on a copy of a slice from a DataFrame.\n",
      "Try using .loc[row_indexer,col_indexer] = value instead\n",
      "\n",
      "See the caveats in the documentation: https://pandas.pydata.org/pandas-docs/stable/user_guide/indexing.html#returning-a-view-versus-a-copy\n",
      "  df01_03_18['MES'] = 0\n",
      "<ipython-input-171-3c402a8850c1>:4: SettingWithCopyWarning: \n",
      "A value is trying to be set on a copy of a slice from a DataFrame.\n",
      "Try using .loc[row_indexer,col_indexer] = value instead\n",
      "\n",
      "See the caveats in the documentation: https://pandas.pydata.org/pandas-docs/stable/user_guide/indexing.html#returning-a-view-versus-a-copy\n",
      "  df01_03_18['ANO'] = 0\n",
      "<ipython-input-171-3c402a8850c1>:7: SettingWithCopyWarning: \n",
      "A value is trying to be set on a copy of a slice from a DataFrame.\n",
      "Try using .loc[row_indexer,col_indexer] = value instead\n",
      "\n",
      "See the caveats in the documentation: https://pandas.pydata.org/pandas-docs/stable/user_guide/indexing.html#returning-a-view-versus-a-copy\n",
      "  df01_03_18['MES'] = 'JANEIRO'\n",
      "<ipython-input-171-3c402a8850c1>:8: SettingWithCopyWarning: \n",
      "A value is trying to be set on a copy of a slice from a DataFrame.\n",
      "Try using .loc[row_indexer,col_indexer] = value instead\n",
      "\n",
      "See the caveats in the documentation: https://pandas.pydata.org/pandas-docs/stable/user_guide/indexing.html#returning-a-view-versus-a-copy\n",
      "  df01_03_18['ANO'] = 2018\n"
     ]
    }
   ],
   "source": [
    "df01_03_18 = df01[['BAIRROS', 'JAN_18_03']]\n",
    "\n",
    "df01_03_18['MES'] = 0\n",
    "df01_03_18['ANO'] = 0\n",
    "\n",
    "for index, row in df01_03_18.iterrows():\n",
    "    df01_03_18['MES'] = 'JANEIRO'\n",
    "    df01_03_18['ANO'] = 2018"
   ]
  },
  {
   "cell_type": "code",
   "execution_count": 172,
   "metadata": {},
   "outputs": [
    {
     "name": "stderr",
     "output_type": "stream",
     "text": [
      "<ipython-input-172-d4566b7869ca>:3: SettingWithCopyWarning: \n",
      "A value is trying to be set on a copy of a slice from a DataFrame.\n",
      "Try using .loc[row_indexer,col_indexer] = value instead\n",
      "\n",
      "See the caveats in the documentation: https://pandas.pydata.org/pandas-docs/stable/user_guide/indexing.html#returning-a-view-versus-a-copy\n",
      "  df01_03_19['MES'] = 0\n",
      "<ipython-input-172-d4566b7869ca>:4: SettingWithCopyWarning: \n",
      "A value is trying to be set on a copy of a slice from a DataFrame.\n",
      "Try using .loc[row_indexer,col_indexer] = value instead\n",
      "\n",
      "See the caveats in the documentation: https://pandas.pydata.org/pandas-docs/stable/user_guide/indexing.html#returning-a-view-versus-a-copy\n",
      "  df01_03_19['ANO'] = 0\n",
      "<ipython-input-172-d4566b7869ca>:7: SettingWithCopyWarning: \n",
      "A value is trying to be set on a copy of a slice from a DataFrame.\n",
      "Try using .loc[row_indexer,col_indexer] = value instead\n",
      "\n",
      "See the caveats in the documentation: https://pandas.pydata.org/pandas-docs/stable/user_guide/indexing.html#returning-a-view-versus-a-copy\n",
      "  df01_03_19['MES'] = 'JANEIRO'\n",
      "<ipython-input-172-d4566b7869ca>:8: SettingWithCopyWarning: \n",
      "A value is trying to be set on a copy of a slice from a DataFrame.\n",
      "Try using .loc[row_indexer,col_indexer] = value instead\n",
      "\n",
      "See the caveats in the documentation: https://pandas.pydata.org/pandas-docs/stable/user_guide/indexing.html#returning-a-view-versus-a-copy\n",
      "  df01_03_19['ANO'] = 2019\n"
     ]
    }
   ],
   "source": [
    "df01_03_19 = df01[['BAIRROS', 'JAN_19_03']]\n",
    "\n",
    "df01_03_19['MES'] = 0\n",
    "df01_03_19['ANO'] = 0\n",
    "\n",
    "for index, row in df01_03_19.iterrows():\n",
    "    df01_03_19['MES'] = 'JANEIRO'\n",
    "    df01_03_19['ANO'] = 2019"
   ]
  },
  {
   "cell_type": "code",
   "execution_count": 173,
   "metadata": {},
   "outputs": [
    {
     "name": "stderr",
     "output_type": "stream",
     "text": [
      "C:\\Users\\carol\\Anaconda3.1\\lib\\site-packages\\pandas\\core\\frame.py:4296: SettingWithCopyWarning: \n",
      "A value is trying to be set on a copy of a slice from a DataFrame\n",
      "\n",
      "See the caveats in the documentation: https://pandas.pydata.org/pandas-docs/stable/user_guide/indexing.html#returning-a-view-versus-a-copy\n",
      "  return super().rename(\n"
     ]
    }
   ],
   "source": [
    "df01_03_18.rename(columns={'JAN_18_03':'PRECO'}, inplace=True)\n",
    "\n",
    "df01_03_19.rename(columns={'JAN_19_03':'PRECO'}, inplace=True)"
   ]
  },
  {
   "cell_type": "code",
   "execution_count": 174,
   "metadata": {},
   "outputs": [],
   "source": [
    "janeiro = df01_03_18.append(df01_03_19)"
   ]
  },
  {
   "cell_type": "code",
   "execution_count": 175,
   "metadata": {},
   "outputs": [
    {
     "data": {
      "text/html": [
       "<div>\n",
       "<style scoped>\n",
       "    .dataframe tbody tr th:only-of-type {\n",
       "        vertical-align: middle;\n",
       "    }\n",
       "\n",
       "    .dataframe tbody tr th {\n",
       "        vertical-align: top;\n",
       "    }\n",
       "\n",
       "    .dataframe thead th {\n",
       "        text-align: right;\n",
       "    }\n",
       "</style>\n",
       "<table border=\"1\" class=\"dataframe\">\n",
       "  <thead>\n",
       "    <tr style=\"text-align: right;\">\n",
       "      <th></th>\n",
       "      <th>BAIRROS</th>\n",
       "      <th>PRECO</th>\n",
       "      <th>MES</th>\n",
       "      <th>ANO</th>\n",
       "    </tr>\n",
       "  </thead>\n",
       "  <tbody>\n",
       "    <tr>\n",
       "      <th>0</th>\n",
       "      <td>ACLIMAÇÃO</td>\n",
       "      <td>8429.77</td>\n",
       "      <td>JANEIRO</td>\n",
       "      <td>2018</td>\n",
       "    </tr>\n",
       "    <tr>\n",
       "      <th>1</th>\n",
       "      <td>ALTO DA BOA VISTA</td>\n",
       "      <td>7995.22</td>\n",
       "      <td>JANEIRO</td>\n",
       "      <td>2018</td>\n",
       "    </tr>\n",
       "    <tr>\n",
       "      <th>2</th>\n",
       "      <td>BARRA FUNDA</td>\n",
       "      <td>8776.74</td>\n",
       "      <td>JANEIRO</td>\n",
       "      <td>2018</td>\n",
       "    </tr>\n",
       "    <tr>\n",
       "      <th>3</th>\n",
       "      <td>BELA VISTA</td>\n",
       "      <td>7694.73</td>\n",
       "      <td>JANEIRO</td>\n",
       "      <td>2018</td>\n",
       "    </tr>\n",
       "    <tr>\n",
       "      <th>4</th>\n",
       "      <td>BELÉM</td>\n",
       "      <td>6559.89</td>\n",
       "      <td>JANEIRO</td>\n",
       "      <td>2018</td>\n",
       "    </tr>\n",
       "  </tbody>\n",
       "</table>\n",
       "</div>"
      ],
      "text/plain": [
       "             BAIRROS    PRECO      MES   ANO\n",
       "0          ACLIMAÇÃO  8429.77  JANEIRO  2018\n",
       "1  ALTO DA BOA VISTA  7995.22  JANEIRO  2018\n",
       "2        BARRA FUNDA  8776.74  JANEIRO  2018\n",
       "3         BELA VISTA  7694.73  JANEIRO  2018\n",
       "4              BELÉM  6559.89  JANEIRO  2018"
      ]
     },
     "execution_count": 175,
     "metadata": {},
     "output_type": "execute_result"
    }
   ],
   "source": [
    "janeiro.head()"
   ]
  },
  {
   "cell_type": "markdown",
   "metadata": {},
   "source": [
    "### Fevereiro"
   ]
  },
  {
   "cell_type": "code",
   "execution_count": 176,
   "metadata": {},
   "outputs": [
    {
     "name": "stderr",
     "output_type": "stream",
     "text": [
      "<ipython-input-176-c2eea7bb49f6>:3: SettingWithCopyWarning: \n",
      "A value is trying to be set on a copy of a slice from a DataFrame.\n",
      "Try using .loc[row_indexer,col_indexer] = value instead\n",
      "\n",
      "See the caveats in the documentation: https://pandas.pydata.org/pandas-docs/stable/user_guide/indexing.html#returning-a-view-versus-a-copy\n",
      "  df02_03_18['MES'] = 0\n",
      "<ipython-input-176-c2eea7bb49f6>:4: SettingWithCopyWarning: \n",
      "A value is trying to be set on a copy of a slice from a DataFrame.\n",
      "Try using .loc[row_indexer,col_indexer] = value instead\n",
      "\n",
      "See the caveats in the documentation: https://pandas.pydata.org/pandas-docs/stable/user_guide/indexing.html#returning-a-view-versus-a-copy\n",
      "  df02_03_18['ANO'] = 0\n",
      "<ipython-input-176-c2eea7bb49f6>:7: SettingWithCopyWarning: \n",
      "A value is trying to be set on a copy of a slice from a DataFrame.\n",
      "Try using .loc[row_indexer,col_indexer] = value instead\n",
      "\n",
      "See the caveats in the documentation: https://pandas.pydata.org/pandas-docs/stable/user_guide/indexing.html#returning-a-view-versus-a-copy\n",
      "  df02_03_18['MES'] = 'FEVEREIRO'\n",
      "<ipython-input-176-c2eea7bb49f6>:8: SettingWithCopyWarning: \n",
      "A value is trying to be set on a copy of a slice from a DataFrame.\n",
      "Try using .loc[row_indexer,col_indexer] = value instead\n",
      "\n",
      "See the caveats in the documentation: https://pandas.pydata.org/pandas-docs/stable/user_guide/indexing.html#returning-a-view-versus-a-copy\n",
      "  df02_03_18['ANO'] = 2018\n"
     ]
    }
   ],
   "source": [
    "df02_03_18 = df02[['BAIRROS', 'FEV_18_03']]\n",
    "\n",
    "df02_03_18['MES'] = 0\n",
    "df02_03_18['ANO'] = 0\n",
    "\n",
    "for index, row in df02_03_18.iterrows():\n",
    "    df02_03_18['MES'] = 'FEVEREIRO'\n",
    "    df02_03_18['ANO'] = 2018"
   ]
  },
  {
   "cell_type": "code",
   "execution_count": 177,
   "metadata": {},
   "outputs": [
    {
     "name": "stderr",
     "output_type": "stream",
     "text": [
      "<ipython-input-177-edfb0cc68d11>:3: SettingWithCopyWarning: \n",
      "A value is trying to be set on a copy of a slice from a DataFrame.\n",
      "Try using .loc[row_indexer,col_indexer] = value instead\n",
      "\n",
      "See the caveats in the documentation: https://pandas.pydata.org/pandas-docs/stable/user_guide/indexing.html#returning-a-view-versus-a-copy\n",
      "  df02_03_19['MES'] = 0\n",
      "<ipython-input-177-edfb0cc68d11>:4: SettingWithCopyWarning: \n",
      "A value is trying to be set on a copy of a slice from a DataFrame.\n",
      "Try using .loc[row_indexer,col_indexer] = value instead\n",
      "\n",
      "See the caveats in the documentation: https://pandas.pydata.org/pandas-docs/stable/user_guide/indexing.html#returning-a-view-versus-a-copy\n",
      "  df02_03_19['ANO'] = 0\n",
      "<ipython-input-177-edfb0cc68d11>:7: SettingWithCopyWarning: \n",
      "A value is trying to be set on a copy of a slice from a DataFrame.\n",
      "Try using .loc[row_indexer,col_indexer] = value instead\n",
      "\n",
      "See the caveats in the documentation: https://pandas.pydata.org/pandas-docs/stable/user_guide/indexing.html#returning-a-view-versus-a-copy\n",
      "  df02_03_19['MES'] = 'FEVEREIRO'\n",
      "<ipython-input-177-edfb0cc68d11>:8: SettingWithCopyWarning: \n",
      "A value is trying to be set on a copy of a slice from a DataFrame.\n",
      "Try using .loc[row_indexer,col_indexer] = value instead\n",
      "\n",
      "See the caveats in the documentation: https://pandas.pydata.org/pandas-docs/stable/user_guide/indexing.html#returning-a-view-versus-a-copy\n",
      "  df02_03_19['ANO'] = 2019\n"
     ]
    }
   ],
   "source": [
    "df02_03_19 = df02[['BAIRROS', 'FEV_19_03']]\n",
    "\n",
    "df02_03_19['MES'] = 0\n",
    "df02_03_19['ANO'] = 0\n",
    "\n",
    "for index, row in df02_03_19.iterrows():\n",
    "    df02_03_19['MES'] = 'FEVEREIRO'\n",
    "    df02_03_19['ANO'] = 2019"
   ]
  },
  {
   "cell_type": "code",
   "execution_count": 178,
   "metadata": {},
   "outputs": [
    {
     "name": "stderr",
     "output_type": "stream",
     "text": [
      "C:\\Users\\carol\\Anaconda3.1\\lib\\site-packages\\pandas\\core\\frame.py:4296: SettingWithCopyWarning: \n",
      "A value is trying to be set on a copy of a slice from a DataFrame\n",
      "\n",
      "See the caveats in the documentation: https://pandas.pydata.org/pandas-docs/stable/user_guide/indexing.html#returning-a-view-versus-a-copy\n",
      "  return super().rename(\n"
     ]
    }
   ],
   "source": [
    "df02_03_18.rename(columns={'FEV_18_03':'PRECO'}, inplace=True)\n",
    "\n",
    "df02_03_19.rename(columns={'FEV_19_03':'PRECO'}, inplace=True)"
   ]
  },
  {
   "cell_type": "code",
   "execution_count": 179,
   "metadata": {},
   "outputs": [],
   "source": [
    "fevereiro = df02_03_18.append(df02_03_19)"
   ]
  },
  {
   "cell_type": "code",
   "execution_count": 180,
   "metadata": {},
   "outputs": [
    {
     "data": {
      "text/html": [
       "<div>\n",
       "<style scoped>\n",
       "    .dataframe tbody tr th:only-of-type {\n",
       "        vertical-align: middle;\n",
       "    }\n",
       "\n",
       "    .dataframe tbody tr th {\n",
       "        vertical-align: top;\n",
       "    }\n",
       "\n",
       "    .dataframe thead th {\n",
       "        text-align: right;\n",
       "    }\n",
       "</style>\n",
       "<table border=\"1\" class=\"dataframe\">\n",
       "  <thead>\n",
       "    <tr style=\"text-align: right;\">\n",
       "      <th></th>\n",
       "      <th>BAIRROS</th>\n",
       "      <th>PRECO</th>\n",
       "      <th>MES</th>\n",
       "      <th>ANO</th>\n",
       "    </tr>\n",
       "  </thead>\n",
       "  <tbody>\n",
       "    <tr>\n",
       "      <th>0</th>\n",
       "      <td>ACLIMAÇÃO</td>\n",
       "      <td>8449.02</td>\n",
       "      <td>FEVEREIRO</td>\n",
       "      <td>2018</td>\n",
       "    </tr>\n",
       "    <tr>\n",
       "      <th>1</th>\n",
       "      <td>ALTO DA BOA VISTA</td>\n",
       "      <td>8015.8</td>\n",
       "      <td>FEVEREIRO</td>\n",
       "      <td>2018</td>\n",
       "    </tr>\n",
       "    <tr>\n",
       "      <th>2</th>\n",
       "      <td>BARRA FUNDA</td>\n",
       "      <td>8757.24</td>\n",
       "      <td>FEVEREIRO</td>\n",
       "      <td>2018</td>\n",
       "    </tr>\n",
       "    <tr>\n",
       "      <th>3</th>\n",
       "      <td>BELA VISTA</td>\n",
       "      <td>7649</td>\n",
       "      <td>FEVEREIRO</td>\n",
       "      <td>2018</td>\n",
       "    </tr>\n",
       "    <tr>\n",
       "      <th>4</th>\n",
       "      <td>BELÉM</td>\n",
       "      <td>6550.47</td>\n",
       "      <td>FEVEREIRO</td>\n",
       "      <td>2018</td>\n",
       "    </tr>\n",
       "  </tbody>\n",
       "</table>\n",
       "</div>"
      ],
      "text/plain": [
       "             BAIRROS    PRECO        MES   ANO\n",
       "0          ACLIMAÇÃO  8449.02  FEVEREIRO  2018\n",
       "1  ALTO DA BOA VISTA   8015.8  FEVEREIRO  2018\n",
       "2        BARRA FUNDA  8757.24  FEVEREIRO  2018\n",
       "3         BELA VISTA     7649  FEVEREIRO  2018\n",
       "4              BELÉM  6550.47  FEVEREIRO  2018"
      ]
     },
     "execution_count": 180,
     "metadata": {},
     "output_type": "execute_result"
    }
   ],
   "source": [
    "fevereiro.head()"
   ]
  },
  {
   "cell_type": "markdown",
   "metadata": {},
   "source": [
    "### Março"
   ]
  },
  {
   "cell_type": "code",
   "execution_count": 181,
   "metadata": {},
   "outputs": [
    {
     "name": "stderr",
     "output_type": "stream",
     "text": [
      "<ipython-input-181-77585b277ded>:3: SettingWithCopyWarning: \n",
      "A value is trying to be set on a copy of a slice from a DataFrame.\n",
      "Try using .loc[row_indexer,col_indexer] = value instead\n",
      "\n",
      "See the caveats in the documentation: https://pandas.pydata.org/pandas-docs/stable/user_guide/indexing.html#returning-a-view-versus-a-copy\n",
      "  df03_03_18['MES'] = 0\n",
      "<ipython-input-181-77585b277ded>:4: SettingWithCopyWarning: \n",
      "A value is trying to be set on a copy of a slice from a DataFrame.\n",
      "Try using .loc[row_indexer,col_indexer] = value instead\n",
      "\n",
      "See the caveats in the documentation: https://pandas.pydata.org/pandas-docs/stable/user_guide/indexing.html#returning-a-view-versus-a-copy\n",
      "  df03_03_18['ANO'] = 0\n",
      "<ipython-input-181-77585b277ded>:7: SettingWithCopyWarning: \n",
      "A value is trying to be set on a copy of a slice from a DataFrame.\n",
      "Try using .loc[row_indexer,col_indexer] = value instead\n",
      "\n",
      "See the caveats in the documentation: https://pandas.pydata.org/pandas-docs/stable/user_guide/indexing.html#returning-a-view-versus-a-copy\n",
      "  df03_03_18['MES'] = 'MARCO'\n",
      "<ipython-input-181-77585b277ded>:8: SettingWithCopyWarning: \n",
      "A value is trying to be set on a copy of a slice from a DataFrame.\n",
      "Try using .loc[row_indexer,col_indexer] = value instead\n",
      "\n",
      "See the caveats in the documentation: https://pandas.pydata.org/pandas-docs/stable/user_guide/indexing.html#returning-a-view-versus-a-copy\n",
      "  df03_03_18['ANO'] = 2018\n"
     ]
    }
   ],
   "source": [
    "df03_03_18 = df03[['BAIRROS', 'MAR_18_03']]\n",
    "\n",
    "df03_03_18['MES'] = 0\n",
    "df03_03_18['ANO'] = 0\n",
    "\n",
    "for index, row in df03_03_18.iterrows():\n",
    "    df03_03_18['MES'] = 'MARCO'\n",
    "    df03_03_18['ANO'] = 2018"
   ]
  },
  {
   "cell_type": "code",
   "execution_count": 186,
   "metadata": {},
   "outputs": [
    {
     "name": "stderr",
     "output_type": "stream",
     "text": [
      "<ipython-input-186-22ac77807d1b>:3: SettingWithCopyWarning: \n",
      "A value is trying to be set on a copy of a slice from a DataFrame.\n",
      "Try using .loc[row_indexer,col_indexer] = value instead\n",
      "\n",
      "See the caveats in the documentation: https://pandas.pydata.org/pandas-docs/stable/user_guide/indexing.html#returning-a-view-versus-a-copy\n",
      "  df03_03_19['MES'] = 0\n",
      "<ipython-input-186-22ac77807d1b>:4: SettingWithCopyWarning: \n",
      "A value is trying to be set on a copy of a slice from a DataFrame.\n",
      "Try using .loc[row_indexer,col_indexer] = value instead\n",
      "\n",
      "See the caveats in the documentation: https://pandas.pydata.org/pandas-docs/stable/user_guide/indexing.html#returning-a-view-versus-a-copy\n",
      "  df03_03_19['ANO'] = 0\n",
      "<ipython-input-186-22ac77807d1b>:7: SettingWithCopyWarning: \n",
      "A value is trying to be set on a copy of a slice from a DataFrame.\n",
      "Try using .loc[row_indexer,col_indexer] = value instead\n",
      "\n",
      "See the caveats in the documentation: https://pandas.pydata.org/pandas-docs/stable/user_guide/indexing.html#returning-a-view-versus-a-copy\n",
      "  df03_03_19['MES'] = 'MARCO'\n",
      "<ipython-input-186-22ac77807d1b>:8: SettingWithCopyWarning: \n",
      "A value is trying to be set on a copy of a slice from a DataFrame.\n",
      "Try using .loc[row_indexer,col_indexer] = value instead\n",
      "\n",
      "See the caveats in the documentation: https://pandas.pydata.org/pandas-docs/stable/user_guide/indexing.html#returning-a-view-versus-a-copy\n",
      "  df03_03_19['ANO'] = 2019\n"
     ]
    }
   ],
   "source": [
    "df03_03_19 = df03[['BAIRROS', 'MAR_19_03']]\n",
    "\n",
    "df03_03_19['MES'] = 0\n",
    "df03_03_19['ANO'] = 0\n",
    "\n",
    "for index, row in df03_03_19.iterrows():\n",
    "    df03_03_19['MES'] = 'MARCO'\n",
    "    df03_03_19['ANO'] = 2019"
   ]
  },
  {
   "cell_type": "code",
   "execution_count": 187,
   "metadata": {},
   "outputs": [
    {
     "name": "stderr",
     "output_type": "stream",
     "text": [
      "C:\\Users\\carol\\Anaconda3.1\\lib\\site-packages\\pandas\\core\\frame.py:4296: SettingWithCopyWarning: \n",
      "A value is trying to be set on a copy of a slice from a DataFrame\n",
      "\n",
      "See the caveats in the documentation: https://pandas.pydata.org/pandas-docs/stable/user_guide/indexing.html#returning-a-view-versus-a-copy\n",
      "  return super().rename(\n"
     ]
    }
   ],
   "source": [
    "df03_03_18.rename(columns={'MAR_18_03':'PRECO'}, inplace=True)\n",
    "\n",
    "df03_03_19.rename(columns={'MAR_19_03':'PRECO'}, inplace=True)"
   ]
  },
  {
   "cell_type": "code",
   "execution_count": 188,
   "metadata": {},
   "outputs": [],
   "source": [
    "marco = df03_03_18.append(df03_03_19)"
   ]
  },
  {
   "cell_type": "code",
   "execution_count": 189,
   "metadata": {},
   "outputs": [
    {
     "data": {
      "text/html": [
       "<div>\n",
       "<style scoped>\n",
       "    .dataframe tbody tr th:only-of-type {\n",
       "        vertical-align: middle;\n",
       "    }\n",
       "\n",
       "    .dataframe tbody tr th {\n",
       "        vertical-align: top;\n",
       "    }\n",
       "\n",
       "    .dataframe thead th {\n",
       "        text-align: right;\n",
       "    }\n",
       "</style>\n",
       "<table border=\"1\" class=\"dataframe\">\n",
       "  <thead>\n",
       "    <tr style=\"text-align: right;\">\n",
       "      <th></th>\n",
       "      <th>BAIRROS</th>\n",
       "      <th>PRECO</th>\n",
       "      <th>MES</th>\n",
       "      <th>ANO</th>\n",
       "    </tr>\n",
       "  </thead>\n",
       "  <tbody>\n",
       "    <tr>\n",
       "      <th>0</th>\n",
       "      <td>ACLIMAÇÃO</td>\n",
       "      <td>8730.518616</td>\n",
       "      <td>MARCO</td>\n",
       "      <td>2018</td>\n",
       "    </tr>\n",
       "    <tr>\n",
       "      <th>1</th>\n",
       "      <td>ALTO DA BOA VISTA</td>\n",
       "      <td>8189.723412</td>\n",
       "      <td>MARCO</td>\n",
       "      <td>2018</td>\n",
       "    </tr>\n",
       "    <tr>\n",
       "      <th>2</th>\n",
       "      <td>BARRA FUNDA</td>\n",
       "      <td>8788.610781</td>\n",
       "      <td>MARCO</td>\n",
       "      <td>2018</td>\n",
       "    </tr>\n",
       "    <tr>\n",
       "      <th>3</th>\n",
       "      <td>BELA VISTA</td>\n",
       "      <td>7822.466181</td>\n",
       "      <td>MARCO</td>\n",
       "      <td>2018</td>\n",
       "    </tr>\n",
       "    <tr>\n",
       "      <th>4</th>\n",
       "      <td>BELÉM</td>\n",
       "      <td>6503.098131</td>\n",
       "      <td>MARCO</td>\n",
       "      <td>2018</td>\n",
       "    </tr>\n",
       "  </tbody>\n",
       "</table>\n",
       "</div>"
      ],
      "text/plain": [
       "             BAIRROS        PRECO    MES   ANO\n",
       "0          ACLIMAÇÃO  8730.518616  MARCO  2018\n",
       "1  ALTO DA BOA VISTA  8189.723412  MARCO  2018\n",
       "2        BARRA FUNDA  8788.610781  MARCO  2018\n",
       "3         BELA VISTA  7822.466181  MARCO  2018\n",
       "4              BELÉM  6503.098131  MARCO  2018"
      ]
     },
     "execution_count": 189,
     "metadata": {},
     "output_type": "execute_result"
    }
   ],
   "source": [
    "marco.head()"
   ]
  },
  {
   "cell_type": "markdown",
   "metadata": {},
   "source": [
    "### Abril"
   ]
  },
  {
   "cell_type": "code",
   "execution_count": 190,
   "metadata": {},
   "outputs": [
    {
     "name": "stderr",
     "output_type": "stream",
     "text": [
      "<ipython-input-190-c9651ef17526>:3: SettingWithCopyWarning: \n",
      "A value is trying to be set on a copy of a slice from a DataFrame.\n",
      "Try using .loc[row_indexer,col_indexer] = value instead\n",
      "\n",
      "See the caveats in the documentation: https://pandas.pydata.org/pandas-docs/stable/user_guide/indexing.html#returning-a-view-versus-a-copy\n",
      "  df04_03_18['MES'] = 0\n",
      "<ipython-input-190-c9651ef17526>:4: SettingWithCopyWarning: \n",
      "A value is trying to be set on a copy of a slice from a DataFrame.\n",
      "Try using .loc[row_indexer,col_indexer] = value instead\n",
      "\n",
      "See the caveats in the documentation: https://pandas.pydata.org/pandas-docs/stable/user_guide/indexing.html#returning-a-view-versus-a-copy\n",
      "  df04_03_18['ANO'] = 0\n",
      "<ipython-input-190-c9651ef17526>:7: SettingWithCopyWarning: \n",
      "A value is trying to be set on a copy of a slice from a DataFrame.\n",
      "Try using .loc[row_indexer,col_indexer] = value instead\n",
      "\n",
      "See the caveats in the documentation: https://pandas.pydata.org/pandas-docs/stable/user_guide/indexing.html#returning-a-view-versus-a-copy\n",
      "  df04_03_18['MES'] = 'ABRIL'\n",
      "<ipython-input-190-c9651ef17526>:8: SettingWithCopyWarning: \n",
      "A value is trying to be set on a copy of a slice from a DataFrame.\n",
      "Try using .loc[row_indexer,col_indexer] = value instead\n",
      "\n",
      "See the caveats in the documentation: https://pandas.pydata.org/pandas-docs/stable/user_guide/indexing.html#returning-a-view-versus-a-copy\n",
      "  df04_03_18['ANO'] = 2018\n"
     ]
    }
   ],
   "source": [
    "df04_03_18 = df04[['BAIRROS', 'ABR_18_03']]\n",
    "\n",
    "df04_03_18['MES'] = 0\n",
    "df04_03_18['ANO'] = 0\n",
    "\n",
    "for index, row in df04_03_18.iterrows():\n",
    "    df04_03_18['MES'] = 'ABRIL'\n",
    "    df04_03_18['ANO'] = 2018"
   ]
  },
  {
   "cell_type": "code",
   "execution_count": 191,
   "metadata": {},
   "outputs": [
    {
     "name": "stderr",
     "output_type": "stream",
     "text": [
      "<ipython-input-191-7b42580424eb>:3: SettingWithCopyWarning: \n",
      "A value is trying to be set on a copy of a slice from a DataFrame.\n",
      "Try using .loc[row_indexer,col_indexer] = value instead\n",
      "\n",
      "See the caveats in the documentation: https://pandas.pydata.org/pandas-docs/stable/user_guide/indexing.html#returning-a-view-versus-a-copy\n",
      "  df04_03_19['MES'] = 0\n",
      "<ipython-input-191-7b42580424eb>:4: SettingWithCopyWarning: \n",
      "A value is trying to be set on a copy of a slice from a DataFrame.\n",
      "Try using .loc[row_indexer,col_indexer] = value instead\n",
      "\n",
      "See the caveats in the documentation: https://pandas.pydata.org/pandas-docs/stable/user_guide/indexing.html#returning-a-view-versus-a-copy\n",
      "  df04_03_19['ANO'] = 0\n",
      "<ipython-input-191-7b42580424eb>:7: SettingWithCopyWarning: \n",
      "A value is trying to be set on a copy of a slice from a DataFrame.\n",
      "Try using .loc[row_indexer,col_indexer] = value instead\n",
      "\n",
      "See the caveats in the documentation: https://pandas.pydata.org/pandas-docs/stable/user_guide/indexing.html#returning-a-view-versus-a-copy\n",
      "  df04_03_19['MES'] = 'ABRIL'\n",
      "<ipython-input-191-7b42580424eb>:8: SettingWithCopyWarning: \n",
      "A value is trying to be set on a copy of a slice from a DataFrame.\n",
      "Try using .loc[row_indexer,col_indexer] = value instead\n",
      "\n",
      "See the caveats in the documentation: https://pandas.pydata.org/pandas-docs/stable/user_guide/indexing.html#returning-a-view-versus-a-copy\n",
      "  df04_03_19['ANO'] = 2019\n"
     ]
    }
   ],
   "source": [
    "df04_03_19 = df04[['BAIRROS', 'ABR_19_03']]\n",
    "\n",
    "df04_03_19['MES'] = 0\n",
    "df04_03_19['ANO'] = 0\n",
    "\n",
    "for index, row in df04_03_19.iterrows():\n",
    "    df04_03_19['MES'] = 'ABRIL'\n",
    "    df04_03_19['ANO'] = 2019"
   ]
  },
  {
   "cell_type": "code",
   "execution_count": 192,
   "metadata": {},
   "outputs": [
    {
     "name": "stderr",
     "output_type": "stream",
     "text": [
      "C:\\Users\\carol\\Anaconda3.1\\lib\\site-packages\\pandas\\core\\frame.py:4296: SettingWithCopyWarning: \n",
      "A value is trying to be set on a copy of a slice from a DataFrame\n",
      "\n",
      "See the caveats in the documentation: https://pandas.pydata.org/pandas-docs/stable/user_guide/indexing.html#returning-a-view-versus-a-copy\n",
      "  return super().rename(\n"
     ]
    }
   ],
   "source": [
    "df04_03_18.rename(columns={'ABR_18_03':'PRECO'}, inplace=True)\n",
    "\n",
    "df04_03_19.rename(columns={'ABR_19_03':'PRECO'}, inplace=True)"
   ]
  },
  {
   "cell_type": "code",
   "execution_count": 193,
   "metadata": {},
   "outputs": [],
   "source": [
    "abril = df04_03_18.append(df04_03_19)"
   ]
  },
  {
   "cell_type": "code",
   "execution_count": 194,
   "metadata": {},
   "outputs": [
    {
     "data": {
      "text/html": [
       "<div>\n",
       "<style scoped>\n",
       "    .dataframe tbody tr th:only-of-type {\n",
       "        vertical-align: middle;\n",
       "    }\n",
       "\n",
       "    .dataframe tbody tr th {\n",
       "        vertical-align: top;\n",
       "    }\n",
       "\n",
       "    .dataframe thead th {\n",
       "        text-align: right;\n",
       "    }\n",
       "</style>\n",
       "<table border=\"1\" class=\"dataframe\">\n",
       "  <thead>\n",
       "    <tr style=\"text-align: right;\">\n",
       "      <th></th>\n",
       "      <th>BAIRROS</th>\n",
       "      <th>PRECO</th>\n",
       "      <th>MES</th>\n",
       "      <th>ANO</th>\n",
       "    </tr>\n",
       "  </thead>\n",
       "  <tbody>\n",
       "    <tr>\n",
       "      <th>0</th>\n",
       "      <td>ACLIMAÇÃO</td>\n",
       "      <td>8561.501537</td>\n",
       "      <td>ABRIL</td>\n",
       "      <td>2018</td>\n",
       "    </tr>\n",
       "    <tr>\n",
       "      <th>1</th>\n",
       "      <td>ALTO DA BOA VISTA</td>\n",
       "      <td>8132.162218</td>\n",
       "      <td>ABRIL</td>\n",
       "      <td>2018</td>\n",
       "    </tr>\n",
       "    <tr>\n",
       "      <th>2</th>\n",
       "      <td>BARRA FUNDA</td>\n",
       "      <td>8649.748518</td>\n",
       "      <td>ABRIL</td>\n",
       "      <td>2018</td>\n",
       "    </tr>\n",
       "    <tr>\n",
       "      <th>3</th>\n",
       "      <td>BELA VISTA</td>\n",
       "      <td>7771.295981</td>\n",
       "      <td>ABRIL</td>\n",
       "      <td>2018</td>\n",
       "    </tr>\n",
       "    <tr>\n",
       "      <th>4</th>\n",
       "      <td>BELÉM</td>\n",
       "      <td>6520.640084</td>\n",
       "      <td>ABRIL</td>\n",
       "      <td>2018</td>\n",
       "    </tr>\n",
       "  </tbody>\n",
       "</table>\n",
       "</div>"
      ],
      "text/plain": [
       "             BAIRROS        PRECO    MES   ANO\n",
       "0          ACLIMAÇÃO  8561.501537  ABRIL  2018\n",
       "1  ALTO DA BOA VISTA  8132.162218  ABRIL  2018\n",
       "2        BARRA FUNDA  8649.748518  ABRIL  2018\n",
       "3         BELA VISTA  7771.295981  ABRIL  2018\n",
       "4              BELÉM  6520.640084  ABRIL  2018"
      ]
     },
     "execution_count": 194,
     "metadata": {},
     "output_type": "execute_result"
    }
   ],
   "source": [
    "abril.head()"
   ]
  },
  {
   "cell_type": "markdown",
   "metadata": {},
   "source": [
    "### Maio"
   ]
  },
  {
   "cell_type": "code",
   "execution_count": 195,
   "metadata": {},
   "outputs": [
    {
     "name": "stderr",
     "output_type": "stream",
     "text": [
      "<ipython-input-195-497a9fa8ec41>:3: SettingWithCopyWarning: \n",
      "A value is trying to be set on a copy of a slice from a DataFrame.\n",
      "Try using .loc[row_indexer,col_indexer] = value instead\n",
      "\n",
      "See the caveats in the documentation: https://pandas.pydata.org/pandas-docs/stable/user_guide/indexing.html#returning-a-view-versus-a-copy\n",
      "  df05_03_18['MES'] = 0\n",
      "<ipython-input-195-497a9fa8ec41>:4: SettingWithCopyWarning: \n",
      "A value is trying to be set on a copy of a slice from a DataFrame.\n",
      "Try using .loc[row_indexer,col_indexer] = value instead\n",
      "\n",
      "See the caveats in the documentation: https://pandas.pydata.org/pandas-docs/stable/user_guide/indexing.html#returning-a-view-versus-a-copy\n",
      "  df05_03_18['ANO'] = 0\n",
      "<ipython-input-195-497a9fa8ec41>:7: SettingWithCopyWarning: \n",
      "A value is trying to be set on a copy of a slice from a DataFrame.\n",
      "Try using .loc[row_indexer,col_indexer] = value instead\n",
      "\n",
      "See the caveats in the documentation: https://pandas.pydata.org/pandas-docs/stable/user_guide/indexing.html#returning-a-view-versus-a-copy\n",
      "  df05_03_18['MES'] = 'MAIO'\n",
      "<ipython-input-195-497a9fa8ec41>:8: SettingWithCopyWarning: \n",
      "A value is trying to be set on a copy of a slice from a DataFrame.\n",
      "Try using .loc[row_indexer,col_indexer] = value instead\n",
      "\n",
      "See the caveats in the documentation: https://pandas.pydata.org/pandas-docs/stable/user_guide/indexing.html#returning-a-view-versus-a-copy\n",
      "  df05_03_18['ANO'] = 2018\n"
     ]
    }
   ],
   "source": [
    "df05_03_18 = df05[['BAIRROS', 'MAI_18_03']]\n",
    "\n",
    "df05_03_18['MES'] = 0\n",
    "df05_03_18['ANO'] = 0\n",
    "\n",
    "for index, row in df05_03_18.iterrows():\n",
    "    df05_03_18['MES'] = 'MAIO'\n",
    "    df05_03_18['ANO'] = 2018"
   ]
  },
  {
   "cell_type": "code",
   "execution_count": 196,
   "metadata": {},
   "outputs": [
    {
     "name": "stderr",
     "output_type": "stream",
     "text": [
      "<ipython-input-196-a631b6816d8c>:3: SettingWithCopyWarning: \n",
      "A value is trying to be set on a copy of a slice from a DataFrame.\n",
      "Try using .loc[row_indexer,col_indexer] = value instead\n",
      "\n",
      "See the caveats in the documentation: https://pandas.pydata.org/pandas-docs/stable/user_guide/indexing.html#returning-a-view-versus-a-copy\n",
      "  df05_03_19['MES'] = 0\n",
      "<ipython-input-196-a631b6816d8c>:4: SettingWithCopyWarning: \n",
      "A value is trying to be set on a copy of a slice from a DataFrame.\n",
      "Try using .loc[row_indexer,col_indexer] = value instead\n",
      "\n",
      "See the caveats in the documentation: https://pandas.pydata.org/pandas-docs/stable/user_guide/indexing.html#returning-a-view-versus-a-copy\n",
      "  df05_03_19['ANO'] = 0\n",
      "<ipython-input-196-a631b6816d8c>:7: SettingWithCopyWarning: \n",
      "A value is trying to be set on a copy of a slice from a DataFrame.\n",
      "Try using .loc[row_indexer,col_indexer] = value instead\n",
      "\n",
      "See the caveats in the documentation: https://pandas.pydata.org/pandas-docs/stable/user_guide/indexing.html#returning-a-view-versus-a-copy\n",
      "  df05_03_19['MES'] = 'MAIO'\n",
      "<ipython-input-196-a631b6816d8c>:8: SettingWithCopyWarning: \n",
      "A value is trying to be set on a copy of a slice from a DataFrame.\n",
      "Try using .loc[row_indexer,col_indexer] = value instead\n",
      "\n",
      "See the caveats in the documentation: https://pandas.pydata.org/pandas-docs/stable/user_guide/indexing.html#returning-a-view-versus-a-copy\n",
      "  df05_03_19['ANO'] = 2019\n"
     ]
    }
   ],
   "source": [
    "df05_03_19 = df05[['BAIRROS', 'MAI_19_03']]\n",
    "\n",
    "df05_03_19['MES'] = 0\n",
    "df05_03_19['ANO'] = 0\n",
    "\n",
    "for index, row in df05_03_19.iterrows():\n",
    "    df05_03_19['MES'] = 'MAIO'\n",
    "    df05_03_19['ANO'] = 2019"
   ]
  },
  {
   "cell_type": "code",
   "execution_count": 197,
   "metadata": {},
   "outputs": [
    {
     "name": "stderr",
     "output_type": "stream",
     "text": [
      "C:\\Users\\carol\\Anaconda3.1\\lib\\site-packages\\pandas\\core\\frame.py:4296: SettingWithCopyWarning: \n",
      "A value is trying to be set on a copy of a slice from a DataFrame\n",
      "\n",
      "See the caveats in the documentation: https://pandas.pydata.org/pandas-docs/stable/user_guide/indexing.html#returning-a-view-versus-a-copy\n",
      "  return super().rename(\n"
     ]
    }
   ],
   "source": [
    "df05_03_18.rename(columns={'MAI_18_03':'PRECO'}, inplace=True)\n",
    "\n",
    "df05_03_19.rename(columns={'MAI_19_03':'PRECO'}, inplace=True)"
   ]
  },
  {
   "cell_type": "code",
   "execution_count": 198,
   "metadata": {},
   "outputs": [],
   "source": [
    "maio = df05_03_18.append(df05_03_19)"
   ]
  },
  {
   "cell_type": "code",
   "execution_count": 199,
   "metadata": {},
   "outputs": [
    {
     "data": {
      "text/html": [
       "<div>\n",
       "<style scoped>\n",
       "    .dataframe tbody tr th:only-of-type {\n",
       "        vertical-align: middle;\n",
       "    }\n",
       "\n",
       "    .dataframe tbody tr th {\n",
       "        vertical-align: top;\n",
       "    }\n",
       "\n",
       "    .dataframe thead th {\n",
       "        text-align: right;\n",
       "    }\n",
       "</style>\n",
       "<table border=\"1\" class=\"dataframe\">\n",
       "  <thead>\n",
       "    <tr style=\"text-align: right;\">\n",
       "      <th></th>\n",
       "      <th>BAIRROS</th>\n",
       "      <th>PRECO</th>\n",
       "      <th>MES</th>\n",
       "      <th>ANO</th>\n",
       "    </tr>\n",
       "  </thead>\n",
       "  <tbody>\n",
       "    <tr>\n",
       "      <th>0</th>\n",
       "      <td>ACLIMAÇÃO</td>\n",
       "      <td>8517.621291</td>\n",
       "      <td>MAIO</td>\n",
       "      <td>2018</td>\n",
       "    </tr>\n",
       "    <tr>\n",
       "      <th>1</th>\n",
       "      <td>ALTO DA BOA VISTA</td>\n",
       "      <td>8151.113222</td>\n",
       "      <td>MAIO</td>\n",
       "      <td>2018</td>\n",
       "    </tr>\n",
       "    <tr>\n",
       "      <th>2</th>\n",
       "      <td>BARRA FUNDA</td>\n",
       "      <td>8578.589398</td>\n",
       "      <td>MAIO</td>\n",
       "      <td>2018</td>\n",
       "    </tr>\n",
       "    <tr>\n",
       "      <th>3</th>\n",
       "      <td>BELA VISTA</td>\n",
       "      <td>7750.964501</td>\n",
       "      <td>MAIO</td>\n",
       "      <td>2018</td>\n",
       "    </tr>\n",
       "    <tr>\n",
       "      <th>4</th>\n",
       "      <td>BELÉM</td>\n",
       "      <td>6538.962002</td>\n",
       "      <td>MAIO</td>\n",
       "      <td>2018</td>\n",
       "    </tr>\n",
       "  </tbody>\n",
       "</table>\n",
       "</div>"
      ],
      "text/plain": [
       "             BAIRROS        PRECO   MES   ANO\n",
       "0          ACLIMAÇÃO  8517.621291  MAIO  2018\n",
       "1  ALTO DA BOA VISTA  8151.113222  MAIO  2018\n",
       "2        BARRA FUNDA  8578.589398  MAIO  2018\n",
       "3         BELA VISTA  7750.964501  MAIO  2018\n",
       "4              BELÉM  6538.962002  MAIO  2018"
      ]
     },
     "execution_count": 199,
     "metadata": {},
     "output_type": "execute_result"
    }
   ],
   "source": [
    "maio.head()"
   ]
  },
  {
   "cell_type": "markdown",
   "metadata": {},
   "source": [
    "### Junho"
   ]
  },
  {
   "cell_type": "code",
   "execution_count": 200,
   "metadata": {},
   "outputs": [
    {
     "name": "stderr",
     "output_type": "stream",
     "text": [
      "<ipython-input-200-8a07b9a5f839>:3: SettingWithCopyWarning: \n",
      "A value is trying to be set on a copy of a slice from a DataFrame.\n",
      "Try using .loc[row_indexer,col_indexer] = value instead\n",
      "\n",
      "See the caveats in the documentation: https://pandas.pydata.org/pandas-docs/stable/user_guide/indexing.html#returning-a-view-versus-a-copy\n",
      "  df06_03_18['MES'] = 0\n",
      "<ipython-input-200-8a07b9a5f839>:4: SettingWithCopyWarning: \n",
      "A value is trying to be set on a copy of a slice from a DataFrame.\n",
      "Try using .loc[row_indexer,col_indexer] = value instead\n",
      "\n",
      "See the caveats in the documentation: https://pandas.pydata.org/pandas-docs/stable/user_guide/indexing.html#returning-a-view-versus-a-copy\n",
      "  df06_03_18['ANO'] = 0\n",
      "<ipython-input-200-8a07b9a5f839>:7: SettingWithCopyWarning: \n",
      "A value is trying to be set on a copy of a slice from a DataFrame.\n",
      "Try using .loc[row_indexer,col_indexer] = value instead\n",
      "\n",
      "See the caveats in the documentation: https://pandas.pydata.org/pandas-docs/stable/user_guide/indexing.html#returning-a-view-versus-a-copy\n",
      "  df06_03_18['MES'] = 'JUNHO'\n",
      "<ipython-input-200-8a07b9a5f839>:8: SettingWithCopyWarning: \n",
      "A value is trying to be set on a copy of a slice from a DataFrame.\n",
      "Try using .loc[row_indexer,col_indexer] = value instead\n",
      "\n",
      "See the caveats in the documentation: https://pandas.pydata.org/pandas-docs/stable/user_guide/indexing.html#returning-a-view-versus-a-copy\n",
      "  df06_03_18['ANO'] = 2018\n"
     ]
    }
   ],
   "source": [
    "df06_03_18 = df06[['BAIRROS', 'JUN_18_03']]\n",
    "\n",
    "df06_03_18['MES'] = 0\n",
    "df06_03_18['ANO'] = 0\n",
    "\n",
    "for index, row in df06_03_18.iterrows():\n",
    "    df06_03_18['MES'] = 'JUNHO'\n",
    "    df06_03_18['ANO'] = 2018"
   ]
  },
  {
   "cell_type": "code",
   "execution_count": 201,
   "metadata": {},
   "outputs": [
    {
     "name": "stderr",
     "output_type": "stream",
     "text": [
      "<ipython-input-201-a0eb690df572>:3: SettingWithCopyWarning: \n",
      "A value is trying to be set on a copy of a slice from a DataFrame.\n",
      "Try using .loc[row_indexer,col_indexer] = value instead\n",
      "\n",
      "See the caveats in the documentation: https://pandas.pydata.org/pandas-docs/stable/user_guide/indexing.html#returning-a-view-versus-a-copy\n",
      "  df06_03_19['MES'] = 0\n",
      "<ipython-input-201-a0eb690df572>:4: SettingWithCopyWarning: \n",
      "A value is trying to be set on a copy of a slice from a DataFrame.\n",
      "Try using .loc[row_indexer,col_indexer] = value instead\n",
      "\n",
      "See the caveats in the documentation: https://pandas.pydata.org/pandas-docs/stable/user_guide/indexing.html#returning-a-view-versus-a-copy\n",
      "  df06_03_19['ANO'] = 0\n",
      "<ipython-input-201-a0eb690df572>:7: SettingWithCopyWarning: \n",
      "A value is trying to be set on a copy of a slice from a DataFrame.\n",
      "Try using .loc[row_indexer,col_indexer] = value instead\n",
      "\n",
      "See the caveats in the documentation: https://pandas.pydata.org/pandas-docs/stable/user_guide/indexing.html#returning-a-view-versus-a-copy\n",
      "  df06_03_19['MES'] = 'JUNHO'\n",
      "<ipython-input-201-a0eb690df572>:8: SettingWithCopyWarning: \n",
      "A value is trying to be set on a copy of a slice from a DataFrame.\n",
      "Try using .loc[row_indexer,col_indexer] = value instead\n",
      "\n",
      "See the caveats in the documentation: https://pandas.pydata.org/pandas-docs/stable/user_guide/indexing.html#returning-a-view-versus-a-copy\n",
      "  df06_03_19['ANO'] = 2019\n"
     ]
    }
   ],
   "source": [
    "df06_03_19 = df06[['BAIRROS', 'JUN_19_03']]\n",
    "\n",
    "df06_03_19['MES'] = 0\n",
    "df06_03_19['ANO'] = 0\n",
    "\n",
    "for index, row in df06_03_19.iterrows():\n",
    "    df06_03_19['MES'] = 'JUNHO'\n",
    "    df06_03_19['ANO'] = 2019"
   ]
  },
  {
   "cell_type": "code",
   "execution_count": 202,
   "metadata": {},
   "outputs": [
    {
     "name": "stderr",
     "output_type": "stream",
     "text": [
      "C:\\Users\\carol\\Anaconda3.1\\lib\\site-packages\\pandas\\core\\frame.py:4296: SettingWithCopyWarning: \n",
      "A value is trying to be set on a copy of a slice from a DataFrame\n",
      "\n",
      "See the caveats in the documentation: https://pandas.pydata.org/pandas-docs/stable/user_guide/indexing.html#returning-a-view-versus-a-copy\n",
      "  return super().rename(\n"
     ]
    }
   ],
   "source": [
    "df06_03_18.rename(columns={'JUN_18_03':'PRECO'}, inplace=True)\n",
    "\n",
    "df06_03_19.rename(columns={'JUN_19_03':'PRECO'}, inplace=True)"
   ]
  },
  {
   "cell_type": "code",
   "execution_count": 203,
   "metadata": {},
   "outputs": [],
   "source": [
    "junho = df06_03_18.append(df06_03_19)"
   ]
  },
  {
   "cell_type": "code",
   "execution_count": 204,
   "metadata": {},
   "outputs": [
    {
     "data": {
      "text/html": [
       "<div>\n",
       "<style scoped>\n",
       "    .dataframe tbody tr th:only-of-type {\n",
       "        vertical-align: middle;\n",
       "    }\n",
       "\n",
       "    .dataframe tbody tr th {\n",
       "        vertical-align: top;\n",
       "    }\n",
       "\n",
       "    .dataframe thead th {\n",
       "        text-align: right;\n",
       "    }\n",
       "</style>\n",
       "<table border=\"1\" class=\"dataframe\">\n",
       "  <thead>\n",
       "    <tr style=\"text-align: right;\">\n",
       "      <th></th>\n",
       "      <th>BAIRROS</th>\n",
       "      <th>PRECO</th>\n",
       "      <th>MES</th>\n",
       "      <th>ANO</th>\n",
       "    </tr>\n",
       "  </thead>\n",
       "  <tbody>\n",
       "    <tr>\n",
       "      <th>0</th>\n",
       "      <td>ACLIMAÇÃO</td>\n",
       "      <td>8364.419196</td>\n",
       "      <td>JUNHO</td>\n",
       "      <td>2018</td>\n",
       "    </tr>\n",
       "    <tr>\n",
       "      <th>1</th>\n",
       "      <td>ALTO DA BOA VISTA</td>\n",
       "      <td>8080.202020</td>\n",
       "      <td>JUNHO</td>\n",
       "      <td>2018</td>\n",
       "    </tr>\n",
       "    <tr>\n",
       "      <th>2</th>\n",
       "      <td>BARRA FUNDA</td>\n",
       "      <td>8626.913527</td>\n",
       "      <td>JUNHO</td>\n",
       "      <td>2018</td>\n",
       "    </tr>\n",
       "    <tr>\n",
       "      <th>3</th>\n",
       "      <td>BELA VISTA</td>\n",
       "      <td>7706.520827</td>\n",
       "      <td>JUNHO</td>\n",
       "      <td>2018</td>\n",
       "    </tr>\n",
       "    <tr>\n",
       "      <th>4</th>\n",
       "      <td>BELÉM</td>\n",
       "      <td>6720.631704</td>\n",
       "      <td>JUNHO</td>\n",
       "      <td>2018</td>\n",
       "    </tr>\n",
       "  </tbody>\n",
       "</table>\n",
       "</div>"
      ],
      "text/plain": [
       "             BAIRROS        PRECO    MES   ANO\n",
       "0          ACLIMAÇÃO  8364.419196  JUNHO  2018\n",
       "1  ALTO DA BOA VISTA  8080.202020  JUNHO  2018\n",
       "2        BARRA FUNDA  8626.913527  JUNHO  2018\n",
       "3         BELA VISTA  7706.520827  JUNHO  2018\n",
       "4              BELÉM  6720.631704  JUNHO  2018"
      ]
     },
     "execution_count": 204,
     "metadata": {},
     "output_type": "execute_result"
    }
   ],
   "source": [
    "junho.head()"
   ]
  },
  {
   "cell_type": "markdown",
   "metadata": {},
   "source": [
    "### Julho"
   ]
  },
  {
   "cell_type": "code",
   "execution_count": 205,
   "metadata": {},
   "outputs": [
    {
     "name": "stderr",
     "output_type": "stream",
     "text": [
      "<ipython-input-205-cf6092e3615c>:3: SettingWithCopyWarning: \n",
      "A value is trying to be set on a copy of a slice from a DataFrame.\n",
      "Try using .loc[row_indexer,col_indexer] = value instead\n",
      "\n",
      "See the caveats in the documentation: https://pandas.pydata.org/pandas-docs/stable/user_guide/indexing.html#returning-a-view-versus-a-copy\n",
      "  df07_03_18['MES'] = 0\n",
      "<ipython-input-205-cf6092e3615c>:4: SettingWithCopyWarning: \n",
      "A value is trying to be set on a copy of a slice from a DataFrame.\n",
      "Try using .loc[row_indexer,col_indexer] = value instead\n",
      "\n",
      "See the caveats in the documentation: https://pandas.pydata.org/pandas-docs/stable/user_guide/indexing.html#returning-a-view-versus-a-copy\n",
      "  df07_03_18['ANO'] = 0\n",
      "<ipython-input-205-cf6092e3615c>:7: SettingWithCopyWarning: \n",
      "A value is trying to be set on a copy of a slice from a DataFrame.\n",
      "Try using .loc[row_indexer,col_indexer] = value instead\n",
      "\n",
      "See the caveats in the documentation: https://pandas.pydata.org/pandas-docs/stable/user_guide/indexing.html#returning-a-view-versus-a-copy\n",
      "  df07_03_18['MES'] = 'JULHO'\n",
      "<ipython-input-205-cf6092e3615c>:8: SettingWithCopyWarning: \n",
      "A value is trying to be set on a copy of a slice from a DataFrame.\n",
      "Try using .loc[row_indexer,col_indexer] = value instead\n",
      "\n",
      "See the caveats in the documentation: https://pandas.pydata.org/pandas-docs/stable/user_guide/indexing.html#returning-a-view-versus-a-copy\n",
      "  df07_03_18['ANO'] = 2018\n"
     ]
    }
   ],
   "source": [
    "df07_03_18 = df07[['BAIRROS', 'JUL_18_03']]\n",
    "\n",
    "df07_03_18['MES'] = 0\n",
    "df07_03_18['ANO'] = 0\n",
    "\n",
    "for index, row in df07_03_18.iterrows():\n",
    "    df07_03_18['MES'] = 'JULHO'\n",
    "    df07_03_18['ANO'] = 2018"
   ]
  },
  {
   "cell_type": "code",
   "execution_count": 206,
   "metadata": {},
   "outputs": [
    {
     "name": "stderr",
     "output_type": "stream",
     "text": [
      "<ipython-input-206-98e473339a8e>:3: SettingWithCopyWarning: \n",
      "A value is trying to be set on a copy of a slice from a DataFrame.\n",
      "Try using .loc[row_indexer,col_indexer] = value instead\n",
      "\n",
      "See the caveats in the documentation: https://pandas.pydata.org/pandas-docs/stable/user_guide/indexing.html#returning-a-view-versus-a-copy\n",
      "  df07_03_19['MES'] = 0\n",
      "<ipython-input-206-98e473339a8e>:4: SettingWithCopyWarning: \n",
      "A value is trying to be set on a copy of a slice from a DataFrame.\n",
      "Try using .loc[row_indexer,col_indexer] = value instead\n",
      "\n",
      "See the caveats in the documentation: https://pandas.pydata.org/pandas-docs/stable/user_guide/indexing.html#returning-a-view-versus-a-copy\n",
      "  df07_03_19['ANO'] = 0\n",
      "<ipython-input-206-98e473339a8e>:7: SettingWithCopyWarning: \n",
      "A value is trying to be set on a copy of a slice from a DataFrame.\n",
      "Try using .loc[row_indexer,col_indexer] = value instead\n",
      "\n",
      "See the caveats in the documentation: https://pandas.pydata.org/pandas-docs/stable/user_guide/indexing.html#returning-a-view-versus-a-copy\n",
      "  df07_03_19['MES'] = 'JULHO'\n",
      "<ipython-input-206-98e473339a8e>:8: SettingWithCopyWarning: \n",
      "A value is trying to be set on a copy of a slice from a DataFrame.\n",
      "Try using .loc[row_indexer,col_indexer] = value instead\n",
      "\n",
      "See the caveats in the documentation: https://pandas.pydata.org/pandas-docs/stable/user_guide/indexing.html#returning-a-view-versus-a-copy\n",
      "  df07_03_19['ANO'] = 2019\n"
     ]
    }
   ],
   "source": [
    "df07_03_19 = df07[['BAIRROS', 'JUL_19_03']]\n",
    "\n",
    "df07_03_19['MES'] = 0\n",
    "df07_03_19['ANO'] = 0\n",
    "\n",
    "for index, row in df07_03_19.iterrows():\n",
    "    df07_03_19['MES'] = 'JULHO'\n",
    "    df07_03_19['ANO'] = 2019"
   ]
  },
  {
   "cell_type": "code",
   "execution_count": 207,
   "metadata": {},
   "outputs": [
    {
     "name": "stderr",
     "output_type": "stream",
     "text": [
      "C:\\Users\\carol\\Anaconda3.1\\lib\\site-packages\\pandas\\core\\frame.py:4296: SettingWithCopyWarning: \n",
      "A value is trying to be set on a copy of a slice from a DataFrame\n",
      "\n",
      "See the caveats in the documentation: https://pandas.pydata.org/pandas-docs/stable/user_guide/indexing.html#returning-a-view-versus-a-copy\n",
      "  return super().rename(\n"
     ]
    }
   ],
   "source": [
    "df07_03_18.rename(columns={'JUL_18_03':'PRECO'}, inplace=True)\n",
    "\n",
    "df07_03_19.rename(columns={'JUL_19_03':'PRECO'}, inplace=True)"
   ]
  },
  {
   "cell_type": "code",
   "execution_count": 208,
   "metadata": {},
   "outputs": [],
   "source": [
    "julho = df07_03_18.append(df07_03_19)"
   ]
  },
  {
   "cell_type": "code",
   "execution_count": 209,
   "metadata": {},
   "outputs": [
    {
     "data": {
      "text/html": [
       "<div>\n",
       "<style scoped>\n",
       "    .dataframe tbody tr th:only-of-type {\n",
       "        vertical-align: middle;\n",
       "    }\n",
       "\n",
       "    .dataframe tbody tr th {\n",
       "        vertical-align: top;\n",
       "    }\n",
       "\n",
       "    .dataframe thead th {\n",
       "        text-align: right;\n",
       "    }\n",
       "</style>\n",
       "<table border=\"1\" class=\"dataframe\">\n",
       "  <thead>\n",
       "    <tr style=\"text-align: right;\">\n",
       "      <th></th>\n",
       "      <th>BAIRROS</th>\n",
       "      <th>PRECO</th>\n",
       "      <th>MES</th>\n",
       "      <th>ANO</th>\n",
       "    </tr>\n",
       "  </thead>\n",
       "  <tbody>\n",
       "    <tr>\n",
       "      <th>0</th>\n",
       "      <td>ACLIMAÇÃO</td>\n",
       "      <td>8459.878419</td>\n",
       "      <td>JULHO</td>\n",
       "      <td>2018</td>\n",
       "    </tr>\n",
       "    <tr>\n",
       "      <th>1</th>\n",
       "      <td>ALTO DA BOA VISTA</td>\n",
       "      <td>8174.144586</td>\n",
       "      <td>JULHO</td>\n",
       "      <td>2018</td>\n",
       "    </tr>\n",
       "    <tr>\n",
       "      <th>2</th>\n",
       "      <td>BARRA FUNDA</td>\n",
       "      <td>8703.474743</td>\n",
       "      <td>JULHO</td>\n",
       "      <td>2018</td>\n",
       "    </tr>\n",
       "    <tr>\n",
       "      <th>3</th>\n",
       "      <td>BELA VISTA</td>\n",
       "      <td>7775.836851</td>\n",
       "      <td>JULHO</td>\n",
       "      <td>2018</td>\n",
       "    </tr>\n",
       "    <tr>\n",
       "      <th>4</th>\n",
       "      <td>BELÉM</td>\n",
       "      <td>6700.770037</td>\n",
       "      <td>JULHO</td>\n",
       "      <td>2018</td>\n",
       "    </tr>\n",
       "  </tbody>\n",
       "</table>\n",
       "</div>"
      ],
      "text/plain": [
       "             BAIRROS        PRECO    MES   ANO\n",
       "0          ACLIMAÇÃO  8459.878419  JULHO  2018\n",
       "1  ALTO DA BOA VISTA  8174.144586  JULHO  2018\n",
       "2        BARRA FUNDA  8703.474743  JULHO  2018\n",
       "3         BELA VISTA  7775.836851  JULHO  2018\n",
       "4              BELÉM  6700.770037  JULHO  2018"
      ]
     },
     "execution_count": 209,
     "metadata": {},
     "output_type": "execute_result"
    }
   ],
   "source": [
    "julho.head()"
   ]
  },
  {
   "cell_type": "markdown",
   "metadata": {},
   "source": [
    "### Agosto"
   ]
  },
  {
   "cell_type": "code",
   "execution_count": 210,
   "metadata": {},
   "outputs": [
    {
     "name": "stderr",
     "output_type": "stream",
     "text": [
      "<ipython-input-210-a01d0af2e846>:3: SettingWithCopyWarning: \n",
      "A value is trying to be set on a copy of a slice from a DataFrame.\n",
      "Try using .loc[row_indexer,col_indexer] = value instead\n",
      "\n",
      "See the caveats in the documentation: https://pandas.pydata.org/pandas-docs/stable/user_guide/indexing.html#returning-a-view-versus-a-copy\n",
      "  df08_03_18['MES'] = 0\n",
      "<ipython-input-210-a01d0af2e846>:4: SettingWithCopyWarning: \n",
      "A value is trying to be set on a copy of a slice from a DataFrame.\n",
      "Try using .loc[row_indexer,col_indexer] = value instead\n",
      "\n",
      "See the caveats in the documentation: https://pandas.pydata.org/pandas-docs/stable/user_guide/indexing.html#returning-a-view-versus-a-copy\n",
      "  df08_03_18['ANO'] = 0\n",
      "<ipython-input-210-a01d0af2e846>:7: SettingWithCopyWarning: \n",
      "A value is trying to be set on a copy of a slice from a DataFrame.\n",
      "Try using .loc[row_indexer,col_indexer] = value instead\n",
      "\n",
      "See the caveats in the documentation: https://pandas.pydata.org/pandas-docs/stable/user_guide/indexing.html#returning-a-view-versus-a-copy\n",
      "  df08_03_18['MES'] = 'AGOSTO'\n",
      "<ipython-input-210-a01d0af2e846>:8: SettingWithCopyWarning: \n",
      "A value is trying to be set on a copy of a slice from a DataFrame.\n",
      "Try using .loc[row_indexer,col_indexer] = value instead\n",
      "\n",
      "See the caveats in the documentation: https://pandas.pydata.org/pandas-docs/stable/user_guide/indexing.html#returning-a-view-versus-a-copy\n",
      "  df08_03_18['ANO'] = 2018\n"
     ]
    }
   ],
   "source": [
    "df08_03_18 = df08[['BAIRROS', 'AGO_18_03']]\n",
    "\n",
    "df08_03_18['MES'] = 0\n",
    "df08_03_18['ANO'] = 0\n",
    "\n",
    "for index, row in df08_03_18.iterrows():\n",
    "    df08_03_18['MES'] = 'AGOSTO'\n",
    "    df08_03_18['ANO'] = 2018"
   ]
  },
  {
   "cell_type": "code",
   "execution_count": 211,
   "metadata": {},
   "outputs": [
    {
     "name": "stderr",
     "output_type": "stream",
     "text": [
      "<ipython-input-211-17ecda48b118>:3: SettingWithCopyWarning: \n",
      "A value is trying to be set on a copy of a slice from a DataFrame.\n",
      "Try using .loc[row_indexer,col_indexer] = value instead\n",
      "\n",
      "See the caveats in the documentation: https://pandas.pydata.org/pandas-docs/stable/user_guide/indexing.html#returning-a-view-versus-a-copy\n",
      "  df08_03_19['MES'] = 0\n",
      "<ipython-input-211-17ecda48b118>:4: SettingWithCopyWarning: \n",
      "A value is trying to be set on a copy of a slice from a DataFrame.\n",
      "Try using .loc[row_indexer,col_indexer] = value instead\n",
      "\n",
      "See the caveats in the documentation: https://pandas.pydata.org/pandas-docs/stable/user_guide/indexing.html#returning-a-view-versus-a-copy\n",
      "  df08_03_19['ANO'] = 0\n",
      "<ipython-input-211-17ecda48b118>:7: SettingWithCopyWarning: \n",
      "A value is trying to be set on a copy of a slice from a DataFrame.\n",
      "Try using .loc[row_indexer,col_indexer] = value instead\n",
      "\n",
      "See the caveats in the documentation: https://pandas.pydata.org/pandas-docs/stable/user_guide/indexing.html#returning-a-view-versus-a-copy\n",
      "  df08_03_19['MES'] = 'AGOSTO'\n",
      "<ipython-input-211-17ecda48b118>:8: SettingWithCopyWarning: \n",
      "A value is trying to be set on a copy of a slice from a DataFrame.\n",
      "Try using .loc[row_indexer,col_indexer] = value instead\n",
      "\n",
      "See the caveats in the documentation: https://pandas.pydata.org/pandas-docs/stable/user_guide/indexing.html#returning-a-view-versus-a-copy\n",
      "  df08_03_19['ANO'] = 2019\n"
     ]
    }
   ],
   "source": [
    "df08_03_19 = df08[['BAIRROS', 'AGO_19_03']]\n",
    "\n",
    "df08_03_19['MES'] = 0\n",
    "df08_03_19['ANO'] = 0\n",
    "\n",
    "for index, row in df08_03_19.iterrows():\n",
    "    df08_03_19['MES'] = 'AGOSTO'\n",
    "    df08_03_19['ANO'] = 2019"
   ]
  },
  {
   "cell_type": "code",
   "execution_count": 212,
   "metadata": {},
   "outputs": [
    {
     "name": "stderr",
     "output_type": "stream",
     "text": [
      "C:\\Users\\carol\\Anaconda3.1\\lib\\site-packages\\pandas\\core\\frame.py:4296: SettingWithCopyWarning: \n",
      "A value is trying to be set on a copy of a slice from a DataFrame\n",
      "\n",
      "See the caveats in the documentation: https://pandas.pydata.org/pandas-docs/stable/user_guide/indexing.html#returning-a-view-versus-a-copy\n",
      "  return super().rename(\n"
     ]
    }
   ],
   "source": [
    "df08_03_18.rename(columns={'AGO_18_03':'PRECO'}, inplace=True)\n",
    "\n",
    "df08_03_19.rename(columns={'AGO_19_03':'PRECO'}, inplace=True)"
   ]
  },
  {
   "cell_type": "code",
   "execution_count": 213,
   "metadata": {},
   "outputs": [],
   "source": [
    "agosto = df08_03_18.append(df08_03_19)"
   ]
  },
  {
   "cell_type": "code",
   "execution_count": 214,
   "metadata": {},
   "outputs": [
    {
     "data": {
      "text/html": [
       "<div>\n",
       "<style scoped>\n",
       "    .dataframe tbody tr th:only-of-type {\n",
       "        vertical-align: middle;\n",
       "    }\n",
       "\n",
       "    .dataframe tbody tr th {\n",
       "        vertical-align: top;\n",
       "    }\n",
       "\n",
       "    .dataframe thead th {\n",
       "        text-align: right;\n",
       "    }\n",
       "</style>\n",
       "<table border=\"1\" class=\"dataframe\">\n",
       "  <thead>\n",
       "    <tr style=\"text-align: right;\">\n",
       "      <th></th>\n",
       "      <th>BAIRROS</th>\n",
       "      <th>PRECO</th>\n",
       "      <th>MES</th>\n",
       "      <th>ANO</th>\n",
       "    </tr>\n",
       "  </thead>\n",
       "  <tbody>\n",
       "    <tr>\n",
       "      <th>0</th>\n",
       "      <td>ACLIMAÇÃO</td>\n",
       "      <td>8448.72</td>\n",
       "      <td>AGOSTO</td>\n",
       "      <td>2018</td>\n",
       "    </tr>\n",
       "    <tr>\n",
       "      <th>1</th>\n",
       "      <td>ALTO DA BOA VISTA</td>\n",
       "      <td>8190.68</td>\n",
       "      <td>AGOSTO</td>\n",
       "      <td>2018</td>\n",
       "    </tr>\n",
       "    <tr>\n",
       "      <th>2</th>\n",
       "      <td>BARRA FUNDA</td>\n",
       "      <td>8744.43</td>\n",
       "      <td>AGOSTO</td>\n",
       "      <td>2018</td>\n",
       "    </tr>\n",
       "    <tr>\n",
       "      <th>3</th>\n",
       "      <td>BELA VISTA</td>\n",
       "      <td>7814.85</td>\n",
       "      <td>AGOSTO</td>\n",
       "      <td>2018</td>\n",
       "    </tr>\n",
       "    <tr>\n",
       "      <th>4</th>\n",
       "      <td>BELÉM</td>\n",
       "      <td>6676.92</td>\n",
       "      <td>AGOSTO</td>\n",
       "      <td>2018</td>\n",
       "    </tr>\n",
       "  </tbody>\n",
       "</table>\n",
       "</div>"
      ],
      "text/plain": [
       "             BAIRROS    PRECO     MES   ANO\n",
       "0          ACLIMAÇÃO  8448.72  AGOSTO  2018\n",
       "1  ALTO DA BOA VISTA  8190.68  AGOSTO  2018\n",
       "2        BARRA FUNDA  8744.43  AGOSTO  2018\n",
       "3         BELA VISTA  7814.85  AGOSTO  2018\n",
       "4              BELÉM  6676.92  AGOSTO  2018"
      ]
     },
     "execution_count": 214,
     "metadata": {},
     "output_type": "execute_result"
    }
   ],
   "source": [
    "agosto.head()"
   ]
  },
  {
   "cell_type": "markdown",
   "metadata": {},
   "source": [
    "### Setembro"
   ]
  },
  {
   "cell_type": "code",
   "execution_count": 215,
   "metadata": {},
   "outputs": [
    {
     "name": "stderr",
     "output_type": "stream",
     "text": [
      "<ipython-input-215-a71dccb3db2b>:3: SettingWithCopyWarning: \n",
      "A value is trying to be set on a copy of a slice from a DataFrame.\n",
      "Try using .loc[row_indexer,col_indexer] = value instead\n",
      "\n",
      "See the caveats in the documentation: https://pandas.pydata.org/pandas-docs/stable/user_guide/indexing.html#returning-a-view-versus-a-copy\n",
      "  df09_03_18['MES'] = 0\n",
      "<ipython-input-215-a71dccb3db2b>:4: SettingWithCopyWarning: \n",
      "A value is trying to be set on a copy of a slice from a DataFrame.\n",
      "Try using .loc[row_indexer,col_indexer] = value instead\n",
      "\n",
      "See the caveats in the documentation: https://pandas.pydata.org/pandas-docs/stable/user_guide/indexing.html#returning-a-view-versus-a-copy\n",
      "  df09_03_18['ANO'] = 0\n",
      "<ipython-input-215-a71dccb3db2b>:7: SettingWithCopyWarning: \n",
      "A value is trying to be set on a copy of a slice from a DataFrame.\n",
      "Try using .loc[row_indexer,col_indexer] = value instead\n",
      "\n",
      "See the caveats in the documentation: https://pandas.pydata.org/pandas-docs/stable/user_guide/indexing.html#returning-a-view-versus-a-copy\n",
      "  df09_03_18['MES'] = 'SETEMBRO'\n",
      "<ipython-input-215-a71dccb3db2b>:8: SettingWithCopyWarning: \n",
      "A value is trying to be set on a copy of a slice from a DataFrame.\n",
      "Try using .loc[row_indexer,col_indexer] = value instead\n",
      "\n",
      "See the caveats in the documentation: https://pandas.pydata.org/pandas-docs/stable/user_guide/indexing.html#returning-a-view-versus-a-copy\n",
      "  df09_03_18['ANO'] = 2018\n"
     ]
    }
   ],
   "source": [
    "df09_03_18 = df09[['BAIRROS', 'SET_18_03']]\n",
    "\n",
    "df09_03_18['MES'] = 0\n",
    "df09_03_18['ANO'] = 0\n",
    "\n",
    "for index, row in df09_03_18.iterrows():\n",
    "    df09_03_18['MES'] = 'SETEMBRO'\n",
    "    df09_03_18['ANO'] = 2018"
   ]
  },
  {
   "cell_type": "code",
   "execution_count": 216,
   "metadata": {},
   "outputs": [
    {
     "name": "stderr",
     "output_type": "stream",
     "text": [
      "<ipython-input-216-986ff43e2160>:3: SettingWithCopyWarning: \n",
      "A value is trying to be set on a copy of a slice from a DataFrame.\n",
      "Try using .loc[row_indexer,col_indexer] = value instead\n",
      "\n",
      "See the caveats in the documentation: https://pandas.pydata.org/pandas-docs/stable/user_guide/indexing.html#returning-a-view-versus-a-copy\n",
      "  df09_03_19['MES'] = 0\n",
      "<ipython-input-216-986ff43e2160>:4: SettingWithCopyWarning: \n",
      "A value is trying to be set on a copy of a slice from a DataFrame.\n",
      "Try using .loc[row_indexer,col_indexer] = value instead\n",
      "\n",
      "See the caveats in the documentation: https://pandas.pydata.org/pandas-docs/stable/user_guide/indexing.html#returning-a-view-versus-a-copy\n",
      "  df09_03_19['ANO'] = 0\n",
      "<ipython-input-216-986ff43e2160>:7: SettingWithCopyWarning: \n",
      "A value is trying to be set on a copy of a slice from a DataFrame.\n",
      "Try using .loc[row_indexer,col_indexer] = value instead\n",
      "\n",
      "See the caveats in the documentation: https://pandas.pydata.org/pandas-docs/stable/user_guide/indexing.html#returning-a-view-versus-a-copy\n",
      "  df09_03_19['MES'] = 'SETEMBRO'\n",
      "<ipython-input-216-986ff43e2160>:8: SettingWithCopyWarning: \n",
      "A value is trying to be set on a copy of a slice from a DataFrame.\n",
      "Try using .loc[row_indexer,col_indexer] = value instead\n",
      "\n",
      "See the caveats in the documentation: https://pandas.pydata.org/pandas-docs/stable/user_guide/indexing.html#returning-a-view-versus-a-copy\n",
      "  df09_03_19['ANO'] = 2019\n"
     ]
    }
   ],
   "source": [
    "df09_03_19 = df09[['BAIRROS', 'SET_19_03']]\n",
    "\n",
    "df09_03_19['MES'] = 0\n",
    "df09_03_19['ANO'] = 0\n",
    "\n",
    "for index, row in df09_03_19.iterrows():\n",
    "    df09_03_19['MES'] = 'SETEMBRO'\n",
    "    df09_03_19['ANO'] = 2019"
   ]
  },
  {
   "cell_type": "code",
   "execution_count": 217,
   "metadata": {},
   "outputs": [
    {
     "name": "stderr",
     "output_type": "stream",
     "text": [
      "C:\\Users\\carol\\Anaconda3.1\\lib\\site-packages\\pandas\\core\\frame.py:4296: SettingWithCopyWarning: \n",
      "A value is trying to be set on a copy of a slice from a DataFrame\n",
      "\n",
      "See the caveats in the documentation: https://pandas.pydata.org/pandas-docs/stable/user_guide/indexing.html#returning-a-view-versus-a-copy\n",
      "  return super().rename(\n"
     ]
    }
   ],
   "source": [
    "df09_03_18.rename(columns={'SET_18_03':'PRECO'}, inplace=True)\n",
    "\n",
    "df09_03_19.rename(columns={'SET_19_03':'PRECO'}, inplace=True)"
   ]
  },
  {
   "cell_type": "code",
   "execution_count": 218,
   "metadata": {},
   "outputs": [],
   "source": [
    "setembro = df09_03_18.append(df09_03_19)"
   ]
  },
  {
   "cell_type": "code",
   "execution_count": 219,
   "metadata": {},
   "outputs": [
    {
     "data": {
      "text/html": [
       "<div>\n",
       "<style scoped>\n",
       "    .dataframe tbody tr th:only-of-type {\n",
       "        vertical-align: middle;\n",
       "    }\n",
       "\n",
       "    .dataframe tbody tr th {\n",
       "        vertical-align: top;\n",
       "    }\n",
       "\n",
       "    .dataframe thead th {\n",
       "        text-align: right;\n",
       "    }\n",
       "</style>\n",
       "<table border=\"1\" class=\"dataframe\">\n",
       "  <thead>\n",
       "    <tr style=\"text-align: right;\">\n",
       "      <th></th>\n",
       "      <th>BAIRROS</th>\n",
       "      <th>PRECO</th>\n",
       "      <th>MES</th>\n",
       "      <th>ANO</th>\n",
       "    </tr>\n",
       "  </thead>\n",
       "  <tbody>\n",
       "    <tr>\n",
       "      <th>0</th>\n",
       "      <td>ACLIMAÇÃO</td>\n",
       "      <td>8334.92</td>\n",
       "      <td>SETEMBRO</td>\n",
       "      <td>2018</td>\n",
       "    </tr>\n",
       "    <tr>\n",
       "      <th>1</th>\n",
       "      <td>ALTO DA BOA VISTA</td>\n",
       "      <td>8132.27</td>\n",
       "      <td>SETEMBRO</td>\n",
       "      <td>2018</td>\n",
       "    </tr>\n",
       "    <tr>\n",
       "      <th>2</th>\n",
       "      <td>BARRA FUNDA</td>\n",
       "      <td>8687.82</td>\n",
       "      <td>SETEMBRO</td>\n",
       "      <td>2018</td>\n",
       "    </tr>\n",
       "    <tr>\n",
       "      <th>3</th>\n",
       "      <td>BELA VISTA</td>\n",
       "      <td>7733.07</td>\n",
       "      <td>SETEMBRO</td>\n",
       "      <td>2018</td>\n",
       "    </tr>\n",
       "    <tr>\n",
       "      <th>4</th>\n",
       "      <td>BELÉM</td>\n",
       "      <td>6486.16</td>\n",
       "      <td>SETEMBRO</td>\n",
       "      <td>2018</td>\n",
       "    </tr>\n",
       "  </tbody>\n",
       "</table>\n",
       "</div>"
      ],
      "text/plain": [
       "             BAIRROS    PRECO       MES   ANO\n",
       "0          ACLIMAÇÃO  8334.92  SETEMBRO  2018\n",
       "1  ALTO DA BOA VISTA  8132.27  SETEMBRO  2018\n",
       "2        BARRA FUNDA  8687.82  SETEMBRO  2018\n",
       "3         BELA VISTA  7733.07  SETEMBRO  2018\n",
       "4              BELÉM  6486.16  SETEMBRO  2018"
      ]
     },
     "execution_count": 219,
     "metadata": {},
     "output_type": "execute_result"
    }
   ],
   "source": [
    "setembro.head()"
   ]
  },
  {
   "cell_type": "markdown",
   "metadata": {},
   "source": [
    "### Outubro"
   ]
  },
  {
   "cell_type": "code",
   "execution_count": 220,
   "metadata": {},
   "outputs": [
    {
     "name": "stderr",
     "output_type": "stream",
     "text": [
      "<ipython-input-220-2fbf69e2a9f9>:3: SettingWithCopyWarning: \n",
      "A value is trying to be set on a copy of a slice from a DataFrame.\n",
      "Try using .loc[row_indexer,col_indexer] = value instead\n",
      "\n",
      "See the caveats in the documentation: https://pandas.pydata.org/pandas-docs/stable/user_guide/indexing.html#returning-a-view-versus-a-copy\n",
      "  df10_03_18['MES'] = 0\n",
      "<ipython-input-220-2fbf69e2a9f9>:4: SettingWithCopyWarning: \n",
      "A value is trying to be set on a copy of a slice from a DataFrame.\n",
      "Try using .loc[row_indexer,col_indexer] = value instead\n",
      "\n",
      "See the caveats in the documentation: https://pandas.pydata.org/pandas-docs/stable/user_guide/indexing.html#returning-a-view-versus-a-copy\n",
      "  df10_03_18['ANO'] = 0\n",
      "<ipython-input-220-2fbf69e2a9f9>:7: SettingWithCopyWarning: \n",
      "A value is trying to be set on a copy of a slice from a DataFrame.\n",
      "Try using .loc[row_indexer,col_indexer] = value instead\n",
      "\n",
      "See the caveats in the documentation: https://pandas.pydata.org/pandas-docs/stable/user_guide/indexing.html#returning-a-view-versus-a-copy\n",
      "  df10_03_18['MES'] = 'OUTUBRO'\n",
      "<ipython-input-220-2fbf69e2a9f9>:8: SettingWithCopyWarning: \n",
      "A value is trying to be set on a copy of a slice from a DataFrame.\n",
      "Try using .loc[row_indexer,col_indexer] = value instead\n",
      "\n",
      "See the caveats in the documentation: https://pandas.pydata.org/pandas-docs/stable/user_guide/indexing.html#returning-a-view-versus-a-copy\n",
      "  df10_03_18['ANO'] = 2018\n"
     ]
    }
   ],
   "source": [
    "df10_03_18 = df10[['BAIRROS', 'OUT_18_03']]\n",
    "\n",
    "df10_03_18['MES'] = 0\n",
    "df10_03_18['ANO'] = 0\n",
    "\n",
    "for index, row in df10_03_18.iterrows():\n",
    "    df10_03_18['MES'] = 'OUTUBRO'\n",
    "    df10_03_18['ANO'] = 2018"
   ]
  },
  {
   "cell_type": "code",
   "execution_count": 225,
   "metadata": {},
   "outputs": [
    {
     "name": "stderr",
     "output_type": "stream",
     "text": [
      "<ipython-input-225-8d666582fee0>:3: SettingWithCopyWarning: \n",
      "A value is trying to be set on a copy of a slice from a DataFrame.\n",
      "Try using .loc[row_indexer,col_indexer] = value instead\n",
      "\n",
      "See the caveats in the documentation: https://pandas.pydata.org/pandas-docs/stable/user_guide/indexing.html#returning-a-view-versus-a-copy\n",
      "  df10_03_19['MES'] = 0\n",
      "<ipython-input-225-8d666582fee0>:4: SettingWithCopyWarning: \n",
      "A value is trying to be set on a copy of a slice from a DataFrame.\n",
      "Try using .loc[row_indexer,col_indexer] = value instead\n",
      "\n",
      "See the caveats in the documentation: https://pandas.pydata.org/pandas-docs/stable/user_guide/indexing.html#returning-a-view-versus-a-copy\n",
      "  df10_03_19['ANO'] = 0\n",
      "<ipython-input-225-8d666582fee0>:7: SettingWithCopyWarning: \n",
      "A value is trying to be set on a copy of a slice from a DataFrame.\n",
      "Try using .loc[row_indexer,col_indexer] = value instead\n",
      "\n",
      "See the caveats in the documentation: https://pandas.pydata.org/pandas-docs/stable/user_guide/indexing.html#returning-a-view-versus-a-copy\n",
      "  df10_03_19['MES'] = 'OUTUBRO'\n",
      "<ipython-input-225-8d666582fee0>:8: SettingWithCopyWarning: \n",
      "A value is trying to be set on a copy of a slice from a DataFrame.\n",
      "Try using .loc[row_indexer,col_indexer] = value instead\n",
      "\n",
      "See the caveats in the documentation: https://pandas.pydata.org/pandas-docs/stable/user_guide/indexing.html#returning-a-view-versus-a-copy\n",
      "  df10_03_19['ANO'] = 2019\n"
     ]
    }
   ],
   "source": [
    "df10_03_19 = df10[['BAIRROS', 'OUT_19_03']]\n",
    "\n",
    "df10_03_19['MES'] = 0\n",
    "df10_03_19['ANO'] = 0\n",
    "\n",
    "for index, row in df10_03_19.iterrows():\n",
    "    df10_03_19['MES'] = 'OUTUBRO'\n",
    "    df10_03_19['ANO'] = 2019"
   ]
  },
  {
   "cell_type": "code",
   "execution_count": 226,
   "metadata": {},
   "outputs": [],
   "source": [
    "df10_03_18.rename(columns={'OUT_18_03':'PRECO'}, inplace=True)\n",
    "\n",
    "df10_03_19.rename(columns={'OUT_19_03':'PRECO'}, inplace=True)"
   ]
  },
  {
   "cell_type": "code",
   "execution_count": 227,
   "metadata": {},
   "outputs": [],
   "source": [
    "outubro = df10_03_18.append(df10_03_19)"
   ]
  },
  {
   "cell_type": "code",
   "execution_count": 228,
   "metadata": {},
   "outputs": [
    {
     "data": {
      "text/html": [
       "<div>\n",
       "<style scoped>\n",
       "    .dataframe tbody tr th:only-of-type {\n",
       "        vertical-align: middle;\n",
       "    }\n",
       "\n",
       "    .dataframe tbody tr th {\n",
       "        vertical-align: top;\n",
       "    }\n",
       "\n",
       "    .dataframe thead th {\n",
       "        text-align: right;\n",
       "    }\n",
       "</style>\n",
       "<table border=\"1\" class=\"dataframe\">\n",
       "  <thead>\n",
       "    <tr style=\"text-align: right;\">\n",
       "      <th></th>\n",
       "      <th>BAIRROS</th>\n",
       "      <th>PRECO</th>\n",
       "      <th>MES</th>\n",
       "      <th>ANO</th>\n",
       "    </tr>\n",
       "  </thead>\n",
       "  <tbody>\n",
       "    <tr>\n",
       "      <th>0</th>\n",
       "      <td>ACLIMAÇÃO</td>\n",
       "      <td>8355.48</td>\n",
       "      <td>OUTUBRO</td>\n",
       "      <td>2018</td>\n",
       "    </tr>\n",
       "    <tr>\n",
       "      <th>1</th>\n",
       "      <td>ALTO DA BOA VISTA</td>\n",
       "      <td>8131.06</td>\n",
       "      <td>OUTUBRO</td>\n",
       "      <td>2018</td>\n",
       "    </tr>\n",
       "    <tr>\n",
       "      <th>2</th>\n",
       "      <td>BARRA FUNDA</td>\n",
       "      <td>8690.61</td>\n",
       "      <td>OUTUBRO</td>\n",
       "      <td>2018</td>\n",
       "    </tr>\n",
       "    <tr>\n",
       "      <th>3</th>\n",
       "      <td>BELA VISTA</td>\n",
       "      <td>7766.79</td>\n",
       "      <td>OUTUBRO</td>\n",
       "      <td>2018</td>\n",
       "    </tr>\n",
       "    <tr>\n",
       "      <th>4</th>\n",
       "      <td>BELÉM</td>\n",
       "      <td>6502.67</td>\n",
       "      <td>OUTUBRO</td>\n",
       "      <td>2018</td>\n",
       "    </tr>\n",
       "  </tbody>\n",
       "</table>\n",
       "</div>"
      ],
      "text/plain": [
       "             BAIRROS    PRECO      MES   ANO\n",
       "0          ACLIMAÇÃO  8355.48  OUTUBRO  2018\n",
       "1  ALTO DA BOA VISTA  8131.06  OUTUBRO  2018\n",
       "2        BARRA FUNDA  8690.61  OUTUBRO  2018\n",
       "3         BELA VISTA  7766.79  OUTUBRO  2018\n",
       "4              BELÉM  6502.67  OUTUBRO  2018"
      ]
     },
     "execution_count": 228,
     "metadata": {},
     "output_type": "execute_result"
    }
   ],
   "source": [
    "outubro.head()"
   ]
  },
  {
   "cell_type": "markdown",
   "metadata": {},
   "source": [
    "### Novembro"
   ]
  },
  {
   "cell_type": "code",
   "execution_count": 229,
   "metadata": {},
   "outputs": [
    {
     "name": "stderr",
     "output_type": "stream",
     "text": [
      "<ipython-input-229-fadc88a90532>:3: SettingWithCopyWarning: \n",
      "A value is trying to be set on a copy of a slice from a DataFrame.\n",
      "Try using .loc[row_indexer,col_indexer] = value instead\n",
      "\n",
      "See the caveats in the documentation: https://pandas.pydata.org/pandas-docs/stable/user_guide/indexing.html#returning-a-view-versus-a-copy\n",
      "  df11_03_18['MES'] = 0\n",
      "<ipython-input-229-fadc88a90532>:4: SettingWithCopyWarning: \n",
      "A value is trying to be set on a copy of a slice from a DataFrame.\n",
      "Try using .loc[row_indexer,col_indexer] = value instead\n",
      "\n",
      "See the caveats in the documentation: https://pandas.pydata.org/pandas-docs/stable/user_guide/indexing.html#returning-a-view-versus-a-copy\n",
      "  df11_03_18['ANO'] = 0\n",
      "<ipython-input-229-fadc88a90532>:7: SettingWithCopyWarning: \n",
      "A value is trying to be set on a copy of a slice from a DataFrame.\n",
      "Try using .loc[row_indexer,col_indexer] = value instead\n",
      "\n",
      "See the caveats in the documentation: https://pandas.pydata.org/pandas-docs/stable/user_guide/indexing.html#returning-a-view-versus-a-copy\n",
      "  df11_03_18['MES'] = 'NOVEMBRO'\n",
      "<ipython-input-229-fadc88a90532>:8: SettingWithCopyWarning: \n",
      "A value is trying to be set on a copy of a slice from a DataFrame.\n",
      "Try using .loc[row_indexer,col_indexer] = value instead\n",
      "\n",
      "See the caveats in the documentation: https://pandas.pydata.org/pandas-docs/stable/user_guide/indexing.html#returning-a-view-versus-a-copy\n",
      "  df11_03_18['ANO'] = 2018\n"
     ]
    }
   ],
   "source": [
    "df11_03_18 = df11[['BAIRROS', 'NOV_18_03']]\n",
    "\n",
    "df11_03_18['MES'] = 0\n",
    "df11_03_18['ANO'] = 0\n",
    "\n",
    "for index, row in df11_03_18.iterrows():\n",
    "    df11_03_18['MES'] = 'NOVEMBRO'\n",
    "    df11_03_18['ANO'] = 2018"
   ]
  },
  {
   "cell_type": "code",
   "execution_count": 233,
   "metadata": {},
   "outputs": [
    {
     "name": "stderr",
     "output_type": "stream",
     "text": [
      "<ipython-input-233-62cc4631c76c>:3: SettingWithCopyWarning: \n",
      "A value is trying to be set on a copy of a slice from a DataFrame.\n",
      "Try using .loc[row_indexer,col_indexer] = value instead\n",
      "\n",
      "See the caveats in the documentation: https://pandas.pydata.org/pandas-docs/stable/user_guide/indexing.html#returning-a-view-versus-a-copy\n",
      "  df11_03_19['MES'] = 0\n",
      "<ipython-input-233-62cc4631c76c>:4: SettingWithCopyWarning: \n",
      "A value is trying to be set on a copy of a slice from a DataFrame.\n",
      "Try using .loc[row_indexer,col_indexer] = value instead\n",
      "\n",
      "See the caveats in the documentation: https://pandas.pydata.org/pandas-docs/stable/user_guide/indexing.html#returning-a-view-versus-a-copy\n",
      "  df11_03_19['ANO'] = 0\n",
      "<ipython-input-233-62cc4631c76c>:7: SettingWithCopyWarning: \n",
      "A value is trying to be set on a copy of a slice from a DataFrame.\n",
      "Try using .loc[row_indexer,col_indexer] = value instead\n",
      "\n",
      "See the caveats in the documentation: https://pandas.pydata.org/pandas-docs/stable/user_guide/indexing.html#returning-a-view-versus-a-copy\n",
      "  df11_03_19['MES'] = 'NOVEMBRO'\n",
      "<ipython-input-233-62cc4631c76c>:8: SettingWithCopyWarning: \n",
      "A value is trying to be set on a copy of a slice from a DataFrame.\n",
      "Try using .loc[row_indexer,col_indexer] = value instead\n",
      "\n",
      "See the caveats in the documentation: https://pandas.pydata.org/pandas-docs/stable/user_guide/indexing.html#returning-a-view-versus-a-copy\n",
      "  df11_03_19['ANO'] = 2019\n"
     ]
    }
   ],
   "source": [
    "df11_03_19 = df11[['BAIRROS', 'NOV_19_03']]\n",
    "\n",
    "df11_03_19['MES'] = 0\n",
    "df11_03_19['ANO'] = 0\n",
    "\n",
    "for index, row in df11_03_19.iterrows():\n",
    "    df11_03_19['MES'] = 'NOVEMBRO'\n",
    "    df11_03_19['ANO'] = 2019"
   ]
  },
  {
   "cell_type": "code",
   "execution_count": 234,
   "metadata": {},
   "outputs": [],
   "source": [
    "df11_03_18.rename(columns={'NOV_18_03':'PRECO'}, inplace=True)\n",
    "\n",
    "df11_03_19.rename(columns={'NOV_19_03':'PRECO'}, inplace=True)"
   ]
  },
  {
   "cell_type": "code",
   "execution_count": 235,
   "metadata": {},
   "outputs": [],
   "source": [
    "novembro = df11_03_18.append(df11_03_19)"
   ]
  },
  {
   "cell_type": "code",
   "execution_count": 236,
   "metadata": {},
   "outputs": [
    {
     "data": {
      "text/html": [
       "<div>\n",
       "<style scoped>\n",
       "    .dataframe tbody tr th:only-of-type {\n",
       "        vertical-align: middle;\n",
       "    }\n",
       "\n",
       "    .dataframe tbody tr th {\n",
       "        vertical-align: top;\n",
       "    }\n",
       "\n",
       "    .dataframe thead th {\n",
       "        text-align: right;\n",
       "    }\n",
       "</style>\n",
       "<table border=\"1\" class=\"dataframe\">\n",
       "  <thead>\n",
       "    <tr style=\"text-align: right;\">\n",
       "      <th></th>\n",
       "      <th>BAIRROS</th>\n",
       "      <th>PRECO</th>\n",
       "      <th>MES</th>\n",
       "      <th>ANO</th>\n",
       "    </tr>\n",
       "  </thead>\n",
       "  <tbody>\n",
       "    <tr>\n",
       "      <th>0</th>\n",
       "      <td>ACLIMAÇÃO</td>\n",
       "      <td>8336.47</td>\n",
       "      <td>NOVEMBRO</td>\n",
       "      <td>2018</td>\n",
       "    </tr>\n",
       "    <tr>\n",
       "      <th>1</th>\n",
       "      <td>ALTO DA BOA VISTA</td>\n",
       "      <td>8105.39</td>\n",
       "      <td>NOVEMBRO</td>\n",
       "      <td>2018</td>\n",
       "    </tr>\n",
       "    <tr>\n",
       "      <th>2</th>\n",
       "      <td>BARRA FUNDA</td>\n",
       "      <td>8681.9</td>\n",
       "      <td>NOVEMBRO</td>\n",
       "      <td>2018</td>\n",
       "    </tr>\n",
       "    <tr>\n",
       "      <th>3</th>\n",
       "      <td>BELA VISTA</td>\n",
       "      <td>7766.01</td>\n",
       "      <td>NOVEMBRO</td>\n",
       "      <td>2018</td>\n",
       "    </tr>\n",
       "    <tr>\n",
       "      <th>4</th>\n",
       "      <td>BELÉM</td>\n",
       "      <td>6491.16</td>\n",
       "      <td>NOVEMBRO</td>\n",
       "      <td>2018</td>\n",
       "    </tr>\n",
       "  </tbody>\n",
       "</table>\n",
       "</div>"
      ],
      "text/plain": [
       "             BAIRROS    PRECO       MES   ANO\n",
       "0          ACLIMAÇÃO  8336.47  NOVEMBRO  2018\n",
       "1  ALTO DA BOA VISTA  8105.39  NOVEMBRO  2018\n",
       "2        BARRA FUNDA   8681.9  NOVEMBRO  2018\n",
       "3         BELA VISTA  7766.01  NOVEMBRO  2018\n",
       "4              BELÉM  6491.16  NOVEMBRO  2018"
      ]
     },
     "execution_count": 236,
     "metadata": {},
     "output_type": "execute_result"
    }
   ],
   "source": [
    "novembro.head()"
   ]
  },
  {
   "cell_type": "markdown",
   "metadata": {},
   "source": [
    "### Dezembro"
   ]
  },
  {
   "cell_type": "code",
   "execution_count": 237,
   "metadata": {},
   "outputs": [
    {
     "name": "stderr",
     "output_type": "stream",
     "text": [
      "<ipython-input-237-9d98df024576>:3: SettingWithCopyWarning: \n",
      "A value is trying to be set on a copy of a slice from a DataFrame.\n",
      "Try using .loc[row_indexer,col_indexer] = value instead\n",
      "\n",
      "See the caveats in the documentation: https://pandas.pydata.org/pandas-docs/stable/user_guide/indexing.html#returning-a-view-versus-a-copy\n",
      "  df12_03_18['MES'] = 0\n",
      "<ipython-input-237-9d98df024576>:4: SettingWithCopyWarning: \n",
      "A value is trying to be set on a copy of a slice from a DataFrame.\n",
      "Try using .loc[row_indexer,col_indexer] = value instead\n",
      "\n",
      "See the caveats in the documentation: https://pandas.pydata.org/pandas-docs/stable/user_guide/indexing.html#returning-a-view-versus-a-copy\n",
      "  df12_03_18['ANO'] = 0\n",
      "<ipython-input-237-9d98df024576>:7: SettingWithCopyWarning: \n",
      "A value is trying to be set on a copy of a slice from a DataFrame.\n",
      "Try using .loc[row_indexer,col_indexer] = value instead\n",
      "\n",
      "See the caveats in the documentation: https://pandas.pydata.org/pandas-docs/stable/user_guide/indexing.html#returning-a-view-versus-a-copy\n",
      "  df12_03_18['MES'] = 'DEZEMBRO'\n",
      "<ipython-input-237-9d98df024576>:8: SettingWithCopyWarning: \n",
      "A value is trying to be set on a copy of a slice from a DataFrame.\n",
      "Try using .loc[row_indexer,col_indexer] = value instead\n",
      "\n",
      "See the caveats in the documentation: https://pandas.pydata.org/pandas-docs/stable/user_guide/indexing.html#returning-a-view-versus-a-copy\n",
      "  df12_03_18['ANO'] = 2018\n"
     ]
    }
   ],
   "source": [
    "df12_03_18 = df12[['BAIRROS', 'DEZ_18_03']]\n",
    "\n",
    "df12_03_18['MES'] = 0\n",
    "df12_03_18['ANO'] = 0\n",
    "\n",
    "for index, row in df12_03_18.iterrows():\n",
    "    df12_03_18['MES'] = 'DEZEMBRO'\n",
    "    df12_03_18['ANO'] = 2018"
   ]
  },
  {
   "cell_type": "code",
   "execution_count": 240,
   "metadata": {},
   "outputs": [
    {
     "name": "stderr",
     "output_type": "stream",
     "text": [
      "<ipython-input-240-b49c57608074>:3: SettingWithCopyWarning: \n",
      "A value is trying to be set on a copy of a slice from a DataFrame.\n",
      "Try using .loc[row_indexer,col_indexer] = value instead\n",
      "\n",
      "See the caveats in the documentation: https://pandas.pydata.org/pandas-docs/stable/user_guide/indexing.html#returning-a-view-versus-a-copy\n",
      "  df12_03_19['MES'] = 0\n",
      "<ipython-input-240-b49c57608074>:4: SettingWithCopyWarning: \n",
      "A value is trying to be set on a copy of a slice from a DataFrame.\n",
      "Try using .loc[row_indexer,col_indexer] = value instead\n",
      "\n",
      "See the caveats in the documentation: https://pandas.pydata.org/pandas-docs/stable/user_guide/indexing.html#returning-a-view-versus-a-copy\n",
      "  df12_03_19['ANO'] = 0\n",
      "<ipython-input-240-b49c57608074>:7: SettingWithCopyWarning: \n",
      "A value is trying to be set on a copy of a slice from a DataFrame.\n",
      "Try using .loc[row_indexer,col_indexer] = value instead\n",
      "\n",
      "See the caveats in the documentation: https://pandas.pydata.org/pandas-docs/stable/user_guide/indexing.html#returning-a-view-versus-a-copy\n",
      "  df12_03_19['MES'] = 'DEZEMBRO'\n",
      "<ipython-input-240-b49c57608074>:8: SettingWithCopyWarning: \n",
      "A value is trying to be set on a copy of a slice from a DataFrame.\n",
      "Try using .loc[row_indexer,col_indexer] = value instead\n",
      "\n",
      "See the caveats in the documentation: https://pandas.pydata.org/pandas-docs/stable/user_guide/indexing.html#returning-a-view-versus-a-copy\n",
      "  df12_03_19['ANO'] = 2019\n"
     ]
    }
   ],
   "source": [
    "df12_03_19 = df12[['BAIRROS', 'DEZ_19_03']]\n",
    "\n",
    "df12_03_19['MES'] = 0\n",
    "df12_03_19['ANO'] = 0\n",
    "\n",
    "for index, row in df12_03_19.iterrows():\n",
    "    df12_03_19['MES'] = 'DEZEMBRO'\n",
    "    df12_03_19['ANO'] = 2019"
   ]
  },
  {
   "cell_type": "code",
   "execution_count": 241,
   "metadata": {},
   "outputs": [],
   "source": [
    "df12_03_18.rename(columns={'DEZ_18_03':'PRECO'}, inplace=True)\n",
    "\n",
    "df12_03_19.rename(columns={'DEZ_19_03':'PRECO'}, inplace=True)"
   ]
  },
  {
   "cell_type": "code",
   "execution_count": 242,
   "metadata": {},
   "outputs": [],
   "source": [
    "dezembro = df12_03_18.append(df12_03_19)"
   ]
  },
  {
   "cell_type": "code",
   "execution_count": 243,
   "metadata": {},
   "outputs": [
    {
     "data": {
      "text/html": [
       "<div>\n",
       "<style scoped>\n",
       "    .dataframe tbody tr th:only-of-type {\n",
       "        vertical-align: middle;\n",
       "    }\n",
       "\n",
       "    .dataframe tbody tr th {\n",
       "        vertical-align: top;\n",
       "    }\n",
       "\n",
       "    .dataframe thead th {\n",
       "        text-align: right;\n",
       "    }\n",
       "</style>\n",
       "<table border=\"1\" class=\"dataframe\">\n",
       "  <thead>\n",
       "    <tr style=\"text-align: right;\">\n",
       "      <th></th>\n",
       "      <th>BAIRROS</th>\n",
       "      <th>PRECO</th>\n",
       "      <th>MES</th>\n",
       "      <th>ANO</th>\n",
       "    </tr>\n",
       "  </thead>\n",
       "  <tbody>\n",
       "    <tr>\n",
       "      <th>0</th>\n",
       "      <td>ACLIMAÇÃO</td>\n",
       "      <td>8256.23</td>\n",
       "      <td>DEZEMBRO</td>\n",
       "      <td>2018</td>\n",
       "    </tr>\n",
       "    <tr>\n",
       "      <th>1</th>\n",
       "      <td>ALTO DA BOA VISTA</td>\n",
       "      <td>8018.67</td>\n",
       "      <td>DEZEMBRO</td>\n",
       "      <td>2018</td>\n",
       "    </tr>\n",
       "    <tr>\n",
       "      <th>2</th>\n",
       "      <td>BARRA FUNDA</td>\n",
       "      <td>8577.08</td>\n",
       "      <td>DEZEMBRO</td>\n",
       "      <td>2018</td>\n",
       "    </tr>\n",
       "    <tr>\n",
       "      <th>3</th>\n",
       "      <td>BELA VISTA</td>\n",
       "      <td>7570.37</td>\n",
       "      <td>DEZEMBRO</td>\n",
       "      <td>2018</td>\n",
       "    </tr>\n",
       "    <tr>\n",
       "      <th>4</th>\n",
       "      <td>BELÉM</td>\n",
       "      <td>6479.79</td>\n",
       "      <td>DEZEMBRO</td>\n",
       "      <td>2018</td>\n",
       "    </tr>\n",
       "  </tbody>\n",
       "</table>\n",
       "</div>"
      ],
      "text/plain": [
       "             BAIRROS    PRECO       MES   ANO\n",
       "0          ACLIMAÇÃO  8256.23  DEZEMBRO  2018\n",
       "1  ALTO DA BOA VISTA  8018.67  DEZEMBRO  2018\n",
       "2        BARRA FUNDA  8577.08  DEZEMBRO  2018\n",
       "3         BELA VISTA  7570.37  DEZEMBRO  2018\n",
       "4              BELÉM  6479.79  DEZEMBRO  2018"
      ]
     },
     "execution_count": 243,
     "metadata": {},
     "output_type": "execute_result"
    }
   ],
   "source": [
    "dezembro.head()"
   ]
  },
  {
   "cell_type": "markdown",
   "metadata": {},
   "source": [
    "### Concatenando dataframes\n",
    "Criação de dataframe dormitorio_01, que representa dados de imóveis com único dormitório."
   ]
  },
  {
   "cell_type": "code",
   "execution_count": 244,
   "metadata": {},
   "outputs": [],
   "source": [
    "dormitorio_03 = pd.concat([janeiro, fevereiro, marco, abril, maio, junho, julho, agosto, setembro, outubro, novembro, dezembro])"
   ]
  },
  {
   "cell_type": "code",
   "execution_count": 245,
   "metadata": {},
   "outputs": [],
   "source": [
    "dormitorio_03.reset_index(drop=True, inplace=True)"
   ]
  },
  {
   "cell_type": "code",
   "execution_count": 246,
   "metadata": {},
   "outputs": [],
   "source": [
    "dormitorio_03['n_dormitorios'] = 0\n",
    "\n",
    "for index, row in dormitorio_03.iterrows():\n",
    "    dormitorio_03['n_dormitorios'] = 3  "
   ]
  },
  {
   "cell_type": "code",
   "execution_count": 247,
   "metadata": {},
   "outputs": [
    {
     "data": {
      "text/html": [
       "<div>\n",
       "<style scoped>\n",
       "    .dataframe tbody tr th:only-of-type {\n",
       "        vertical-align: middle;\n",
       "    }\n",
       "\n",
       "    .dataframe tbody tr th {\n",
       "        vertical-align: top;\n",
       "    }\n",
       "\n",
       "    .dataframe thead th {\n",
       "        text-align: right;\n",
       "    }\n",
       "</style>\n",
       "<table border=\"1\" class=\"dataframe\">\n",
       "  <thead>\n",
       "    <tr style=\"text-align: right;\">\n",
       "      <th></th>\n",
       "      <th>BAIRROS</th>\n",
       "      <th>PRECO</th>\n",
       "      <th>MES</th>\n",
       "      <th>ANO</th>\n",
       "      <th>n_dormitorios</th>\n",
       "    </tr>\n",
       "  </thead>\n",
       "  <tbody>\n",
       "    <tr>\n",
       "      <th>0</th>\n",
       "      <td>ACLIMAÇÃO</td>\n",
       "      <td>8429.77</td>\n",
       "      <td>JANEIRO</td>\n",
       "      <td>2018</td>\n",
       "      <td>3</td>\n",
       "    </tr>\n",
       "    <tr>\n",
       "      <th>1</th>\n",
       "      <td>ALTO DA BOA VISTA</td>\n",
       "      <td>7995.22</td>\n",
       "      <td>JANEIRO</td>\n",
       "      <td>2018</td>\n",
       "      <td>3</td>\n",
       "    </tr>\n",
       "    <tr>\n",
       "      <th>2</th>\n",
       "      <td>BARRA FUNDA</td>\n",
       "      <td>8776.74</td>\n",
       "      <td>JANEIRO</td>\n",
       "      <td>2018</td>\n",
       "      <td>3</td>\n",
       "    </tr>\n",
       "    <tr>\n",
       "      <th>3</th>\n",
       "      <td>BELA VISTA</td>\n",
       "      <td>7694.73</td>\n",
       "      <td>JANEIRO</td>\n",
       "      <td>2018</td>\n",
       "      <td>3</td>\n",
       "    </tr>\n",
       "    <tr>\n",
       "      <th>4</th>\n",
       "      <td>BELÉM</td>\n",
       "      <td>6559.89</td>\n",
       "      <td>JANEIRO</td>\n",
       "      <td>2018</td>\n",
       "      <td>3</td>\n",
       "    </tr>\n",
       "    <tr>\n",
       "      <th>...</th>\n",
       "      <td>...</td>\n",
       "      <td>...</td>\n",
       "      <td>...</td>\n",
       "      <td>...</td>\n",
       "      <td>...</td>\n",
       "    </tr>\n",
       "    <tr>\n",
       "      <th>1579</th>\n",
       "      <td>VILA OLÍMPIA</td>\n",
       "      <td>10696.1</td>\n",
       "      <td>DEZEMBRO</td>\n",
       "      <td>2019</td>\n",
       "      <td>3</td>\n",
       "    </tr>\n",
       "    <tr>\n",
       "      <th>1580</th>\n",
       "      <td>VILA PRUDENTE</td>\n",
       "      <td>6689.36</td>\n",
       "      <td>DEZEMBRO</td>\n",
       "      <td>2019</td>\n",
       "      <td>3</td>\n",
       "    </tr>\n",
       "    <tr>\n",
       "      <th>1581</th>\n",
       "      <td>VILA ROMANA</td>\n",
       "      <td>10012.1</td>\n",
       "      <td>DEZEMBRO</td>\n",
       "      <td>2019</td>\n",
       "      <td>3</td>\n",
       "    </tr>\n",
       "    <tr>\n",
       "      <th>1582</th>\n",
       "      <td>VILA SÔNIA</td>\n",
       "      <td>6462.87</td>\n",
       "      <td>DEZEMBRO</td>\n",
       "      <td>2019</td>\n",
       "      <td>3</td>\n",
       "    </tr>\n",
       "    <tr>\n",
       "      <th>1583</th>\n",
       "      <td>Fonte: Secovi-SP</td>\n",
       "      <td>NaN</td>\n",
       "      <td>DEZEMBRO</td>\n",
       "      <td>2019</td>\n",
       "      <td>3</td>\n",
       "    </tr>\n",
       "  </tbody>\n",
       "</table>\n",
       "<p>1584 rows × 5 columns</p>\n",
       "</div>"
      ],
      "text/plain": [
       "                BAIRROS    PRECO       MES   ANO  n_dormitorios\n",
       "0             ACLIMAÇÃO  8429.77   JANEIRO  2018              3\n",
       "1     ALTO DA BOA VISTA  7995.22   JANEIRO  2018              3\n",
       "2           BARRA FUNDA  8776.74   JANEIRO  2018              3\n",
       "3            BELA VISTA  7694.73   JANEIRO  2018              3\n",
       "4                 BELÉM  6559.89   JANEIRO  2018              3\n",
       "...                 ...      ...       ...   ...            ...\n",
       "1579       VILA OLÍMPIA  10696.1  DEZEMBRO  2019              3\n",
       "1580      VILA PRUDENTE  6689.36  DEZEMBRO  2019              3\n",
       "1581        VILA ROMANA  10012.1  DEZEMBRO  2019              3\n",
       "1582         VILA SÔNIA  6462.87  DEZEMBRO  2019              3\n",
       "1583   Fonte: Secovi-SP      NaN  DEZEMBRO  2019              3\n",
       "\n",
       "[1584 rows x 5 columns]"
      ]
     },
     "execution_count": 247,
     "metadata": {},
     "output_type": "execute_result"
    }
   ],
   "source": [
    "dormitorio_03"
   ]
  },
  {
   "cell_type": "markdown",
   "metadata": {},
   "source": [
    "### Dataframe 4 dormitórios"
   ]
  },
  {
   "cell_type": "code",
   "execution_count": 249,
   "metadata": {},
   "outputs": [
    {
     "data": {
      "text/html": [
       "<div>\n",
       "<style scoped>\n",
       "    .dataframe tbody tr th:only-of-type {\n",
       "        vertical-align: middle;\n",
       "    }\n",
       "\n",
       "    .dataframe tbody tr th {\n",
       "        vertical-align: top;\n",
       "    }\n",
       "\n",
       "    .dataframe thead th {\n",
       "        text-align: right;\n",
       "    }\n",
       "</style>\n",
       "<table border=\"1\" class=\"dataframe\">\n",
       "  <thead>\n",
       "    <tr style=\"text-align: right;\">\n",
       "      <th></th>\n",
       "      <th>BAIRROS</th>\n",
       "      <th>JAN_18_01</th>\n",
       "      <th>JAN_19_01</th>\n",
       "      <th>VAR (%)_01</th>\n",
       "      <th>JAN_18_02</th>\n",
       "      <th>JAN_19_02</th>\n",
       "      <th>VAR (%)_02</th>\n",
       "      <th>JAN_18_03</th>\n",
       "      <th>JAN_19_03</th>\n",
       "      <th>VAR (%)_03</th>\n",
       "      <th>JAN_18_04</th>\n",
       "      <th>JAN_19_04</th>\n",
       "      <th>VAR (%)_04</th>\n",
       "    </tr>\n",
       "  </thead>\n",
       "  <tbody>\n",
       "    <tr>\n",
       "      <th>0</th>\n",
       "      <td>ACLIMAÇÃO</td>\n",
       "      <td>8664.17</td>\n",
       "      <td>8812.46</td>\n",
       "      <td>0.0171157</td>\n",
       "      <td>7699.85</td>\n",
       "      <td>7585.1794</td>\n",
       "      <td>-0.0148923</td>\n",
       "      <td>8429.77</td>\n",
       "      <td>8340.856638</td>\n",
       "      <td>-0.010547</td>\n",
       "      <td>9363.87</td>\n",
       "      <td>9368.55</td>\n",
       "      <td>0.000499848</td>\n",
       "    </tr>\n",
       "  </tbody>\n",
       "</table>\n",
       "</div>"
      ],
      "text/plain": [
       "     BAIRROS JAN_18_01 JAN_19_01 VAR (%)_01 JAN_18_02  JAN_19_02 VAR (%)_02  \\\n",
       "0  ACLIMAÇÃO   8664.17   8812.46  0.0171157   7699.85  7585.1794 -0.0148923   \n",
       "\n",
       "  JAN_18_03    JAN_19_03 VAR (%)_03 JAN_18_04 JAN_19_04   VAR (%)_04  \n",
       "0   8429.77  8340.856638  -0.010547   9363.87   9368.55  0.000499848  "
      ]
     },
     "execution_count": 249,
     "metadata": {},
     "output_type": "execute_result"
    }
   ],
   "source": [
    "df01.head(1)"
   ]
  },
  {
   "cell_type": "markdown",
   "metadata": {},
   "source": [
    "### Janeiro"
   ]
  },
  {
   "cell_type": "code",
   "execution_count": 252,
   "metadata": {},
   "outputs": [
    {
     "name": "stderr",
     "output_type": "stream",
     "text": [
      "<ipython-input-252-a7f509697aa2>:3: SettingWithCopyWarning: \n",
      "A value is trying to be set on a copy of a slice from a DataFrame.\n",
      "Try using .loc[row_indexer,col_indexer] = value instead\n",
      "\n",
      "See the caveats in the documentation: https://pandas.pydata.org/pandas-docs/stable/user_guide/indexing.html#returning-a-view-versus-a-copy\n",
      "  df01_04_18['MES'] = 0\n",
      "<ipython-input-252-a7f509697aa2>:4: SettingWithCopyWarning: \n",
      "A value is trying to be set on a copy of a slice from a DataFrame.\n",
      "Try using .loc[row_indexer,col_indexer] = value instead\n",
      "\n",
      "See the caveats in the documentation: https://pandas.pydata.org/pandas-docs/stable/user_guide/indexing.html#returning-a-view-versus-a-copy\n",
      "  df01_04_18['ANO'] = 0\n",
      "<ipython-input-252-a7f509697aa2>:7: SettingWithCopyWarning: \n",
      "A value is trying to be set on a copy of a slice from a DataFrame.\n",
      "Try using .loc[row_indexer,col_indexer] = value instead\n",
      "\n",
      "See the caveats in the documentation: https://pandas.pydata.org/pandas-docs/stable/user_guide/indexing.html#returning-a-view-versus-a-copy\n",
      "  df01_04_18['MES'] = 'JANEIRO'\n",
      "<ipython-input-252-a7f509697aa2>:8: SettingWithCopyWarning: \n",
      "A value is trying to be set on a copy of a slice from a DataFrame.\n",
      "Try using .loc[row_indexer,col_indexer] = value instead\n",
      "\n",
      "See the caveats in the documentation: https://pandas.pydata.org/pandas-docs/stable/user_guide/indexing.html#returning-a-view-versus-a-copy\n",
      "  df01_04_18['ANO'] = 2018\n"
     ]
    }
   ],
   "source": [
    "df01_04_18 = df01[['BAIRROS', 'JAN_18_04']]\n",
    "\n",
    "df01_04_18['MES'] = 0\n",
    "df01_04_18['ANO'] = 0\n",
    "\n",
    "for index, row in df01_04_18.iterrows():\n",
    "    df01_04_18['MES'] = 'JANEIRO'\n",
    "    df01_04_18['ANO'] = 2018"
   ]
  },
  {
   "cell_type": "code",
   "execution_count": 253,
   "metadata": {},
   "outputs": [
    {
     "name": "stderr",
     "output_type": "stream",
     "text": [
      "<ipython-input-253-ce262604d2dd>:3: SettingWithCopyWarning: \n",
      "A value is trying to be set on a copy of a slice from a DataFrame.\n",
      "Try using .loc[row_indexer,col_indexer] = value instead\n",
      "\n",
      "See the caveats in the documentation: https://pandas.pydata.org/pandas-docs/stable/user_guide/indexing.html#returning-a-view-versus-a-copy\n",
      "  df01_04_19['MES'] = 0\n",
      "<ipython-input-253-ce262604d2dd>:4: SettingWithCopyWarning: \n",
      "A value is trying to be set on a copy of a slice from a DataFrame.\n",
      "Try using .loc[row_indexer,col_indexer] = value instead\n",
      "\n",
      "See the caveats in the documentation: https://pandas.pydata.org/pandas-docs/stable/user_guide/indexing.html#returning-a-view-versus-a-copy\n",
      "  df01_04_19['ANO'] = 0\n",
      "<ipython-input-253-ce262604d2dd>:7: SettingWithCopyWarning: \n",
      "A value is trying to be set on a copy of a slice from a DataFrame.\n",
      "Try using .loc[row_indexer,col_indexer] = value instead\n",
      "\n",
      "See the caveats in the documentation: https://pandas.pydata.org/pandas-docs/stable/user_guide/indexing.html#returning-a-view-versus-a-copy\n",
      "  df01_04_19['MES'] = 'JANEIRO'\n",
      "<ipython-input-253-ce262604d2dd>:8: SettingWithCopyWarning: \n",
      "A value is trying to be set on a copy of a slice from a DataFrame.\n",
      "Try using .loc[row_indexer,col_indexer] = value instead\n",
      "\n",
      "See the caveats in the documentation: https://pandas.pydata.org/pandas-docs/stable/user_guide/indexing.html#returning-a-view-versus-a-copy\n",
      "  df01_04_19['ANO'] = 2019\n"
     ]
    }
   ],
   "source": [
    "df01_04_19 = df01[['BAIRROS', 'JAN_19_04']]\n",
    "\n",
    "df01_04_19['MES'] = 0\n",
    "df01_04_19['ANO'] = 0\n",
    "\n",
    "for index, row in df01_04_19.iterrows():\n",
    "    df01_04_19['MES'] = 'JANEIRO'\n",
    "    df01_04_19['ANO'] = 2019"
   ]
  },
  {
   "cell_type": "code",
   "execution_count": 254,
   "metadata": {},
   "outputs": [
    {
     "name": "stderr",
     "output_type": "stream",
     "text": [
      "C:\\Users\\carol\\Anaconda3.1\\lib\\site-packages\\pandas\\core\\frame.py:4296: SettingWithCopyWarning: \n",
      "A value is trying to be set on a copy of a slice from a DataFrame\n",
      "\n",
      "See the caveats in the documentation: https://pandas.pydata.org/pandas-docs/stable/user_guide/indexing.html#returning-a-view-versus-a-copy\n",
      "  return super().rename(\n"
     ]
    }
   ],
   "source": [
    "df01_04_18.rename(columns={'JAN_18_04':'PRECO'}, inplace=True)\n",
    "\n",
    "df01_04_19.rename(columns={'JAN_19_04':'PRECO'}, inplace=True)"
   ]
  },
  {
   "cell_type": "code",
   "execution_count": 255,
   "metadata": {},
   "outputs": [],
   "source": [
    "janeiro = df01_04_18.append(df01_04_19)"
   ]
  },
  {
   "cell_type": "code",
   "execution_count": 256,
   "metadata": {},
   "outputs": [
    {
     "data": {
      "text/html": [
       "<div>\n",
       "<style scoped>\n",
       "    .dataframe tbody tr th:only-of-type {\n",
       "        vertical-align: middle;\n",
       "    }\n",
       "\n",
       "    .dataframe tbody tr th {\n",
       "        vertical-align: top;\n",
       "    }\n",
       "\n",
       "    .dataframe thead th {\n",
       "        text-align: right;\n",
       "    }\n",
       "</style>\n",
       "<table border=\"1\" class=\"dataframe\">\n",
       "  <thead>\n",
       "    <tr style=\"text-align: right;\">\n",
       "      <th></th>\n",
       "      <th>BAIRROS</th>\n",
       "      <th>PRECO</th>\n",
       "      <th>MES</th>\n",
       "      <th>ANO</th>\n",
       "    </tr>\n",
       "  </thead>\n",
       "  <tbody>\n",
       "    <tr>\n",
       "      <th>0</th>\n",
       "      <td>ACLIMAÇÃO</td>\n",
       "      <td>9363.87</td>\n",
       "      <td>JANEIRO</td>\n",
       "      <td>2018</td>\n",
       "    </tr>\n",
       "    <tr>\n",
       "      <th>1</th>\n",
       "      <td>ALTO DA BOA VISTA</td>\n",
       "      <td>8314.68</td>\n",
       "      <td>JANEIRO</td>\n",
       "      <td>2018</td>\n",
       "    </tr>\n",
       "    <tr>\n",
       "      <th>2</th>\n",
       "      <td>BARRA FUNDA</td>\n",
       "      <td>9091.7</td>\n",
       "      <td>JANEIRO</td>\n",
       "      <td>2018</td>\n",
       "    </tr>\n",
       "    <tr>\n",
       "      <th>3</th>\n",
       "      <td>BELA VISTA</td>\n",
       "      <td>8009.97</td>\n",
       "      <td>JANEIRO</td>\n",
       "      <td>2018</td>\n",
       "    </tr>\n",
       "    <tr>\n",
       "      <th>4</th>\n",
       "      <td>BELÉM</td>\n",
       "      <td>6112.79</td>\n",
       "      <td>JANEIRO</td>\n",
       "      <td>2018</td>\n",
       "    </tr>\n",
       "  </tbody>\n",
       "</table>\n",
       "</div>"
      ],
      "text/plain": [
       "             BAIRROS    PRECO      MES   ANO\n",
       "0          ACLIMAÇÃO  9363.87  JANEIRO  2018\n",
       "1  ALTO DA BOA VISTA  8314.68  JANEIRO  2018\n",
       "2        BARRA FUNDA   9091.7  JANEIRO  2018\n",
       "3         BELA VISTA  8009.97  JANEIRO  2018\n",
       "4              BELÉM  6112.79  JANEIRO  2018"
      ]
     },
     "execution_count": 256,
     "metadata": {},
     "output_type": "execute_result"
    }
   ],
   "source": [
    "janeiro.head()"
   ]
  },
  {
   "cell_type": "markdown",
   "metadata": {},
   "source": [
    "### Fevereiro"
   ]
  },
  {
   "cell_type": "code",
   "execution_count": 257,
   "metadata": {},
   "outputs": [
    {
     "name": "stderr",
     "output_type": "stream",
     "text": [
      "<ipython-input-257-c67cdddff206>:3: SettingWithCopyWarning: \n",
      "A value is trying to be set on a copy of a slice from a DataFrame.\n",
      "Try using .loc[row_indexer,col_indexer] = value instead\n",
      "\n",
      "See the caveats in the documentation: https://pandas.pydata.org/pandas-docs/stable/user_guide/indexing.html#returning-a-view-versus-a-copy\n",
      "  df02_04_18['MES'] = 0\n",
      "<ipython-input-257-c67cdddff206>:4: SettingWithCopyWarning: \n",
      "A value is trying to be set on a copy of a slice from a DataFrame.\n",
      "Try using .loc[row_indexer,col_indexer] = value instead\n",
      "\n",
      "See the caveats in the documentation: https://pandas.pydata.org/pandas-docs/stable/user_guide/indexing.html#returning-a-view-versus-a-copy\n",
      "  df02_04_18['ANO'] = 0\n",
      "<ipython-input-257-c67cdddff206>:7: SettingWithCopyWarning: \n",
      "A value is trying to be set on a copy of a slice from a DataFrame.\n",
      "Try using .loc[row_indexer,col_indexer] = value instead\n",
      "\n",
      "See the caveats in the documentation: https://pandas.pydata.org/pandas-docs/stable/user_guide/indexing.html#returning-a-view-versus-a-copy\n",
      "  df02_04_18['MES'] = 'FEVEREIRO'\n",
      "<ipython-input-257-c67cdddff206>:8: SettingWithCopyWarning: \n",
      "A value is trying to be set on a copy of a slice from a DataFrame.\n",
      "Try using .loc[row_indexer,col_indexer] = value instead\n",
      "\n",
      "See the caveats in the documentation: https://pandas.pydata.org/pandas-docs/stable/user_guide/indexing.html#returning-a-view-versus-a-copy\n",
      "  df02_04_18['ANO'] = 2018\n"
     ]
    }
   ],
   "source": [
    "df02_04_18 = df02[['BAIRROS', 'FEV_18_04']]\n",
    "\n",
    "df02_04_18['MES'] = 0\n",
    "df02_04_18['ANO'] = 0\n",
    "\n",
    "for index, row in df02_04_18.iterrows():\n",
    "    df02_04_18['MES'] = 'FEVEREIRO'\n",
    "    df02_04_18['ANO'] = 2018"
   ]
  },
  {
   "cell_type": "code",
   "execution_count": 258,
   "metadata": {},
   "outputs": [
    {
     "name": "stderr",
     "output_type": "stream",
     "text": [
      "<ipython-input-258-7bb339fd2167>:3: SettingWithCopyWarning: \n",
      "A value is trying to be set on a copy of a slice from a DataFrame.\n",
      "Try using .loc[row_indexer,col_indexer] = value instead\n",
      "\n",
      "See the caveats in the documentation: https://pandas.pydata.org/pandas-docs/stable/user_guide/indexing.html#returning-a-view-versus-a-copy\n",
      "  df02_04_19['MES'] = 0\n",
      "<ipython-input-258-7bb339fd2167>:4: SettingWithCopyWarning: \n",
      "A value is trying to be set on a copy of a slice from a DataFrame.\n",
      "Try using .loc[row_indexer,col_indexer] = value instead\n",
      "\n",
      "See the caveats in the documentation: https://pandas.pydata.org/pandas-docs/stable/user_guide/indexing.html#returning-a-view-versus-a-copy\n",
      "  df02_04_19['ANO'] = 0\n",
      "<ipython-input-258-7bb339fd2167>:7: SettingWithCopyWarning: \n",
      "A value is trying to be set on a copy of a slice from a DataFrame.\n",
      "Try using .loc[row_indexer,col_indexer] = value instead\n",
      "\n",
      "See the caveats in the documentation: https://pandas.pydata.org/pandas-docs/stable/user_guide/indexing.html#returning-a-view-versus-a-copy\n",
      "  df02_04_19['MES'] = 'FEVEREIRO'\n",
      "<ipython-input-258-7bb339fd2167>:8: SettingWithCopyWarning: \n",
      "A value is trying to be set on a copy of a slice from a DataFrame.\n",
      "Try using .loc[row_indexer,col_indexer] = value instead\n",
      "\n",
      "See the caveats in the documentation: https://pandas.pydata.org/pandas-docs/stable/user_guide/indexing.html#returning-a-view-versus-a-copy\n",
      "  df02_04_19['ANO'] = 2019\n"
     ]
    }
   ],
   "source": [
    "df02_04_19 = df02[['BAIRROS', 'FEV_19_04']]\n",
    "\n",
    "df02_04_19['MES'] = 0\n",
    "df02_04_19['ANO'] = 0\n",
    "\n",
    "for index, row in df02_04_19.iterrows():\n",
    "    df02_04_19['MES'] = 'FEVEREIRO'\n",
    "    df02_04_19['ANO'] = 2019"
   ]
  },
  {
   "cell_type": "code",
   "execution_count": 259,
   "metadata": {},
   "outputs": [
    {
     "name": "stderr",
     "output_type": "stream",
     "text": [
      "C:\\Users\\carol\\Anaconda3.1\\lib\\site-packages\\pandas\\core\\frame.py:4296: SettingWithCopyWarning: \n",
      "A value is trying to be set on a copy of a slice from a DataFrame\n",
      "\n",
      "See the caveats in the documentation: https://pandas.pydata.org/pandas-docs/stable/user_guide/indexing.html#returning-a-view-versus-a-copy\n",
      "  return super().rename(\n"
     ]
    }
   ],
   "source": [
    "df02_04_18.rename(columns={'FEV_18_04':'PRECO'}, inplace=True)\n",
    "\n",
    "df02_04_19.rename(columns={'FEV_19_04':'PRECO'}, inplace=True)"
   ]
  },
  {
   "cell_type": "code",
   "execution_count": 260,
   "metadata": {},
   "outputs": [],
   "source": [
    "fevereiro = df02_04_18.append(df02_04_19)"
   ]
  },
  {
   "cell_type": "code",
   "execution_count": 261,
   "metadata": {},
   "outputs": [
    {
     "data": {
      "text/html": [
       "<div>\n",
       "<style scoped>\n",
       "    .dataframe tbody tr th:only-of-type {\n",
       "        vertical-align: middle;\n",
       "    }\n",
       "\n",
       "    .dataframe tbody tr th {\n",
       "        vertical-align: top;\n",
       "    }\n",
       "\n",
       "    .dataframe thead th {\n",
       "        text-align: right;\n",
       "    }\n",
       "</style>\n",
       "<table border=\"1\" class=\"dataframe\">\n",
       "  <thead>\n",
       "    <tr style=\"text-align: right;\">\n",
       "      <th></th>\n",
       "      <th>BAIRROS</th>\n",
       "      <th>PRECO</th>\n",
       "      <th>MES</th>\n",
       "      <th>ANO</th>\n",
       "    </tr>\n",
       "  </thead>\n",
       "  <tbody>\n",
       "    <tr>\n",
       "      <th>0</th>\n",
       "      <td>ACLIMAÇÃO</td>\n",
       "      <td>9423.34</td>\n",
       "      <td>FEVEREIRO</td>\n",
       "      <td>2018</td>\n",
       "    </tr>\n",
       "    <tr>\n",
       "      <th>1</th>\n",
       "      <td>ALTO DA BOA VISTA</td>\n",
       "      <td>8363.64</td>\n",
       "      <td>FEVEREIRO</td>\n",
       "      <td>2018</td>\n",
       "    </tr>\n",
       "    <tr>\n",
       "      <th>2</th>\n",
       "      <td>BARRA FUNDA</td>\n",
       "      <td>9078.75</td>\n",
       "      <td>FEVEREIRO</td>\n",
       "      <td>2018</td>\n",
       "    </tr>\n",
       "    <tr>\n",
       "      <th>3</th>\n",
       "      <td>BELA VISTA</td>\n",
       "      <td>8004.78</td>\n",
       "      <td>FEVEREIRO</td>\n",
       "      <td>2018</td>\n",
       "    </tr>\n",
       "    <tr>\n",
       "      <th>4</th>\n",
       "      <td>BELÉM</td>\n",
       "      <td>6160.55</td>\n",
       "      <td>FEVEREIRO</td>\n",
       "      <td>2018</td>\n",
       "    </tr>\n",
       "  </tbody>\n",
       "</table>\n",
       "</div>"
      ],
      "text/plain": [
       "             BAIRROS    PRECO        MES   ANO\n",
       "0          ACLIMAÇÃO  9423.34  FEVEREIRO  2018\n",
       "1  ALTO DA BOA VISTA  8363.64  FEVEREIRO  2018\n",
       "2        BARRA FUNDA  9078.75  FEVEREIRO  2018\n",
       "3         BELA VISTA  8004.78  FEVEREIRO  2018\n",
       "4              BELÉM  6160.55  FEVEREIRO  2018"
      ]
     },
     "execution_count": 261,
     "metadata": {},
     "output_type": "execute_result"
    }
   ],
   "source": [
    "fevereiro.head()"
   ]
  },
  {
   "cell_type": "markdown",
   "metadata": {},
   "source": [
    "### Março"
   ]
  },
  {
   "cell_type": "code",
   "execution_count": 262,
   "metadata": {},
   "outputs": [
    {
     "name": "stderr",
     "output_type": "stream",
     "text": [
      "<ipython-input-262-25cb26700b0b>:3: SettingWithCopyWarning: \n",
      "A value is trying to be set on a copy of a slice from a DataFrame.\n",
      "Try using .loc[row_indexer,col_indexer] = value instead\n",
      "\n",
      "See the caveats in the documentation: https://pandas.pydata.org/pandas-docs/stable/user_guide/indexing.html#returning-a-view-versus-a-copy\n",
      "  df03_04_18['MES'] = 0\n",
      "<ipython-input-262-25cb26700b0b>:4: SettingWithCopyWarning: \n",
      "A value is trying to be set on a copy of a slice from a DataFrame.\n",
      "Try using .loc[row_indexer,col_indexer] = value instead\n",
      "\n",
      "See the caveats in the documentation: https://pandas.pydata.org/pandas-docs/stable/user_guide/indexing.html#returning-a-view-versus-a-copy\n",
      "  df03_04_18['ANO'] = 0\n",
      "<ipython-input-262-25cb26700b0b>:7: SettingWithCopyWarning: \n",
      "A value is trying to be set on a copy of a slice from a DataFrame.\n",
      "Try using .loc[row_indexer,col_indexer] = value instead\n",
      "\n",
      "See the caveats in the documentation: https://pandas.pydata.org/pandas-docs/stable/user_guide/indexing.html#returning-a-view-versus-a-copy\n",
      "  df03_04_18['MES'] = 'MARCO'\n",
      "<ipython-input-262-25cb26700b0b>:8: SettingWithCopyWarning: \n",
      "A value is trying to be set on a copy of a slice from a DataFrame.\n",
      "Try using .loc[row_indexer,col_indexer] = value instead\n",
      "\n",
      "See the caveats in the documentation: https://pandas.pydata.org/pandas-docs/stable/user_guide/indexing.html#returning-a-view-versus-a-copy\n",
      "  df03_04_18['ANO'] = 2018\n"
     ]
    }
   ],
   "source": [
    "df03_04_18 = df03[['BAIRROS', 'MAR_18_04']]\n",
    "\n",
    "df03_04_18['MES'] = 0\n",
    "df03_04_18['ANO'] = 0\n",
    "\n",
    "for index, row in df03_04_18.iterrows():\n",
    "    df03_04_18['MES'] = 'MARCO'\n",
    "    df03_04_18['ANO'] = 2018"
   ]
  },
  {
   "cell_type": "code",
   "execution_count": 263,
   "metadata": {},
   "outputs": [
    {
     "name": "stderr",
     "output_type": "stream",
     "text": [
      "<ipython-input-263-6c2e3ffcf931>:3: SettingWithCopyWarning: \n",
      "A value is trying to be set on a copy of a slice from a DataFrame.\n",
      "Try using .loc[row_indexer,col_indexer] = value instead\n",
      "\n",
      "See the caveats in the documentation: https://pandas.pydata.org/pandas-docs/stable/user_guide/indexing.html#returning-a-view-versus-a-copy\n",
      "  df03_04_19['MES'] = 0\n",
      "<ipython-input-263-6c2e3ffcf931>:4: SettingWithCopyWarning: \n",
      "A value is trying to be set on a copy of a slice from a DataFrame.\n",
      "Try using .loc[row_indexer,col_indexer] = value instead\n",
      "\n",
      "See the caveats in the documentation: https://pandas.pydata.org/pandas-docs/stable/user_guide/indexing.html#returning-a-view-versus-a-copy\n",
      "  df03_04_19['ANO'] = 0\n",
      "<ipython-input-263-6c2e3ffcf931>:7: SettingWithCopyWarning: \n",
      "A value is trying to be set on a copy of a slice from a DataFrame.\n",
      "Try using .loc[row_indexer,col_indexer] = value instead\n",
      "\n",
      "See the caveats in the documentation: https://pandas.pydata.org/pandas-docs/stable/user_guide/indexing.html#returning-a-view-versus-a-copy\n",
      "  df03_04_19['MES'] = 'MARCO'\n",
      "<ipython-input-263-6c2e3ffcf931>:8: SettingWithCopyWarning: \n",
      "A value is trying to be set on a copy of a slice from a DataFrame.\n",
      "Try using .loc[row_indexer,col_indexer] = value instead\n",
      "\n",
      "See the caveats in the documentation: https://pandas.pydata.org/pandas-docs/stable/user_guide/indexing.html#returning-a-view-versus-a-copy\n",
      "  df03_04_19['ANO'] = 2019\n"
     ]
    }
   ],
   "source": [
    "df03_04_19 = df03[['BAIRROS', 'MAR_19_04']]\n",
    "\n",
    "df03_04_19['MES'] = 0\n",
    "df03_04_19['ANO'] = 0\n",
    "\n",
    "for index, row in df03_04_19.iterrows():\n",
    "    df03_04_19['MES'] = 'MARCO'\n",
    "    df03_04_19['ANO'] = 2019"
   ]
  },
  {
   "cell_type": "code",
   "execution_count": 264,
   "metadata": {},
   "outputs": [
    {
     "name": "stderr",
     "output_type": "stream",
     "text": [
      "C:\\Users\\carol\\Anaconda3.1\\lib\\site-packages\\pandas\\core\\frame.py:4296: SettingWithCopyWarning: \n",
      "A value is trying to be set on a copy of a slice from a DataFrame\n",
      "\n",
      "See the caveats in the documentation: https://pandas.pydata.org/pandas-docs/stable/user_guide/indexing.html#returning-a-view-versus-a-copy\n",
      "  return super().rename(\n"
     ]
    }
   ],
   "source": [
    "df03_04_18.rename(columns={'MAR_18_04':'PRECO'}, inplace=True)\n",
    "\n",
    "df03_04_19.rename(columns={'MAR_19_04':'PRECO'}, inplace=True)"
   ]
  },
  {
   "cell_type": "code",
   "execution_count": 265,
   "metadata": {},
   "outputs": [],
   "source": [
    "marco = df03_04_18.append(df03_04_19)"
   ]
  },
  {
   "cell_type": "code",
   "execution_count": 266,
   "metadata": {},
   "outputs": [
    {
     "data": {
      "text/html": [
       "<div>\n",
       "<style scoped>\n",
       "    .dataframe tbody tr th:only-of-type {\n",
       "        vertical-align: middle;\n",
       "    }\n",
       "\n",
       "    .dataframe tbody tr th {\n",
       "        vertical-align: top;\n",
       "    }\n",
       "\n",
       "    .dataframe thead th {\n",
       "        text-align: right;\n",
       "    }\n",
       "</style>\n",
       "<table border=\"1\" class=\"dataframe\">\n",
       "  <thead>\n",
       "    <tr style=\"text-align: right;\">\n",
       "      <th></th>\n",
       "      <th>BAIRROS</th>\n",
       "      <th>PRECO</th>\n",
       "      <th>MES</th>\n",
       "      <th>ANO</th>\n",
       "    </tr>\n",
       "  </thead>\n",
       "  <tbody>\n",
       "    <tr>\n",
       "      <th>0</th>\n",
       "      <td>ACLIMAÇÃO</td>\n",
       "      <td>9507.3</td>\n",
       "      <td>MARCO</td>\n",
       "      <td>2018</td>\n",
       "    </tr>\n",
       "    <tr>\n",
       "      <th>1</th>\n",
       "      <td>ALTO DA BOA VISTA</td>\n",
       "      <td>8485.9</td>\n",
       "      <td>MARCO</td>\n",
       "      <td>2018</td>\n",
       "    </tr>\n",
       "    <tr>\n",
       "      <th>2</th>\n",
       "      <td>BARRA FUNDA</td>\n",
       "      <td>9196.94</td>\n",
       "      <td>MARCO</td>\n",
       "      <td>2018</td>\n",
       "    </tr>\n",
       "    <tr>\n",
       "      <th>3</th>\n",
       "      <td>BELA VISTA</td>\n",
       "      <td>8031.46</td>\n",
       "      <td>MARCO</td>\n",
       "      <td>2018</td>\n",
       "    </tr>\n",
       "    <tr>\n",
       "      <th>4</th>\n",
       "      <td>BELÉM</td>\n",
       "      <td>6404.7</td>\n",
       "      <td>MARCO</td>\n",
       "      <td>2018</td>\n",
       "    </tr>\n",
       "  </tbody>\n",
       "</table>\n",
       "</div>"
      ],
      "text/plain": [
       "             BAIRROS    PRECO    MES   ANO\n",
       "0          ACLIMAÇÃO   9507.3  MARCO  2018\n",
       "1  ALTO DA BOA VISTA   8485.9  MARCO  2018\n",
       "2        BARRA FUNDA  9196.94  MARCO  2018\n",
       "3         BELA VISTA  8031.46  MARCO  2018\n",
       "4              BELÉM   6404.7  MARCO  2018"
      ]
     },
     "execution_count": 266,
     "metadata": {},
     "output_type": "execute_result"
    }
   ],
   "source": [
    "marco.head()"
   ]
  },
  {
   "cell_type": "markdown",
   "metadata": {},
   "source": [
    "### Abril"
   ]
  },
  {
   "cell_type": "code",
   "execution_count": 267,
   "metadata": {},
   "outputs": [
    {
     "name": "stderr",
     "output_type": "stream",
     "text": [
      "<ipython-input-267-7c668bfadccc>:3: SettingWithCopyWarning: \n",
      "A value is trying to be set on a copy of a slice from a DataFrame.\n",
      "Try using .loc[row_indexer,col_indexer] = value instead\n",
      "\n",
      "See the caveats in the documentation: https://pandas.pydata.org/pandas-docs/stable/user_guide/indexing.html#returning-a-view-versus-a-copy\n",
      "  df04_04_18['MES'] = 0\n",
      "<ipython-input-267-7c668bfadccc>:4: SettingWithCopyWarning: \n",
      "A value is trying to be set on a copy of a slice from a DataFrame.\n",
      "Try using .loc[row_indexer,col_indexer] = value instead\n",
      "\n",
      "See the caveats in the documentation: https://pandas.pydata.org/pandas-docs/stable/user_guide/indexing.html#returning-a-view-versus-a-copy\n",
      "  df04_04_18['ANO'] = 0\n",
      "<ipython-input-267-7c668bfadccc>:7: SettingWithCopyWarning: \n",
      "A value is trying to be set on a copy of a slice from a DataFrame.\n",
      "Try using .loc[row_indexer,col_indexer] = value instead\n",
      "\n",
      "See the caveats in the documentation: https://pandas.pydata.org/pandas-docs/stable/user_guide/indexing.html#returning-a-view-versus-a-copy\n",
      "  df04_04_18['MES'] = 'ABRIL'\n",
      "<ipython-input-267-7c668bfadccc>:8: SettingWithCopyWarning: \n",
      "A value is trying to be set on a copy of a slice from a DataFrame.\n",
      "Try using .loc[row_indexer,col_indexer] = value instead\n",
      "\n",
      "See the caveats in the documentation: https://pandas.pydata.org/pandas-docs/stable/user_guide/indexing.html#returning-a-view-versus-a-copy\n",
      "  df04_04_18['ANO'] = 2018\n"
     ]
    }
   ],
   "source": [
    "df04_04_18 = df04[['BAIRROS', 'ABR_18_04']]\n",
    "\n",
    "df04_04_18['MES'] = 0\n",
    "df04_04_18['ANO'] = 0\n",
    "\n",
    "for index, row in df04_04_18.iterrows():\n",
    "    df04_04_18['MES'] = 'ABRIL'\n",
    "    df04_04_18['ANO'] = 2018"
   ]
  },
  {
   "cell_type": "code",
   "execution_count": 268,
   "metadata": {},
   "outputs": [
    {
     "name": "stderr",
     "output_type": "stream",
     "text": [
      "<ipython-input-268-9191e6360673>:3: SettingWithCopyWarning: \n",
      "A value is trying to be set on a copy of a slice from a DataFrame.\n",
      "Try using .loc[row_indexer,col_indexer] = value instead\n",
      "\n",
      "See the caveats in the documentation: https://pandas.pydata.org/pandas-docs/stable/user_guide/indexing.html#returning-a-view-versus-a-copy\n",
      "  df04_04_19['MES'] = 0\n",
      "<ipython-input-268-9191e6360673>:4: SettingWithCopyWarning: \n",
      "A value is trying to be set on a copy of a slice from a DataFrame.\n",
      "Try using .loc[row_indexer,col_indexer] = value instead\n",
      "\n",
      "See the caveats in the documentation: https://pandas.pydata.org/pandas-docs/stable/user_guide/indexing.html#returning-a-view-versus-a-copy\n",
      "  df04_04_19['ANO'] = 0\n",
      "<ipython-input-268-9191e6360673>:7: SettingWithCopyWarning: \n",
      "A value is trying to be set on a copy of a slice from a DataFrame.\n",
      "Try using .loc[row_indexer,col_indexer] = value instead\n",
      "\n",
      "See the caveats in the documentation: https://pandas.pydata.org/pandas-docs/stable/user_guide/indexing.html#returning-a-view-versus-a-copy\n",
      "  df04_04_19['MES'] = 'ABRIL'\n",
      "<ipython-input-268-9191e6360673>:8: SettingWithCopyWarning: \n",
      "A value is trying to be set on a copy of a slice from a DataFrame.\n",
      "Try using .loc[row_indexer,col_indexer] = value instead\n",
      "\n",
      "See the caveats in the documentation: https://pandas.pydata.org/pandas-docs/stable/user_guide/indexing.html#returning-a-view-versus-a-copy\n",
      "  df04_04_19['ANO'] = 2019\n"
     ]
    }
   ],
   "source": [
    "df04_04_19 = df04[['BAIRROS', 'ABR_19_04']]\n",
    "\n",
    "df04_04_19['MES'] = 0\n",
    "df04_04_19['ANO'] = 0\n",
    "\n",
    "for index, row in df04_04_19.iterrows():\n",
    "    df04_04_19['MES'] = 'ABRIL'\n",
    "    df04_04_19['ANO'] = 2019"
   ]
  },
  {
   "cell_type": "code",
   "execution_count": 269,
   "metadata": {},
   "outputs": [
    {
     "name": "stderr",
     "output_type": "stream",
     "text": [
      "C:\\Users\\carol\\Anaconda3.1\\lib\\site-packages\\pandas\\core\\frame.py:4296: SettingWithCopyWarning: \n",
      "A value is trying to be set on a copy of a slice from a DataFrame\n",
      "\n",
      "See the caveats in the documentation: https://pandas.pydata.org/pandas-docs/stable/user_guide/indexing.html#returning-a-view-versus-a-copy\n",
      "  return super().rename(\n"
     ]
    }
   ],
   "source": [
    "df04_04_18.rename(columns={'ABR_18_04':'PRECO'}, inplace=True)\n",
    "\n",
    "df04_04_19.rename(columns={'ABR_19_04':'PRECO'}, inplace=True)"
   ]
  },
  {
   "cell_type": "code",
   "execution_count": 270,
   "metadata": {},
   "outputs": [],
   "source": [
    "abril = df04_04_18.append(df04_04_19)"
   ]
  },
  {
   "cell_type": "code",
   "execution_count": 271,
   "metadata": {},
   "outputs": [
    {
     "data": {
      "text/html": [
       "<div>\n",
       "<style scoped>\n",
       "    .dataframe tbody tr th:only-of-type {\n",
       "        vertical-align: middle;\n",
       "    }\n",
       "\n",
       "    .dataframe tbody tr th {\n",
       "        vertical-align: top;\n",
       "    }\n",
       "\n",
       "    .dataframe thead th {\n",
       "        text-align: right;\n",
       "    }\n",
       "</style>\n",
       "<table border=\"1\" class=\"dataframe\">\n",
       "  <thead>\n",
       "    <tr style=\"text-align: right;\">\n",
       "      <th></th>\n",
       "      <th>BAIRROS</th>\n",
       "      <th>PRECO</th>\n",
       "      <th>MES</th>\n",
       "      <th>ANO</th>\n",
       "    </tr>\n",
       "  </thead>\n",
       "  <tbody>\n",
       "    <tr>\n",
       "      <th>0</th>\n",
       "      <td>ACLIMAÇÃO</td>\n",
       "      <td>9532.28</td>\n",
       "      <td>ABRIL</td>\n",
       "      <td>2018</td>\n",
       "    </tr>\n",
       "    <tr>\n",
       "      <th>1</th>\n",
       "      <td>ALTO DA BOA VISTA</td>\n",
       "      <td>8527.42</td>\n",
       "      <td>ABRIL</td>\n",
       "      <td>2018</td>\n",
       "    </tr>\n",
       "    <tr>\n",
       "      <th>2</th>\n",
       "      <td>BARRA FUNDA</td>\n",
       "      <td>9090.08</td>\n",
       "      <td>ABRIL</td>\n",
       "      <td>2018</td>\n",
       "    </tr>\n",
       "    <tr>\n",
       "      <th>3</th>\n",
       "      <td>BELA VISTA</td>\n",
       "      <td>8052.85</td>\n",
       "      <td>ABRIL</td>\n",
       "      <td>2018</td>\n",
       "    </tr>\n",
       "    <tr>\n",
       "      <th>4</th>\n",
       "      <td>BELÉM</td>\n",
       "      <td>6423.74</td>\n",
       "      <td>ABRIL</td>\n",
       "      <td>2018</td>\n",
       "    </tr>\n",
       "  </tbody>\n",
       "</table>\n",
       "</div>"
      ],
      "text/plain": [
       "             BAIRROS    PRECO    MES   ANO\n",
       "0          ACLIMAÇÃO  9532.28  ABRIL  2018\n",
       "1  ALTO DA BOA VISTA  8527.42  ABRIL  2018\n",
       "2        BARRA FUNDA  9090.08  ABRIL  2018\n",
       "3         BELA VISTA  8052.85  ABRIL  2018\n",
       "4              BELÉM  6423.74  ABRIL  2018"
      ]
     },
     "execution_count": 271,
     "metadata": {},
     "output_type": "execute_result"
    }
   ],
   "source": [
    "abril.head()"
   ]
  },
  {
   "cell_type": "markdown",
   "metadata": {},
   "source": [
    "### Maio"
   ]
  },
  {
   "cell_type": "code",
   "execution_count": 272,
   "metadata": {},
   "outputs": [
    {
     "name": "stderr",
     "output_type": "stream",
     "text": [
      "<ipython-input-272-4a98d6c39d10>:3: SettingWithCopyWarning: \n",
      "A value is trying to be set on a copy of a slice from a DataFrame.\n",
      "Try using .loc[row_indexer,col_indexer] = value instead\n",
      "\n",
      "See the caveats in the documentation: https://pandas.pydata.org/pandas-docs/stable/user_guide/indexing.html#returning-a-view-versus-a-copy\n",
      "  df05_04_18['MES'] = 0\n",
      "<ipython-input-272-4a98d6c39d10>:4: SettingWithCopyWarning: \n",
      "A value is trying to be set on a copy of a slice from a DataFrame.\n",
      "Try using .loc[row_indexer,col_indexer] = value instead\n",
      "\n",
      "See the caveats in the documentation: https://pandas.pydata.org/pandas-docs/stable/user_guide/indexing.html#returning-a-view-versus-a-copy\n",
      "  df05_04_18['ANO'] = 0\n",
      "<ipython-input-272-4a98d6c39d10>:7: SettingWithCopyWarning: \n",
      "A value is trying to be set on a copy of a slice from a DataFrame.\n",
      "Try using .loc[row_indexer,col_indexer] = value instead\n",
      "\n",
      "See the caveats in the documentation: https://pandas.pydata.org/pandas-docs/stable/user_guide/indexing.html#returning-a-view-versus-a-copy\n",
      "  df05_04_18['MES'] = 'MAIO'\n",
      "<ipython-input-272-4a98d6c39d10>:8: SettingWithCopyWarning: \n",
      "A value is trying to be set on a copy of a slice from a DataFrame.\n",
      "Try using .loc[row_indexer,col_indexer] = value instead\n",
      "\n",
      "See the caveats in the documentation: https://pandas.pydata.org/pandas-docs/stable/user_guide/indexing.html#returning-a-view-versus-a-copy\n",
      "  df05_04_18['ANO'] = 2018\n"
     ]
    }
   ],
   "source": [
    "df05_04_18 = df05[['BAIRROS', 'MAI_18_04']]\n",
    "\n",
    "df05_04_18['MES'] = 0\n",
    "df05_04_18['ANO'] = 0\n",
    "\n",
    "for index, row in df05_04_18.iterrows():\n",
    "    df05_04_18['MES'] = 'MAIO'\n",
    "    df05_04_18['ANO'] = 2018"
   ]
  },
  {
   "cell_type": "code",
   "execution_count": 273,
   "metadata": {},
   "outputs": [
    {
     "name": "stderr",
     "output_type": "stream",
     "text": [
      "<ipython-input-273-7e336ad76a8e>:3: SettingWithCopyWarning: \n",
      "A value is trying to be set on a copy of a slice from a DataFrame.\n",
      "Try using .loc[row_indexer,col_indexer] = value instead\n",
      "\n",
      "See the caveats in the documentation: https://pandas.pydata.org/pandas-docs/stable/user_guide/indexing.html#returning-a-view-versus-a-copy\n",
      "  df05_04_19['MES'] = 0\n",
      "<ipython-input-273-7e336ad76a8e>:4: SettingWithCopyWarning: \n",
      "A value is trying to be set on a copy of a slice from a DataFrame.\n",
      "Try using .loc[row_indexer,col_indexer] = value instead\n",
      "\n",
      "See the caveats in the documentation: https://pandas.pydata.org/pandas-docs/stable/user_guide/indexing.html#returning-a-view-versus-a-copy\n",
      "  df05_04_19['ANO'] = 0\n",
      "<ipython-input-273-7e336ad76a8e>:7: SettingWithCopyWarning: \n",
      "A value is trying to be set on a copy of a slice from a DataFrame.\n",
      "Try using .loc[row_indexer,col_indexer] = value instead\n",
      "\n",
      "See the caveats in the documentation: https://pandas.pydata.org/pandas-docs/stable/user_guide/indexing.html#returning-a-view-versus-a-copy\n",
      "  df05_04_19['MES'] = 'MAIO'\n",
      "<ipython-input-273-7e336ad76a8e>:8: SettingWithCopyWarning: \n",
      "A value is trying to be set on a copy of a slice from a DataFrame.\n",
      "Try using .loc[row_indexer,col_indexer] = value instead\n",
      "\n",
      "See the caveats in the documentation: https://pandas.pydata.org/pandas-docs/stable/user_guide/indexing.html#returning-a-view-versus-a-copy\n",
      "  df05_04_19['ANO'] = 2019\n"
     ]
    }
   ],
   "source": [
    "df05_04_19 = df05[['BAIRROS', 'MAI_19_04']]\n",
    "\n",
    "df05_04_19['MES'] = 0\n",
    "df05_04_19['ANO'] = 0\n",
    "\n",
    "for index, row in df05_04_19.iterrows():\n",
    "    df05_04_19['MES'] = 'MAIO'\n",
    "    df05_04_19['ANO'] = 2019"
   ]
  },
  {
   "cell_type": "code",
   "execution_count": 274,
   "metadata": {},
   "outputs": [
    {
     "name": "stderr",
     "output_type": "stream",
     "text": [
      "C:\\Users\\carol\\Anaconda3.1\\lib\\site-packages\\pandas\\core\\frame.py:4296: SettingWithCopyWarning: \n",
      "A value is trying to be set on a copy of a slice from a DataFrame\n",
      "\n",
      "See the caveats in the documentation: https://pandas.pydata.org/pandas-docs/stable/user_guide/indexing.html#returning-a-view-versus-a-copy\n",
      "  return super().rename(\n"
     ]
    }
   ],
   "source": [
    "df05_04_18.rename(columns={'MAI_18_04':'PRECO'}, inplace=True)\n",
    "\n",
    "df05_04_19.rename(columns={'MAI_19_04':'PRECO'}, inplace=True)"
   ]
  },
  {
   "cell_type": "code",
   "execution_count": 275,
   "metadata": {},
   "outputs": [],
   "source": [
    "maio = df05_04_18.append(df05_04_19)"
   ]
  },
  {
   "cell_type": "code",
   "execution_count": 276,
   "metadata": {},
   "outputs": [
    {
     "data": {
      "text/html": [
       "<div>\n",
       "<style scoped>\n",
       "    .dataframe tbody tr th:only-of-type {\n",
       "        vertical-align: middle;\n",
       "    }\n",
       "\n",
       "    .dataframe tbody tr th {\n",
       "        vertical-align: top;\n",
       "    }\n",
       "\n",
       "    .dataframe thead th {\n",
       "        text-align: right;\n",
       "    }\n",
       "</style>\n",
       "<table border=\"1\" class=\"dataframe\">\n",
       "  <thead>\n",
       "    <tr style=\"text-align: right;\">\n",
       "      <th></th>\n",
       "      <th>BAIRROS</th>\n",
       "      <th>PRECO</th>\n",
       "      <th>MES</th>\n",
       "      <th>ANO</th>\n",
       "    </tr>\n",
       "  </thead>\n",
       "  <tbody>\n",
       "    <tr>\n",
       "      <th>0</th>\n",
       "      <td>ACLIMAÇÃO</td>\n",
       "      <td>9539.42</td>\n",
       "      <td>MAIO</td>\n",
       "      <td>2018</td>\n",
       "    </tr>\n",
       "    <tr>\n",
       "      <th>1</th>\n",
       "      <td>ALTO DA BOA VISTA</td>\n",
       "      <td>8508.16</td>\n",
       "      <td>MAIO</td>\n",
       "      <td>2018</td>\n",
       "    </tr>\n",
       "    <tr>\n",
       "      <th>2</th>\n",
       "      <td>BARRA FUNDA</td>\n",
       "      <td>9074.59</td>\n",
       "      <td>MAIO</td>\n",
       "      <td>2018</td>\n",
       "    </tr>\n",
       "    <tr>\n",
       "      <th>3</th>\n",
       "      <td>BELA VISTA</td>\n",
       "      <td>8061.35</td>\n",
       "      <td>MAIO</td>\n",
       "      <td>2018</td>\n",
       "    </tr>\n",
       "    <tr>\n",
       "      <th>4</th>\n",
       "      <td>BELÉM</td>\n",
       "      <td>6354.52</td>\n",
       "      <td>MAIO</td>\n",
       "      <td>2018</td>\n",
       "    </tr>\n",
       "  </tbody>\n",
       "</table>\n",
       "</div>"
      ],
      "text/plain": [
       "             BAIRROS    PRECO   MES   ANO\n",
       "0          ACLIMAÇÃO  9539.42  MAIO  2018\n",
       "1  ALTO DA BOA VISTA  8508.16  MAIO  2018\n",
       "2        BARRA FUNDA  9074.59  MAIO  2018\n",
       "3         BELA VISTA  8061.35  MAIO  2018\n",
       "4              BELÉM  6354.52  MAIO  2018"
      ]
     },
     "execution_count": 276,
     "metadata": {},
     "output_type": "execute_result"
    }
   ],
   "source": [
    "maio.head()"
   ]
  },
  {
   "cell_type": "markdown",
   "metadata": {},
   "source": [
    "### Junho"
   ]
  },
  {
   "cell_type": "code",
   "execution_count": 277,
   "metadata": {},
   "outputs": [
    {
     "name": "stderr",
     "output_type": "stream",
     "text": [
      "<ipython-input-277-4c415ae7db0a>:3: SettingWithCopyWarning: \n",
      "A value is trying to be set on a copy of a slice from a DataFrame.\n",
      "Try using .loc[row_indexer,col_indexer] = value instead\n",
      "\n",
      "See the caveats in the documentation: https://pandas.pydata.org/pandas-docs/stable/user_guide/indexing.html#returning-a-view-versus-a-copy\n",
      "  df06_04_18['MES'] = 0\n",
      "<ipython-input-277-4c415ae7db0a>:4: SettingWithCopyWarning: \n",
      "A value is trying to be set on a copy of a slice from a DataFrame.\n",
      "Try using .loc[row_indexer,col_indexer] = value instead\n",
      "\n",
      "See the caveats in the documentation: https://pandas.pydata.org/pandas-docs/stable/user_guide/indexing.html#returning-a-view-versus-a-copy\n",
      "  df06_04_18['ANO'] = 0\n",
      "<ipython-input-277-4c415ae7db0a>:7: SettingWithCopyWarning: \n",
      "A value is trying to be set on a copy of a slice from a DataFrame.\n",
      "Try using .loc[row_indexer,col_indexer] = value instead\n",
      "\n",
      "See the caveats in the documentation: https://pandas.pydata.org/pandas-docs/stable/user_guide/indexing.html#returning-a-view-versus-a-copy\n",
      "  df06_04_18['MES'] = 'JUNHO'\n",
      "<ipython-input-277-4c415ae7db0a>:8: SettingWithCopyWarning: \n",
      "A value is trying to be set on a copy of a slice from a DataFrame.\n",
      "Try using .loc[row_indexer,col_indexer] = value instead\n",
      "\n",
      "See the caveats in the documentation: https://pandas.pydata.org/pandas-docs/stable/user_guide/indexing.html#returning-a-view-versus-a-copy\n",
      "  df06_04_18['ANO'] = 2018\n"
     ]
    }
   ],
   "source": [
    "df06_04_18 = df06[['BAIRROS', 'JUN_18_04']]\n",
    "\n",
    "df06_04_18['MES'] = 0\n",
    "df06_04_18['ANO'] = 0\n",
    "\n",
    "for index, row in df06_04_18.iterrows():\n",
    "    df06_04_18['MES'] = 'JUNHO'\n",
    "    df06_04_18['ANO'] = 2018"
   ]
  },
  {
   "cell_type": "code",
   "execution_count": 278,
   "metadata": {},
   "outputs": [
    {
     "name": "stderr",
     "output_type": "stream",
     "text": [
      "<ipython-input-278-3a3fdd644b92>:3: SettingWithCopyWarning: \n",
      "A value is trying to be set on a copy of a slice from a DataFrame.\n",
      "Try using .loc[row_indexer,col_indexer] = value instead\n",
      "\n",
      "See the caveats in the documentation: https://pandas.pydata.org/pandas-docs/stable/user_guide/indexing.html#returning-a-view-versus-a-copy\n",
      "  df06_04_19['MES'] = 0\n",
      "<ipython-input-278-3a3fdd644b92>:4: SettingWithCopyWarning: \n",
      "A value is trying to be set on a copy of a slice from a DataFrame.\n",
      "Try using .loc[row_indexer,col_indexer] = value instead\n",
      "\n",
      "See the caveats in the documentation: https://pandas.pydata.org/pandas-docs/stable/user_guide/indexing.html#returning-a-view-versus-a-copy\n",
      "  df06_04_19['ANO'] = 0\n",
      "<ipython-input-278-3a3fdd644b92>:7: SettingWithCopyWarning: \n",
      "A value is trying to be set on a copy of a slice from a DataFrame.\n",
      "Try using .loc[row_indexer,col_indexer] = value instead\n",
      "\n",
      "See the caveats in the documentation: https://pandas.pydata.org/pandas-docs/stable/user_guide/indexing.html#returning-a-view-versus-a-copy\n",
      "  df06_04_19['MES'] = 'JUNHO'\n",
      "<ipython-input-278-3a3fdd644b92>:8: SettingWithCopyWarning: \n",
      "A value is trying to be set on a copy of a slice from a DataFrame.\n",
      "Try using .loc[row_indexer,col_indexer] = value instead\n",
      "\n",
      "See the caveats in the documentation: https://pandas.pydata.org/pandas-docs/stable/user_guide/indexing.html#returning-a-view-versus-a-copy\n",
      "  df06_04_19['ANO'] = 2019\n"
     ]
    }
   ],
   "source": [
    "df06_04_19 = df06[['BAIRROS', 'JUN_19_04']]\n",
    "\n",
    "df06_04_19['MES'] = 0\n",
    "df06_04_19['ANO'] = 0\n",
    "\n",
    "for index, row in df06_04_19.iterrows():\n",
    "    df06_04_19['MES'] = 'JUNHO'\n",
    "    df06_04_19['ANO'] = 2019"
   ]
  },
  {
   "cell_type": "code",
   "execution_count": 279,
   "metadata": {},
   "outputs": [
    {
     "name": "stderr",
     "output_type": "stream",
     "text": [
      "C:\\Users\\carol\\Anaconda3.1\\lib\\site-packages\\pandas\\core\\frame.py:4296: SettingWithCopyWarning: \n",
      "A value is trying to be set on a copy of a slice from a DataFrame\n",
      "\n",
      "See the caveats in the documentation: https://pandas.pydata.org/pandas-docs/stable/user_guide/indexing.html#returning-a-view-versus-a-copy\n",
      "  return super().rename(\n"
     ]
    }
   ],
   "source": [
    "df06_04_18.rename(columns={'JUN_18_04':'PRECO'}, inplace=True)\n",
    "\n",
    "df06_04_19.rename(columns={'JUN_19_04':'PRECO'}, inplace=True)"
   ]
  },
  {
   "cell_type": "code",
   "execution_count": 280,
   "metadata": {},
   "outputs": [],
   "source": [
    "junho = df06_04_18.append(df06_04_19)"
   ]
  },
  {
   "cell_type": "code",
   "execution_count": 281,
   "metadata": {},
   "outputs": [
    {
     "data": {
      "text/html": [
       "<div>\n",
       "<style scoped>\n",
       "    .dataframe tbody tr th:only-of-type {\n",
       "        vertical-align: middle;\n",
       "    }\n",
       "\n",
       "    .dataframe tbody tr th {\n",
       "        vertical-align: top;\n",
       "    }\n",
       "\n",
       "    .dataframe thead th {\n",
       "        text-align: right;\n",
       "    }\n",
       "</style>\n",
       "<table border=\"1\" class=\"dataframe\">\n",
       "  <thead>\n",
       "    <tr style=\"text-align: right;\">\n",
       "      <th></th>\n",
       "      <th>BAIRROS</th>\n",
       "      <th>PRECO</th>\n",
       "      <th>MES</th>\n",
       "      <th>ANO</th>\n",
       "    </tr>\n",
       "  </thead>\n",
       "  <tbody>\n",
       "    <tr>\n",
       "      <th>0</th>\n",
       "      <td>ACLIMAÇÃO</td>\n",
       "      <td>9521.01</td>\n",
       "      <td>JUNHO</td>\n",
       "      <td>2018</td>\n",
       "    </tr>\n",
       "    <tr>\n",
       "      <th>1</th>\n",
       "      <td>ALTO DA BOA VISTA</td>\n",
       "      <td>8494.59</td>\n",
       "      <td>JUNHO</td>\n",
       "      <td>2018</td>\n",
       "    </tr>\n",
       "    <tr>\n",
       "      <th>2</th>\n",
       "      <td>BARRA FUNDA</td>\n",
       "      <td>9031.45</td>\n",
       "      <td>JUNHO</td>\n",
       "      <td>2018</td>\n",
       "    </tr>\n",
       "    <tr>\n",
       "      <th>3</th>\n",
       "      <td>BELA VISTA</td>\n",
       "      <td>8123.51</td>\n",
       "      <td>JUNHO</td>\n",
       "      <td>2018</td>\n",
       "    </tr>\n",
       "    <tr>\n",
       "      <th>4</th>\n",
       "      <td>BELÉM</td>\n",
       "      <td>6203.4</td>\n",
       "      <td>JUNHO</td>\n",
       "      <td>2018</td>\n",
       "    </tr>\n",
       "  </tbody>\n",
       "</table>\n",
       "</div>"
      ],
      "text/plain": [
       "             BAIRROS    PRECO    MES   ANO\n",
       "0          ACLIMAÇÃO  9521.01  JUNHO  2018\n",
       "1  ALTO DA BOA VISTA  8494.59  JUNHO  2018\n",
       "2        BARRA FUNDA  9031.45  JUNHO  2018\n",
       "3         BELA VISTA  8123.51  JUNHO  2018\n",
       "4              BELÉM   6203.4  JUNHO  2018"
      ]
     },
     "execution_count": 281,
     "metadata": {},
     "output_type": "execute_result"
    }
   ],
   "source": [
    "junho.head()"
   ]
  },
  {
   "cell_type": "markdown",
   "metadata": {},
   "source": [
    "### Julho"
   ]
  },
  {
   "cell_type": "code",
   "execution_count": 282,
   "metadata": {},
   "outputs": [
    {
     "name": "stderr",
     "output_type": "stream",
     "text": [
      "<ipython-input-282-d8b154b5e553>:3: SettingWithCopyWarning: \n",
      "A value is trying to be set on a copy of a slice from a DataFrame.\n",
      "Try using .loc[row_indexer,col_indexer] = value instead\n",
      "\n",
      "See the caveats in the documentation: https://pandas.pydata.org/pandas-docs/stable/user_guide/indexing.html#returning-a-view-versus-a-copy\n",
      "  df07_04_18['MES'] = 0\n",
      "<ipython-input-282-d8b154b5e553>:4: SettingWithCopyWarning: \n",
      "A value is trying to be set on a copy of a slice from a DataFrame.\n",
      "Try using .loc[row_indexer,col_indexer] = value instead\n",
      "\n",
      "See the caveats in the documentation: https://pandas.pydata.org/pandas-docs/stable/user_guide/indexing.html#returning-a-view-versus-a-copy\n",
      "  df07_04_18['ANO'] = 0\n",
      "<ipython-input-282-d8b154b5e553>:7: SettingWithCopyWarning: \n",
      "A value is trying to be set on a copy of a slice from a DataFrame.\n",
      "Try using .loc[row_indexer,col_indexer] = value instead\n",
      "\n",
      "See the caveats in the documentation: https://pandas.pydata.org/pandas-docs/stable/user_guide/indexing.html#returning-a-view-versus-a-copy\n",
      "  df07_04_18['MES'] = 'JULHO'\n",
      "<ipython-input-282-d8b154b5e553>:8: SettingWithCopyWarning: \n",
      "A value is trying to be set on a copy of a slice from a DataFrame.\n",
      "Try using .loc[row_indexer,col_indexer] = value instead\n",
      "\n",
      "See the caveats in the documentation: https://pandas.pydata.org/pandas-docs/stable/user_guide/indexing.html#returning-a-view-versus-a-copy\n",
      "  df07_04_18['ANO'] = 2018\n"
     ]
    }
   ],
   "source": [
    "df07_04_18 = df07[['BAIRROS', 'JUL_18_04']]\n",
    "\n",
    "df07_04_18['MES'] = 0\n",
    "df07_04_18['ANO'] = 0\n",
    "\n",
    "for index, row in df07_04_18.iterrows():\n",
    "    df07_04_18['MES'] = 'JULHO'\n",
    "    df07_04_18['ANO'] = 2018"
   ]
  },
  {
   "cell_type": "code",
   "execution_count": 283,
   "metadata": {},
   "outputs": [
    {
     "name": "stderr",
     "output_type": "stream",
     "text": [
      "<ipython-input-283-13ccf3e624a9>:3: SettingWithCopyWarning: \n",
      "A value is trying to be set on a copy of a slice from a DataFrame.\n",
      "Try using .loc[row_indexer,col_indexer] = value instead\n",
      "\n",
      "See the caveats in the documentation: https://pandas.pydata.org/pandas-docs/stable/user_guide/indexing.html#returning-a-view-versus-a-copy\n",
      "  df07_04_19['MES'] = 0\n",
      "<ipython-input-283-13ccf3e624a9>:4: SettingWithCopyWarning: \n",
      "A value is trying to be set on a copy of a slice from a DataFrame.\n",
      "Try using .loc[row_indexer,col_indexer] = value instead\n",
      "\n",
      "See the caveats in the documentation: https://pandas.pydata.org/pandas-docs/stable/user_guide/indexing.html#returning-a-view-versus-a-copy\n",
      "  df07_04_19['ANO'] = 0\n",
      "<ipython-input-283-13ccf3e624a9>:7: SettingWithCopyWarning: \n",
      "A value is trying to be set on a copy of a slice from a DataFrame.\n",
      "Try using .loc[row_indexer,col_indexer] = value instead\n",
      "\n",
      "See the caveats in the documentation: https://pandas.pydata.org/pandas-docs/stable/user_guide/indexing.html#returning-a-view-versus-a-copy\n",
      "  df07_04_19['MES'] = 'JULHO'\n",
      "<ipython-input-283-13ccf3e624a9>:8: SettingWithCopyWarning: \n",
      "A value is trying to be set on a copy of a slice from a DataFrame.\n",
      "Try using .loc[row_indexer,col_indexer] = value instead\n",
      "\n",
      "See the caveats in the documentation: https://pandas.pydata.org/pandas-docs/stable/user_guide/indexing.html#returning-a-view-versus-a-copy\n",
      "  df07_04_19['ANO'] = 2019\n"
     ]
    }
   ],
   "source": [
    "df07_04_19 = df07[['BAIRROS', 'JUL_19_04']]\n",
    "\n",
    "df07_04_19['MES'] = 0\n",
    "df07_04_19['ANO'] = 0\n",
    "\n",
    "for index, row in df07_04_19.iterrows():\n",
    "    df07_04_19['MES'] = 'JULHO'\n",
    "    df07_04_19['ANO'] = 2019"
   ]
  },
  {
   "cell_type": "code",
   "execution_count": 284,
   "metadata": {},
   "outputs": [
    {
     "name": "stderr",
     "output_type": "stream",
     "text": [
      "C:\\Users\\carol\\Anaconda3.1\\lib\\site-packages\\pandas\\core\\frame.py:4296: SettingWithCopyWarning: \n",
      "A value is trying to be set on a copy of a slice from a DataFrame\n",
      "\n",
      "See the caveats in the documentation: https://pandas.pydata.org/pandas-docs/stable/user_guide/indexing.html#returning-a-view-versus-a-copy\n",
      "  return super().rename(\n"
     ]
    }
   ],
   "source": [
    "df07_04_18.rename(columns={'JUL_18_04':'PRECO'}, inplace=True)\n",
    "\n",
    "df07_04_19.rename(columns={'JUL_19_04':'PRECO'}, inplace=True)"
   ]
  },
  {
   "cell_type": "code",
   "execution_count": 285,
   "metadata": {},
   "outputs": [],
   "source": [
    "julho = df07_04_18.append(df07_04_19)"
   ]
  },
  {
   "cell_type": "code",
   "execution_count": 286,
   "metadata": {},
   "outputs": [
    {
     "data": {
      "text/html": [
       "<div>\n",
       "<style scoped>\n",
       "    .dataframe tbody tr th:only-of-type {\n",
       "        vertical-align: middle;\n",
       "    }\n",
       "\n",
       "    .dataframe tbody tr th {\n",
       "        vertical-align: top;\n",
       "    }\n",
       "\n",
       "    .dataframe thead th {\n",
       "        text-align: right;\n",
       "    }\n",
       "</style>\n",
       "<table border=\"1\" class=\"dataframe\">\n",
       "  <thead>\n",
       "    <tr style=\"text-align: right;\">\n",
       "      <th></th>\n",
       "      <th>BAIRROS</th>\n",
       "      <th>PRECO</th>\n",
       "      <th>MES</th>\n",
       "      <th>ANO</th>\n",
       "    </tr>\n",
       "  </thead>\n",
       "  <tbody>\n",
       "    <tr>\n",
       "      <th>0</th>\n",
       "      <td>ACLIMAÇÃO</td>\n",
       "      <td>9454.61</td>\n",
       "      <td>JULHO</td>\n",
       "      <td>2018</td>\n",
       "    </tr>\n",
       "    <tr>\n",
       "      <th>1</th>\n",
       "      <td>ALTO DA BOA VISTA</td>\n",
       "      <td>8380.21</td>\n",
       "      <td>JULHO</td>\n",
       "      <td>2018</td>\n",
       "    </tr>\n",
       "    <tr>\n",
       "      <th>2</th>\n",
       "      <td>BARRA FUNDA</td>\n",
       "      <td>9104.85</td>\n",
       "      <td>JULHO</td>\n",
       "      <td>2018</td>\n",
       "    </tr>\n",
       "    <tr>\n",
       "      <th>3</th>\n",
       "      <td>BELA VISTA</td>\n",
       "      <td>8078.39</td>\n",
       "      <td>JULHO</td>\n",
       "      <td>2018</td>\n",
       "    </tr>\n",
       "    <tr>\n",
       "      <th>4</th>\n",
       "      <td>BELÉM</td>\n",
       "      <td>6247.41</td>\n",
       "      <td>JULHO</td>\n",
       "      <td>2018</td>\n",
       "    </tr>\n",
       "  </tbody>\n",
       "</table>\n",
       "</div>"
      ],
      "text/plain": [
       "             BAIRROS    PRECO    MES   ANO\n",
       "0          ACLIMAÇÃO  9454.61  JULHO  2018\n",
       "1  ALTO DA BOA VISTA  8380.21  JULHO  2018\n",
       "2        BARRA FUNDA  9104.85  JULHO  2018\n",
       "3         BELA VISTA  8078.39  JULHO  2018\n",
       "4              BELÉM  6247.41  JULHO  2018"
      ]
     },
     "execution_count": 286,
     "metadata": {},
     "output_type": "execute_result"
    }
   ],
   "source": [
    "julho.head()"
   ]
  },
  {
   "cell_type": "markdown",
   "metadata": {},
   "source": [
    "### Agosto"
   ]
  },
  {
   "cell_type": "code",
   "execution_count": 287,
   "metadata": {},
   "outputs": [
    {
     "name": "stderr",
     "output_type": "stream",
     "text": [
      "<ipython-input-287-bf0d44ca0bd9>:3: SettingWithCopyWarning: \n",
      "A value is trying to be set on a copy of a slice from a DataFrame.\n",
      "Try using .loc[row_indexer,col_indexer] = value instead\n",
      "\n",
      "See the caveats in the documentation: https://pandas.pydata.org/pandas-docs/stable/user_guide/indexing.html#returning-a-view-versus-a-copy\n",
      "  df08_04_18['MES'] = 0\n",
      "<ipython-input-287-bf0d44ca0bd9>:4: SettingWithCopyWarning: \n",
      "A value is trying to be set on a copy of a slice from a DataFrame.\n",
      "Try using .loc[row_indexer,col_indexer] = value instead\n",
      "\n",
      "See the caveats in the documentation: https://pandas.pydata.org/pandas-docs/stable/user_guide/indexing.html#returning-a-view-versus-a-copy\n",
      "  df08_04_18['ANO'] = 0\n",
      "<ipython-input-287-bf0d44ca0bd9>:7: SettingWithCopyWarning: \n",
      "A value is trying to be set on a copy of a slice from a DataFrame.\n",
      "Try using .loc[row_indexer,col_indexer] = value instead\n",
      "\n",
      "See the caveats in the documentation: https://pandas.pydata.org/pandas-docs/stable/user_guide/indexing.html#returning-a-view-versus-a-copy\n",
      "  df08_04_18['MES'] = 'AGOSTO'\n",
      "<ipython-input-287-bf0d44ca0bd9>:8: SettingWithCopyWarning: \n",
      "A value is trying to be set on a copy of a slice from a DataFrame.\n",
      "Try using .loc[row_indexer,col_indexer] = value instead\n",
      "\n",
      "See the caveats in the documentation: https://pandas.pydata.org/pandas-docs/stable/user_guide/indexing.html#returning-a-view-versus-a-copy\n",
      "  df08_04_18['ANO'] = 2018\n"
     ]
    }
   ],
   "source": [
    "df08_04_18 = df08[['BAIRROS', 'AGO_18_04']]\n",
    "\n",
    "df08_04_18['MES'] = 0\n",
    "df08_04_18['ANO'] = 0\n",
    "\n",
    "for index, row in df08_04_18.iterrows():\n",
    "    df08_04_18['MES'] = 'AGOSTO'\n",
    "    df08_04_18['ANO'] = 2018"
   ]
  },
  {
   "cell_type": "code",
   "execution_count": 288,
   "metadata": {},
   "outputs": [
    {
     "name": "stderr",
     "output_type": "stream",
     "text": [
      "<ipython-input-288-4cccbbd93626>:3: SettingWithCopyWarning: \n",
      "A value is trying to be set on a copy of a slice from a DataFrame.\n",
      "Try using .loc[row_indexer,col_indexer] = value instead\n",
      "\n",
      "See the caveats in the documentation: https://pandas.pydata.org/pandas-docs/stable/user_guide/indexing.html#returning-a-view-versus-a-copy\n",
      "  df08_04_19['MES'] = 0\n",
      "<ipython-input-288-4cccbbd93626>:4: SettingWithCopyWarning: \n",
      "A value is trying to be set on a copy of a slice from a DataFrame.\n",
      "Try using .loc[row_indexer,col_indexer] = value instead\n",
      "\n",
      "See the caveats in the documentation: https://pandas.pydata.org/pandas-docs/stable/user_guide/indexing.html#returning-a-view-versus-a-copy\n",
      "  df08_04_19['ANO'] = 0\n",
      "<ipython-input-288-4cccbbd93626>:7: SettingWithCopyWarning: \n",
      "A value is trying to be set on a copy of a slice from a DataFrame.\n",
      "Try using .loc[row_indexer,col_indexer] = value instead\n",
      "\n",
      "See the caveats in the documentation: https://pandas.pydata.org/pandas-docs/stable/user_guide/indexing.html#returning-a-view-versus-a-copy\n",
      "  df08_04_19['MES'] = 'AGOSTO'\n",
      "<ipython-input-288-4cccbbd93626>:8: SettingWithCopyWarning: \n",
      "A value is trying to be set on a copy of a slice from a DataFrame.\n",
      "Try using .loc[row_indexer,col_indexer] = value instead\n",
      "\n",
      "See the caveats in the documentation: https://pandas.pydata.org/pandas-docs/stable/user_guide/indexing.html#returning-a-view-versus-a-copy\n",
      "  df08_04_19['ANO'] = 2019\n"
     ]
    }
   ],
   "source": [
    "df08_04_19 = df08[['BAIRROS', 'AGO_19_04']]\n",
    "\n",
    "df08_04_19['MES'] = 0\n",
    "df08_04_19['ANO'] = 0\n",
    "\n",
    "for index, row in df08_04_19.iterrows():\n",
    "    df08_04_19['MES'] = 'AGOSTO'\n",
    "    df08_04_19['ANO'] = 2019"
   ]
  },
  {
   "cell_type": "code",
   "execution_count": 289,
   "metadata": {},
   "outputs": [
    {
     "name": "stderr",
     "output_type": "stream",
     "text": [
      "C:\\Users\\carol\\Anaconda3.1\\lib\\site-packages\\pandas\\core\\frame.py:4296: SettingWithCopyWarning: \n",
      "A value is trying to be set on a copy of a slice from a DataFrame\n",
      "\n",
      "See the caveats in the documentation: https://pandas.pydata.org/pandas-docs/stable/user_guide/indexing.html#returning-a-view-versus-a-copy\n",
      "  return super().rename(\n"
     ]
    }
   ],
   "source": [
    "df08_04_18.rename(columns={'AGO_18_04':'PRECO'}, inplace=True)\n",
    "\n",
    "df08_04_19.rename(columns={'AGO_19_04':'PRECO'}, inplace=True)"
   ]
  },
  {
   "cell_type": "code",
   "execution_count": 290,
   "metadata": {},
   "outputs": [],
   "source": [
    "agosto = df08_04_18.append(df08_04_19)"
   ]
  },
  {
   "cell_type": "code",
   "execution_count": 291,
   "metadata": {},
   "outputs": [
    {
     "data": {
      "text/html": [
       "<div>\n",
       "<style scoped>\n",
       "    .dataframe tbody tr th:only-of-type {\n",
       "        vertical-align: middle;\n",
       "    }\n",
       "\n",
       "    .dataframe tbody tr th {\n",
       "        vertical-align: top;\n",
       "    }\n",
       "\n",
       "    .dataframe thead th {\n",
       "        text-align: right;\n",
       "    }\n",
       "</style>\n",
       "<table border=\"1\" class=\"dataframe\">\n",
       "  <thead>\n",
       "    <tr style=\"text-align: right;\">\n",
       "      <th></th>\n",
       "      <th>BAIRROS</th>\n",
       "      <th>PRECO</th>\n",
       "      <th>MES</th>\n",
       "      <th>ANO</th>\n",
       "    </tr>\n",
       "  </thead>\n",
       "  <tbody>\n",
       "    <tr>\n",
       "      <th>0</th>\n",
       "      <td>ACLIMAÇÃO</td>\n",
       "      <td>9385.91</td>\n",
       "      <td>AGOSTO</td>\n",
       "      <td>2018</td>\n",
       "    </tr>\n",
       "    <tr>\n",
       "      <th>1</th>\n",
       "      <td>ALTO DA BOA VISTA</td>\n",
       "      <td>8312.2</td>\n",
       "      <td>AGOSTO</td>\n",
       "      <td>2018</td>\n",
       "    </tr>\n",
       "    <tr>\n",
       "      <th>2</th>\n",
       "      <td>BARRA FUNDA</td>\n",
       "      <td>9103.7</td>\n",
       "      <td>AGOSTO</td>\n",
       "      <td>2018</td>\n",
       "    </tr>\n",
       "    <tr>\n",
       "      <th>3</th>\n",
       "      <td>BELA VISTA</td>\n",
       "      <td>8024.37</td>\n",
       "      <td>AGOSTO</td>\n",
       "      <td>2018</td>\n",
       "    </tr>\n",
       "    <tr>\n",
       "      <th>4</th>\n",
       "      <td>BELÉM</td>\n",
       "      <td>6341.56</td>\n",
       "      <td>AGOSTO</td>\n",
       "      <td>2018</td>\n",
       "    </tr>\n",
       "  </tbody>\n",
       "</table>\n",
       "</div>"
      ],
      "text/plain": [
       "             BAIRROS    PRECO     MES   ANO\n",
       "0          ACLIMAÇÃO  9385.91  AGOSTO  2018\n",
       "1  ALTO DA BOA VISTA   8312.2  AGOSTO  2018\n",
       "2        BARRA FUNDA   9103.7  AGOSTO  2018\n",
       "3         BELA VISTA  8024.37  AGOSTO  2018\n",
       "4              BELÉM  6341.56  AGOSTO  2018"
      ]
     },
     "execution_count": 291,
     "metadata": {},
     "output_type": "execute_result"
    }
   ],
   "source": [
    "agosto.head()"
   ]
  },
  {
   "cell_type": "markdown",
   "metadata": {},
   "source": [
    "### Setembro"
   ]
  },
  {
   "cell_type": "code",
   "execution_count": 292,
   "metadata": {},
   "outputs": [
    {
     "name": "stderr",
     "output_type": "stream",
     "text": [
      "<ipython-input-292-f91582c1d920>:3: SettingWithCopyWarning: \n",
      "A value is trying to be set on a copy of a slice from a DataFrame.\n",
      "Try using .loc[row_indexer,col_indexer] = value instead\n",
      "\n",
      "See the caveats in the documentation: https://pandas.pydata.org/pandas-docs/stable/user_guide/indexing.html#returning-a-view-versus-a-copy\n",
      "  df09_04_18['MES'] = 0\n",
      "<ipython-input-292-f91582c1d920>:4: SettingWithCopyWarning: \n",
      "A value is trying to be set on a copy of a slice from a DataFrame.\n",
      "Try using .loc[row_indexer,col_indexer] = value instead\n",
      "\n",
      "See the caveats in the documentation: https://pandas.pydata.org/pandas-docs/stable/user_guide/indexing.html#returning-a-view-versus-a-copy\n",
      "  df09_04_18['ANO'] = 0\n",
      "<ipython-input-292-f91582c1d920>:7: SettingWithCopyWarning: \n",
      "A value is trying to be set on a copy of a slice from a DataFrame.\n",
      "Try using .loc[row_indexer,col_indexer] = value instead\n",
      "\n",
      "See the caveats in the documentation: https://pandas.pydata.org/pandas-docs/stable/user_guide/indexing.html#returning-a-view-versus-a-copy\n",
      "  df09_04_18['MES'] = 'SETEMBRO'\n",
      "<ipython-input-292-f91582c1d920>:8: SettingWithCopyWarning: \n",
      "A value is trying to be set on a copy of a slice from a DataFrame.\n",
      "Try using .loc[row_indexer,col_indexer] = value instead\n",
      "\n",
      "See the caveats in the documentation: https://pandas.pydata.org/pandas-docs/stable/user_guide/indexing.html#returning-a-view-versus-a-copy\n",
      "  df09_04_18['ANO'] = 2018\n"
     ]
    }
   ],
   "source": [
    "df09_04_18 = df09[['BAIRROS', 'SET_18_04']]\n",
    "\n",
    "df09_04_18['MES'] = 0\n",
    "df09_04_18['ANO'] = 0\n",
    "\n",
    "for index, row in df09_04_18.iterrows():\n",
    "    df09_04_18['MES'] = 'SETEMBRO'\n",
    "    df09_04_18['ANO'] = 2018"
   ]
  },
  {
   "cell_type": "code",
   "execution_count": 293,
   "metadata": {},
   "outputs": [
    {
     "name": "stderr",
     "output_type": "stream",
     "text": [
      "<ipython-input-293-a7a2edae4c17>:3: SettingWithCopyWarning: \n",
      "A value is trying to be set on a copy of a slice from a DataFrame.\n",
      "Try using .loc[row_indexer,col_indexer] = value instead\n",
      "\n",
      "See the caveats in the documentation: https://pandas.pydata.org/pandas-docs/stable/user_guide/indexing.html#returning-a-view-versus-a-copy\n",
      "  df09_04_19['MES'] = 0\n",
      "<ipython-input-293-a7a2edae4c17>:4: SettingWithCopyWarning: \n",
      "A value is trying to be set on a copy of a slice from a DataFrame.\n",
      "Try using .loc[row_indexer,col_indexer] = value instead\n",
      "\n",
      "See the caveats in the documentation: https://pandas.pydata.org/pandas-docs/stable/user_guide/indexing.html#returning-a-view-versus-a-copy\n",
      "  df09_04_19['ANO'] = 0\n",
      "<ipython-input-293-a7a2edae4c17>:7: SettingWithCopyWarning: \n",
      "A value is trying to be set on a copy of a slice from a DataFrame.\n",
      "Try using .loc[row_indexer,col_indexer] = value instead\n",
      "\n",
      "See the caveats in the documentation: https://pandas.pydata.org/pandas-docs/stable/user_guide/indexing.html#returning-a-view-versus-a-copy\n",
      "  df09_04_19['MES'] = 'SETEMBRO'\n",
      "<ipython-input-293-a7a2edae4c17>:8: SettingWithCopyWarning: \n",
      "A value is trying to be set on a copy of a slice from a DataFrame.\n",
      "Try using .loc[row_indexer,col_indexer] = value instead\n",
      "\n",
      "See the caveats in the documentation: https://pandas.pydata.org/pandas-docs/stable/user_guide/indexing.html#returning-a-view-versus-a-copy\n",
      "  df09_04_19['ANO'] = 2019\n"
     ]
    }
   ],
   "source": [
    "df09_04_19 = df09[['BAIRROS', 'SET_19_04']]\n",
    "\n",
    "df09_04_19['MES'] = 0\n",
    "df09_04_19['ANO'] = 0\n",
    "\n",
    "for index, row in df09_04_19.iterrows():\n",
    "    df09_04_19['MES'] = 'SETEMBRO'\n",
    "    df09_04_19['ANO'] = 2019"
   ]
  },
  {
   "cell_type": "code",
   "execution_count": 294,
   "metadata": {},
   "outputs": [
    {
     "name": "stderr",
     "output_type": "stream",
     "text": [
      "C:\\Users\\carol\\Anaconda3.1\\lib\\site-packages\\pandas\\core\\frame.py:4296: SettingWithCopyWarning: \n",
      "A value is trying to be set on a copy of a slice from a DataFrame\n",
      "\n",
      "See the caveats in the documentation: https://pandas.pydata.org/pandas-docs/stable/user_guide/indexing.html#returning-a-view-versus-a-copy\n",
      "  return super().rename(\n"
     ]
    }
   ],
   "source": [
    "df09_04_18.rename(columns={'SET_18_04':'PRECO'}, inplace=True)\n",
    "\n",
    "df09_04_19.rename(columns={'SET_19_04':'PRECO'}, inplace=True)"
   ]
  },
  {
   "cell_type": "code",
   "execution_count": 295,
   "metadata": {},
   "outputs": [],
   "source": [
    "setembro = df09_04_18.append(df09_04_19)"
   ]
  },
  {
   "cell_type": "code",
   "execution_count": 296,
   "metadata": {},
   "outputs": [
    {
     "data": {
      "text/html": [
       "<div>\n",
       "<style scoped>\n",
       "    .dataframe tbody tr th:only-of-type {\n",
       "        vertical-align: middle;\n",
       "    }\n",
       "\n",
       "    .dataframe tbody tr th {\n",
       "        vertical-align: top;\n",
       "    }\n",
       "\n",
       "    .dataframe thead th {\n",
       "        text-align: right;\n",
       "    }\n",
       "</style>\n",
       "<table border=\"1\" class=\"dataframe\">\n",
       "  <thead>\n",
       "    <tr style=\"text-align: right;\">\n",
       "      <th></th>\n",
       "      <th>BAIRROS</th>\n",
       "      <th>PRECO</th>\n",
       "      <th>MES</th>\n",
       "      <th>ANO</th>\n",
       "    </tr>\n",
       "  </thead>\n",
       "  <tbody>\n",
       "    <tr>\n",
       "      <th>0</th>\n",
       "      <td>ACLIMAÇÃO</td>\n",
       "      <td>9288.95</td>\n",
       "      <td>SETEMBRO</td>\n",
       "      <td>2018</td>\n",
       "    </tr>\n",
       "    <tr>\n",
       "      <th>1</th>\n",
       "      <td>ALTO DA BOA VISTA</td>\n",
       "      <td>8141.57</td>\n",
       "      <td>SETEMBRO</td>\n",
       "      <td>2018</td>\n",
       "    </tr>\n",
       "    <tr>\n",
       "      <th>2</th>\n",
       "      <td>BARRA FUNDA</td>\n",
       "      <td>9020.53</td>\n",
       "      <td>SETEMBRO</td>\n",
       "      <td>2018</td>\n",
       "    </tr>\n",
       "    <tr>\n",
       "      <th>3</th>\n",
       "      <td>BELA VISTA</td>\n",
       "      <td>7908.13</td>\n",
       "      <td>SETEMBRO</td>\n",
       "      <td>2018</td>\n",
       "    </tr>\n",
       "    <tr>\n",
       "      <th>4</th>\n",
       "      <td>BELÉM</td>\n",
       "      <td>6357.31</td>\n",
       "      <td>SETEMBRO</td>\n",
       "      <td>2018</td>\n",
       "    </tr>\n",
       "  </tbody>\n",
       "</table>\n",
       "</div>"
      ],
      "text/plain": [
       "             BAIRROS    PRECO       MES   ANO\n",
       "0          ACLIMAÇÃO  9288.95  SETEMBRO  2018\n",
       "1  ALTO DA BOA VISTA  8141.57  SETEMBRO  2018\n",
       "2        BARRA FUNDA  9020.53  SETEMBRO  2018\n",
       "3         BELA VISTA  7908.13  SETEMBRO  2018\n",
       "4              BELÉM  6357.31  SETEMBRO  2018"
      ]
     },
     "execution_count": 296,
     "metadata": {},
     "output_type": "execute_result"
    }
   ],
   "source": [
    "setembro.head()"
   ]
  },
  {
   "cell_type": "markdown",
   "metadata": {},
   "source": [
    "### Outubro"
   ]
  },
  {
   "cell_type": "code",
   "execution_count": 297,
   "metadata": {},
   "outputs": [
    {
     "name": "stderr",
     "output_type": "stream",
     "text": [
      "<ipython-input-297-dd1fb0f8ebac>:3: SettingWithCopyWarning: \n",
      "A value is trying to be set on a copy of a slice from a DataFrame.\n",
      "Try using .loc[row_indexer,col_indexer] = value instead\n",
      "\n",
      "See the caveats in the documentation: https://pandas.pydata.org/pandas-docs/stable/user_guide/indexing.html#returning-a-view-versus-a-copy\n",
      "  df10_04_18['MES'] = 0\n",
      "<ipython-input-297-dd1fb0f8ebac>:4: SettingWithCopyWarning: \n",
      "A value is trying to be set on a copy of a slice from a DataFrame.\n",
      "Try using .loc[row_indexer,col_indexer] = value instead\n",
      "\n",
      "See the caveats in the documentation: https://pandas.pydata.org/pandas-docs/stable/user_guide/indexing.html#returning-a-view-versus-a-copy\n",
      "  df10_04_18['ANO'] = 0\n",
      "<ipython-input-297-dd1fb0f8ebac>:7: SettingWithCopyWarning: \n",
      "A value is trying to be set on a copy of a slice from a DataFrame.\n",
      "Try using .loc[row_indexer,col_indexer] = value instead\n",
      "\n",
      "See the caveats in the documentation: https://pandas.pydata.org/pandas-docs/stable/user_guide/indexing.html#returning-a-view-versus-a-copy\n",
      "  df10_04_18['MES'] = 'OUTUBRO'\n",
      "<ipython-input-297-dd1fb0f8ebac>:8: SettingWithCopyWarning: \n",
      "A value is trying to be set on a copy of a slice from a DataFrame.\n",
      "Try using .loc[row_indexer,col_indexer] = value instead\n",
      "\n",
      "See the caveats in the documentation: https://pandas.pydata.org/pandas-docs/stable/user_guide/indexing.html#returning-a-view-versus-a-copy\n",
      "  df10_04_18['ANO'] = 2018\n"
     ]
    }
   ],
   "source": [
    "df10_04_18 = df10[['BAIRROS', 'OUT_18_04']]\n",
    "\n",
    "df10_04_18['MES'] = 0\n",
    "df10_04_18['ANO'] = 0\n",
    "\n",
    "for index, row in df10_04_18.iterrows():\n",
    "    df10_04_18['MES'] = 'OUTUBRO'\n",
    "    df10_04_18['ANO'] = 2018"
   ]
  },
  {
   "cell_type": "code",
   "execution_count": 298,
   "metadata": {},
   "outputs": [
    {
     "name": "stderr",
     "output_type": "stream",
     "text": [
      "<ipython-input-298-0c6ad87c382c>:3: SettingWithCopyWarning: \n",
      "A value is trying to be set on a copy of a slice from a DataFrame.\n",
      "Try using .loc[row_indexer,col_indexer] = value instead\n",
      "\n",
      "See the caveats in the documentation: https://pandas.pydata.org/pandas-docs/stable/user_guide/indexing.html#returning-a-view-versus-a-copy\n",
      "  df10_04_19['MES'] = 0\n",
      "<ipython-input-298-0c6ad87c382c>:4: SettingWithCopyWarning: \n",
      "A value is trying to be set on a copy of a slice from a DataFrame.\n",
      "Try using .loc[row_indexer,col_indexer] = value instead\n",
      "\n",
      "See the caveats in the documentation: https://pandas.pydata.org/pandas-docs/stable/user_guide/indexing.html#returning-a-view-versus-a-copy\n",
      "  df10_04_19['ANO'] = 0\n",
      "<ipython-input-298-0c6ad87c382c>:7: SettingWithCopyWarning: \n",
      "A value is trying to be set on a copy of a slice from a DataFrame.\n",
      "Try using .loc[row_indexer,col_indexer] = value instead\n",
      "\n",
      "See the caveats in the documentation: https://pandas.pydata.org/pandas-docs/stable/user_guide/indexing.html#returning-a-view-versus-a-copy\n",
      "  df10_04_19['MES'] = 'OUTUBRO'\n",
      "<ipython-input-298-0c6ad87c382c>:8: SettingWithCopyWarning: \n",
      "A value is trying to be set on a copy of a slice from a DataFrame.\n",
      "Try using .loc[row_indexer,col_indexer] = value instead\n",
      "\n",
      "See the caveats in the documentation: https://pandas.pydata.org/pandas-docs/stable/user_guide/indexing.html#returning-a-view-versus-a-copy\n",
      "  df10_04_19['ANO'] = 2019\n"
     ]
    }
   ],
   "source": [
    "df10_04_19 = df10[['BAIRROS', 'OUT_19_04']]\n",
    "\n",
    "df10_04_19['MES'] = 0\n",
    "df10_04_19['ANO'] = 0\n",
    "\n",
    "for index, row in df10_04_19.iterrows():\n",
    "    df10_04_19['MES'] = 'OUTUBRO'\n",
    "    df10_04_19['ANO'] = 2019"
   ]
  },
  {
   "cell_type": "code",
   "execution_count": 299,
   "metadata": {},
   "outputs": [
    {
     "name": "stderr",
     "output_type": "stream",
     "text": [
      "C:\\Users\\carol\\Anaconda3.1\\lib\\site-packages\\pandas\\core\\frame.py:4296: SettingWithCopyWarning: \n",
      "A value is trying to be set on a copy of a slice from a DataFrame\n",
      "\n",
      "See the caveats in the documentation: https://pandas.pydata.org/pandas-docs/stable/user_guide/indexing.html#returning-a-view-versus-a-copy\n",
      "  return super().rename(\n"
     ]
    }
   ],
   "source": [
    "df10_04_18.rename(columns={'OUT_18_04':'PRECO'}, inplace=True)\n",
    "\n",
    "df10_04_19.rename(columns={'OUT_19_04':'PRECO'}, inplace=True)"
   ]
  },
  {
   "cell_type": "code",
   "execution_count": 300,
   "metadata": {},
   "outputs": [],
   "source": [
    "outubro = df10_04_18.append(df10_04_19)"
   ]
  },
  {
   "cell_type": "code",
   "execution_count": 301,
   "metadata": {},
   "outputs": [
    {
     "data": {
      "text/html": [
       "<div>\n",
       "<style scoped>\n",
       "    .dataframe tbody tr th:only-of-type {\n",
       "        vertical-align: middle;\n",
       "    }\n",
       "\n",
       "    .dataframe tbody tr th {\n",
       "        vertical-align: top;\n",
       "    }\n",
       "\n",
       "    .dataframe thead th {\n",
       "        text-align: right;\n",
       "    }\n",
       "</style>\n",
       "<table border=\"1\" class=\"dataframe\">\n",
       "  <thead>\n",
       "    <tr style=\"text-align: right;\">\n",
       "      <th></th>\n",
       "      <th>BAIRROS</th>\n",
       "      <th>PRECO</th>\n",
       "      <th>MES</th>\n",
       "      <th>ANO</th>\n",
       "    </tr>\n",
       "  </thead>\n",
       "  <tbody>\n",
       "    <tr>\n",
       "      <th>0</th>\n",
       "      <td>ACLIMAÇÃO</td>\n",
       "      <td>9294.08</td>\n",
       "      <td>OUTUBRO</td>\n",
       "      <td>2018</td>\n",
       "    </tr>\n",
       "    <tr>\n",
       "      <th>1</th>\n",
       "      <td>ALTO DA BOA VISTA</td>\n",
       "      <td>8133.19</td>\n",
       "      <td>OUTUBRO</td>\n",
       "      <td>2018</td>\n",
       "    </tr>\n",
       "    <tr>\n",
       "      <th>2</th>\n",
       "      <td>BARRA FUNDA</td>\n",
       "      <td>9050.36</td>\n",
       "      <td>OUTUBRO</td>\n",
       "      <td>2018</td>\n",
       "    </tr>\n",
       "    <tr>\n",
       "      <th>3</th>\n",
       "      <td>BELA VISTA</td>\n",
       "      <td>7870.21</td>\n",
       "      <td>OUTUBRO</td>\n",
       "      <td>2018</td>\n",
       "    </tr>\n",
       "    <tr>\n",
       "      <th>4</th>\n",
       "      <td>BELÉM</td>\n",
       "      <td>6309.16</td>\n",
       "      <td>OUTUBRO</td>\n",
       "      <td>2018</td>\n",
       "    </tr>\n",
       "  </tbody>\n",
       "</table>\n",
       "</div>"
      ],
      "text/plain": [
       "             BAIRROS    PRECO      MES   ANO\n",
       "0          ACLIMAÇÃO  9294.08  OUTUBRO  2018\n",
       "1  ALTO DA BOA VISTA  8133.19  OUTUBRO  2018\n",
       "2        BARRA FUNDA  9050.36  OUTUBRO  2018\n",
       "3         BELA VISTA  7870.21  OUTUBRO  2018\n",
       "4              BELÉM  6309.16  OUTUBRO  2018"
      ]
     },
     "execution_count": 301,
     "metadata": {},
     "output_type": "execute_result"
    }
   ],
   "source": [
    "outubro.head()"
   ]
  },
  {
   "cell_type": "markdown",
   "metadata": {},
   "source": [
    "### Novembro"
   ]
  },
  {
   "cell_type": "code",
   "execution_count": 302,
   "metadata": {},
   "outputs": [
    {
     "name": "stderr",
     "output_type": "stream",
     "text": [
      "<ipython-input-302-2cedcba6ff31>:3: SettingWithCopyWarning: \n",
      "A value is trying to be set on a copy of a slice from a DataFrame.\n",
      "Try using .loc[row_indexer,col_indexer] = value instead\n",
      "\n",
      "See the caveats in the documentation: https://pandas.pydata.org/pandas-docs/stable/user_guide/indexing.html#returning-a-view-versus-a-copy\n",
      "  df11_04_18['MES'] = 0\n",
      "<ipython-input-302-2cedcba6ff31>:4: SettingWithCopyWarning: \n",
      "A value is trying to be set on a copy of a slice from a DataFrame.\n",
      "Try using .loc[row_indexer,col_indexer] = value instead\n",
      "\n",
      "See the caveats in the documentation: https://pandas.pydata.org/pandas-docs/stable/user_guide/indexing.html#returning-a-view-versus-a-copy\n",
      "  df11_04_18['ANO'] = 0\n",
      "<ipython-input-302-2cedcba6ff31>:7: SettingWithCopyWarning: \n",
      "A value is trying to be set on a copy of a slice from a DataFrame.\n",
      "Try using .loc[row_indexer,col_indexer] = value instead\n",
      "\n",
      "See the caveats in the documentation: https://pandas.pydata.org/pandas-docs/stable/user_guide/indexing.html#returning-a-view-versus-a-copy\n",
      "  df11_04_18['MES'] = 'NOVEMBRO'\n",
      "<ipython-input-302-2cedcba6ff31>:8: SettingWithCopyWarning: \n",
      "A value is trying to be set on a copy of a slice from a DataFrame.\n",
      "Try using .loc[row_indexer,col_indexer] = value instead\n",
      "\n",
      "See the caveats in the documentation: https://pandas.pydata.org/pandas-docs/stable/user_guide/indexing.html#returning-a-view-versus-a-copy\n",
      "  df11_04_18['ANO'] = 2018\n"
     ]
    }
   ],
   "source": [
    "df11_04_18 = df11[['BAIRROS', 'NOV_18_04']]\n",
    "\n",
    "df11_04_18['MES'] = 0\n",
    "df11_04_18['ANO'] = 0\n",
    "\n",
    "for index, row in df11_04_18.iterrows():\n",
    "    df11_04_18['MES'] = 'NOVEMBRO'\n",
    "    df11_04_18['ANO'] = 2018"
   ]
  },
  {
   "cell_type": "code",
   "execution_count": 303,
   "metadata": {},
   "outputs": [
    {
     "name": "stderr",
     "output_type": "stream",
     "text": [
      "<ipython-input-303-56f86d8715e0>:3: SettingWithCopyWarning: \n",
      "A value is trying to be set on a copy of a slice from a DataFrame.\n",
      "Try using .loc[row_indexer,col_indexer] = value instead\n",
      "\n",
      "See the caveats in the documentation: https://pandas.pydata.org/pandas-docs/stable/user_guide/indexing.html#returning-a-view-versus-a-copy\n",
      "  df11_04_19['MES'] = 0\n",
      "<ipython-input-303-56f86d8715e0>:4: SettingWithCopyWarning: \n",
      "A value is trying to be set on a copy of a slice from a DataFrame.\n",
      "Try using .loc[row_indexer,col_indexer] = value instead\n",
      "\n",
      "See the caveats in the documentation: https://pandas.pydata.org/pandas-docs/stable/user_guide/indexing.html#returning-a-view-versus-a-copy\n",
      "  df11_04_19['ANO'] = 0\n",
      "<ipython-input-303-56f86d8715e0>:7: SettingWithCopyWarning: \n",
      "A value is trying to be set on a copy of a slice from a DataFrame.\n",
      "Try using .loc[row_indexer,col_indexer] = value instead\n",
      "\n",
      "See the caveats in the documentation: https://pandas.pydata.org/pandas-docs/stable/user_guide/indexing.html#returning-a-view-versus-a-copy\n",
      "  df11_04_19['MES'] = 'NOVEMBRO'\n",
      "<ipython-input-303-56f86d8715e0>:8: SettingWithCopyWarning: \n",
      "A value is trying to be set on a copy of a slice from a DataFrame.\n",
      "Try using .loc[row_indexer,col_indexer] = value instead\n",
      "\n",
      "See the caveats in the documentation: https://pandas.pydata.org/pandas-docs/stable/user_guide/indexing.html#returning-a-view-versus-a-copy\n",
      "  df11_04_19['ANO'] = 2019\n"
     ]
    }
   ],
   "source": [
    "df11_04_19 = df11[['BAIRROS', 'NOV_19_04']]\n",
    "\n",
    "df11_04_19['MES'] = 0\n",
    "df11_04_19['ANO'] = 0\n",
    "\n",
    "for index, row in df11_04_19.iterrows():\n",
    "    df11_04_19['MES'] = 'NOVEMBRO'\n",
    "    df11_04_19['ANO'] = 2019"
   ]
  },
  {
   "cell_type": "code",
   "execution_count": 304,
   "metadata": {},
   "outputs": [
    {
     "name": "stderr",
     "output_type": "stream",
     "text": [
      "C:\\Users\\carol\\Anaconda3.1\\lib\\site-packages\\pandas\\core\\frame.py:4296: SettingWithCopyWarning: \n",
      "A value is trying to be set on a copy of a slice from a DataFrame\n",
      "\n",
      "See the caveats in the documentation: https://pandas.pydata.org/pandas-docs/stable/user_guide/indexing.html#returning-a-view-versus-a-copy\n",
      "  return super().rename(\n"
     ]
    }
   ],
   "source": [
    "df11_04_18.rename(columns={'NOV_18_04':'PRECO'}, inplace=True)\n",
    "\n",
    "df11_04_19.rename(columns={'NOV_19_04':'PRECO'}, inplace=True)"
   ]
  },
  {
   "cell_type": "code",
   "execution_count": 305,
   "metadata": {},
   "outputs": [],
   "source": [
    "novembro = df11_04_18.append(df11_04_19)"
   ]
  },
  {
   "cell_type": "code",
   "execution_count": 306,
   "metadata": {},
   "outputs": [
    {
     "data": {
      "text/html": [
       "<div>\n",
       "<style scoped>\n",
       "    .dataframe tbody tr th:only-of-type {\n",
       "        vertical-align: middle;\n",
       "    }\n",
       "\n",
       "    .dataframe tbody tr th {\n",
       "        vertical-align: top;\n",
       "    }\n",
       "\n",
       "    .dataframe thead th {\n",
       "        text-align: right;\n",
       "    }\n",
       "</style>\n",
       "<table border=\"1\" class=\"dataframe\">\n",
       "  <thead>\n",
       "    <tr style=\"text-align: right;\">\n",
       "      <th></th>\n",
       "      <th>BAIRROS</th>\n",
       "      <th>PRECO</th>\n",
       "      <th>MES</th>\n",
       "      <th>ANO</th>\n",
       "    </tr>\n",
       "  </thead>\n",
       "  <tbody>\n",
       "    <tr>\n",
       "      <th>0</th>\n",
       "      <td>ACLIMAÇÃO</td>\n",
       "      <td>9281.67</td>\n",
       "      <td>NOVEMBRO</td>\n",
       "      <td>2018</td>\n",
       "    </tr>\n",
       "    <tr>\n",
       "      <th>1</th>\n",
       "      <td>ALTO DA BOA VISTA</td>\n",
       "      <td>8123.86</td>\n",
       "      <td>NOVEMBRO</td>\n",
       "      <td>2018</td>\n",
       "    </tr>\n",
       "    <tr>\n",
       "      <th>2</th>\n",
       "      <td>BARRA FUNDA</td>\n",
       "      <td>9040.28</td>\n",
       "      <td>NOVEMBRO</td>\n",
       "      <td>2018</td>\n",
       "    </tr>\n",
       "    <tr>\n",
       "      <th>3</th>\n",
       "      <td>BELA VISTA</td>\n",
       "      <td>7886.2</td>\n",
       "      <td>NOVEMBRO</td>\n",
       "      <td>2018</td>\n",
       "    </tr>\n",
       "    <tr>\n",
       "      <th>4</th>\n",
       "      <td>BELÉM</td>\n",
       "      <td>6210.58</td>\n",
       "      <td>NOVEMBRO</td>\n",
       "      <td>2018</td>\n",
       "    </tr>\n",
       "  </tbody>\n",
       "</table>\n",
       "</div>"
      ],
      "text/plain": [
       "             BAIRROS    PRECO       MES   ANO\n",
       "0          ACLIMAÇÃO  9281.67  NOVEMBRO  2018\n",
       "1  ALTO DA BOA VISTA  8123.86  NOVEMBRO  2018\n",
       "2        BARRA FUNDA  9040.28  NOVEMBRO  2018\n",
       "3         BELA VISTA   7886.2  NOVEMBRO  2018\n",
       "4              BELÉM  6210.58  NOVEMBRO  2018"
      ]
     },
     "execution_count": 306,
     "metadata": {},
     "output_type": "execute_result"
    }
   ],
   "source": [
    "novembro.head()"
   ]
  },
  {
   "cell_type": "markdown",
   "metadata": {},
   "source": [
    "### Dezembro"
   ]
  },
  {
   "cell_type": "code",
   "execution_count": 307,
   "metadata": {},
   "outputs": [
    {
     "name": "stderr",
     "output_type": "stream",
     "text": [
      "<ipython-input-307-54acd958b64a>:3: SettingWithCopyWarning: \n",
      "A value is trying to be set on a copy of a slice from a DataFrame.\n",
      "Try using .loc[row_indexer,col_indexer] = value instead\n",
      "\n",
      "See the caveats in the documentation: https://pandas.pydata.org/pandas-docs/stable/user_guide/indexing.html#returning-a-view-versus-a-copy\n",
      "  df12_04_18['MES'] = 0\n",
      "<ipython-input-307-54acd958b64a>:4: SettingWithCopyWarning: \n",
      "A value is trying to be set on a copy of a slice from a DataFrame.\n",
      "Try using .loc[row_indexer,col_indexer] = value instead\n",
      "\n",
      "See the caveats in the documentation: https://pandas.pydata.org/pandas-docs/stable/user_guide/indexing.html#returning-a-view-versus-a-copy\n",
      "  df12_04_18['ANO'] = 0\n",
      "<ipython-input-307-54acd958b64a>:7: SettingWithCopyWarning: \n",
      "A value is trying to be set on a copy of a slice from a DataFrame.\n",
      "Try using .loc[row_indexer,col_indexer] = value instead\n",
      "\n",
      "See the caveats in the documentation: https://pandas.pydata.org/pandas-docs/stable/user_guide/indexing.html#returning-a-view-versus-a-copy\n",
      "  df12_04_18['MES'] = 'DEZEMBRO'\n",
      "<ipython-input-307-54acd958b64a>:8: SettingWithCopyWarning: \n",
      "A value is trying to be set on a copy of a slice from a DataFrame.\n",
      "Try using .loc[row_indexer,col_indexer] = value instead\n",
      "\n",
      "See the caveats in the documentation: https://pandas.pydata.org/pandas-docs/stable/user_guide/indexing.html#returning-a-view-versus-a-copy\n",
      "  df12_04_18['ANO'] = 2018\n"
     ]
    }
   ],
   "source": [
    "df12_04_18 = df12[['BAIRROS', 'DEZ_18_04']]\n",
    "\n",
    "df12_04_18['MES'] = 0\n",
    "df12_04_18['ANO'] = 0\n",
    "\n",
    "for index, row in df12_04_18.iterrows():\n",
    "    df12_04_18['MES'] = 'DEZEMBRO'\n",
    "    df12_04_18['ANO'] = 2018"
   ]
  },
  {
   "cell_type": "code",
   "execution_count": 308,
   "metadata": {},
   "outputs": [
    {
     "name": "stderr",
     "output_type": "stream",
     "text": [
      "<ipython-input-308-f83448b67507>:3: SettingWithCopyWarning: \n",
      "A value is trying to be set on a copy of a slice from a DataFrame.\n",
      "Try using .loc[row_indexer,col_indexer] = value instead\n",
      "\n",
      "See the caveats in the documentation: https://pandas.pydata.org/pandas-docs/stable/user_guide/indexing.html#returning-a-view-versus-a-copy\n",
      "  df12_04_19['MES'] = 0\n",
      "<ipython-input-308-f83448b67507>:4: SettingWithCopyWarning: \n",
      "A value is trying to be set on a copy of a slice from a DataFrame.\n",
      "Try using .loc[row_indexer,col_indexer] = value instead\n",
      "\n",
      "See the caveats in the documentation: https://pandas.pydata.org/pandas-docs/stable/user_guide/indexing.html#returning-a-view-versus-a-copy\n",
      "  df12_04_19['ANO'] = 0\n",
      "<ipython-input-308-f83448b67507>:7: SettingWithCopyWarning: \n",
      "A value is trying to be set on a copy of a slice from a DataFrame.\n",
      "Try using .loc[row_indexer,col_indexer] = value instead\n",
      "\n",
      "See the caveats in the documentation: https://pandas.pydata.org/pandas-docs/stable/user_guide/indexing.html#returning-a-view-versus-a-copy\n",
      "  df12_04_19['MES'] = 'DEZEMBRO'\n",
      "<ipython-input-308-f83448b67507>:8: SettingWithCopyWarning: \n",
      "A value is trying to be set on a copy of a slice from a DataFrame.\n",
      "Try using .loc[row_indexer,col_indexer] = value instead\n",
      "\n",
      "See the caveats in the documentation: https://pandas.pydata.org/pandas-docs/stable/user_guide/indexing.html#returning-a-view-versus-a-copy\n",
      "  df12_04_19['ANO'] = 2019\n"
     ]
    }
   ],
   "source": [
    "df12_04_19 = df12[['BAIRROS', 'DEZ_19_04']]\n",
    "\n",
    "df12_04_19['MES'] = 0\n",
    "df12_04_19['ANO'] = 0\n",
    "\n",
    "for index, row in df12_04_19.iterrows():\n",
    "    df12_04_19['MES'] = 'DEZEMBRO'\n",
    "    df12_04_19['ANO'] = 2019"
   ]
  },
  {
   "cell_type": "code",
   "execution_count": 309,
   "metadata": {},
   "outputs": [
    {
     "name": "stderr",
     "output_type": "stream",
     "text": [
      "C:\\Users\\carol\\Anaconda3.1\\lib\\site-packages\\pandas\\core\\frame.py:4296: SettingWithCopyWarning: \n",
      "A value is trying to be set on a copy of a slice from a DataFrame\n",
      "\n",
      "See the caveats in the documentation: https://pandas.pydata.org/pandas-docs/stable/user_guide/indexing.html#returning-a-view-versus-a-copy\n",
      "  return super().rename(\n"
     ]
    }
   ],
   "source": [
    "df12_04_18.rename(columns={'DEZ_18_04':'PRECO'}, inplace=True)\n",
    "\n",
    "df12_04_19.rename(columns={'DEZ_19_04':'PRECO'}, inplace=True)"
   ]
  },
  {
   "cell_type": "code",
   "execution_count": 310,
   "metadata": {},
   "outputs": [],
   "source": [
    "dezembro = df12_04_18.append(df12_04_19)"
   ]
  },
  {
   "cell_type": "code",
   "execution_count": 311,
   "metadata": {},
   "outputs": [
    {
     "data": {
      "text/html": [
       "<div>\n",
       "<style scoped>\n",
       "    .dataframe tbody tr th:only-of-type {\n",
       "        vertical-align: middle;\n",
       "    }\n",
       "\n",
       "    .dataframe tbody tr th {\n",
       "        vertical-align: top;\n",
       "    }\n",
       "\n",
       "    .dataframe thead th {\n",
       "        text-align: right;\n",
       "    }\n",
       "</style>\n",
       "<table border=\"1\" class=\"dataframe\">\n",
       "  <thead>\n",
       "    <tr style=\"text-align: right;\">\n",
       "      <th></th>\n",
       "      <th>BAIRROS</th>\n",
       "      <th>PRECO</th>\n",
       "      <th>MES</th>\n",
       "      <th>ANO</th>\n",
       "    </tr>\n",
       "  </thead>\n",
       "  <tbody>\n",
       "    <tr>\n",
       "      <th>0</th>\n",
       "      <td>ACLIMAÇÃO</td>\n",
       "      <td>9335.52</td>\n",
       "      <td>DEZEMBRO</td>\n",
       "      <td>2018</td>\n",
       "    </tr>\n",
       "    <tr>\n",
       "      <th>1</th>\n",
       "      <td>ALTO DA BOA VISTA</td>\n",
       "      <td>8139.72</td>\n",
       "      <td>DEZEMBRO</td>\n",
       "      <td>2018</td>\n",
       "    </tr>\n",
       "    <tr>\n",
       "      <th>2</th>\n",
       "      <td>BARRA FUNDA</td>\n",
       "      <td>9025.65</td>\n",
       "      <td>DEZEMBRO</td>\n",
       "      <td>2018</td>\n",
       "    </tr>\n",
       "    <tr>\n",
       "      <th>3</th>\n",
       "      <td>BELA VISTA</td>\n",
       "      <td>7876.84</td>\n",
       "      <td>DEZEMBRO</td>\n",
       "      <td>2018</td>\n",
       "    </tr>\n",
       "    <tr>\n",
       "      <th>4</th>\n",
       "      <td>BELÉM</td>\n",
       "      <td>6375.27</td>\n",
       "      <td>DEZEMBRO</td>\n",
       "      <td>2018</td>\n",
       "    </tr>\n",
       "  </tbody>\n",
       "</table>\n",
       "</div>"
      ],
      "text/plain": [
       "             BAIRROS    PRECO       MES   ANO\n",
       "0          ACLIMAÇÃO  9335.52  DEZEMBRO  2018\n",
       "1  ALTO DA BOA VISTA  8139.72  DEZEMBRO  2018\n",
       "2        BARRA FUNDA  9025.65  DEZEMBRO  2018\n",
       "3         BELA VISTA  7876.84  DEZEMBRO  2018\n",
       "4              BELÉM  6375.27  DEZEMBRO  2018"
      ]
     },
     "execution_count": 311,
     "metadata": {},
     "output_type": "execute_result"
    }
   ],
   "source": [
    "dezembro.head()"
   ]
  },
  {
   "cell_type": "markdown",
   "metadata": {},
   "source": [
    "### Concatenando Dataframes"
   ]
  },
  {
   "cell_type": "code",
   "execution_count": 312,
   "metadata": {},
   "outputs": [],
   "source": [
    "dormitorio_04 = pd.concat([janeiro, fevereiro, marco, abril, maio, junho, julho, agosto, setembro, outubro, novembro, dezembro])"
   ]
  },
  {
   "cell_type": "code",
   "execution_count": 313,
   "metadata": {},
   "outputs": [],
   "source": [
    "dormitorio_04.reset_index(drop=True, inplace=True)"
   ]
  },
  {
   "cell_type": "code",
   "execution_count": 314,
   "metadata": {},
   "outputs": [],
   "source": [
    "dormitorio_04['n_dormitorios'] = 0\n",
    "\n",
    "for index, row in dormitorio_03.iterrows():\n",
    "    dormitorio_04['n_dormitorios'] = 4 "
   ]
  },
  {
   "cell_type": "code",
   "execution_count": 315,
   "metadata": {},
   "outputs": [
    {
     "data": {
      "text/html": [
       "<div>\n",
       "<style scoped>\n",
       "    .dataframe tbody tr th:only-of-type {\n",
       "        vertical-align: middle;\n",
       "    }\n",
       "\n",
       "    .dataframe tbody tr th {\n",
       "        vertical-align: top;\n",
       "    }\n",
       "\n",
       "    .dataframe thead th {\n",
       "        text-align: right;\n",
       "    }\n",
       "</style>\n",
       "<table border=\"1\" class=\"dataframe\">\n",
       "  <thead>\n",
       "    <tr style=\"text-align: right;\">\n",
       "      <th></th>\n",
       "      <th>BAIRROS</th>\n",
       "      <th>PRECO</th>\n",
       "      <th>MES</th>\n",
       "      <th>ANO</th>\n",
       "      <th>n_dormitorios</th>\n",
       "    </tr>\n",
       "  </thead>\n",
       "  <tbody>\n",
       "    <tr>\n",
       "      <th>0</th>\n",
       "      <td>ACLIMAÇÃO</td>\n",
       "      <td>9363.87</td>\n",
       "      <td>JANEIRO</td>\n",
       "      <td>2018</td>\n",
       "      <td>4</td>\n",
       "    </tr>\n",
       "    <tr>\n",
       "      <th>1</th>\n",
       "      <td>ALTO DA BOA VISTA</td>\n",
       "      <td>8314.68</td>\n",
       "      <td>JANEIRO</td>\n",
       "      <td>2018</td>\n",
       "      <td>4</td>\n",
       "    </tr>\n",
       "    <tr>\n",
       "      <th>2</th>\n",
       "      <td>BARRA FUNDA</td>\n",
       "      <td>9091.7</td>\n",
       "      <td>JANEIRO</td>\n",
       "      <td>2018</td>\n",
       "      <td>4</td>\n",
       "    </tr>\n",
       "    <tr>\n",
       "      <th>3</th>\n",
       "      <td>BELA VISTA</td>\n",
       "      <td>8009.97</td>\n",
       "      <td>JANEIRO</td>\n",
       "      <td>2018</td>\n",
       "      <td>4</td>\n",
       "    </tr>\n",
       "    <tr>\n",
       "      <th>4</th>\n",
       "      <td>BELÉM</td>\n",
       "      <td>6112.79</td>\n",
       "      <td>JANEIRO</td>\n",
       "      <td>2018</td>\n",
       "      <td>4</td>\n",
       "    </tr>\n",
       "    <tr>\n",
       "      <th>...</th>\n",
       "      <td>...</td>\n",
       "      <td>...</td>\n",
       "      <td>...</td>\n",
       "      <td>...</td>\n",
       "      <td>...</td>\n",
       "    </tr>\n",
       "    <tr>\n",
       "      <th>1579</th>\n",
       "      <td>VILA OLÍMPIA</td>\n",
       "      <td>19012.7</td>\n",
       "      <td>DEZEMBRO</td>\n",
       "      <td>2019</td>\n",
       "      <td>4</td>\n",
       "    </tr>\n",
       "    <tr>\n",
       "      <th>1580</th>\n",
       "      <td>VILA PRUDENTE</td>\n",
       "      <td>6901.75</td>\n",
       "      <td>DEZEMBRO</td>\n",
       "      <td>2019</td>\n",
       "      <td>4</td>\n",
       "    </tr>\n",
       "    <tr>\n",
       "      <th>1581</th>\n",
       "      <td>VILA ROMANA</td>\n",
       "      <td>10769.6</td>\n",
       "      <td>DEZEMBRO</td>\n",
       "      <td>2019</td>\n",
       "      <td>4</td>\n",
       "    </tr>\n",
       "    <tr>\n",
       "      <th>1582</th>\n",
       "      <td>VILA SÔNIA</td>\n",
       "      <td>5459.22</td>\n",
       "      <td>DEZEMBRO</td>\n",
       "      <td>2019</td>\n",
       "      <td>4</td>\n",
       "    </tr>\n",
       "    <tr>\n",
       "      <th>1583</th>\n",
       "      <td>Fonte: Secovi-SP</td>\n",
       "      <td>NaN</td>\n",
       "      <td>DEZEMBRO</td>\n",
       "      <td>2019</td>\n",
       "      <td>4</td>\n",
       "    </tr>\n",
       "  </tbody>\n",
       "</table>\n",
       "<p>1584 rows × 5 columns</p>\n",
       "</div>"
      ],
      "text/plain": [
       "                BAIRROS    PRECO       MES   ANO  n_dormitorios\n",
       "0             ACLIMAÇÃO  9363.87   JANEIRO  2018              4\n",
       "1     ALTO DA BOA VISTA  8314.68   JANEIRO  2018              4\n",
       "2           BARRA FUNDA   9091.7   JANEIRO  2018              4\n",
       "3            BELA VISTA  8009.97   JANEIRO  2018              4\n",
       "4                 BELÉM  6112.79   JANEIRO  2018              4\n",
       "...                 ...      ...       ...   ...            ...\n",
       "1579       VILA OLÍMPIA  19012.7  DEZEMBRO  2019              4\n",
       "1580      VILA PRUDENTE  6901.75  DEZEMBRO  2019              4\n",
       "1581        VILA ROMANA  10769.6  DEZEMBRO  2019              4\n",
       "1582         VILA SÔNIA  5459.22  DEZEMBRO  2019              4\n",
       "1583   Fonte: Secovi-SP      NaN  DEZEMBRO  2019              4\n",
       "\n",
       "[1584 rows x 5 columns]"
      ]
     },
     "execution_count": 315,
     "metadata": {},
     "output_type": "execute_result"
    }
   ],
   "source": [
    "dormitorio_04"
   ]
  },
  {
   "cell_type": "markdown",
   "metadata": {},
   "source": [
    "### Concatenando dataframes dormitorios_0x"
   ]
  },
  {
   "cell_type": "code",
   "execution_count": 316,
   "metadata": {},
   "outputs": [],
   "source": [
    "dormitorio_01.to_excel('dormitorio_01.xlsx')"
   ]
  },
  {
   "cell_type": "code",
   "execution_count": 317,
   "metadata": {},
   "outputs": [],
   "source": [
    "dormitorio_02.to_excel('dormitorio_02.xlsx')"
   ]
  },
  {
   "cell_type": "code",
   "execution_count": 318,
   "metadata": {},
   "outputs": [],
   "source": [
    "dormitorio_03.to_excel('dormitorio_03.xlsx')"
   ]
  },
  {
   "cell_type": "code",
   "execution_count": 319,
   "metadata": {},
   "outputs": [],
   "source": [
    "dormitorio_04.to_excel('dormitorio_04.xlsx')"
   ]
  },
  {
   "cell_type": "code",
   "execution_count": 320,
   "metadata": {},
   "outputs": [],
   "source": [
    "secovi = pd.concat([dormitorio_01, dormitorio_02, dormitorio_03, dormitorio_04], axis=0).reset_index(drop=0)"
   ]
  },
  {
   "cell_type": "code",
   "execution_count": 323,
   "metadata": {},
   "outputs": [],
   "source": [
    "secovi.drop(index=6335, inplace=True)"
   ]
  },
  {
   "cell_type": "code",
   "execution_count": 324,
   "metadata": {},
   "outputs": [
    {
     "data": {
      "text/html": [
       "<div>\n",
       "<style scoped>\n",
       "    .dataframe tbody tr th:only-of-type {\n",
       "        vertical-align: middle;\n",
       "    }\n",
       "\n",
       "    .dataframe tbody tr th {\n",
       "        vertical-align: top;\n",
       "    }\n",
       "\n",
       "    .dataframe thead th {\n",
       "        text-align: right;\n",
       "    }\n",
       "</style>\n",
       "<table border=\"1\" class=\"dataframe\">\n",
       "  <thead>\n",
       "    <tr style=\"text-align: right;\">\n",
       "      <th></th>\n",
       "      <th>index</th>\n",
       "      <th>BAIRROS</th>\n",
       "      <th>PRECO</th>\n",
       "      <th>MES</th>\n",
       "      <th>ANO</th>\n",
       "      <th>n_dormitorios</th>\n",
       "    </tr>\n",
       "  </thead>\n",
       "  <tbody>\n",
       "    <tr>\n",
       "      <th>0</th>\n",
       "      <td>0</td>\n",
       "      <td>ACLIMAÇÃO</td>\n",
       "      <td>8664.17</td>\n",
       "      <td>JANEIRO</td>\n",
       "      <td>2018</td>\n",
       "      <td>1</td>\n",
       "    </tr>\n",
       "    <tr>\n",
       "      <th>1</th>\n",
       "      <td>1</td>\n",
       "      <td>ALTO DA BOA VISTA</td>\n",
       "      <td>10175.4</td>\n",
       "      <td>JANEIRO</td>\n",
       "      <td>2018</td>\n",
       "      <td>1</td>\n",
       "    </tr>\n",
       "    <tr>\n",
       "      <th>2</th>\n",
       "      <td>2</td>\n",
       "      <td>BARRA FUNDA</td>\n",
       "      <td>9208.55</td>\n",
       "      <td>JANEIRO</td>\n",
       "      <td>2018</td>\n",
       "      <td>1</td>\n",
       "    </tr>\n",
       "    <tr>\n",
       "      <th>3</th>\n",
       "      <td>3</td>\n",
       "      <td>BELA VISTA</td>\n",
       "      <td>8465.83</td>\n",
       "      <td>JANEIRO</td>\n",
       "      <td>2018</td>\n",
       "      <td>1</td>\n",
       "    </tr>\n",
       "    <tr>\n",
       "      <th>4</th>\n",
       "      <td>4</td>\n",
       "      <td>BELÉM</td>\n",
       "      <td>5908.94</td>\n",
       "      <td>JANEIRO</td>\n",
       "      <td>2018</td>\n",
       "      <td>1</td>\n",
       "    </tr>\n",
       "    <tr>\n",
       "      <th>...</th>\n",
       "      <td>...</td>\n",
       "      <td>...</td>\n",
       "      <td>...</td>\n",
       "      <td>...</td>\n",
       "      <td>...</td>\n",
       "      <td>...</td>\n",
       "    </tr>\n",
       "    <tr>\n",
       "      <th>6330</th>\n",
       "      <td>1578</td>\n",
       "      <td>VILA NOVA CONCEIÇÃO</td>\n",
       "      <td>19837.1</td>\n",
       "      <td>DEZEMBRO</td>\n",
       "      <td>2019</td>\n",
       "      <td>4</td>\n",
       "    </tr>\n",
       "    <tr>\n",
       "      <th>6331</th>\n",
       "      <td>1579</td>\n",
       "      <td>VILA OLÍMPIA</td>\n",
       "      <td>19012.7</td>\n",
       "      <td>DEZEMBRO</td>\n",
       "      <td>2019</td>\n",
       "      <td>4</td>\n",
       "    </tr>\n",
       "    <tr>\n",
       "      <th>6332</th>\n",
       "      <td>1580</td>\n",
       "      <td>VILA PRUDENTE</td>\n",
       "      <td>6901.75</td>\n",
       "      <td>DEZEMBRO</td>\n",
       "      <td>2019</td>\n",
       "      <td>4</td>\n",
       "    </tr>\n",
       "    <tr>\n",
       "      <th>6333</th>\n",
       "      <td>1581</td>\n",
       "      <td>VILA ROMANA</td>\n",
       "      <td>10769.6</td>\n",
       "      <td>DEZEMBRO</td>\n",
       "      <td>2019</td>\n",
       "      <td>4</td>\n",
       "    </tr>\n",
       "    <tr>\n",
       "      <th>6334</th>\n",
       "      <td>1582</td>\n",
       "      <td>VILA SÔNIA</td>\n",
       "      <td>5459.22</td>\n",
       "      <td>DEZEMBRO</td>\n",
       "      <td>2019</td>\n",
       "      <td>4</td>\n",
       "    </tr>\n",
       "  </tbody>\n",
       "</table>\n",
       "<p>6335 rows × 6 columns</p>\n",
       "</div>"
      ],
      "text/plain": [
       "      index              BAIRROS    PRECO       MES   ANO  n_dormitorios\n",
       "0         0            ACLIMAÇÃO  8664.17   JANEIRO  2018              1\n",
       "1         1    ALTO DA BOA VISTA  10175.4   JANEIRO  2018              1\n",
       "2         2          BARRA FUNDA  9208.55   JANEIRO  2018              1\n",
       "3         3           BELA VISTA  8465.83   JANEIRO  2018              1\n",
       "4         4                BELÉM  5908.94   JANEIRO  2018              1\n",
       "...     ...                  ...      ...       ...   ...            ...\n",
       "6330   1578  VILA NOVA CONCEIÇÃO  19837.1  DEZEMBRO  2019              4\n",
       "6331   1579         VILA OLÍMPIA  19012.7  DEZEMBRO  2019              4\n",
       "6332   1580        VILA PRUDENTE  6901.75  DEZEMBRO  2019              4\n",
       "6333   1581          VILA ROMANA  10769.6  DEZEMBRO  2019              4\n",
       "6334   1582           VILA SÔNIA  5459.22  DEZEMBRO  2019              4\n",
       "\n",
       "[6335 rows x 6 columns]"
      ]
     },
     "execution_count": 324,
     "metadata": {},
     "output_type": "execute_result"
    }
   ],
   "source": [
    "secovi"
   ]
  },
  {
   "cell_type": "code",
   "execution_count": 325,
   "metadata": {},
   "outputs": [],
   "source": [
    "secovi.to_excel('secovi.xlsx')"
   ]
  },
  {
   "cell_type": "code",
   "execution_count": null,
   "metadata": {},
   "outputs": [],
   "source": []
  }
 ],
 "metadata": {
  "kernelspec": {
   "display_name": "Python 3",
   "language": "python",
   "name": "python3"
  },
  "language_info": {
   "codemirror_mode": {
    "name": "ipython",
    "version": 3
   },
   "file_extension": ".py",
   "mimetype": "text/x-python",
   "name": "python",
   "nbconvert_exporter": "python",
   "pygments_lexer": "ipython3",
   "version": "3.8.5"
  }
 },
 "nbformat": 4,
 "nbformat_minor": 4
}
