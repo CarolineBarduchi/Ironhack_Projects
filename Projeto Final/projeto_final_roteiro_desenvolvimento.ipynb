{
 "cells": [
  {
   "cell_type": "markdown",
   "metadata": {},
   "source": [
    "### Roteiro de desenvolvimento\n",
    "\n",
    "1- Base Secovi SP: de janeiro de 19 a dezembro de 19, comparando com os meses de 18\n",
    "\n",
    "2- Regressão simples para descobrir o valor atual\n",
    "\n",
    "3- Input de dados do cliente\n",
    "a) relacionado ao apartamento\n",
    "- Qual bairro quer morar?\n",
    "- Quantos dormitórios?\n",
    "- Qual metragem quadrada?\n",
    "\n",
    "b.0) relacionado ao perfil do cliente (pesquisar quais perguntas atendem ao perfil do cliente, ou partir da premissa que o cliente é conservador\n",
    "\n",
    "b.1) relacionado ao investimento (dados financeiros)\n",
    "- Existe a possibilidade de dar entrada? De quanto?\n",
    "    - Se existir a possibilidade de entrada, verificar se a entrada corresponde a 20%\n",
    "        - Se a entrada corresponder a 20% ou mais, calcular o financiamento\n",
    "        - Se a entrada corresponder a menos do que 20%, iniciar input de informações para investimento\n",
    "            - Quanto pretende fazer de aporte ao mês?\n",
    "                - A partir do aporte, calcular a projeção de investimento para o futuro, sendo que o resultado final deve ser o tempo que levará para conseguir a entrada, além de apresentar qual a simulação de investimento."
   ]
  },
  {
   "cell_type": "markdown",
   "metadata": {},
   "source": [
    "**MVP 1** <p>\n",
    "1- Importação de dados, data cleaning e tratamento <p>\n",
    "2- Algoritmo para receber os dados do cliente e calcular o preço médio de apartamento <p>\n",
    "3- Algoritmo para cálculo do investimento para uma entrada de 20%.\n"
   ]
  },
  {
   "cell_type": "markdown",
   "metadata": {},
   "source": [
    "**MVP 2** <p>\n",
    "1- Encontrar o preço dos imóveis 2021"
   ]
  },
  {
   "cell_type": "markdown",
   "metadata": {},
   "source": [
    "**MVP 2.1** <p>\n",
    "1- Incluir possibilidade de outras entradas diferente do que 20%: <p>\n",
    "    - se menor do que 20%, incluindo a entrada de dado de aporte ao mês, calcular a diferença para chegar aos 20% <p>\n",
    "    - se a entrada for maior que 20%, fazer a calculadora de financiamento"
   ]
  },
  {
   "cell_type": "markdown",
   "metadata": {},
   "source": [
    "**MVP 3** <p>\n",
    "1- Incluir regressão linear simples para calcular juros futuro de poupança, utilizando o histórico de juros de poupança"
   ]
  },
  {
   "cell_type": "markdown",
   "metadata": {},
   "source": [
    "**MVP 4** <p>\n",
    "1- Incluir algoritmo de input de dados para entender o perfil do cliente, se conservador, moderado ou que toma risco."
   ]
  },
  {
   "cell_type": "markdown",
   "metadata": {},
   "source": [
    "**MVP 5** <p>\n",
    "1- A partir dos diferentes perfis, incluir mudanças na calculadora de investimento, utilizando: <p> i) o juros de poupança para o perfil moderado; <p> ii) juros CDI para juros moderado; <p> iii) estudar como calcular o investimento para o perfil arriscado. "
   ]
  },
  {
   "cell_type": "markdown",
   "metadata": {},
   "source": [
    "**MVP 6** <p>\n",
    "- Sugerir bairros próximos que possam ser altertiva de economia para o cliente. <p>\n",
    "    - Calculadora de economia <p>\n",
    "    - Critério de aceitação para economia: 10%."
   ]
  }
 ],
 "metadata": {
  "kernelspec": {
   "display_name": "Python 3",
   "language": "python",
   "name": "python3"
  },
  "language_info": {
   "codemirror_mode": {
    "name": "ipython",
    "version": 3
   },
   "file_extension": ".py",
   "mimetype": "text/x-python",
   "name": "python",
   "nbconvert_exporter": "python",
   "pygments_lexer": "ipython3",
   "version": "3.8.5"
  }
 },
 "nbformat": 4,
 "nbformat_minor": 4
}
