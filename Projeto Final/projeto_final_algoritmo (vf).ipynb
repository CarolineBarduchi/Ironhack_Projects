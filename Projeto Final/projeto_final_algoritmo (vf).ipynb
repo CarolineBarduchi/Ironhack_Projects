{
 "cells": [
  {
   "cell_type": "code",
   "execution_count": 1,
   "metadata": {},
   "outputs": [],
   "source": [
    "import pandas as pd\n",
    "import matplotlib.pyplot as plt\n",
    "import seaborn as sns\n",
    "import numpy as np"
   ]
  },
  {
   "cell_type": "code",
   "execution_count": 13,
   "metadata": {},
   "outputs": [],
   "source": [
    "import warnings\n",
    "warnings.filterwarnings('ignore')"
   ]
  },
  {
   "cell_type": "code",
   "execution_count": 17,
   "metadata": {},
   "outputs": [
    {
     "name": "stdout",
     "output_type": "stream",
     "text": [
      "R$ 10.000.000,00\n"
     ]
    }
   ],
   "source": [
    "valor = 10000000\n",
    "\n",
    "import locale\n",
    "locale.setlocale(locale.LC_ALL, 'Portuguese_Brazil.1252')\n",
    "print(locale.currency(valor,grouping=True,symbol=True))\n"
   ]
  },
  {
   "cell_type": "code",
   "execution_count": 16,
   "metadata": {
    "collapsed": true
   },
   "outputs": [
    {
     "name": "stdout",
     "output_type": "stream",
     "text": [
      "Collecting streamlit\n",
      "  Downloading streamlit-1.3.0-py2.py3-none-any.whl (9.2 MB)\n",
      "Collecting blinker\n",
      "  Downloading blinker-1.4.tar.gz (111 kB)\n",
      "Collecting pympler>=0.9\n",
      "  Downloading Pympler-0.9.tar.gz (178 kB)\n",
      "Requirement already satisfied: numpy in c:\\users\\carol\\appdata\\local\\programs\\python\\python39\\lib\\site-packages (from streamlit) (1.19.5)\n",
      "Collecting validators\n",
      "  Downloading validators-0.18.2-py3-none-any.whl (19 kB)\n",
      "Requirement already satisfied: pillow>=6.2.0 in c:\\users\\carol\\appdata\\local\\programs\\python\\python39\\lib\\site-packages (from streamlit) (8.3.1)\n",
      "Collecting tzlocal\n",
      "  Downloading tzlocal-4.1-py3-none-any.whl (19 kB)\n",
      "Collecting astor\n",
      "  Downloading astor-0.8.1-py2.py3-none-any.whl (27 kB)\n",
      "Collecting base58\n",
      "  Downloading base58-2.1.1-py3-none-any.whl (5.6 kB)\n",
      "Requirement already satisfied: python-dateutil in c:\\users\\carol\\appdata\\local\\programs\\python\\python39\\lib\\site-packages (from streamlit) (2.8.2)\n",
      "Collecting pydeck>=0.1.dev5\n",
      "  Downloading pydeck-0.7.1-py2.py3-none-any.whl (4.3 MB)\n",
      "Collecting cachetools>=4.0\n",
      "  Downloading cachetools-4.2.4-py3-none-any.whl (10 kB)\n",
      "Collecting toml\n",
      "  Downloading toml-0.10.2-py2.py3-none-any.whl (16 kB)\n",
      "Collecting click<8.0,>=7.0\n",
      "  Downloading click-7.1.2-py2.py3-none-any.whl (82 kB)\n",
      "Requirement already satisfied: pandas>=0.21.0 in c:\\users\\carol\\appdata\\local\\programs\\python\\python39\\lib\\site-packages (from streamlit) (1.3.1)\n",
      "Requirement already satisfied: requests in c:\\users\\carol\\appdata\\local\\programs\\python\\python39\\lib\\site-packages (from streamlit) (2.26.0)\n",
      "Collecting altair>=3.2.0\n",
      "  Downloading altair-4.1.0-py3-none-any.whl (727 kB)\n",
      "Collecting watchdog; platform_system != \"Darwin\"\n"
     ]
    },
    {
     "name": "stderr",
     "output_type": "stream",
     "text": [
      "WARNING: You are using pip version 20.2.3; however, version 21.3.1 is available.\n",
      "You should consider upgrading via the 'c:\\users\\carol\\appdata\\local\\programs\\python\\python39\\python.exe -m pip install --upgrade pip' command.\n"
     ]
    },
    {
     "name": "stdout",
     "output_type": "stream",
     "text": [
      "  Downloading watchdog-2.1.6-py3-none-win_amd64.whl (76 kB)\n",
      "Collecting protobuf!=3.11,>=3.6.0\n",
      "  Downloading protobuf-3.19.1-cp39-cp39-win_amd64.whl (895 kB)\n",
      "Collecting packaging\n",
      "  Downloading packaging-21.3-py3-none-any.whl (40 kB)\n",
      "Collecting pyarrow\n",
      "  Downloading pyarrow-6.0.1-cp39-cp39-win_amd64.whl (15.5 MB)\n",
      "Collecting gitpython!=3.1.19\n",
      "  Downloading GitPython-3.1.24-py3-none-any.whl (180 kB)\n",
      "Requirement already satisfied: attrs in c:\\users\\carol\\appdata\\local\\programs\\python\\python39\\lib\\site-packages (from streamlit) (21.2.0)\n",
      "Collecting tornado>=5.0\n",
      "  Downloading tornado-6.1-cp39-cp39-win_amd64.whl (422 kB)\n",
      "Collecting decorator>=3.4.0\n",
      "  Downloading decorator-5.1.0-py3-none-any.whl (9.1 kB)\n",
      "Requirement already satisfied: six>=1.4.0 in c:\\users\\carol\\appdata\\local\\programs\\python\\python39\\lib\\site-packages (from validators->streamlit) (1.16.0)\n",
      "Collecting tzdata; platform_system == \"Windows\"\n",
      "  Downloading tzdata-2021.5-py2.py3-none-any.whl (339 kB)\n",
      "Collecting pytz-deprecation-shim\n",
      "  Downloading pytz_deprecation_shim-0.1.0.post0-py2.py3-none-any.whl (15 kB)\n",
      "Collecting ipykernel>=5.1.2; python_version >= \"3.4\"\n",
      "  Downloading ipykernel-6.6.0-py3-none-any.whl (126 kB)\n",
      "Collecting traitlets>=4.3.2\n",
      "  Downloading traitlets-5.1.1-py3-none-any.whl (102 kB)\n",
      "Requirement already satisfied: jinja2>=2.10.1 in c:\\users\\carol\\appdata\\local\\programs\\python\\python39\\lib\\site-packages (from pydeck>=0.1.dev5->streamlit) (3.0.2)\n",
      "Collecting ipywidgets>=7.0.0\n",
      "  Downloading ipywidgets-7.6.5-py2.py3-none-any.whl (121 kB)\n",
      "Requirement already satisfied: pytz>=2017.3 in c:\\users\\carol\\appdata\\local\\programs\\python\\python39\\lib\\site-packages (from pandas>=0.21.0->streamlit) (2021.1)\n",
      "Requirement already satisfied: urllib3<1.27,>=1.21.1 in c:\\users\\carol\\appdata\\local\\programs\\python\\python39\\lib\\site-packages (from requests->streamlit) (1.26.6)\n",
      "Requirement already satisfied: idna<4,>=2.5; python_version >= \"3\" in c:\\users\\carol\\appdata\\local\\programs\\python\\python39\\lib\\site-packages (from requests->streamlit) (3.2)\n",
      "Requirement already satisfied: charset-normalizer~=2.0.0; python_version >= \"3\" in c:\\users\\carol\\appdata\\local\\programs\\python\\python39\\lib\\site-packages (from requests->streamlit) (2.0.6)\n",
      "Requirement already satisfied: certifi>=2017.4.17 in c:\\users\\carol\\appdata\\local\\programs\\python\\python39\\lib\\site-packages (from requests->streamlit) (2021.5.30)\n",
      "Collecting toolz\n",
      "  Downloading toolz-0.11.2-py3-none-any.whl (55 kB)\n",
      "Collecting jsonschema\n",
      "  Downloading jsonschema-4.3.0-py3-none-any.whl (71 kB)\n",
      "Collecting entrypoints\n",
      "  Downloading entrypoints-0.3-py2.py3-none-any.whl (11 kB)\n",
      "Requirement already satisfied: pyparsing!=3.0.5,>=2.0.2 in c:\\users\\carol\\appdata\\local\\programs\\python\\python39\\lib\\site-packages (from packaging->streamlit) (2.4.7)\n",
      "Collecting gitdb<5,>=4.0.1\n",
      "  Downloading gitdb-4.0.9-py3-none-any.whl (63 kB)\n",
      "Requirement already satisfied: typing-extensions>=3.7.4.3; python_version < \"3.10\" in c:\\users\\carol\\appdata\\local\\programs\\python\\python39\\lib\\site-packages (from gitpython!=3.1.19->streamlit) (3.10.0.2)\n",
      "Collecting debugpy<2.0,>=1.0.0\n",
      "  Downloading debugpy-1.5.1-cp39-cp39-win_amd64.whl (4.4 MB)\n",
      "Collecting ipython>=7.23.1\n",
      "  Downloading ipython-7.30.1-py3-none-any.whl (791 kB)\n",
      "Collecting matplotlib-inline<0.2.0,>=0.1.0\n",
      "  Downloading matplotlib_inline-0.1.3-py3-none-any.whl (8.2 kB)\n",
      "Collecting jupyter-client<8.0\n",
      "  Downloading jupyter_client-7.1.0-py3-none-any.whl (129 kB)\n",
      "Requirement already satisfied: MarkupSafe>=2.0 in c:\\users\\carol\\appdata\\local\\programs\\python\\python39\\lib\\site-packages (from jinja2>=2.10.1->pydeck>=0.1.dev5->streamlit) (2.0.1)\n",
      "Collecting ipython-genutils~=0.2.0\n",
      "  Downloading ipython_genutils-0.2.0-py2.py3-none-any.whl (26 kB)\n",
      "Collecting nbformat>=4.2.0\n",
      "  Downloading nbformat-5.1.3-py3-none-any.whl (178 kB)\n",
      "Collecting jupyterlab-widgets>=1.0.0; python_version >= \"3.6\"\n",
      "  Downloading jupyterlab_widgets-1.0.2-py3-none-any.whl (243 kB)\n",
      "Collecting widgetsnbextension~=3.5.0\n",
      "  Downloading widgetsnbextension-3.5.2-py2.py3-none-any.whl (1.6 MB)\n",
      "Collecting pyrsistent!=0.17.0,!=0.17.1,!=0.17.2,>=0.14.0\n",
      "  Downloading pyrsistent-0.18.0-cp39-cp39-win_amd64.whl (62 kB)\n",
      "Collecting smmap<6,>=3.0.1\n",
      "  Downloading smmap-5.0.0-py3-none-any.whl (24 kB)\n",
      "Requirement already satisfied: setuptools>=18.5 in c:\\users\\carol\\appdata\\local\\programs\\python\\python39\\lib\\site-packages (from ipython>=7.23.1->ipykernel>=5.1.2; python_version >= \"3.4\"->pydeck>=0.1.dev5->streamlit) (49.2.1)\n",
      "Requirement already satisfied: colorama; sys_platform == \"win32\" in c:\\users\\carol\\appdata\\local\\programs\\python\\python39\\lib\\site-packages (from ipython>=7.23.1->ipykernel>=5.1.2; python_version >= \"3.4\"->pydeck>=0.1.dev5->streamlit) (0.4.4)\n",
      "Collecting backcall\n",
      "  Downloading backcall-0.2.0-py2.py3-none-any.whl (11 kB)\n",
      "Collecting jedi>=0.16\n",
      "  Downloading jedi-0.18.1-py2.py3-none-any.whl (1.6 MB)\n",
      "Collecting prompt-toolkit!=3.0.0,!=3.0.1,<3.1.0,>=2.0.0\n",
      "  Downloading prompt_toolkit-3.0.24-py3-none-any.whl (374 kB)\n",
      "Collecting pickleshare\n",
      "  Downloading pickleshare-0.7.5-py2.py3-none-any.whl (6.9 kB)\n",
      "Collecting pygments\n",
      "  Downloading Pygments-2.10.0-py3-none-any.whl (1.0 MB)\n",
      "Collecting nest-asyncio>=1.5\n",
      "  Downloading nest_asyncio-1.5.4-py3-none-any.whl (5.1 kB)\n",
      "Collecting jupyter-core>=4.6.0\n",
      "  Downloading jupyter_core-4.9.1-py3-none-any.whl (86 kB)\n",
      "Collecting pyzmq>=13\n",
      "  Downloading pyzmq-22.3.0-cp39-cp39-win_amd64.whl (1.0 MB)\n",
      "Collecting notebook>=4.4.1\n",
      "  Downloading notebook-6.4.6-py3-none-any.whl (9.9 MB)\n",
      "Collecting parso<0.9.0,>=0.8.0\n",
      "  Downloading parso-0.8.3-py2.py3-none-any.whl (100 kB)\n",
      "Collecting wcwidth\n",
      "  Downloading wcwidth-0.2.5-py2.py3-none-any.whl (30 kB)\n",
      "Collecting pywin32>=1.0; sys_platform == \"win32\" and platform_python_implementation != \"PyPy\"\n",
      "  Downloading pywin32-302-cp39-cp39-win_amd64.whl (9.3 MB)\n",
      "Collecting prometheus-client\n",
      "  Downloading prometheus_client-0.12.0-py2.py3-none-any.whl (57 kB)\n",
      "Collecting Send2Trash>=1.8.0\n",
      "  Downloading Send2Trash-1.8.0-py3-none-any.whl (18 kB)\n",
      "Collecting terminado>=0.8.3\n",
      "  Downloading terminado-0.12.1-py3-none-any.whl (15 kB)\n",
      "Collecting nbconvert\n",
      "  Downloading nbconvert-6.3.0-py3-none-any.whl (556 kB)\n",
      "Collecting argon2-cffi\n",
      "  Downloading argon2_cffi-21.3.0-py3-none-any.whl (14 kB)\n",
      "Collecting pywinpty>=1.1.0; os_name == \"nt\"\n",
      "  Downloading pywinpty-1.1.6-cp39-none-win_amd64.whl (1.4 MB)\n",
      "Collecting mistune<2,>=0.8.1\n",
      "  Downloading mistune-0.8.4-py2.py3-none-any.whl (16 kB)\n",
      "Collecting nbclient<0.6.0,>=0.5.0\n",
      "  Downloading nbclient-0.5.9-py3-none-any.whl (69 kB)\n",
      "Collecting pandocfilters>=1.4.1\n",
      "  Downloading pandocfilters-1.5.0-py2.py3-none-any.whl (8.7 kB)\n",
      "Collecting bleach\n",
      "  Downloading bleach-4.1.0-py2.py3-none-any.whl (157 kB)\n",
      "Collecting testpath\n",
      "  Downloading testpath-0.5.0-py3-none-any.whl (84 kB)\n",
      "Collecting defusedxml\n",
      "  Downloading defusedxml-0.7.1-py2.py3-none-any.whl (25 kB)\n",
      "Collecting jupyterlab-pygments\n",
      "  Downloading jupyterlab_pygments-0.1.2-py2.py3-none-any.whl (4.6 kB)\n",
      "Collecting argon2-cffi-bindings\n",
      "  Downloading argon2_cffi_bindings-21.2.0-cp36-abi3-win_amd64.whl (30 kB)\n",
      "Collecting webencodings\n",
      "  Downloading webencodings-0.5.1-py2.py3-none-any.whl (11 kB)\n",
      "Collecting cffi>=1.0.1\n",
      "  Downloading cffi-1.15.0-cp39-cp39-win_amd64.whl (180 kB)\n",
      "Collecting pycparser\n",
      "  Downloading pycparser-2.21-py2.py3-none-any.whl (118 kB)\n",
      "Using legacy 'setup.py install' for blinker, since package 'wheel' is not installed.\n",
      "Using legacy 'setup.py install' for pympler, since package 'wheel' is not installed.\n",
      "Installing collected packages: blinker, pympler, decorator, validators, tzdata, pytz-deprecation-shim, tzlocal, astor, base58, debugpy, backcall, parso, jedi, wcwidth, prompt-toolkit, traitlets, matplotlib-inline, pickleshare, pygments, ipython, tornado, entrypoints, nest-asyncio, pywin32, jupyter-core, pyzmq, jupyter-client, ipykernel, ipython-genutils, pyrsistent, jsonschema, nbformat, jupyterlab-widgets, prometheus-client, Send2Trash, pywinpty, terminado, mistune, nbclient, pandocfilters, webencodings, packaging, bleach, testpath, defusedxml, jupyterlab-pygments, nbconvert, pycparser, cffi, argon2-cffi-bindings, argon2-cffi, notebook, widgetsnbextension, ipywidgets, pydeck, cachetools, toml, click, toolz, altair, watchdog, protobuf, pyarrow, smmap, gitdb, gitpython, streamlit\n",
      "    Running setup.py install for blinker: started\n",
      "    Running setup.py install for blinker: finished with status 'done'\n",
      "    Running setup.py install for pympler: started\n",
      "    Running setup.py install for pympler: finished with status 'done'\n",
      "Successfully installed Send2Trash-1.8.0 altair-4.1.0 argon2-cffi-21.3.0 argon2-cffi-bindings-21.2.0 astor-0.8.1 backcall-0.2.0 base58-2.1.1 bleach-4.1.0 blinker-1.4 cachetools-4.2.4 cffi-1.15.0 click-7.1.2 debugpy-1.5.1 decorator-5.1.0 defusedxml-0.7.1 entrypoints-0.3 gitdb-4.0.9 gitpython-3.1.24 ipykernel-6.6.0 ipython-7.30.1 ipython-genutils-0.2.0 ipywidgets-7.6.5 jedi-0.18.1 jsonschema-4.3.0 jupyter-client-7.1.0 jupyter-core-4.9.1 jupyterlab-pygments-0.1.2 jupyterlab-widgets-1.0.2 matplotlib-inline-0.1.3 mistune-0.8.4 nbclient-0.5.9 nbconvert-6.3.0 nbformat-5.1.3 nest-asyncio-1.5.4 notebook-6.4.6 packaging-21.3 pandocfilters-1.5.0 parso-0.8.3 pickleshare-0.7.5 prometheus-client-0.12.0 prompt-toolkit-3.0.24 protobuf-3.19.1 pyarrow-6.0.1 pycparser-2.21 pydeck-0.7.1 pygments-2.10.0 pympler-0.9 pyrsistent-0.18.0 pytz-deprecation-shim-0.1.0.post0 pywin32-302 pywinpty-1.1.6 pyzmq-22.3.0 smmap-5.0.0 streamlit-1.3.0 terminado-0.12.1 testpath-0.5.0 toml-0.10.2 toolz-0.11.2 tornado-6.1 traitlets-5.1.1 tzdata-2021.5 tzlocal-4.1 validators-0.18.2 watchdog-2.1.6 wcwidth-0.2.5 webencodings-0.5.1 widgetsnbextension-3.5.2\n"
     ]
    }
   ],
   "source": [
    "!pip install streamlit"
   ]
  },
  {
   "cell_type": "code",
   "execution_count": 2,
   "metadata": {},
   "outputs": [],
   "source": [
    "# leitura do dataframe\n",
    "df=pd.read_excel('secovi_bairros.xlsx', index_col=0)"
   ]
  },
  {
   "cell_type": "code",
   "execution_count": 3,
   "metadata": {},
   "outputs": [],
   "source": [
    "df.rename(columns={'n_dormitorios':'N_DORMITORIOS', 'PRECO':'VALOR'}, inplace=True)"
   ]
  },
  {
   "cell_type": "code",
   "execution_count": 6,
   "metadata": {},
   "outputs": [],
   "source": [
    "# função para calcular investimento e parcelas de financiamento\n",
    "def calculadora_financiamento():\n",
    "    # escolha do bairro pelo usuário\n",
    "    escolha_bairro = input(\"Em qual bairro pretende morar? \")\n",
    "\n",
    "    # escolha da quantidade de dormitórios pelo usuário\n",
    "    n_dormitorios = input(\"Qual a quantidade de dormitórios pretendida? \")\n",
    "    n_dormitorios = int(n_dormitorios)\n",
    "\n",
    "    valor = df[(df['BAIRROS'] == escolha_bairro) & (df['N_DORMITORIOS'] == n_dormitorios)].VALOR\n",
    "    \n",
    "    # cálculo do valor do imóvel pretendido pelo usuário\n",
    "    metragem = float(input(\"Qual a metragem ideal para seu apartamento? \"))\n",
    "\n",
    "    preço = valor.values[0]*metragem\n",
    "    print(\"Um apartamento com as característica que você procura custa em média\", round(preço, 2),\"reais.\")\n",
    "    \n",
    "    # opção de perguntar ao usuário quanto ele pretende fazer de aporte ao mês para conseguir uma entrada de 20%\n",
    "    #retornar o tempo que ele terá que realizar o investimento\n",
    "    # numpy.nper(rate, pmt, pv, fv=0, when='end')\n",
    "\n",
    "    montante = preço*0.2 # entrada de 20%\n",
    "\n",
    "    capital = float(input(\"Qual o capital atual? \"))\n",
    "    aporte = float(input(\"Qual o aporte pretendido ao mês? \"))\n",
    "    tempo = (np.nper(0.005, (aporte*(-1)), capital, montante))/12\n",
    "\n",
    "    print(\"Serão necessários\", round(tempo, 2), \"anos para obter a entrada do seu apartamento.\")\n",
    "    \n",
    "    # calculadora de financiamento\n",
    "    # tempo de financiamento de 30 anos\n",
    "    # taxa de juros de financiamento 7% a.a.\n",
    "    # financiamento de 80% do valor do imóvel (preço - montante)\n",
    "    # valor das parcelas a serem pagas\n",
    "    # numpy.pmt(rate, nper, pv, fv=0, when='end')\n",
    "\n",
    "    financiamento = preço - montante\n",
    "    parcelas = np.pmt(0.07/12, 30*12, financiamento, fv=0)\n",
    "    print(\"Serão necessárias parcelas de R$\",round((abs(parcelas)), 2), \"para o seu financiamento.\")"
   ]
  },
  {
   "cell_type": "code",
   "execution_count": 15,
   "metadata": {},
   "outputs": [
    {
     "name": "stdout",
     "output_type": "stream",
     "text": [
      "Em qual bairro pretende morar? JARDINS\n",
      "Qual a quantidade de dormitórios pretendida? 4\n",
      "Qual a metragem ideal para seu apartamento? 120\n",
      "Um apartamento com as característica que você procura custa em média 1395828.95 reais.\n",
      "Qual o capital atual? 500000\n",
      "Qual o aporte pretendido ao mês? 10000\n",
      "Serão necessários 6.99 anos para obter a entrada do seu apartamento.\n",
      "Serão necessárias parcelas de R$ 7429.19 para o seu financiamento.\n"
     ]
    }
   ],
   "source": [
    "calculadora_financiamento()"
   ]
  }
 ],
 "metadata": {
  "kernelspec": {
   "display_name": "Python 3",
   "language": "python",
   "name": "python3"
  },
  "language_info": {
   "codemirror_mode": {
    "name": "ipython",
    "version": 3
   },
   "file_extension": ".py",
   "mimetype": "text/x-python",
   "name": "python",
   "nbconvert_exporter": "python",
   "pygments_lexer": "ipython3",
   "version": "3.8.5"
  }
 },
 "nbformat": 4,
 "nbformat_minor": 4
}
