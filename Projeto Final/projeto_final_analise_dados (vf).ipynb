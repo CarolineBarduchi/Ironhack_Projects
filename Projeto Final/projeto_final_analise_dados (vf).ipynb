{
 "cells": [
  {
   "cell_type": "code",
   "execution_count": 1,
   "metadata": {},
   "outputs": [],
   "source": [
    "import pandas as pd\n",
    "import matplotlib.pyplot as plt\n",
    "import seaborn as sns\n",
    "import numpy as np\n",
    "from sklearn.linear_model import LinearRegression\n",
    "from scipy.stats import boxcox"
   ]
  },
  {
   "cell_type": "code",
   "execution_count": 2,
   "metadata": {},
   "outputs": [],
   "source": [
    "secovi = pd.read_excel('secovi.xlsx')"
   ]
  },
  {
   "cell_type": "code",
   "execution_count": 3,
   "metadata": {},
   "outputs": [],
   "source": [
    "secovi.drop(columns=['Unnamed: 0', 'index'], inplace=True)"
   ]
  },
  {
   "cell_type": "code",
   "execution_count": 4,
   "metadata": {
    "scrolled": true
   },
   "outputs": [],
   "source": [
    "secovi.drop(secovi[secovi.BAIRROS == 'Fonte: Secovi-SP'].index, inplace=True)"
   ]
  },
  {
   "cell_type": "code",
   "execution_count": 5,
   "metadata": {
    "scrolled": true
   },
   "outputs": [
    {
     "data": {
      "text/plain": [
       "array(['ACLIMAÇÃO', 'ALTO DA BOA VISTA', 'BARRA FUNDA', 'BELA VISTA',\n",
       "       'BELÉM', 'BRÁS', 'BROOKLIN PAULISTA', 'BUTANTÃ', 'CAMPO BELO',\n",
       "       'CAMPO GRANDE', 'CAMPO LIMPO', 'CANGAÍBA', 'CASA VERDE', 'CENTRO',\n",
       "       'CHÁCARA KLABIN', 'CONSOLAÇÃO', 'FREGUESIA DO Ó', 'HIGIENÓPOLIS',\n",
       "       'INTERLAGOS', 'IPIRANGA', 'ITAIM BIBI', 'ITAIM PAULISTA',\n",
       "       'ITAQUERA', 'JABAQUARA', 'JAGUARÉ', 'JARDIM AMÉRICA',\n",
       "       'JARDIM MARAJOARA', 'JARDIM PAULISTA', 'JARDIM SAÚDE', 'JARDINS',\n",
       "       'LAPA', 'LIMÃO', 'MOEMA', 'MOOCA', 'MORUMBI', 'PANAMBY', 'PARAÍSO',\n",
       "       'PENHA', 'PERDIZES', 'PINHEIROS', 'PIRITUBA', 'POMPÉIA',\n",
       "       'REAL PARQUE', 'SACOMÃ', 'SANTA CECÍLIA', 'SANTANA', 'SÃO MATEUS',\n",
       "       'SÃO MIGUEL PAULISTA', 'SAPOPEMBA', 'SAÚDE', 'TATUAPÉ', 'TUCURUVI',\n",
       "       'VILA ANDRADE', 'VILA CARRÃO', 'VILA CLEMENTINO', 'VILA FORMOSA',\n",
       "       'VILA LEOPOLDINA', 'VILA MARIA', 'VILA MARIANA', 'VILA MASCOTE',\n",
       "       'VILA NOVA CONCEIÇÃO', 'VILA OLÍMPIA', 'VILA PRUDENTE',\n",
       "       'VILA ROMANA', 'VILA SÔNIA'], dtype=object)"
      ]
     },
     "execution_count": 5,
     "metadata": {},
     "output_type": "execute_result"
    }
   ],
   "source": [
    "secovi['BAIRROS'].unique()"
   ]
  },
  {
   "cell_type": "code",
   "execution_count": 6,
   "metadata": {},
   "outputs": [],
   "source": [
    "secovi.loc[secovi['PRECO'] == '***', 'PRECO'] = np.nan"
   ]
  },
  {
   "cell_type": "code",
   "execution_count": 7,
   "metadata": {},
   "outputs": [],
   "source": [
    "secovi.reset_index(drop=True, inplace=True)"
   ]
  },
  {
   "cell_type": "code",
   "execution_count": 8,
   "metadata": {},
   "outputs": [],
   "source": [
    "secovi=secovi.astype({'PRECO':'float'})"
   ]
  },
  {
   "cell_type": "code",
   "execution_count": 9,
   "metadata": {},
   "outputs": [
    {
     "name": "stdout",
     "output_type": "stream",
     "text": [
      "<class 'pandas.core.frame.DataFrame'>\n",
      "RangeIndex: 6240 entries, 0 to 6239\n",
      "Data columns (total 5 columns):\n",
      " #   Column         Non-Null Count  Dtype  \n",
      "---  ------         --------------  -----  \n",
      " 0   BAIRROS        6240 non-null   object \n",
      " 1   PRECO          5830 non-null   float64\n",
      " 2   MES            6240 non-null   object \n",
      " 3   ANO            6240 non-null   int64  \n",
      " 4   n_dormitorios  6240 non-null   int64  \n",
      "dtypes: float64(1), int64(2), object(2)\n",
      "memory usage: 243.9+ KB\n"
     ]
    }
   ],
   "source": [
    "secovi.info()"
   ]
  },
  {
   "cell_type": "code",
   "execution_count": 10,
   "metadata": {},
   "outputs": [],
   "source": [
    "dict_base = {'JANEIRO':'01', 'FEVEREIRO':'02', 'MARCO':'03', 'ABRIL':'04', 'MAIO':'05', 'JUNHO':'06', 'JULHO':'07',\n",
    "             'AGOSTO':'08', 'SETEMBRO':'09', 'OUTUBRO':'10', 'NOVEMBRO':'11', 'DEZEMBRO':'12'}"
   ]
  },
  {
   "cell_type": "code",
   "execution_count": 11,
   "metadata": {},
   "outputs": [],
   "source": [
    "secovi['DATA'] = secovi['MES'].map(dict_base) + '-01-' + secovi['ANO'].map(str)"
   ]
  },
  {
   "cell_type": "code",
   "execution_count": 12,
   "metadata": {
    "scrolled": true
   },
   "outputs": [
    {
     "data": {
      "text/html": [
       "<div>\n",
       "<style scoped>\n",
       "    .dataframe tbody tr th:only-of-type {\n",
       "        vertical-align: middle;\n",
       "    }\n",
       "\n",
       "    .dataframe tbody tr th {\n",
       "        vertical-align: top;\n",
       "    }\n",
       "\n",
       "    .dataframe thead th {\n",
       "        text-align: right;\n",
       "    }\n",
       "</style>\n",
       "<table border=\"1\" class=\"dataframe\">\n",
       "  <thead>\n",
       "    <tr style=\"text-align: right;\">\n",
       "      <th></th>\n",
       "      <th>BAIRROS</th>\n",
       "      <th>PRECO</th>\n",
       "      <th>MES</th>\n",
       "      <th>ANO</th>\n",
       "      <th>n_dormitorios</th>\n",
       "      <th>DATA</th>\n",
       "    </tr>\n",
       "  </thead>\n",
       "  <tbody>\n",
       "    <tr>\n",
       "      <th>0</th>\n",
       "      <td>ACLIMAÇÃO</td>\n",
       "      <td>8664.170240</td>\n",
       "      <td>JANEIRO</td>\n",
       "      <td>2018</td>\n",
       "      <td>1</td>\n",
       "      <td>01-01-2018</td>\n",
       "    </tr>\n",
       "    <tr>\n",
       "      <th>1</th>\n",
       "      <td>ALTO DA BOA VISTA</td>\n",
       "      <td>10175.389170</td>\n",
       "      <td>JANEIRO</td>\n",
       "      <td>2018</td>\n",
       "      <td>1</td>\n",
       "      <td>01-01-2018</td>\n",
       "    </tr>\n",
       "    <tr>\n",
       "      <th>2</th>\n",
       "      <td>BARRA FUNDA</td>\n",
       "      <td>9208.546694</td>\n",
       "      <td>JANEIRO</td>\n",
       "      <td>2018</td>\n",
       "      <td>1</td>\n",
       "      <td>01-01-2018</td>\n",
       "    </tr>\n",
       "    <tr>\n",
       "      <th>3</th>\n",
       "      <td>BELA VISTA</td>\n",
       "      <td>8465.830326</td>\n",
       "      <td>JANEIRO</td>\n",
       "      <td>2018</td>\n",
       "      <td>1</td>\n",
       "      <td>01-01-2018</td>\n",
       "    </tr>\n",
       "    <tr>\n",
       "      <th>4</th>\n",
       "      <td>BELÉM</td>\n",
       "      <td>5908.937799</td>\n",
       "      <td>JANEIRO</td>\n",
       "      <td>2018</td>\n",
       "      <td>1</td>\n",
       "      <td>01-01-2018</td>\n",
       "    </tr>\n",
       "  </tbody>\n",
       "</table>\n",
       "</div>"
      ],
      "text/plain": [
       "             BAIRROS         PRECO      MES   ANO  n_dormitorios        DATA\n",
       "0          ACLIMAÇÃO   8664.170240  JANEIRO  2018              1  01-01-2018\n",
       "1  ALTO DA BOA VISTA  10175.389170  JANEIRO  2018              1  01-01-2018\n",
       "2        BARRA FUNDA   9208.546694  JANEIRO  2018              1  01-01-2018\n",
       "3         BELA VISTA   8465.830326  JANEIRO  2018              1  01-01-2018\n",
       "4              BELÉM   5908.937799  JANEIRO  2018              1  01-01-2018"
      ]
     },
     "execution_count": 12,
     "metadata": {},
     "output_type": "execute_result"
    }
   ],
   "source": [
    "secovi.head()"
   ]
  },
  {
   "cell_type": "code",
   "execution_count": 13,
   "metadata": {},
   "outputs": [],
   "source": [
    "secovi=secovi.astype({'DATA':'datetime64'})"
   ]
  },
  {
   "cell_type": "code",
   "execution_count": 14,
   "metadata": {
    "scrolled": true
   },
   "outputs": [
    {
     "data": {
      "text/plain": [
       "array(['2018-01-01T00:00:00.000000000', '2019-01-01T00:00:00.000000000',\n",
       "       '2018-02-01T00:00:00.000000000', '2019-02-01T00:00:00.000000000',\n",
       "       '2018-03-01T00:00:00.000000000', '2019-03-01T00:00:00.000000000',\n",
       "       '2018-04-01T00:00:00.000000000', '2019-04-01T00:00:00.000000000',\n",
       "       '2018-05-01T00:00:00.000000000', '2019-05-01T00:00:00.000000000',\n",
       "       '2018-06-01T00:00:00.000000000', '2019-06-01T00:00:00.000000000',\n",
       "       '2018-07-01T00:00:00.000000000', '2019-07-01T00:00:00.000000000',\n",
       "       '2018-08-01T00:00:00.000000000', '2019-08-01T00:00:00.000000000',\n",
       "       '2018-09-01T00:00:00.000000000', '2019-09-01T00:00:00.000000000',\n",
       "       '2018-10-01T00:00:00.000000000', '2019-10-01T00:00:00.000000000',\n",
       "       '2018-11-01T00:00:00.000000000', '2019-11-01T00:00:00.000000000',\n",
       "       '2018-12-01T00:00:00.000000000', '2019-12-01T00:00:00.000000000'],\n",
       "      dtype='datetime64[ns]')"
      ]
     },
     "execution_count": 14,
     "metadata": {},
     "output_type": "execute_result"
    }
   ],
   "source": [
    "secovi['DATA'].unique()"
   ]
  },
  {
   "cell_type": "code",
   "execution_count": 15,
   "metadata": {},
   "outputs": [],
   "source": [
    "bairros = pd.read_excel('bairros.xlsx')"
   ]
  },
  {
   "cell_type": "code",
   "execution_count": 16,
   "metadata": {
    "scrolled": true
   },
   "outputs": [],
   "source": [
    "secovi = pd.merge(secovi, bairros, how='outer', on='BAIRROS')"
   ]
  },
  {
   "cell_type": "code",
   "execution_count": 17,
   "metadata": {},
   "outputs": [
    {
     "data": {
      "text/html": [
       "<div>\n",
       "<style scoped>\n",
       "    .dataframe tbody tr th:only-of-type {\n",
       "        vertical-align: middle;\n",
       "    }\n",
       "\n",
       "    .dataframe tbody tr th {\n",
       "        vertical-align: top;\n",
       "    }\n",
       "\n",
       "    .dataframe thead th {\n",
       "        text-align: right;\n",
       "    }\n",
       "</style>\n",
       "<table border=\"1\" class=\"dataframe\">\n",
       "  <thead>\n",
       "    <tr style=\"text-align: right;\">\n",
       "      <th></th>\n",
       "      <th>BAIRROS</th>\n",
       "      <th>PRECO</th>\n",
       "      <th>MES</th>\n",
       "      <th>ANO</th>\n",
       "      <th>n_dormitorios</th>\n",
       "      <th>DATA</th>\n",
       "      <th>LONGITUDE</th>\n",
       "      <th>LATITUDE</th>\n",
       "    </tr>\n",
       "  </thead>\n",
       "  <tbody>\n",
       "    <tr>\n",
       "      <th>0</th>\n",
       "      <td>ACLIMAÇÃO</td>\n",
       "      <td>8664.170240</td>\n",
       "      <td>JANEIRO</td>\n",
       "      <td>2018</td>\n",
       "      <td>1</td>\n",
       "      <td>2018-01-01</td>\n",
       "      <td>-46.6309</td>\n",
       "      <td>-23.5714</td>\n",
       "    </tr>\n",
       "    <tr>\n",
       "      <th>1</th>\n",
       "      <td>ACLIMAÇÃO</td>\n",
       "      <td>8812.463780</td>\n",
       "      <td>JANEIRO</td>\n",
       "      <td>2019</td>\n",
       "      <td>1</td>\n",
       "      <td>2019-01-01</td>\n",
       "      <td>-46.6309</td>\n",
       "      <td>-23.5714</td>\n",
       "    </tr>\n",
       "    <tr>\n",
       "      <th>2</th>\n",
       "      <td>ACLIMAÇÃO</td>\n",
       "      <td>8999.011405</td>\n",
       "      <td>FEVEREIRO</td>\n",
       "      <td>2018</td>\n",
       "      <td>1</td>\n",
       "      <td>2018-02-01</td>\n",
       "      <td>-46.6309</td>\n",
       "      <td>-23.5714</td>\n",
       "    </tr>\n",
       "    <tr>\n",
       "      <th>3</th>\n",
       "      <td>ACLIMAÇÃO</td>\n",
       "      <td>8799.872691</td>\n",
       "      <td>FEVEREIRO</td>\n",
       "      <td>2019</td>\n",
       "      <td>1</td>\n",
       "      <td>2019-02-01</td>\n",
       "      <td>-46.6309</td>\n",
       "      <td>-23.5714</td>\n",
       "    </tr>\n",
       "    <tr>\n",
       "      <th>4</th>\n",
       "      <td>ACLIMAÇÃO</td>\n",
       "      <td>8967.479700</td>\n",
       "      <td>MARCO</td>\n",
       "      <td>2018</td>\n",
       "      <td>1</td>\n",
       "      <td>2018-03-01</td>\n",
       "      <td>-46.6309</td>\n",
       "      <td>-23.5714</td>\n",
       "    </tr>\n",
       "  </tbody>\n",
       "</table>\n",
       "</div>"
      ],
      "text/plain": [
       "     BAIRROS        PRECO        MES   ANO  n_dormitorios       DATA  \\\n",
       "0  ACLIMAÇÃO  8664.170240    JANEIRO  2018              1 2018-01-01   \n",
       "1  ACLIMAÇÃO  8812.463780    JANEIRO  2019              1 2019-01-01   \n",
       "2  ACLIMAÇÃO  8999.011405  FEVEREIRO  2018              1 2018-02-01   \n",
       "3  ACLIMAÇÃO  8799.872691  FEVEREIRO  2019              1 2019-02-01   \n",
       "4  ACLIMAÇÃO  8967.479700      MARCO  2018              1 2018-03-01   \n",
       "\n",
       "   LONGITUDE  LATITUDE   \n",
       "0   -46.6309   -23.5714  \n",
       "1   -46.6309   -23.5714  \n",
       "2   -46.6309   -23.5714  \n",
       "3   -46.6309   -23.5714  \n",
       "4   -46.6309   -23.5714  "
      ]
     },
     "execution_count": 17,
     "metadata": {},
     "output_type": "execute_result"
    }
   ],
   "source": [
    "secovi.head()"
   ]
  },
  {
   "cell_type": "code",
   "execution_count": 18,
   "metadata": {},
   "outputs": [],
   "source": [
    "secovi.to_excel('secovi_bairros.xlsx')"
   ]
  },
  {
   "cell_type": "code",
   "execution_count": 19,
   "metadata": {},
   "outputs": [
    {
     "data": {
      "text/plain": [
       "0        1\n",
       "1        1\n",
       "2        2\n",
       "3        2\n",
       "4        3\n",
       "        ..\n",
       "6235    10\n",
       "6236    11\n",
       "6237    11\n",
       "6238    12\n",
       "6239    12\n",
       "Name: DATA, Length: 6240, dtype: int64"
      ]
     },
     "execution_count": 19,
     "metadata": {},
     "output_type": "execute_result"
    }
   ],
   "source": [
    "secovi['DATA'].dt.month"
   ]
  },
  {
   "cell_type": "code",
   "execution_count": null,
   "metadata": {},
   "outputs": [],
   "source": []
  }
 ],
 "metadata": {
  "kernelspec": {
   "display_name": "Python 3",
   "language": "python",
   "name": "python3"
  },
  "language_info": {
   "codemirror_mode": {
    "name": "ipython",
    "version": 3
   },
   "file_extension": ".py",
   "mimetype": "text/x-python",
   "name": "python",
   "nbconvert_exporter": "python",
   "pygments_lexer": "ipython3",
   "version": "3.8.5"
  }
 },
 "nbformat": 4,
 "nbformat_minor": 4
}
